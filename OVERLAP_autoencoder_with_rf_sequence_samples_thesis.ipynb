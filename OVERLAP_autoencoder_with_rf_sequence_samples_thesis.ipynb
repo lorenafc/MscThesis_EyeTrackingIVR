{
  "nbformat": 4,
  "nbformat_minor": 0,
  "metadata": {
    "colab": {
      "provenance": [],
      "authorship_tag": "ABX9TyMFdFGRFPxrPqLA+EOgfrdv",
      "include_colab_link": true
    },
    "kernelspec": {
      "name": "python3",
      "display_name": "Python 3"
    },
    "language_info": {
      "name": "python"
    }
  },
  "cells": [
    {
      "cell_type": "markdown",
      "metadata": {
        "id": "view-in-github",
        "colab_type": "text"
      },
      "source": [
        "<a href=\"https://colab.research.google.com/github/lorenafc/MscThesis_EyeTrackingIVR/blob/main/OVERLAP_autoencoder_with_rf_sequence_samples_thesis.ipynb\" target=\"_parent\"><img src=\"https://colab.research.google.com/assets/colab-badge.svg\" alt=\"Open In Colab\"/></a>"
      ]
    },
    {
      "cell_type": "code",
      "source": [
        "import time\n",
        "import pandas as pd\n",
        "import numpy as np\n",
        "import torch\n",
        "import torch.nn as nn\n",
        "import torch.nn.functional as F\n",
        "from torch.utils.data import Dataset, DataLoader\n",
        "from sklearn.preprocessing import MinMaxScaler\n",
        "from sklearn.ensemble import RandomForestClassifier\n",
        "from torch.utils.data import TensorDataset\n"
      ],
      "metadata": {
        "id": "Hm_d1GsOmke4"
      },
      "execution_count": null,
      "outputs": []
    },
    {
      "cell_type": "code",
      "source": [
        "# Device\n",
        "device = torch.device(\"cuda:0\" if torch.cuda.is_available() else \"cpu\")\n",
        "print('Device:', device)\n",
        "\n",
        "# Read the CSV file\n",
        "file_name = '/content/LLA2020_labeled.csv'\n",
        "# file_name = '/content/eye_tracking_data_small_2019.csv'\n",
        "eye_tracking_data = pd.read_csv(file_name)"
      ],
      "metadata": {
        "colab": {
          "base_uri": "https://localhost:8080/"
        },
        "id": "SpDf-1Hxmomv",
        "outputId": "7759cd5b-8e98-470b-f385-cd6e2e762d5f"
      },
      "execution_count": null,
      "outputs": [
        {
          "output_type": "stream",
          "name": "stdout",
          "text": [
            "Device: cpu\n"
          ]
        }
      ]
    },
    {
      "cell_type": "code",
      "source": [
        "eye_tracking_data.head()"
      ],
      "metadata": {
        "colab": {
          "base_uri": "https://localhost:8080/",
          "height": 226
        },
        "id": "ghlLMn_o3jTY",
        "outputId": "36a7591c-c982-44ab-fd16-3b7863ed1b5c"
      },
      "execution_count": null,
      "outputs": [
        {
          "output_type": "execute_result",
          "data": {
            "text/plain": [
              "    time    L_x     L_y     L_z     C_x     C_y     C_z  observer  GT1  GT2  \\\n",
              "0  9.314 -2.969  1.6232 -1.2434 -0.4009  1.6289 -1.2939         1    0    0   \n",
              "1  9.337 -2.969  1.6255 -1.2432 -0.4007  1.6290 -1.2940         1    0    0   \n",
              "2  9.360 -2.969  1.6260 -1.2447 -0.4006  1.6290 -1.2940         1    0    0   \n",
              "3  9.381 -2.969  1.6232 -1.2430 -0.4004  1.6291 -1.2941         1    0    0   \n",
              "4  9.403 -2.969  1.6242 -1.2410 -0.4002  1.6291 -1.2941         1    0    0   \n",
              "\n",
              "   GT3  GT4  GT5  GT6  GT7  \n",
              "0    0    0    0    0    0  \n",
              "1    0    0    0    0    0  \n",
              "2    0    0    0    0    0  \n",
              "3    0    0    0    0    0  \n",
              "4    0    0    0    0    0  "
            ],
            "text/html": [
              "\n",
              "  <div id=\"df-3a5186ef-5838-4764-b6cc-cf58d91fa457\" class=\"colab-df-container\">\n",
              "    <div>\n",
              "<style scoped>\n",
              "    .dataframe tbody tr th:only-of-type {\n",
              "        vertical-align: middle;\n",
              "    }\n",
              "\n",
              "    .dataframe tbody tr th {\n",
              "        vertical-align: top;\n",
              "    }\n",
              "\n",
              "    .dataframe thead th {\n",
              "        text-align: right;\n",
              "    }\n",
              "</style>\n",
              "<table border=\"1\" class=\"dataframe\">\n",
              "  <thead>\n",
              "    <tr style=\"text-align: right;\">\n",
              "      <th></th>\n",
              "      <th>time</th>\n",
              "      <th>L_x</th>\n",
              "      <th>L_y</th>\n",
              "      <th>L_z</th>\n",
              "      <th>C_x</th>\n",
              "      <th>C_y</th>\n",
              "      <th>C_z</th>\n",
              "      <th>observer</th>\n",
              "      <th>GT1</th>\n",
              "      <th>GT2</th>\n",
              "      <th>GT3</th>\n",
              "      <th>GT4</th>\n",
              "      <th>GT5</th>\n",
              "      <th>GT6</th>\n",
              "      <th>GT7</th>\n",
              "    </tr>\n",
              "  </thead>\n",
              "  <tbody>\n",
              "    <tr>\n",
              "      <th>0</th>\n",
              "      <td>9.314</td>\n",
              "      <td>-2.969</td>\n",
              "      <td>1.6232</td>\n",
              "      <td>-1.2434</td>\n",
              "      <td>-0.4009</td>\n",
              "      <td>1.6289</td>\n",
              "      <td>-1.2939</td>\n",
              "      <td>1</td>\n",
              "      <td>0</td>\n",
              "      <td>0</td>\n",
              "      <td>0</td>\n",
              "      <td>0</td>\n",
              "      <td>0</td>\n",
              "      <td>0</td>\n",
              "      <td>0</td>\n",
              "    </tr>\n",
              "    <tr>\n",
              "      <th>1</th>\n",
              "      <td>9.337</td>\n",
              "      <td>-2.969</td>\n",
              "      <td>1.6255</td>\n",
              "      <td>-1.2432</td>\n",
              "      <td>-0.4007</td>\n",
              "      <td>1.6290</td>\n",
              "      <td>-1.2940</td>\n",
              "      <td>1</td>\n",
              "      <td>0</td>\n",
              "      <td>0</td>\n",
              "      <td>0</td>\n",
              "      <td>0</td>\n",
              "      <td>0</td>\n",
              "      <td>0</td>\n",
              "      <td>0</td>\n",
              "    </tr>\n",
              "    <tr>\n",
              "      <th>2</th>\n",
              "      <td>9.360</td>\n",
              "      <td>-2.969</td>\n",
              "      <td>1.6260</td>\n",
              "      <td>-1.2447</td>\n",
              "      <td>-0.4006</td>\n",
              "      <td>1.6290</td>\n",
              "      <td>-1.2940</td>\n",
              "      <td>1</td>\n",
              "      <td>0</td>\n",
              "      <td>0</td>\n",
              "      <td>0</td>\n",
              "      <td>0</td>\n",
              "      <td>0</td>\n",
              "      <td>0</td>\n",
              "      <td>0</td>\n",
              "    </tr>\n",
              "    <tr>\n",
              "      <th>3</th>\n",
              "      <td>9.381</td>\n",
              "      <td>-2.969</td>\n",
              "      <td>1.6232</td>\n",
              "      <td>-1.2430</td>\n",
              "      <td>-0.4004</td>\n",
              "      <td>1.6291</td>\n",
              "      <td>-1.2941</td>\n",
              "      <td>1</td>\n",
              "      <td>0</td>\n",
              "      <td>0</td>\n",
              "      <td>0</td>\n",
              "      <td>0</td>\n",
              "      <td>0</td>\n",
              "      <td>0</td>\n",
              "      <td>0</td>\n",
              "    </tr>\n",
              "    <tr>\n",
              "      <th>4</th>\n",
              "      <td>9.403</td>\n",
              "      <td>-2.969</td>\n",
              "      <td>1.6242</td>\n",
              "      <td>-1.2410</td>\n",
              "      <td>-0.4002</td>\n",
              "      <td>1.6291</td>\n",
              "      <td>-1.2941</td>\n",
              "      <td>1</td>\n",
              "      <td>0</td>\n",
              "      <td>0</td>\n",
              "      <td>0</td>\n",
              "      <td>0</td>\n",
              "      <td>0</td>\n",
              "      <td>0</td>\n",
              "      <td>0</td>\n",
              "    </tr>\n",
              "  </tbody>\n",
              "</table>\n",
              "</div>\n",
              "    <div class=\"colab-df-buttons\">\n",
              "\n",
              "  <div class=\"colab-df-container\">\n",
              "    <button class=\"colab-df-convert\" onclick=\"convertToInteractive('df-3a5186ef-5838-4764-b6cc-cf58d91fa457')\"\n",
              "            title=\"Convert this dataframe to an interactive table.\"\n",
              "            style=\"display:none;\">\n",
              "\n",
              "  <svg xmlns=\"http://www.w3.org/2000/svg\" height=\"24px\" viewBox=\"0 -960 960 960\">\n",
              "    <path d=\"M120-120v-720h720v720H120Zm60-500h600v-160H180v160Zm220 220h160v-160H400v160Zm0 220h160v-160H400v160ZM180-400h160v-160H180v160Zm440 0h160v-160H620v160ZM180-180h160v-160H180v160Zm440 0h160v-160H620v160Z\"/>\n",
              "  </svg>\n",
              "    </button>\n",
              "\n",
              "  <style>\n",
              "    .colab-df-container {\n",
              "      display:flex;\n",
              "      gap: 12px;\n",
              "    }\n",
              "\n",
              "    .colab-df-convert {\n",
              "      background-color: #E8F0FE;\n",
              "      border: none;\n",
              "      border-radius: 50%;\n",
              "      cursor: pointer;\n",
              "      display: none;\n",
              "      fill: #1967D2;\n",
              "      height: 32px;\n",
              "      padding: 0 0 0 0;\n",
              "      width: 32px;\n",
              "    }\n",
              "\n",
              "    .colab-df-convert:hover {\n",
              "      background-color: #E2EBFA;\n",
              "      box-shadow: 0px 1px 2px rgba(60, 64, 67, 0.3), 0px 1px 3px 1px rgba(60, 64, 67, 0.15);\n",
              "      fill: #174EA6;\n",
              "    }\n",
              "\n",
              "    .colab-df-buttons div {\n",
              "      margin-bottom: 4px;\n",
              "    }\n",
              "\n",
              "    [theme=dark] .colab-df-convert {\n",
              "      background-color: #3B4455;\n",
              "      fill: #D2E3FC;\n",
              "    }\n",
              "\n",
              "    [theme=dark] .colab-df-convert:hover {\n",
              "      background-color: #434B5C;\n",
              "      box-shadow: 0px 1px 3px 1px rgba(0, 0, 0, 0.15);\n",
              "      filter: drop-shadow(0px 1px 2px rgba(0, 0, 0, 0.3));\n",
              "      fill: #FFFFFF;\n",
              "    }\n",
              "  </style>\n",
              "\n",
              "    <script>\n",
              "      const buttonEl =\n",
              "        document.querySelector('#df-3a5186ef-5838-4764-b6cc-cf58d91fa457 button.colab-df-convert');\n",
              "      buttonEl.style.display =\n",
              "        google.colab.kernel.accessAllowed ? 'block' : 'none';\n",
              "\n",
              "      async function convertToInteractive(key) {\n",
              "        const element = document.querySelector('#df-3a5186ef-5838-4764-b6cc-cf58d91fa457');\n",
              "        const dataTable =\n",
              "          await google.colab.kernel.invokeFunction('convertToInteractive',\n",
              "                                                    [key], {});\n",
              "        if (!dataTable) return;\n",
              "\n",
              "        const docLinkHtml = 'Like what you see? Visit the ' +\n",
              "          '<a target=\"_blank\" href=https://colab.research.google.com/notebooks/data_table.ipynb>data table notebook</a>'\n",
              "          + ' to learn more about interactive tables.';\n",
              "        element.innerHTML = '';\n",
              "        dataTable['output_type'] = 'display_data';\n",
              "        await google.colab.output.renderOutput(dataTable, element);\n",
              "        const docLink = document.createElement('div');\n",
              "        docLink.innerHTML = docLinkHtml;\n",
              "        element.appendChild(docLink);\n",
              "      }\n",
              "    </script>\n",
              "  </div>\n",
              "\n",
              "\n",
              "<div id=\"df-387c0cf1-f16e-4033-a5aa-43eaa49e2ee8\">\n",
              "  <button class=\"colab-df-quickchart\" onclick=\"quickchart('df-387c0cf1-f16e-4033-a5aa-43eaa49e2ee8')\"\n",
              "            title=\"Suggest charts\"\n",
              "            style=\"display:none;\">\n",
              "\n",
              "<svg xmlns=\"http://www.w3.org/2000/svg\" height=\"24px\"viewBox=\"0 0 24 24\"\n",
              "     width=\"24px\">\n",
              "    <g>\n",
              "        <path d=\"M19 3H5c-1.1 0-2 .9-2 2v14c0 1.1.9 2 2 2h14c1.1 0 2-.9 2-2V5c0-1.1-.9-2-2-2zM9 17H7v-7h2v7zm4 0h-2V7h2v10zm4 0h-2v-4h2v4z\"/>\n",
              "    </g>\n",
              "</svg>\n",
              "  </button>\n",
              "\n",
              "<style>\n",
              "  .colab-df-quickchart {\n",
              "      --bg-color: #E8F0FE;\n",
              "      --fill-color: #1967D2;\n",
              "      --hover-bg-color: #E2EBFA;\n",
              "      --hover-fill-color: #174EA6;\n",
              "      --disabled-fill-color: #AAA;\n",
              "      --disabled-bg-color: #DDD;\n",
              "  }\n",
              "\n",
              "  [theme=dark] .colab-df-quickchart {\n",
              "      --bg-color: #3B4455;\n",
              "      --fill-color: #D2E3FC;\n",
              "      --hover-bg-color: #434B5C;\n",
              "      --hover-fill-color: #FFFFFF;\n",
              "      --disabled-bg-color: #3B4455;\n",
              "      --disabled-fill-color: #666;\n",
              "  }\n",
              "\n",
              "  .colab-df-quickchart {\n",
              "    background-color: var(--bg-color);\n",
              "    border: none;\n",
              "    border-radius: 50%;\n",
              "    cursor: pointer;\n",
              "    display: none;\n",
              "    fill: var(--fill-color);\n",
              "    height: 32px;\n",
              "    padding: 0;\n",
              "    width: 32px;\n",
              "  }\n",
              "\n",
              "  .colab-df-quickchart:hover {\n",
              "    background-color: var(--hover-bg-color);\n",
              "    box-shadow: 0 1px 2px rgba(60, 64, 67, 0.3), 0 1px 3px 1px rgba(60, 64, 67, 0.15);\n",
              "    fill: var(--button-hover-fill-color);\n",
              "  }\n",
              "\n",
              "  .colab-df-quickchart-complete:disabled,\n",
              "  .colab-df-quickchart-complete:disabled:hover {\n",
              "    background-color: var(--disabled-bg-color);\n",
              "    fill: var(--disabled-fill-color);\n",
              "    box-shadow: none;\n",
              "  }\n",
              "\n",
              "  .colab-df-spinner {\n",
              "    border: 2px solid var(--fill-color);\n",
              "    border-color: transparent;\n",
              "    border-bottom-color: var(--fill-color);\n",
              "    animation:\n",
              "      spin 1s steps(1) infinite;\n",
              "  }\n",
              "\n",
              "  @keyframes spin {\n",
              "    0% {\n",
              "      border-color: transparent;\n",
              "      border-bottom-color: var(--fill-color);\n",
              "      border-left-color: var(--fill-color);\n",
              "    }\n",
              "    20% {\n",
              "      border-color: transparent;\n",
              "      border-left-color: var(--fill-color);\n",
              "      border-top-color: var(--fill-color);\n",
              "    }\n",
              "    30% {\n",
              "      border-color: transparent;\n",
              "      border-left-color: var(--fill-color);\n",
              "      border-top-color: var(--fill-color);\n",
              "      border-right-color: var(--fill-color);\n",
              "    }\n",
              "    40% {\n",
              "      border-color: transparent;\n",
              "      border-right-color: var(--fill-color);\n",
              "      border-top-color: var(--fill-color);\n",
              "    }\n",
              "    60% {\n",
              "      border-color: transparent;\n",
              "      border-right-color: var(--fill-color);\n",
              "    }\n",
              "    80% {\n",
              "      border-color: transparent;\n",
              "      border-right-color: var(--fill-color);\n",
              "      border-bottom-color: var(--fill-color);\n",
              "    }\n",
              "    90% {\n",
              "      border-color: transparent;\n",
              "      border-bottom-color: var(--fill-color);\n",
              "    }\n",
              "  }\n",
              "</style>\n",
              "\n",
              "  <script>\n",
              "    async function quickchart(key) {\n",
              "      const quickchartButtonEl =\n",
              "        document.querySelector('#' + key + ' button');\n",
              "      quickchartButtonEl.disabled = true;  // To prevent multiple clicks.\n",
              "      quickchartButtonEl.classList.add('colab-df-spinner');\n",
              "      try {\n",
              "        const charts = await google.colab.kernel.invokeFunction(\n",
              "            'suggestCharts', [key], {});\n",
              "      } catch (error) {\n",
              "        console.error('Error during call to suggestCharts:', error);\n",
              "      }\n",
              "      quickchartButtonEl.classList.remove('colab-df-spinner');\n",
              "      quickchartButtonEl.classList.add('colab-df-quickchart-complete');\n",
              "    }\n",
              "    (() => {\n",
              "      let quickchartButtonEl =\n",
              "        document.querySelector('#df-387c0cf1-f16e-4033-a5aa-43eaa49e2ee8 button');\n",
              "      quickchartButtonEl.style.display =\n",
              "        google.colab.kernel.accessAllowed ? 'block' : 'none';\n",
              "    })();\n",
              "  </script>\n",
              "</div>\n",
              "\n",
              "    </div>\n",
              "  </div>\n"
            ],
            "application/vnd.google.colaboratory.intrinsic+json": {
              "type": "dataframe",
              "variable_name": "eye_tracking_data"
            }
          },
          "metadata": {},
          "execution_count": 3
        }
      ]
    },
    {
      "cell_type": "code",
      "source": [
        "eye_tracking_data_rf = eye_tracking_data.copy()"
      ],
      "metadata": {
        "id": "_obyjfa6p_2D"
      },
      "execution_count": null,
      "outputs": []
    },
    {
      "cell_type": "code",
      "source": [
        "# Data cleaning\n",
        "eye_tracking_data = eye_tracking_data.drop(columns=['GT2', 'GT3', 'GT4', 'GT5', 'GT6', 'GT7']) # removing\n",
        "eye_tracking_data = eye_tracking_data[['time', 'L_x', 'L_y', 'L_z', 'C_x', 'C_y', 'C_z', 'GT1','observer']]"
      ],
      "metadata": {
        "id": "r8yFHKhSrhlz"
      },
      "execution_count": null,
      "outputs": []
    },
    {
      "cell_type": "code",
      "source": [
        "print(eye_tracking_data.head(3))"
      ],
      "metadata": {
        "colab": {
          "base_uri": "https://localhost:8080/"
        },
        "id": "csBo82UhsgWw",
        "outputId": "a6e1c888-eb3b-45f1-aee1-814183fa46e4"
      },
      "execution_count": null,
      "outputs": [
        {
          "output_type": "stream",
          "name": "stdout",
          "text": [
            "    time    L_x     L_y     L_z     C_x     C_y     C_z  GT1  observer\n",
            "0  9.314 -2.969  1.6232 -1.2434 -0.4009  1.6289 -1.2939    0         1\n",
            "1  9.337 -2.969  1.6255 -1.2432 -0.4007  1.6290 -1.2940    0         1\n",
            "2  9.360 -2.969  1.6260 -1.2447 -0.4006  1.6290 -1.2940    0         1\n"
          ]
        }
      ]
    },
    {
      "cell_type": "code",
      "source": [
        "eye_tracking_data_without_GT1 = eye_tracking_data.drop(columns=['GT1'])"
      ],
      "metadata": {
        "id": "KVisdpykrw26"
      },
      "execution_count": null,
      "outputs": []
    },
    {
      "cell_type": "code",
      "source": [
        "print(eye_tracking_data_without_GT1.head(3))"
      ],
      "metadata": {
        "colab": {
          "base_uri": "https://localhost:8080/"
        },
        "id": "2cLUvgTGsZzw",
        "outputId": "91d9bb82-1f75-43af-ed40-fd6c03df1b3a"
      },
      "execution_count": null,
      "outputs": [
        {
          "output_type": "stream",
          "name": "stdout",
          "text": [
            "    time    L_x     L_y     L_z     C_x     C_y     C_z  observer\n",
            "0  9.314 -2.969  1.6232 -1.2434 -0.4009  1.6289 -1.2939         1\n",
            "1  9.337 -2.969  1.6255 -1.2432 -0.4007  1.6290 -1.2940         1\n",
            "2  9.360 -2.969  1.6260 -1.2447 -0.4006  1.6290 -1.2940         1\n"
          ]
        }
      ]
    },
    {
      "cell_type": "code",
      "execution_count": null,
      "metadata": {
        "id": "-7qM3-vAmGcX"
      },
      "outputs": [],
      "source": [
        "# Convert all columns to float32 for compatibility with PyTorch\n",
        "eye_tracking_data_without_GT1 = eye_tracking_data_without_GT1.astype('float32')\n",
        "\n",
        "train_split = 0.75\n",
        "# Creating data indices for training and test splits: LSTM autoencoder time series https://github.com/fabiozappo/LSTM-Autoencoder-Time-Series/blob/main/code/main.py\n",
        "dataset_size = len(eye_tracking_data_without_GT1)\n",
        "indices = list(range(dataset_size))\n",
        "split = int(np.floor(train_split * dataset_size))\n",
        "\n",
        "et_train_without_GT1 = eye_tracking_data_without_GT1.iloc[:split, :]\n",
        "et_test_without_GT1 = eye_tracking_data_without_GT1.iloc[split:, :]\n",
        "\n",
        "# Scaling the data\n",
        "# scaler = MinMaxScaler()\n",
        "# et_train_without_GT1 = pd.DataFrame(scaler.fit_transform(et_train_without_GT1), columns=et_train_without_GT1.columns)\n",
        "# et_test_without_GT1 = pd.DataFrame(scaler.transform(et_test_without_GT1), columns=et_test_without_GT1.columns)\n",
        "\n",
        "# Define sequence length (the sequences have overlapping data)\n",
        "sequence_length = 460  # 10 seconds of data - sampled at ~45 Hz\n",
        "\n",
        "# # Function to create sequences\n",
        "# def create_sequences(data, sequence_length):\n",
        "#     sequences = []\n",
        "#     sequences_again = []\n",
        "#     for i in range(len(data) - sequence_length):\n",
        "#         seq = data.iloc[i:i+sequence_length, :].values  # Convert to numpy array with .values to use it as a tensor.\n",
        "#         seq_again = data.iloc[i:i+sequence_length, :].values  # Repeated X in Y position\n",
        "#         sequences.append(seq)\n",
        "#         sequences_again.append(seq_again)\n",
        "#     return np.array(sequences), np.array(sequences_again)\n",
        "\n",
        "\n",
        "\n",
        "# # Generate sequences for training and testing\n",
        "# X_train_seq, y_train_seq = create_sequences(et_train_without_GT1, sequence_length)\n",
        "# X_test_seq, y_test_seq = create_sequences(et_test_without_GT1, sequence_length)\n",
        "\n",
        "# ## now remove GT1\n"
      ]
    },
    {
      "cell_type": "code",
      "source": [
        "# from re import X\n",
        "# print(X_train_seq.shape)\n",
        "# print(y_train_seq.shape)\n",
        "# print(X_test_seq.shape)\n",
        "# print(y_test_seq.shape)"
      ],
      "metadata": {
        "colab": {
          "base_uri": "https://localhost:8080/"
        },
        "id": "hYaAhHjSInxK",
        "outputId": "eca12039-1cba-4a5b-b080-77eb4395b22e"
      },
      "execution_count": null,
      "outputs": [
        {
          "output_type": "stream",
          "name": "stdout",
          "text": [
            "(79229, 460, 8)\n",
            "(79229, 460, 8)\n",
            "(26103, 460, 8)\n",
            "(26103, 460, 8)\n"
          ]
        }
      ]
    },
    {
      "cell_type": "code",
      "source": [
        "eye_tracking_data_GT1 = eye_tracking_data[['GT1']]\n",
        "print(eye_tracking_data_GT1.head(3))\n",
        "print(eye_tracking_data.shape)\n",
        "\n"
      ],
      "metadata": {
        "colab": {
          "base_uri": "https://localhost:8080/"
        },
        "id": "46YnrW7hGTH8",
        "outputId": "2693ce8e-0e2e-4e06-9673-6e427e623216"
      },
      "execution_count": null,
      "outputs": [
        {
          "output_type": "stream",
          "name": "stdout",
          "text": [
            "   GT1\n",
            "0    0\n",
            "1    0\n",
            "2    0\n",
            "(106252, 9)\n"
          ]
        }
      ]
    },
    {
      "cell_type": "code",
      "source": [
        "# Convert all columns to float32 for compatibility with PyTorch\n",
        "eye_tracking_data_GT1 = eye_tracking_data_GT1.astype('float32')\n",
        "\n",
        "train_split = 0.75\n",
        "dataset_size = len(eye_tracking_data_GT1)\n",
        "indices = list(range(dataset_size))\n",
        "split = int(np.floor(train_split * dataset_size))\n",
        "\n",
        "et_train_GT1 = eye_tracking_data_GT1.iloc[:split, :]\n",
        "et_test_GT1 = eye_tracking_data_GT1.iloc[split:, :]\n",
        "\n",
        "# X_train_seq_GT1, y_train_seq_GT1 = create_sequences(et_train_GT1, sequence_length)\n",
        "# X_test_seq_GT1, y_test_seq_GT1 = create_sequences(et_test_GT1, sequence_length)"
      ],
      "metadata": {
        "id": "x6ZKAg_pIbR8"
      },
      "execution_count": null,
      "outputs": []
    },
    {
      "cell_type": "code",
      "source": [
        "# print(X_train_seq_GT1.shape)\n",
        "# print(y_train_seq_GT1.shape)\n",
        "# print(X_test_seq_GT1.shape)\n",
        "# print(y_test_seq_GT1.shape)"
      ],
      "metadata": {
        "colab": {
          "base_uri": "https://localhost:8080/"
        },
        "id": "K9T8noszHN6T",
        "outputId": "b8a4a09f-ab1a-4fbf-d46a-a28dcf339be3"
      },
      "execution_count": null,
      "outputs": [
        {
          "output_type": "stream",
          "name": "stdout",
          "text": [
            "(79229, 460, 1)\n",
            "(79229, 460, 1)\n",
            "(26103, 460, 1)\n",
            "(26103, 460, 1)\n"
          ]
        }
      ]
    },
    {
      "cell_type": "markdown",
      "source": [
        "# New sequence - 2 dimensions - overlapping"
      ],
      "metadata": {
        "id": "s1pj20DOg11H"
      }
    },
    {
      "cell_type": "code",
      "source": [
        "# #new sequence - overlapping:\n",
        "\n",
        "def subset_training_data_overlap_by_rows(\n",
        "    training_data_overlap: pd.DataFrame, rows_interval: int = 460, rows_overlap: int = 135\n",
        ") -> pd.DataFrame:\n",
        "    \"\"\"\n",
        "    Splits the training_data DataFrame into overlapping subsets for each observer, using row-based intervals.\n",
        "    Parameters: training_data_overlap (pd.DataFrame): The input DataFrame with an 'observer' column.\n",
        "                rows_interval (int): The number of rows for each subset.\n",
        "                rows_overlap (int): The number of overlapping rows for the next subset.\n",
        "    Returns: pd.DataFrame: A new DataFrame with repeated overlapping rows for each observer, using global subset IDs.\n",
        "    \"\"\"\n",
        "    # Ensure the data is sorted by observer and time\n",
        "    training_data_overlap = training_data_overlap.sort_values(by=[\"observer\", \"time\"]).reset_index(drop=True)\n",
        "\n",
        "    all_subsets = []\n",
        "    global_subset_id = 1\n",
        "\n",
        "    # Iterate over each observer\n",
        "    for observer_id, observer_data in training_data_overlap.groupby(\"observer\"):\n",
        "        observer_data = observer_data.reset_index(drop=True)\n",
        "\n",
        "        # Calculate the step for each subset\n",
        "        subset_step = rows_interval - rows_overlap\n",
        "        n_rows = len(observer_data)\n",
        "\n",
        "        # Create subsets using slicing\n",
        "        for start_idx in range(0, n_rows, subset_step):\n",
        "            end_idx = start_idx + rows_interval\n",
        "            current_subset = observer_data.iloc[start_idx:end_idx].copy()\n",
        "\n",
        "            if not current_subset.empty:\n",
        "                # Label this subset with a unique global subset ID\n",
        "                current_subset[\"subset\"] = global_subset_id\n",
        "                all_subsets.append(current_subset)\n",
        "                global_subset_id += 1\n",
        "\n",
        "    # Concatenate all subsets into one DataFrame\n",
        "    df = pd.concat(all_subsets, ignore_index=True)\n",
        "    return df\n",
        "\n",
        "\n",
        "\n"
      ],
      "metadata": {
        "id": "7XH2CKe26tTC"
      },
      "execution_count": null,
      "outputs": []
    },
    {
      "cell_type": "code",
      "source": [
        "eye_tracking_complete = subset_training_data_overlap_by_rows(eye_tracking_data)"
      ],
      "metadata": {
        "id": "jrDpHxzSkiNB"
      },
      "execution_count": null,
      "outputs": []
    },
    {
      "cell_type": "code",
      "source": [
        "# X train and test without GT1\n",
        "\n",
        "eye_tracking_data_without_GT1 = eye_tracking_complete.drop(columns=['GT1'])\n",
        "print(eye_tracking_data_without_GT1.head(3))\n",
        "print(eye_tracking_data_without_GT1.shape)\n",
        "# Convert all columns to float32 for compatibility with PyTorch\n",
        "eye_tracking_data_without_GT1 = eye_tracking_data_without_GT1.astype('float32')\n",
        "\n",
        "train_split = 0.75\n",
        "# Creating data indices for training and test splits: LSTM autoencoder time series https://github.com/fabiozappo/LSTM-Autoencoder-Time-Series/blob/main/code/main.py\n",
        "dataset_size = len(eye_tracking_data_without_GT1)\n",
        "indices = list(range(dataset_size))\n",
        "split = int(np.floor(train_split * dataset_size))\n",
        "\n",
        "et_train_without_GT1 = eye_tracking_data_without_GT1.iloc[:split, :]\n",
        "et_test_without_GT1 = eye_tracking_data_without_GT1.iloc[split:, :]\n"
      ],
      "metadata": {
        "colab": {
          "base_uri": "https://localhost:8080/",
          "height": 384
        },
        "collapsed": true,
        "id": "agPmnjn1jaJ_",
        "outputId": "8092467a-5f47-4b66-f66d-afad26e6c87a"
      },
      "execution_count": null,
      "outputs": [
        {
          "output_type": "stream",
          "name": "stdout",
          "text": [
            "    time    L_x     L_y     L_z     C_x     C_y     C_z  observer  subset\n",
            "0  9.314 -2.969  1.6232 -1.2434 -0.4009  1.6289 -1.2939         1       1\n",
            "1  9.337 -2.969  1.6255 -1.2432 -0.4007  1.6290 -1.2940         1       1\n",
            "2  9.360 -2.969  1.6260 -1.2447 -0.4006  1.6290 -1.2940         1       1\n",
            "(145037, 9)\n",
            "   GT1\n",
            "0    0\n",
            "1    0\n",
            "2    0\n"
          ]
        },
        {
          "output_type": "error",
          "ename": "NameError",
          "evalue": "name 'eye_tracking_GT1' is not defined",
          "traceback": [
            "\u001b[0;31m---------------------------------------------------------------------------\u001b[0m",
            "\u001b[0;31mNameError\u001b[0m                                 Traceback (most recent call last)",
            "\u001b[0;32m<ipython-input-16-18b9d2f9c823>\u001b[0m in \u001b[0;36m<cell line: 24>\u001b[0;34m()\u001b[0m\n\u001b[1;32m     22\u001b[0m \u001b[0meye_tracking_data_GT1\u001b[0m \u001b[0;34m=\u001b[0m \u001b[0meye_tracking_complete\u001b[0m\u001b[0;34m[\u001b[0m\u001b[0;34m[\u001b[0m\u001b[0;34m'GT1'\u001b[0m\u001b[0;34m]\u001b[0m\u001b[0;34m]\u001b[0m\u001b[0;34m\u001b[0m\u001b[0;34m\u001b[0m\u001b[0m\n\u001b[1;32m     23\u001b[0m \u001b[0mprint\u001b[0m\u001b[0;34m(\u001b[0m\u001b[0meye_tracking_data_GT1\u001b[0m\u001b[0;34m.\u001b[0m\u001b[0mhead\u001b[0m\u001b[0;34m(\u001b[0m\u001b[0;36m3\u001b[0m\u001b[0;34m)\u001b[0m\u001b[0;34m)\u001b[0m\u001b[0;34m\u001b[0m\u001b[0;34m\u001b[0m\u001b[0m\n\u001b[0;32m---> 24\u001b[0;31m \u001b[0mprint\u001b[0m\u001b[0;34m(\u001b[0m\u001b[0meye_tracking_GT1\u001b[0m\u001b[0;34m.\u001b[0m\u001b[0mshape\u001b[0m\u001b[0;34m)\u001b[0m\u001b[0;34m\u001b[0m\u001b[0;34m\u001b[0m\u001b[0m\n\u001b[0m\u001b[1;32m     25\u001b[0m \u001b[0;34m\u001b[0m\u001b[0m\n\u001b[1;32m     26\u001b[0m \u001b[0;31m# Convert all columns to float32 for compatibility with PyTorch\u001b[0m\u001b[0;34m\u001b[0m\u001b[0;34m\u001b[0m\u001b[0m\n",
            "\u001b[0;31mNameError\u001b[0m: name 'eye_tracking_GT1' is not defined"
          ]
        }
      ]
    },
    {
      "cell_type": "code",
      "source": [
        "print(eye_tracking_data_without_GT1.head(3))\n",
        "print(eye_tracking_data_without_GT1.shape)"
      ],
      "metadata": {
        "colab": {
          "base_uri": "https://localhost:8080/"
        },
        "id": "3m5AvxI6ll6x",
        "outputId": "24e5dd12-0415-4efd-9a27-e7ac3d202138"
      },
      "execution_count": null,
      "outputs": [
        {
          "output_type": "stream",
          "name": "stdout",
          "text": [
            "    time    L_x     L_y     L_z     C_x     C_y     C_z  observer  subset\n",
            "0  9.314 -2.969  1.6232 -1.2434 -0.4009  1.6289 -1.2939       1.0     1.0\n",
            "1  9.337 -2.969  1.6255 -1.2432 -0.4007  1.6290 -1.2940       1.0     1.0\n",
            "2  9.360 -2.969  1.6260 -1.2447 -0.4006  1.6290 -1.2940       1.0     1.0\n",
            "(145037, 9)\n"
          ]
        }
      ]
    },
    {
      "cell_type": "code",
      "source": [
        "# X train and test GT1\n",
        "\n",
        "\n",
        "eye_tracking_data_GT1 = eye_tracking_complete[['GT1']]\n",
        "print(eye_tracking_data_GT1.head(3))\n",
        "print(eye_tracking_data_GT1.shape)\n",
        "\n",
        "# Convert all columns to float32 for compatibility with PyTorch\n",
        "eye_tracking_data_GT1 = eye_tracking_data_GT1.astype('float32')\n",
        "\n",
        "train_split = 0.75\n",
        "dataset_size = len(eye_tracking_data_GT1)\n",
        "indices = list(range(dataset_size))\n",
        "split = int(np.floor(train_split * dataset_size))\n",
        "\n",
        "et_train_GT1 = eye_tracking_data_GT1.iloc[:split, :]\n",
        "et_test_GT1 = eye_tracking_data_GT1.iloc[split:, :]"
      ],
      "metadata": {
        "colab": {
          "base_uri": "https://localhost:8080/"
        },
        "id": "Wdk44jVQlfR6",
        "outputId": "1aab8941-98d6-48ed-ee55-9c1e1e5023ad"
      },
      "execution_count": null,
      "outputs": [
        {
          "output_type": "stream",
          "name": "stdout",
          "text": [
            "   GT1\n",
            "0    0\n",
            "1    0\n",
            "2    0\n",
            "(145037, 1)\n"
          ]
        }
      ]
    },
    {
      "cell_type": "code",
      "source": [
        "eye_tracking_complete.shape"
      ],
      "metadata": {
        "colab": {
          "base_uri": "https://localhost:8080/"
        },
        "id": "MfKodEfkj3ta",
        "outputId": "5cc88bc9-cfe0-4c91-c077-a46814b2743f"
      },
      "execution_count": null,
      "outputs": [
        {
          "output_type": "execute_result",
          "data": {
            "text/plain": [
              "(145037, 10)"
            ]
          },
          "metadata": {},
          "execution_count": 13
        }
      ]
    },
    {
      "cell_type": "code",
      "source": [
        "eye_tracking_complete.head(3)"
      ],
      "metadata": {
        "colab": {
          "base_uri": "https://localhost:8080/",
          "height": 143
        },
        "id": "CLSTAzWFj-Fb",
        "outputId": "120cda0a-6f94-42fb-c9e4-4abb5e483d67"
      },
      "execution_count": null,
      "outputs": [
        {
          "output_type": "execute_result",
          "data": {
            "text/plain": [
              "    time    L_x     L_y     L_z     C_x     C_y     C_z  GT1  observer  subset\n",
              "0  9.314 -2.969  1.6232 -1.2434 -0.4009  1.6289 -1.2939    0         1       1\n",
              "1  9.337 -2.969  1.6255 -1.2432 -0.4007  1.6290 -1.2940    0         1       1\n",
              "2  9.360 -2.969  1.6260 -1.2447 -0.4006  1.6290 -1.2940    0         1       1"
            ],
            "text/html": [
              "\n",
              "  <div id=\"df-ec87f322-7d39-40f4-b0cc-552fbb39650d\" class=\"colab-df-container\">\n",
              "    <div>\n",
              "<style scoped>\n",
              "    .dataframe tbody tr th:only-of-type {\n",
              "        vertical-align: middle;\n",
              "    }\n",
              "\n",
              "    .dataframe tbody tr th {\n",
              "        vertical-align: top;\n",
              "    }\n",
              "\n",
              "    .dataframe thead th {\n",
              "        text-align: right;\n",
              "    }\n",
              "</style>\n",
              "<table border=\"1\" class=\"dataframe\">\n",
              "  <thead>\n",
              "    <tr style=\"text-align: right;\">\n",
              "      <th></th>\n",
              "      <th>time</th>\n",
              "      <th>L_x</th>\n",
              "      <th>L_y</th>\n",
              "      <th>L_z</th>\n",
              "      <th>C_x</th>\n",
              "      <th>C_y</th>\n",
              "      <th>C_z</th>\n",
              "      <th>GT1</th>\n",
              "      <th>observer</th>\n",
              "      <th>subset</th>\n",
              "    </tr>\n",
              "  </thead>\n",
              "  <tbody>\n",
              "    <tr>\n",
              "      <th>0</th>\n",
              "      <td>9.314</td>\n",
              "      <td>-2.969</td>\n",
              "      <td>1.6232</td>\n",
              "      <td>-1.2434</td>\n",
              "      <td>-0.4009</td>\n",
              "      <td>1.6289</td>\n",
              "      <td>-1.2939</td>\n",
              "      <td>0</td>\n",
              "      <td>1</td>\n",
              "      <td>1</td>\n",
              "    </tr>\n",
              "    <tr>\n",
              "      <th>1</th>\n",
              "      <td>9.337</td>\n",
              "      <td>-2.969</td>\n",
              "      <td>1.6255</td>\n",
              "      <td>-1.2432</td>\n",
              "      <td>-0.4007</td>\n",
              "      <td>1.6290</td>\n",
              "      <td>-1.2940</td>\n",
              "      <td>0</td>\n",
              "      <td>1</td>\n",
              "      <td>1</td>\n",
              "    </tr>\n",
              "    <tr>\n",
              "      <th>2</th>\n",
              "      <td>9.360</td>\n",
              "      <td>-2.969</td>\n",
              "      <td>1.6260</td>\n",
              "      <td>-1.2447</td>\n",
              "      <td>-0.4006</td>\n",
              "      <td>1.6290</td>\n",
              "      <td>-1.2940</td>\n",
              "      <td>0</td>\n",
              "      <td>1</td>\n",
              "      <td>1</td>\n",
              "    </tr>\n",
              "  </tbody>\n",
              "</table>\n",
              "</div>\n",
              "    <div class=\"colab-df-buttons\">\n",
              "\n",
              "  <div class=\"colab-df-container\">\n",
              "    <button class=\"colab-df-convert\" onclick=\"convertToInteractive('df-ec87f322-7d39-40f4-b0cc-552fbb39650d')\"\n",
              "            title=\"Convert this dataframe to an interactive table.\"\n",
              "            style=\"display:none;\">\n",
              "\n",
              "  <svg xmlns=\"http://www.w3.org/2000/svg\" height=\"24px\" viewBox=\"0 -960 960 960\">\n",
              "    <path d=\"M120-120v-720h720v720H120Zm60-500h600v-160H180v160Zm220 220h160v-160H400v160Zm0 220h160v-160H400v160ZM180-400h160v-160H180v160Zm440 0h160v-160H620v160ZM180-180h160v-160H180v160Zm440 0h160v-160H620v160Z\"/>\n",
              "  </svg>\n",
              "    </button>\n",
              "\n",
              "  <style>\n",
              "    .colab-df-container {\n",
              "      display:flex;\n",
              "      gap: 12px;\n",
              "    }\n",
              "\n",
              "    .colab-df-convert {\n",
              "      background-color: #E8F0FE;\n",
              "      border: none;\n",
              "      border-radius: 50%;\n",
              "      cursor: pointer;\n",
              "      display: none;\n",
              "      fill: #1967D2;\n",
              "      height: 32px;\n",
              "      padding: 0 0 0 0;\n",
              "      width: 32px;\n",
              "    }\n",
              "\n",
              "    .colab-df-convert:hover {\n",
              "      background-color: #E2EBFA;\n",
              "      box-shadow: 0px 1px 2px rgba(60, 64, 67, 0.3), 0px 1px 3px 1px rgba(60, 64, 67, 0.15);\n",
              "      fill: #174EA6;\n",
              "    }\n",
              "\n",
              "    .colab-df-buttons div {\n",
              "      margin-bottom: 4px;\n",
              "    }\n",
              "\n",
              "    [theme=dark] .colab-df-convert {\n",
              "      background-color: #3B4455;\n",
              "      fill: #D2E3FC;\n",
              "    }\n",
              "\n",
              "    [theme=dark] .colab-df-convert:hover {\n",
              "      background-color: #434B5C;\n",
              "      box-shadow: 0px 1px 3px 1px rgba(0, 0, 0, 0.15);\n",
              "      filter: drop-shadow(0px 1px 2px rgba(0, 0, 0, 0.3));\n",
              "      fill: #FFFFFF;\n",
              "    }\n",
              "  </style>\n",
              "\n",
              "    <script>\n",
              "      const buttonEl =\n",
              "        document.querySelector('#df-ec87f322-7d39-40f4-b0cc-552fbb39650d button.colab-df-convert');\n",
              "      buttonEl.style.display =\n",
              "        google.colab.kernel.accessAllowed ? 'block' : 'none';\n",
              "\n",
              "      async function convertToInteractive(key) {\n",
              "        const element = document.querySelector('#df-ec87f322-7d39-40f4-b0cc-552fbb39650d');\n",
              "        const dataTable =\n",
              "          await google.colab.kernel.invokeFunction('convertToInteractive',\n",
              "                                                    [key], {});\n",
              "        if (!dataTable) return;\n",
              "\n",
              "        const docLinkHtml = 'Like what you see? Visit the ' +\n",
              "          '<a target=\"_blank\" href=https://colab.research.google.com/notebooks/data_table.ipynb>data table notebook</a>'\n",
              "          + ' to learn more about interactive tables.';\n",
              "        element.innerHTML = '';\n",
              "        dataTable['output_type'] = 'display_data';\n",
              "        await google.colab.output.renderOutput(dataTable, element);\n",
              "        const docLink = document.createElement('div');\n",
              "        docLink.innerHTML = docLinkHtml;\n",
              "        element.appendChild(docLink);\n",
              "      }\n",
              "    </script>\n",
              "  </div>\n",
              "\n",
              "\n",
              "<div id=\"df-4d6d6474-4e61-46de-b393-42f87114fc80\">\n",
              "  <button class=\"colab-df-quickchart\" onclick=\"quickchart('df-4d6d6474-4e61-46de-b393-42f87114fc80')\"\n",
              "            title=\"Suggest charts\"\n",
              "            style=\"display:none;\">\n",
              "\n",
              "<svg xmlns=\"http://www.w3.org/2000/svg\" height=\"24px\"viewBox=\"0 0 24 24\"\n",
              "     width=\"24px\">\n",
              "    <g>\n",
              "        <path d=\"M19 3H5c-1.1 0-2 .9-2 2v14c0 1.1.9 2 2 2h14c1.1 0 2-.9 2-2V5c0-1.1-.9-2-2-2zM9 17H7v-7h2v7zm4 0h-2V7h2v10zm4 0h-2v-4h2v4z\"/>\n",
              "    </g>\n",
              "</svg>\n",
              "  </button>\n",
              "\n",
              "<style>\n",
              "  .colab-df-quickchart {\n",
              "      --bg-color: #E8F0FE;\n",
              "      --fill-color: #1967D2;\n",
              "      --hover-bg-color: #E2EBFA;\n",
              "      --hover-fill-color: #174EA6;\n",
              "      --disabled-fill-color: #AAA;\n",
              "      --disabled-bg-color: #DDD;\n",
              "  }\n",
              "\n",
              "  [theme=dark] .colab-df-quickchart {\n",
              "      --bg-color: #3B4455;\n",
              "      --fill-color: #D2E3FC;\n",
              "      --hover-bg-color: #434B5C;\n",
              "      --hover-fill-color: #FFFFFF;\n",
              "      --disabled-bg-color: #3B4455;\n",
              "      --disabled-fill-color: #666;\n",
              "  }\n",
              "\n",
              "  .colab-df-quickchart {\n",
              "    background-color: var(--bg-color);\n",
              "    border: none;\n",
              "    border-radius: 50%;\n",
              "    cursor: pointer;\n",
              "    display: none;\n",
              "    fill: var(--fill-color);\n",
              "    height: 32px;\n",
              "    padding: 0;\n",
              "    width: 32px;\n",
              "  }\n",
              "\n",
              "  .colab-df-quickchart:hover {\n",
              "    background-color: var(--hover-bg-color);\n",
              "    box-shadow: 0 1px 2px rgba(60, 64, 67, 0.3), 0 1px 3px 1px rgba(60, 64, 67, 0.15);\n",
              "    fill: var(--button-hover-fill-color);\n",
              "  }\n",
              "\n",
              "  .colab-df-quickchart-complete:disabled,\n",
              "  .colab-df-quickchart-complete:disabled:hover {\n",
              "    background-color: var(--disabled-bg-color);\n",
              "    fill: var(--disabled-fill-color);\n",
              "    box-shadow: none;\n",
              "  }\n",
              "\n",
              "  .colab-df-spinner {\n",
              "    border: 2px solid var(--fill-color);\n",
              "    border-color: transparent;\n",
              "    border-bottom-color: var(--fill-color);\n",
              "    animation:\n",
              "      spin 1s steps(1) infinite;\n",
              "  }\n",
              "\n",
              "  @keyframes spin {\n",
              "    0% {\n",
              "      border-color: transparent;\n",
              "      border-bottom-color: var(--fill-color);\n",
              "      border-left-color: var(--fill-color);\n",
              "    }\n",
              "    20% {\n",
              "      border-color: transparent;\n",
              "      border-left-color: var(--fill-color);\n",
              "      border-top-color: var(--fill-color);\n",
              "    }\n",
              "    30% {\n",
              "      border-color: transparent;\n",
              "      border-left-color: var(--fill-color);\n",
              "      border-top-color: var(--fill-color);\n",
              "      border-right-color: var(--fill-color);\n",
              "    }\n",
              "    40% {\n",
              "      border-color: transparent;\n",
              "      border-right-color: var(--fill-color);\n",
              "      border-top-color: var(--fill-color);\n",
              "    }\n",
              "    60% {\n",
              "      border-color: transparent;\n",
              "      border-right-color: var(--fill-color);\n",
              "    }\n",
              "    80% {\n",
              "      border-color: transparent;\n",
              "      border-right-color: var(--fill-color);\n",
              "      border-bottom-color: var(--fill-color);\n",
              "    }\n",
              "    90% {\n",
              "      border-color: transparent;\n",
              "      border-bottom-color: var(--fill-color);\n",
              "    }\n",
              "  }\n",
              "</style>\n",
              "\n",
              "  <script>\n",
              "    async function quickchart(key) {\n",
              "      const quickchartButtonEl =\n",
              "        document.querySelector('#' + key + ' button');\n",
              "      quickchartButtonEl.disabled = true;  // To prevent multiple clicks.\n",
              "      quickchartButtonEl.classList.add('colab-df-spinner');\n",
              "      try {\n",
              "        const charts = await google.colab.kernel.invokeFunction(\n",
              "            'suggestCharts', [key], {});\n",
              "      } catch (error) {\n",
              "        console.error('Error during call to suggestCharts:', error);\n",
              "      }\n",
              "      quickchartButtonEl.classList.remove('colab-df-spinner');\n",
              "      quickchartButtonEl.classList.add('colab-df-quickchart-complete');\n",
              "    }\n",
              "    (() => {\n",
              "      let quickchartButtonEl =\n",
              "        document.querySelector('#df-4d6d6474-4e61-46de-b393-42f87114fc80 button');\n",
              "      quickchartButtonEl.style.display =\n",
              "        google.colab.kernel.accessAllowed ? 'block' : 'none';\n",
              "    })();\n",
              "  </script>\n",
              "</div>\n",
              "\n",
              "    </div>\n",
              "  </div>\n"
            ],
            "application/vnd.google.colaboratory.intrinsic+json": {
              "type": "dataframe",
              "variable_name": "eye_tracking_complete"
            }
          },
          "metadata": {},
          "execution_count": 14
        }
      ]
    },
    {
      "cell_type": "code",
      "source": [
        "#converting in numpy array for the tensors\n",
        "X_train_seq = et_train_without_GT1.values\n",
        "y_train_seq = X_train_seq.copy()\n",
        "X_test_seq = et_test_without_GT1.values\n",
        "y_test_seq = X_test_seq.copy()\n",
        "\n",
        "X_train_seq_GT1 = et_train_GT1.values\n",
        "y_train_seq_GT1 = X_train_seq_GT1.copy()\n",
        "X_test_seq_GT1 = et_test_GT1.values\n",
        "y_test_seq_GT1 = X_test_seq_GT1.copy()"
      ],
      "metadata": {
        "id": "lqNGioBWfXNL"
      },
      "execution_count": null,
      "outputs": []
    },
    {
      "cell_type": "code",
      "source": [
        "print(f\"X_train_seq shape: {X_train_seq.shape}\")\n",
        "print(f\"y_train_seq shape: {y_train_seq.shape}\")\n",
        "print(f\"X_test_seq shape: {X_test_seq.shape}\")\n",
        "print(f\"y_test_seq shape: {y_test_seq.shape}\")\n",
        "\n",
        "print(f\"X_train_seq_GT1 shape: {X_train_seq_GT1.shape}\")\n",
        "print(f\"y_train_seq_GT1 shape: {y_train_seq_GT1.shape}\")\n",
        "print(f\"X_test_seq_GT1 shape: {X_test_seq_GT1.shape}\")\n",
        "print(f\"y_test_seq_GT1 shape: {y_test_seq_GT1.shape}\")"
      ],
      "metadata": {
        "colab": {
          "base_uri": "https://localhost:8080/"
        },
        "id": "T27NYbISRdnO",
        "outputId": "b71f2a5a-6a70-4d97-cada-bc851dad15d8"
      },
      "execution_count": null,
      "outputs": [
        {
          "output_type": "stream",
          "name": "stdout",
          "text": [
            "X_train_seq shape: (108777, 9)\n",
            "y_train_seq shape: (108777, 9)\n",
            "X_test_seq shape: (36260, 9)\n",
            "y_test_seq shape: (36260, 9)\n",
            "X_train_seq_GT1 shape: (108777, 1)\n",
            "y_train_seq_GT1 shape: (108777, 1)\n",
            "X_test_seq_GT1 shape: (36260, 1)\n",
            "y_test_seq_GT1 shape: (36260, 1)\n"
          ]
        }
      ]
    },
    {
      "cell_type": "code",
      "source": [
        "X_train_tensor = torch.tensor(X_train_seq, dtype=torch.float32)\n",
        "y_train_tensor = X_train_tensor.clone()  # Target for the autoencoder is the input itself\n",
        "X_test_tensor = torch.tensor(X_test_seq, dtype=torch.float32)\n",
        "y_test_tensor = X_test_tensor.clone()  # Target for the autoencoder is the input itself\n",
        "\n",
        "# Create TensorDataset for train and test sets\n",
        "train_dataset = TensorDataset(X_train_tensor, y_train_tensor)\n",
        "test_dataset = TensorDataset(X_test_tensor, y_test_tensor)\n",
        "\n",
        "batch_size = 256\n",
        "train_loader = DataLoader(train_dataset, batch_size=batch_size, shuffle=False, drop_last=True) #timeseries data so shuffle = False\n",
        "test_loader = DataLoader(test_dataset, batch_size=batch_size, shuffle=False, drop_last=True) #timeseries data so shuffle = False\n"
      ],
      "metadata": {
        "id": "OtD9XSEMmjJ-"
      },
      "execution_count": null,
      "outputs": []
    },
    {
      "cell_type": "code",
      "source": [
        "print(X_train_tensor.shape)\n",
        "print(y_train_tensor.shape)\n",
        "print(X_test_tensor.shape)\n",
        "print(y_test_tensor.shape)"
      ],
      "metadata": {
        "colab": {
          "base_uri": "https://localhost:8080/"
        },
        "id": "RQm3j--Qu0zO",
        "outputId": "df6e289b-89c8-40aa-e36c-3e426462d465"
      },
      "execution_count": null,
      "outputs": [
        {
          "output_type": "stream",
          "name": "stdout",
          "text": [
            "torch.Size([108777, 9])\n",
            "torch.Size([108777, 9])\n",
            "torch.Size([36260, 9])\n",
            "torch.Size([36260, 9])\n"
          ]
        }
      ]
    },
    {
      "cell_type": "code",
      "source": [
        "# Hyperparameters for the autoencoder model\n",
        "random_seed = 123\n",
        "learning_rate = 0.005\n",
        "num_epochs = 5\n",
        "\n",
        "# Model architecture settings\n",
        "input_size = 9                                                                             # 460 samples * 8 features per sample (I am including the column \"observer\") = 3220\n",
        "num_hidden_1 = 500  # First layer in encoder\n",
        "num_hidden_2 = 50   # Compressed representation layer\n",
        "\n",
        "# Define the Autoencoder model\n",
        "class Autoencoder(nn.Module):\n",
        "    def __init__(self):\n",
        "        super(Autoencoder, self).__init__()\n",
        "\n",
        "        ### ENCODER\n",
        "        self.encoder_layer1 = nn.Linear(input_size, num_hidden_1)\n",
        "        self.encoder_layer2 = nn.Linear(num_hidden_1, num_hidden_2)\n",
        "\n",
        "        ### DECODER\n",
        "        self.decoder_layer1 = nn.Linear(num_hidden_2, num_hidden_1)\n",
        "        self.decoder_layer2 = nn.Linear(num_hidden_1, input_size)\n",
        "        # self.decoder_layer2.weight.detach().normal_(0.0, 0.1)\n",
        "        # self.decoder_layer2.bias.detach().zero_()\n",
        "\n",
        "    def encoder(self, x):\n",
        "        x = F.sigmoid(self.encoder_layer1(x))\n",
        "        encoded = F.sigmoid(self.encoder_layer2(x))\n",
        "        return encoded\n",
        "\n",
        "    def decoder(self, encoded_x):\n",
        "        x = F.leaky_relu(self.decoder_layer1(encoded_x))\n",
        "        decoded = torch.sigmoid(self.decoder_layer2(x))  # Sigmoid to get values between 0 and 1\n",
        "        return decoded\n",
        "\n",
        "    def forward(self, x):\n",
        "        # Flatten input from (batch, sequence_length, features) to (batch, input_size)\n",
        "        x = x.view(x.size(0), -1)\n",
        "        encoded = self.encoder(x)\n",
        "        decoded = self.decoder(encoded)\n",
        "        return decoded\n",
        "\n",
        "# Instantiate the model\n",
        "torch.manual_seed(random_seed)\n",
        "model = Autoencoder().to(device)\n",
        "optimizer = torch.optim.Adam(model.parameters(), lr=learning_rate)\n",
        "\n",
        "# Training Loop\n",
        "start_time = time.time()\n",
        "for epoch in range(num_epochs):\n",
        "    for batch_idx, (sequences, _) in enumerate(train_loader):\n",
        "        sequences = sequences.to(device)\n",
        "\n",
        "        # Forward pass\n",
        "        decoded = model(sequences)\n",
        "\n",
        "        # loss = F.binary_cross_entropy(decoded, sequences.view(sequences.size(0), -1), reduction='mean')\n",
        "         # reconstruction error\n",
        "        loss = F.mse_loss(decoded, sequences.view(sequences.size(0), -1)) # changes binary_cross_entropy loss to mse_loss\n",
        "        optimizer.zero_grad()\n",
        "\n",
        "        # Backward pass and optimization\n",
        "        loss.backward()\n",
        "        optimizer.step()\n",
        "\n",
        "        # Logging\n",
        "        if not batch_idx % 50:\n",
        "            print('Epoch: %03d/%03d | Batch %03d/%03d | Loss: %.4f'\n",
        "                  % (epoch + 1, num_epochs, batch_idx, len(train_loader), loss))\n",
        "\n",
        "    print('Time elapsed: %.2f min' % ((time.time() - start_time) / 60))\n",
        "\n",
        "print('Total Training Time: %.2f min' % ((time.time() - start_time) / 60))\n",
        "\n"
      ],
      "metadata": {
        "colab": {
          "base_uri": "https://localhost:8080/"
        },
        "id": "nXU7SNjOmceG",
        "outputId": "2909476a-a758-48b9-9930-a5327bfd4b92"
      },
      "execution_count": null,
      "outputs": [
        {
          "output_type": "stream",
          "name": "stdout",
          "text": [
            "Epoch: 001/005 | Batch 000/424 | Loss: 18.0179\n",
            "Epoch: 001/005 | Batch 050/424 | Loss: 259.0796\n",
            "Epoch: 001/005 | Batch 100/424 | Loss: 519.0620\n",
            "Epoch: 001/005 | Batch 150/424 | Loss: 1274.3918\n",
            "Epoch: 001/005 | Batch 200/424 | Loss: 2013.5337\n",
            "Epoch: 001/005 | Batch 250/424 | Loss: 3017.6548\n",
            "Epoch: 001/005 | Batch 300/424 | Loss: 4542.4722\n",
            "Epoch: 001/005 | Batch 350/424 | Loss: 5956.7300\n",
            "Epoch: 001/005 | Batch 400/424 | Loss: 7772.0312\n",
            "Time elapsed: 0.20 min\n",
            "Epoch: 002/005 | Batch 000/424 | Loss: 15.6600\n",
            "Epoch: 002/005 | Batch 050/424 | Loss: 259.0796\n",
            "Epoch: 002/005 | Batch 100/424 | Loss: 519.0620\n",
            "Epoch: 002/005 | Batch 150/424 | Loss: 1274.3918\n",
            "Epoch: 002/005 | Batch 200/424 | Loss: 2013.5337\n",
            "Epoch: 002/005 | Batch 250/424 | Loss: 3017.6548\n",
            "Epoch: 002/005 | Batch 300/424 | Loss: 4542.4722\n",
            "Epoch: 002/005 | Batch 350/424 | Loss: 5956.7300\n",
            "Epoch: 002/005 | Batch 400/424 | Loss: 7772.0312\n",
            "Time elapsed: 0.38 min\n",
            "Epoch: 003/005 | Batch 000/424 | Loss: 15.6600\n",
            "Epoch: 003/005 | Batch 050/424 | Loss: 259.0796\n",
            "Epoch: 003/005 | Batch 100/424 | Loss: 519.0620\n",
            "Epoch: 003/005 | Batch 150/424 | Loss: 1274.3918\n",
            "Epoch: 003/005 | Batch 200/424 | Loss: 2013.5337\n",
            "Epoch: 003/005 | Batch 250/424 | Loss: 3017.6548\n",
            "Epoch: 003/005 | Batch 300/424 | Loss: 4542.4722\n",
            "Epoch: 003/005 | Batch 350/424 | Loss: 5956.7300\n",
            "Epoch: 003/005 | Batch 400/424 | Loss: 7772.0312\n",
            "Time elapsed: 0.56 min\n",
            "Epoch: 004/005 | Batch 000/424 | Loss: 15.6600\n",
            "Epoch: 004/005 | Batch 050/424 | Loss: 259.0796\n",
            "Epoch: 004/005 | Batch 100/424 | Loss: 519.0620\n",
            "Epoch: 004/005 | Batch 150/424 | Loss: 1274.3918\n",
            "Epoch: 004/005 | Batch 200/424 | Loss: 2013.5337\n",
            "Epoch: 004/005 | Batch 250/424 | Loss: 3017.6548\n",
            "Epoch: 004/005 | Batch 300/424 | Loss: 4542.4722\n",
            "Epoch: 004/005 | Batch 350/424 | Loss: 5956.7300\n",
            "Epoch: 004/005 | Batch 400/424 | Loss: 7772.0312\n",
            "Time elapsed: 0.72 min\n",
            "Epoch: 005/005 | Batch 000/424 | Loss: 15.6600\n",
            "Epoch: 005/005 | Batch 050/424 | Loss: 259.0796\n",
            "Epoch: 005/005 | Batch 100/424 | Loss: 519.0620\n",
            "Epoch: 005/005 | Batch 150/424 | Loss: 1274.3918\n",
            "Epoch: 005/005 | Batch 200/424 | Loss: 2013.5337\n",
            "Epoch: 005/005 | Batch 250/424 | Loss: 3017.6548\n",
            "Epoch: 005/005 | Batch 300/424 | Loss: 4542.4722\n",
            "Epoch: 005/005 | Batch 350/424 | Loss: 5956.7300\n",
            "Epoch: 005/005 | Batch 400/424 | Loss: 7772.0312\n",
            "Time elapsed: 0.89 min\n",
            "Total Training Time: 0.89 min\n"
          ]
        }
      ]
    },
    {
      "cell_type": "code",
      "source": [
        "print(\"input size:\", input_size)\n",
        "print(\"num_hidden_1:\", num_hidden_1)\n",
        "print(\"num_hidden_2:\", num_hidden_2)"
      ],
      "metadata": {
        "colab": {
          "base_uri": "https://localhost:8080/"
        },
        "id": "XHL_M0y74006",
        "outputId": "25bfa538-f9cc-439e-ae1e-0ccb22489ac3"
      },
      "execution_count": null,
      "outputs": [
        {
          "output_type": "stream",
          "name": "stdout",
          "text": [
            "input size: 9\n",
            "num_hidden_1: 500\n",
            "num_hidden_2: 50\n"
          ]
        }
      ]
    },
    {
      "cell_type": "markdown",
      "source": [
        "# Using encoder\n"
      ],
      "metadata": {
        "id": "FaYUiJWNWjap"
      }
    },
    {
      "cell_type": "code",
      "source": [
        "#### USING ENCODER\n",
        "\n",
        "# Extract features from the autoencoder for Random Forest\n",
        "X_train_ae_seq = np.ones((len(train_dataset), num_hidden_2))\n",
        "# y_train_ae = y_train_seq\n",
        "y_train_ae_seq = np.ones((len(train_dataset),num_hidden_2))\n",
        "\n",
        "X_test_ae_seq = np.ones((len(test_dataset), num_hidden_2))\n",
        "# y_test_ae = y_test_seq\n",
        "y_test_ae_seq = np.ones((len(test_dataset),num_hidden_2))\n",
        "\n",
        "start_idx = 0\n",
        "for idx, (sequences, labels) in enumerate(train_loader):\n",
        "    sequences = sequences.to(device)\n",
        "    encoded = model.encoder(sequences.view(sequences.size(0), -1))\n",
        "    # decoded = model.encoder(sequences.view(sequences.size(0), -1))\n",
        "\n",
        "    batch_size = encoded.shape[0]\n",
        "    # batch_size = decoded.shape[0]\n",
        "    # X_train_ae[start_idx:start_idx+batch_size] = decoded.cpu().detach().numpy() #using decoder\n",
        "    # y_train_ae[start_idx:start_idx+batch_size] = decoded.cpu().detach().numpy() #using decoder #labels.cpu().detach().numpy()\n",
        "    X_train_ae_seq[start_idx:start_idx+batch_size] = encoded.cpu().detach().numpy() #using encoder\n",
        "    y_train_ae_seq[start_idx:start_idx+batch_size] = encoded.cpu().detach().numpy() #using encoder #labels.cpu().detach().numpy()\n",
        "    start_idx += batch_size\n",
        "\n",
        "start_idx = 0\n",
        "for idx, (sequences, labels) in enumerate(test_loader):\n",
        "    sequences = sequences.to(device)\n",
        "    # encoded = model.encoder(sequences.view(sequences.size(0), -1))\n",
        "    decoded = model.encoder(sequences.view(sequences.size(0), -1))\n",
        "    # batch_size = encoded.shape[0]\n",
        "    batch_size = decoded.shape[0]\n",
        "    X_test_ae_seq[start_idx:start_idx + batch_size] = decoded.cpu().detach().numpy() #using encoder\n",
        "    y_test_ae_seq[start_idx:start_idx+batch_size] = decoded.cpu().detach().numpy() #using encoder #labels.cpu().detach().numpy()\n",
        "    # X_test_ae[start_idx:start_idx+batch_size] = decoded.cpu().detach().numpy() #using decoder\n",
        "    # y_test_ae[start_idx:start_idx+batch_size] = decoded.cpu().detach().numpy() #using decoder #labels.cpu().detach().numpy()\n",
        "\n",
        "    start_idx += batch_size\n"
      ],
      "metadata": {
        "id": "3iUFyA8QWE8A"
      },
      "execution_count": null,
      "outputs": []
    },
    {
      "cell_type": "markdown",
      "source": [
        "# RANDOM FOREST"
      ],
      "metadata": {
        "id": "mMPXkv4jAzid"
      }
    },
    {
      "cell_type": "code",
      "source": [
        "eye_tracking_data.columns"
      ],
      "metadata": {
        "colab": {
          "base_uri": "https://localhost:8080/"
        },
        "id": "qyM8NkIMAyhs",
        "outputId": "764e2a5f-3c3e-4896-becb-2405459d4482"
      },
      "execution_count": null,
      "outputs": [
        {
          "output_type": "execute_result",
          "data": {
            "text/plain": [
              "Index(['time', 'L_x', 'L_y', 'L_z', 'C_x', 'C_y', 'C_z', 'GT1', 'observer'], dtype='object')"
            ]
          },
          "metadata": {},
          "execution_count": 18
        }
      ]
    },
    {
      "cell_type": "code",
      "source": [
        "train_split = 0.75\n",
        "# Creating data indices for training and test splits: LSTM autoencoder time series https://github.com/fabiozappo/LSTM-Autoencoder-Time-Series/blob/main/code/main.py\n",
        "dataset_size = len(eye_tracking_data)\n",
        "indices = list(range(dataset_size))\n",
        "split = int(np.floor(train_split * dataset_size))\n",
        "\n",
        "et_train_original_rf = eye_tracking_data.iloc[:split, :]\n",
        "et_test_original_rf = eye_tracking_data.iloc[split:, :]\n",
        "\n",
        "print(\"et_train_rf shape is %s\\n\" % (et_train_original_rf.shape,))\n",
        "\n",
        "feature_cols = ['time', 'L_x', 'L_y', 'L_z', 'C_x', 'C_y', 'C_z', 'observer']\n",
        "\n",
        "X_train_original_rf = et_train_original_rf[feature_cols] # Features\n",
        "y_train_original_rf = et_train_original_rf.GT1 # Target variable\n",
        "\n",
        "X_test_original_rf = et_test_original_rf[feature_cols] # Features\n",
        "y_test_original_rf = et_test_original_rf.GT1 # Target variable\n",
        "\n",
        "print(f\"X_train_original_rf shape is {X_train_original_rf.shape} \\nY train original rf shape is {y_train_original_rf.shape} \")\n",
        "print(f\"X_test_original_rf shape is {X_test_original_rf.shape}\\n\")\n",
        "print(f\"y_test_original_rf shape is {y_test_original_rf.shape}\")\n"
      ],
      "metadata": {
        "colab": {
          "base_uri": "https://localhost:8080/"
        },
        "id": "6BSzOOmbH0bF",
        "outputId": "05b827e7-a31f-4a7a-d5cb-7e1233732698"
      },
      "execution_count": null,
      "outputs": [
        {
          "output_type": "stream",
          "name": "stdout",
          "text": [
            "et_train_rf shape is (79689, 9)\n",
            "\n",
            "X_train_original_rf shape is (79689, 8) \n",
            "Y train original rf shape is (79689,) \n",
            "X_test_original_rf shape is (26563, 8)\n",
            "\n",
            "y_test_original_rf shape is (26563,)\n"
          ]
        }
      ]
    },
    {
      "cell_type": "code",
      "source": [],
      "metadata": {
        "id": "HoeQu4y1qNPk"
      },
      "execution_count": null,
      "outputs": []
    },
    {
      "cell_type": "code",
      "source": [
        "#### USING ENCODER - SO WE CAN INSERT X TEST WITH NO SEQUENCES IN THE RF MODEL\n",
        "\n",
        "# Extract features from the autoencoder for Random Forest\n",
        "X_train_ae_orig = np.ones((len(train_dataset_orig), num_hidden_2))\n",
        "# y_train_ae = y_train_seq\n",
        "y_train_ae_orig = np.ones((len(train_dataset_orig),num_hidden_2))\n",
        "\n",
        "X_test_ae_orig = np.ones((len(test_dataset_orig), num_hidden_2))\n",
        "# y_test_ae = y_test_seq\n",
        "y_test_ae_orig = np.ones((len(test_dataset_orig),num_hidden_2))\n",
        "\n",
        "start_idx = 0\n",
        "for idx, (sequences, labels) in enumerate(train_loader_orig):\n",
        "    sequences = sequences.to(device)\n",
        "    encoded = model.encoder(sequences.view(sequences.size(0), -1))\n",
        "    # decoded = model.encoder(sequences.view(sequences.size(0), -1))\n",
        "\n",
        "    batch_size = encoded.shape[0]\n",
        "    # batch_size = decoded.shape[0]\n",
        "    # X_train_ae[start_idx:start_idx+batch_size] = decoded.cpu().detach().numpy() #using decoder\n",
        "    # y_train_ae[start_idx:start_idx+batch_size] = decoded.cpu().detach().numpy() #using decoder #labels.cpu().detach().numpy()\n",
        "    X_train_ae_orig[start_idx:start_idx+batch_size] = encoded.cpu().detach().numpy() #using encoder\n",
        "    y_train_ae_orig[start_idx:start_idx+batch_size] = encoded.cpu().detach().numpy() #using encoder #labels.cpu().detach().numpy()\n",
        "    start_idx += batch_size\n",
        "\n",
        "start_idx = 0\n",
        "for idx, (sequences, labels) in enumerate(test_loader_orig):\n",
        "    sequences = sequences.to(device)\n",
        "    # encoded = model.encoder(sequences.view(sequences.size(0), -1))\n",
        "    decoded = model.encoder(sequences.view(sequences.size(0), -1))\n",
        "    # batch_size = encoded.shape[0]\n",
        "    batch_size = decoded.shape[0]\n",
        "    X_test_ae_orig[start_idx:start_idx + batch_size] = decoded.cpu().detach().numpy() #using encoder\n",
        "    y_test_ae_orig[start_idx:start_idx+batch_size] = decoded.cpu().detach().numpy() #using encoder #labels.cpu().detach().numpy()\n",
        "    # X_test_ae[start_idx:start_idx+batch_size] = decoded.cpu().detach().numpy() #using decoder\n",
        "    # y_test_ae[start_idx:start_idx+batch_size] = decoded.cpu().detach().numpy() #using decoder #labels.cpu().detach().numpy()\n",
        "\n",
        "    start_idx += batch_size\n",
        "\n",
        "    ### USE X_TEST_AE_ORIG IN THE RF"
      ],
      "metadata": {
        "id": "cy63G8DBqNeg"
      },
      "execution_count": null,
      "outputs": []
    },
    {
      "cell_type": "code",
      "source": [
        "print(f\"The X_train_ae_seq shape is:  {X_train_ae_seq.shape}\")\n",
        "print(f\"The y_train_ae_seq shape is:  {X_train_ae_seq.shape}\")\n",
        "\n",
        "print(f\"The X_test_ae_seq shape is:  {X_test_ae_seq.shape}\\n\")\n",
        "print(f\"The Y_test_ae_seq shape is:  {X_test_ae_seq.shape}\\n\")\n",
        "\n",
        "print(f\"The X_train_seq_GT1 shape is:  {X_train_seq_GT1.shape}\")\n",
        "print(f\"The y_train_seq_GT1 shape is:  {y_train_seq_GT1.shape}\\n\")\n",
        "print(f\"The X_test_seq_GT1 shape is:  {X_test_seq_GT1.shape}\")\n",
        "print(f\"The y_test_seq_GT1 shape is:  {y_test_seq_GT1.shape}\\n\")\n",
        "\n",
        "print(f\"The y_train_seq shape is:  {y_train_seq.shape}\\n\")\n",
        "\n",
        "print(f\"The y_train_original_rf shape is: {y_train_original_rf.shape}\")\n",
        "print(f\"The y_test_original_rf shape is: {y_test_original_rf.shape}\")\n",
        "# the number of rows are different from the autoencoders and the original ones to be used in the RF"
      ],
      "metadata": {
        "colab": {
          "base_uri": "https://localhost:8080/"
        },
        "id": "Tf85pkSBGqMl",
        "outputId": "a01a5581-82ce-414d-cf45-e4680ec56e24"
      },
      "execution_count": null,
      "outputs": [
        {
          "output_type": "stream",
          "name": "stdout",
          "text": [
            "The X_train_ae_seq shape is:  (108777, 50)\n",
            "The y_train_ae_seq shape is:  (108777, 50)\n",
            "The X_test_ae_seq shape is:  (36260, 50)\n",
            "\n",
            "The Y_test_ae_seq shape is:  (36260, 50)\n",
            "\n",
            "The X_train_seq_GT1 shape is:  (108777, 1)\n",
            "The y_train_seq_GT1 shape is:  (108777, 1)\n",
            "\n",
            "The X_test_seq_GT1 shape is:  (36260, 1)\n",
            "The y_test_seq_GT1 shape is:  (36260, 1)\n",
            "\n",
            "The y_train_seq shape is:  (108777, 9)\n",
            "\n",
            "The y_train_original_rf shape is: (79689,)\n",
            "The y_test_original_rf shape is: (26563,)\n"
          ]
        }
      ]
    },
    {
      "cell_type": "code",
      "source": [
        "print(X_train_ae_orig2.shape)\n",
        "print(y_train_ae_orig2.shape)\n",
        "print(X_test_ae_orig2.shape)\n",
        "print(y_test_ae_orig2.shape)\n",
        "\n"
      ],
      "metadata": {
        "id": "t2IJuV4kyFhD",
        "outputId": "961e05c3-f9c3-4eaa-c828-597e5eb992f2",
        "colab": {
          "base_uri": "https://localhost:8080/"
        }
      },
      "execution_count": null,
      "outputs": [
        {
          "output_type": "stream",
          "name": "stdout",
          "text": [
            "(79689, 50)\n",
            "(79689, 50)\n",
            "(26563, 50)\n",
            "(26563, 50)\n"
          ]
        }
      ]
    },
    {
      "cell_type": "code",
      "source": [
        "print(X_test_ae_orig.shape)\n",
        "print(y_test_original_rf.shape)"
      ],
      "metadata": {
        "colab": {
          "base_uri": "https://localhost:8080/"
        },
        "id": "vzPDGbNyq5bw",
        "outputId": "2f234c30-a876-487e-88a5-c69ddbfa2ad9"
      },
      "execution_count": null,
      "outputs": [
        {
          "output_type": "stream",
          "name": "stdout",
          "text": [
            "(36260, 50)\n",
            "(26563,)\n"
          ]
        }
      ]
    },
    {
      "cell_type": "code",
      "source": [
        "# Random Forest Classifier - USING X FROM ENCODER AND ORIGINAL Y - LABELS FOR TRAINING AND TEST\n",
        "rf = RandomForestClassifier(n_estimators=50, n_jobs=-1)\n",
        "rf.fit(X_train_ae_seq, y_train_seq_GT1) #train_y.values.ravel()) #source: https://stackoverflow.com/questions/34165731/a-column-vector-y-was-passed-when-a-1d-array-was-expected\n",
        "\n",
        "print(f'Train Accuracy: {rf.score(X_train_ae_seq, y_train_seq_GT1) * 100:.2f}%')\n",
        "print(f'Test Accuracy: {rf.score(X_test_ae_orig2, y_test_original_rf) * 100:.2f}%')"
      ],
      "metadata": {
        "colab": {
          "base_uri": "https://localhost:8080/"
        },
        "id": "lvDjr4fGpD-R",
        "outputId": "75a53768-1bf0-4eff-a6f4-0a0382e12a3d"
      },
      "execution_count": null,
      "outputs": [
        {
          "output_type": "stream",
          "name": "stderr",
          "text": [
            "/usr/local/lib/python3.10/dist-packages/sklearn/base.py:1473: DataConversionWarning: A column-vector y was passed when a 1d array was expected. Please change the shape of y to (n_samples,), for example using ravel().\n",
            "  return fit_method(estimator, *args, **kwargs)\n"
          ]
        },
        {
          "output_type": "stream",
          "name": "stdout",
          "text": [
            "Train Accuracy: 99.84%\n",
            "Test Accuracy: 55.01%\n"
          ]
        }
      ]
    },
    {
      "cell_type": "markdown",
      "source": [
        "## Using original GT1 column for Y train and test dropping last rows to match autoencoder size:"
      ],
      "metadata": {
        "id": "rF4-Jr4-iI-I"
      }
    },
    {
      "cell_type": "code",
      "source": [
        "# drop last 460 rows of y_train_original_rf is (79689,) and y_train_original_rf is (79689,)\n",
        "# to match the number of rows of X_train_ae\n",
        "\n",
        "y_train_original_rf_drop_last_rows = y_train_original_rf[:-460]\n",
        "y_test_original_rf_drop_last_rows = y_test_original_rf[:-460]"
      ],
      "metadata": {
        "id": "5iomzIq3S5bb"
      },
      "execution_count": null,
      "outputs": []
    },
    {
      "cell_type": "code",
      "source": [
        "print(f\"The X_train_ae shape is:  {X_train_ae.shape}\")\n",
        "print(f\"The X_test_ae shape is:  {X_test_ae.shape}\\n\")\n",
        "\n",
        "print(f\"The y_train_ae shape is:  {y_train_ae.shape}\")\n",
        "print(f\"The y_test_ae shape is:  {y_test_ae.shape}\\n\")\n",
        "\n",
        "print(f\"The train_original_rf_drop_last_rows shape is:  {y_train_original_rf_drop_last_rows.shape}\")\n",
        "print(f\"The test_original_rf_drop_last_rows shape is:  {y_test_original_rf_drop_last_rows.shape}\")"
      ],
      "metadata": {
        "colab": {
          "base_uri": "https://localhost:8080/"
        },
        "id": "62MPPhOaT3VL",
        "outputId": "b9192b29-28ad-4bcd-fac5-d903a35121c6"
      },
      "execution_count": null,
      "outputs": [
        {
          "output_type": "stream",
          "name": "stdout",
          "text": [
            "The X_train_ae shape is:  (79229, 50)\n",
            "The X_test_ae shape is:  (26103, 50)\n",
            "\n",
            "The y_train_ae shape is:  (79229, 50)\n",
            "The y_test_ae shape is:  (26103, 50)\n",
            "\n",
            "The train_original_rf_drop_last_rows shape is:  (79229,)\n",
            "The test_original_rf_drop_last_rows shape is:  (26103,)\n"
          ]
        }
      ]
    },
    {
      "cell_type": "code",
      "source": [
        "# Random Forest Classifier - USING ENCODER AND ORIGINAL X TEST AND Y TEST\n",
        "rf = RandomForestClassifier(n_estimators=50, n_jobs=-1)\n",
        "rf.fit(X_train_ae, y_train_original_rf_drop_last_rows)\n",
        "\n",
        "print(f'Train Accuracy: {rf.score(X_train_ae, y_train_original_rf_drop_last_rows) * 100:.2f}%')\n",
        "print(f'Test Accuracy: {rf.score(X_test_ae, y_train_original_rf_drop_last_rows) * 100:.2f}%')\n"
      ],
      "metadata": {
        "colab": {
          "base_uri": "https://localhost:8080/"
        },
        "id": "TfYh-fYmnVLY",
        "outputId": "0c763fe8-b64e-489a-dd9f-a0cf00a82883"
      },
      "execution_count": null,
      "outputs": [
        {
          "output_type": "stream",
          "name": "stdout",
          "text": [
            "Train Accuracy: 54.33%\n"
          ]
        },
        {
          "output_type": "stream",
          "name": "stderr",
          "text": [
            "/usr/local/lib/python3.10/dist-packages/sklearn/base.py:486: UserWarning: X has feature names, but RandomForestClassifier was fitted without feature names\n",
            "  warnings.warn(\n"
          ]
        },
        {
          "output_type": "error",
          "ename": "ValueError",
          "evalue": "X has 8 features, but RandomForestClassifier is expecting 50 features as input.",
          "traceback": [
            "\u001b[0;31m---------------------------------------------------------------------------\u001b[0m",
            "\u001b[0;31mValueError\u001b[0m                                Traceback (most recent call last)",
            "\u001b[0;32m<ipython-input-34-615d3cdc7a6f>\u001b[0m in \u001b[0;36m<cell line: 6>\u001b[0;34m()\u001b[0m\n\u001b[1;32m      4\u001b[0m \u001b[0;34m\u001b[0m\u001b[0m\n\u001b[1;32m      5\u001b[0m \u001b[0mprint\u001b[0m\u001b[0;34m(\u001b[0m\u001b[0;34mf'Train Accuracy: {rf.score(X_train_ae, y_train_original_rf_drop_last_rows) * 100:.2f}%'\u001b[0m\u001b[0;34m)\u001b[0m\u001b[0;34m\u001b[0m\u001b[0;34m\u001b[0m\u001b[0m\n\u001b[0;32m----> 6\u001b[0;31m \u001b[0mprint\u001b[0m\u001b[0;34m(\u001b[0m\u001b[0;34mf'Test Accuracy: {rf.score(X_test_original_rf, y_test_original_rf) * 100:.2f}%'\u001b[0m\u001b[0;34m)\u001b[0m\u001b[0;34m\u001b[0m\u001b[0;34m\u001b[0m\u001b[0m\n\u001b[0m",
            "\u001b[0;32m/usr/local/lib/python3.10/dist-packages/sklearn/base.py\u001b[0m in \u001b[0;36mscore\u001b[0;34m(self, X, y, sample_weight)\u001b[0m\n\u001b[1;32m    762\u001b[0m         \u001b[0;32mfrom\u001b[0m \u001b[0;34m.\u001b[0m\u001b[0mmetrics\u001b[0m \u001b[0;32mimport\u001b[0m \u001b[0maccuracy_score\u001b[0m\u001b[0;34m\u001b[0m\u001b[0;34m\u001b[0m\u001b[0m\n\u001b[1;32m    763\u001b[0m \u001b[0;34m\u001b[0m\u001b[0m\n\u001b[0;32m--> 764\u001b[0;31m         \u001b[0;32mreturn\u001b[0m \u001b[0maccuracy_score\u001b[0m\u001b[0;34m(\u001b[0m\u001b[0my\u001b[0m\u001b[0;34m,\u001b[0m \u001b[0mself\u001b[0m\u001b[0;34m.\u001b[0m\u001b[0mpredict\u001b[0m\u001b[0;34m(\u001b[0m\u001b[0mX\u001b[0m\u001b[0;34m)\u001b[0m\u001b[0;34m,\u001b[0m \u001b[0msample_weight\u001b[0m\u001b[0;34m=\u001b[0m\u001b[0msample_weight\u001b[0m\u001b[0;34m)\u001b[0m\u001b[0;34m\u001b[0m\u001b[0;34m\u001b[0m\u001b[0m\n\u001b[0m\u001b[1;32m    765\u001b[0m \u001b[0;34m\u001b[0m\u001b[0m\n\u001b[1;32m    766\u001b[0m     \u001b[0;32mdef\u001b[0m \u001b[0m_more_tags\u001b[0m\u001b[0;34m(\u001b[0m\u001b[0mself\u001b[0m\u001b[0;34m)\u001b[0m\u001b[0;34m:\u001b[0m\u001b[0;34m\u001b[0m\u001b[0;34m\u001b[0m\u001b[0m\n",
            "\u001b[0;32m/usr/local/lib/python3.10/dist-packages/sklearn/ensemble/_forest.py\u001b[0m in \u001b[0;36mpredict\u001b[0;34m(self, X)\u001b[0m\n\u001b[1;32m    902\u001b[0m             \u001b[0mThe\u001b[0m \u001b[0mpredicted\u001b[0m \u001b[0mclasses\u001b[0m\u001b[0;34m.\u001b[0m\u001b[0;34m\u001b[0m\u001b[0;34m\u001b[0m\u001b[0m\n\u001b[1;32m    903\u001b[0m         \"\"\"\n\u001b[0;32m--> 904\u001b[0;31m         \u001b[0mproba\u001b[0m \u001b[0;34m=\u001b[0m \u001b[0mself\u001b[0m\u001b[0;34m.\u001b[0m\u001b[0mpredict_proba\u001b[0m\u001b[0;34m(\u001b[0m\u001b[0mX\u001b[0m\u001b[0;34m)\u001b[0m\u001b[0;34m\u001b[0m\u001b[0;34m\u001b[0m\u001b[0m\n\u001b[0m\u001b[1;32m    905\u001b[0m \u001b[0;34m\u001b[0m\u001b[0m\n\u001b[1;32m    906\u001b[0m         \u001b[0;32mif\u001b[0m \u001b[0mself\u001b[0m\u001b[0;34m.\u001b[0m\u001b[0mn_outputs_\u001b[0m \u001b[0;34m==\u001b[0m \u001b[0;36m1\u001b[0m\u001b[0;34m:\u001b[0m\u001b[0;34m\u001b[0m\u001b[0;34m\u001b[0m\u001b[0m\n",
            "\u001b[0;32m/usr/local/lib/python3.10/dist-packages/sklearn/ensemble/_forest.py\u001b[0m in \u001b[0;36mpredict_proba\u001b[0;34m(self, X)\u001b[0m\n\u001b[1;32m    944\u001b[0m         \u001b[0mcheck_is_fitted\u001b[0m\u001b[0;34m(\u001b[0m\u001b[0mself\u001b[0m\u001b[0;34m)\u001b[0m\u001b[0;34m\u001b[0m\u001b[0;34m\u001b[0m\u001b[0m\n\u001b[1;32m    945\u001b[0m         \u001b[0;31m# Check data\u001b[0m\u001b[0;34m\u001b[0m\u001b[0;34m\u001b[0m\u001b[0m\n\u001b[0;32m--> 946\u001b[0;31m         \u001b[0mX\u001b[0m \u001b[0;34m=\u001b[0m \u001b[0mself\u001b[0m\u001b[0;34m.\u001b[0m\u001b[0m_validate_X_predict\u001b[0m\u001b[0;34m(\u001b[0m\u001b[0mX\u001b[0m\u001b[0;34m)\u001b[0m\u001b[0;34m\u001b[0m\u001b[0;34m\u001b[0m\u001b[0m\n\u001b[0m\u001b[1;32m    947\u001b[0m \u001b[0;34m\u001b[0m\u001b[0m\n\u001b[1;32m    948\u001b[0m         \u001b[0;31m# Assign chunk of trees to jobs\u001b[0m\u001b[0;34m\u001b[0m\u001b[0;34m\u001b[0m\u001b[0m\n",
            "\u001b[0;32m/usr/local/lib/python3.10/dist-packages/sklearn/ensemble/_forest.py\u001b[0m in \u001b[0;36m_validate_X_predict\u001b[0;34m(self, X)\u001b[0m\n\u001b[1;32m    639\u001b[0m             \u001b[0mforce_all_finite\u001b[0m \u001b[0;34m=\u001b[0m \u001b[0;32mTrue\u001b[0m\u001b[0;34m\u001b[0m\u001b[0;34m\u001b[0m\u001b[0m\n\u001b[1;32m    640\u001b[0m \u001b[0;34m\u001b[0m\u001b[0m\n\u001b[0;32m--> 641\u001b[0;31m         X = self._validate_data(\n\u001b[0m\u001b[1;32m    642\u001b[0m             \u001b[0mX\u001b[0m\u001b[0;34m,\u001b[0m\u001b[0;34m\u001b[0m\u001b[0;34m\u001b[0m\u001b[0m\n\u001b[1;32m    643\u001b[0m             \u001b[0mdtype\u001b[0m\u001b[0;34m=\u001b[0m\u001b[0mDTYPE\u001b[0m\u001b[0;34m,\u001b[0m\u001b[0;34m\u001b[0m\u001b[0;34m\u001b[0m\u001b[0m\n",
            "\u001b[0;32m/usr/local/lib/python3.10/dist-packages/sklearn/base.py\u001b[0m in \u001b[0;36m_validate_data\u001b[0;34m(self, X, y, reset, validate_separately, cast_to_ndarray, **check_params)\u001b[0m\n\u001b[1;32m    652\u001b[0m \u001b[0;34m\u001b[0m\u001b[0m\n\u001b[1;32m    653\u001b[0m         \u001b[0;32mif\u001b[0m \u001b[0;32mnot\u001b[0m \u001b[0mno_val_X\u001b[0m \u001b[0;32mand\u001b[0m \u001b[0mcheck_params\u001b[0m\u001b[0;34m.\u001b[0m\u001b[0mget\u001b[0m\u001b[0;34m(\u001b[0m\u001b[0;34m\"ensure_2d\"\u001b[0m\u001b[0;34m,\u001b[0m \u001b[0;32mTrue\u001b[0m\u001b[0;34m)\u001b[0m\u001b[0;34m:\u001b[0m\u001b[0;34m\u001b[0m\u001b[0;34m\u001b[0m\u001b[0m\n\u001b[0;32m--> 654\u001b[0;31m             \u001b[0mself\u001b[0m\u001b[0;34m.\u001b[0m\u001b[0m_check_n_features\u001b[0m\u001b[0;34m(\u001b[0m\u001b[0mX\u001b[0m\u001b[0;34m,\u001b[0m \u001b[0mreset\u001b[0m\u001b[0;34m=\u001b[0m\u001b[0mreset\u001b[0m\u001b[0;34m)\u001b[0m\u001b[0;34m\u001b[0m\u001b[0;34m\u001b[0m\u001b[0m\n\u001b[0m\u001b[1;32m    655\u001b[0m \u001b[0;34m\u001b[0m\u001b[0m\n\u001b[1;32m    656\u001b[0m         \u001b[0;32mreturn\u001b[0m \u001b[0mout\u001b[0m\u001b[0;34m\u001b[0m\u001b[0;34m\u001b[0m\u001b[0m\n",
            "\u001b[0;32m/usr/local/lib/python3.10/dist-packages/sklearn/base.py\u001b[0m in \u001b[0;36m_check_n_features\u001b[0;34m(self, X, reset)\u001b[0m\n\u001b[1;32m    441\u001b[0m \u001b[0;34m\u001b[0m\u001b[0m\n\u001b[1;32m    442\u001b[0m         \u001b[0;32mif\u001b[0m \u001b[0mn_features\u001b[0m \u001b[0;34m!=\u001b[0m \u001b[0mself\u001b[0m\u001b[0;34m.\u001b[0m\u001b[0mn_features_in_\u001b[0m\u001b[0;34m:\u001b[0m\u001b[0;34m\u001b[0m\u001b[0;34m\u001b[0m\u001b[0m\n\u001b[0;32m--> 443\u001b[0;31m             raise ValueError(\n\u001b[0m\u001b[1;32m    444\u001b[0m                 \u001b[0;34mf\"X has {n_features} features, but {self.__class__.__name__} \"\u001b[0m\u001b[0;34m\u001b[0m\u001b[0;34m\u001b[0m\u001b[0m\n\u001b[1;32m    445\u001b[0m                 \u001b[0;34mf\"is expecting {self.n_features_in_} features as input.\"\u001b[0m\u001b[0;34m\u001b[0m\u001b[0;34m\u001b[0m\u001b[0m\n",
            "\u001b[0;31mValueError\u001b[0m: X has 8 features, but RandomForestClassifier is expecting 50 features as input."
          ]
        }
      ]
    },
    {
      "cell_type": "markdown",
      "source": [
        "## Creating sequences\n",
        "## Use y_train_seq_rf, X_test_seq_rf and y_test_seq_rf in the RF model with X_train_ae"
      ],
      "metadata": {
        "id": "bw4pChFocaVJ"
      }
    },
    {
      "cell_type": "code",
      "source": [
        "# Function to create sequences\n",
        "def create_sequences_rf(data, sequence_length):\n",
        "    sequences = []\n",
        "    labels_GT1 = []\n",
        "    for i in range(len(data) - sequence_length):\n",
        "        seq = data.iloc[i:i+sequence_length, :].values  #\n",
        "        label_GT1 = data.iloc[i:i+sequence_length]['GT1'].values  # Select only GT1 column\n",
        "        sequences.append(seq)\n",
        "        labels_GT1.append(label_GT1)\n",
        "    return np.array(sequences), np.array(labels_GT1)\n",
        "\n",
        "\n",
        "# Generate sequences for training and testing\n",
        "X_train_seq_rf, y_train_seq_rf = create_sequences_rf(et_train_original_rf, sequence_length)\n",
        "X_test_seq_rf, y_test_seq_rf = create_sequences_rf(et_test_original_rf, sequence_length)"
      ],
      "metadata": {
        "id": "LBHeC-I79rby"
      },
      "execution_count": null,
      "outputs": []
    },
    {
      "cell_type": "code",
      "source": [
        "print(f\"The X_train_seq_rf shape is:  {X_train_seq_rf.shape}\")\n",
        "print(f\"The y_train_seq_rf shape is:  {y_train_seq_rf.shape}\\n\")\n",
        "\n",
        "print(f\"The X_test_seq_rf shape is:  {X_test_seq_rf.shape}\")\n",
        "print(f\"The y_test_seq_rf shape is:  {y_test_seq_rf.shape}\\n\")"
      ],
      "metadata": {
        "id": "89So1RTDFTFg"
      },
      "execution_count": null,
      "outputs": []
    },
    {
      "cell_type": "code",
      "source": [
        "print(f\"The X_train_ae shape is:  {X_train_ae.shape}\")\n",
        "print(f\"The X_test_ae shape is:  {X_test_ae.shape}\\n\")\n",
        "\n",
        "print(f\"The y_train_ae shape is:  {y_train_ae.shape}\")\n",
        "print(f\"The y_test_ae shape is:  {y_test_ae.shape}\\n\")\n",
        "\n"
      ],
      "metadata": {
        "colab": {
          "base_uri": "https://localhost:8080/"
        },
        "id": "ZvC9PtfJ_iAa",
        "outputId": "9f609f41-6202-4582-a5c3-3954206fcbd4"
      },
      "execution_count": null,
      "outputs": [
        {
          "output_type": "stream",
          "name": "stdout",
          "text": [
            "The X_train_ae shape is:  (79229, 50)\n",
            "The X_test_ae shape is:  (26103, 50)\n",
            "\n",
            "The y_train_ae shape is:  (79229, 50)\n",
            "The y_test_ae shape is:  (26103, 50)\n",
            "\n",
            "The X_test_seq_rf shape is:  (26103, 460, 9)\n",
            "The y_test_seq_rf shape is:  (26103, 460)\n",
            "\n"
          ]
        }
      ]
    },
    {
      "cell_type": "code",
      "source": [
        "# Random Forest Classifier - USING ENCODER AND X_TRAIN_AE and y_train_seq_rf, X_test_seq_rf and y_train_seq_rf. Labels GT1 in train and test with sequences\n",
        "rf = RandomForestClassifier(n_estimators=50, n_jobs=-1)\n",
        "rf.fit(X_train_ae, y_train_ae)\n",
        "\n",
        "print(f'Train Accuracy: {rf.score(X_train_ae, y_train_ae) * 100:.2f}%')\n",
        "print(f'Test Accuracy: {rf.score(X_test_ae, y_test_ae) * 100:.2f}%')"
      ],
      "metadata": {
        "colab": {
          "base_uri": "https://localhost:8080/",
          "height": 390
        },
        "id": "qbN9pbOFmYxc",
        "outputId": "1919379f-2685-4d96-807c-f6a6f0c769dd"
      },
      "execution_count": null,
      "outputs": [
        {
          "output_type": "error",
          "ename": "ValueError",
          "evalue": "Unknown label type: continuous-multioutput. Maybe you are trying to fit a classifier, which expects discrete classes on a regression target with continuous values.",
          "traceback": [
            "\u001b[0;31m---------------------------------------------------------------------------\u001b[0m",
            "\u001b[0;31mValueError\u001b[0m                                Traceback (most recent call last)",
            "\u001b[0;32m<ipython-input-24-3fdd7a0d5001>\u001b[0m in \u001b[0;36m<cell line: 3>\u001b[0;34m()\u001b[0m\n\u001b[1;32m      1\u001b[0m \u001b[0;31m# Random Forest Classifier - USING ENCODER AND X_TRAIN ARRAY\u001b[0m\u001b[0;34m\u001b[0m\u001b[0;34m\u001b[0m\u001b[0m\n\u001b[1;32m      2\u001b[0m \u001b[0mrf\u001b[0m \u001b[0;34m=\u001b[0m \u001b[0mRandomForestClassifier\u001b[0m\u001b[0;34m(\u001b[0m\u001b[0mn_estimators\u001b[0m\u001b[0;34m=\u001b[0m\u001b[0;36m50\u001b[0m\u001b[0;34m,\u001b[0m \u001b[0mn_jobs\u001b[0m\u001b[0;34m=\u001b[0m\u001b[0;34m-\u001b[0m\u001b[0;36m1\u001b[0m\u001b[0;34m)\u001b[0m\u001b[0;34m\u001b[0m\u001b[0;34m\u001b[0m\u001b[0m\n\u001b[0;32m----> 3\u001b[0;31m \u001b[0mrf\u001b[0m\u001b[0;34m.\u001b[0m\u001b[0mfit\u001b[0m\u001b[0;34m(\u001b[0m\u001b[0mX_train_ae\u001b[0m\u001b[0;34m,\u001b[0m \u001b[0my_train_ae\u001b[0m\u001b[0;34m)\u001b[0m\u001b[0;34m\u001b[0m\u001b[0;34m\u001b[0m\u001b[0m\n\u001b[0m\u001b[1;32m      4\u001b[0m \u001b[0;34m\u001b[0m\u001b[0m\n\u001b[1;32m      5\u001b[0m \u001b[0mprint\u001b[0m\u001b[0;34m(\u001b[0m\u001b[0;34mf'Train Accuracy: {rf.score(X_train_ae, y_train_ae) * 100:.2f}%'\u001b[0m\u001b[0;34m)\u001b[0m\u001b[0;34m\u001b[0m\u001b[0;34m\u001b[0m\u001b[0m\n",
            "\u001b[0;32m/usr/local/lib/python3.10/dist-packages/sklearn/base.py\u001b[0m in \u001b[0;36mwrapper\u001b[0;34m(estimator, *args, **kwargs)\u001b[0m\n\u001b[1;32m   1471\u001b[0m                 )\n\u001b[1;32m   1472\u001b[0m             ):\n\u001b[0;32m-> 1473\u001b[0;31m                 \u001b[0;32mreturn\u001b[0m \u001b[0mfit_method\u001b[0m\u001b[0;34m(\u001b[0m\u001b[0mestimator\u001b[0m\u001b[0;34m,\u001b[0m \u001b[0;34m*\u001b[0m\u001b[0margs\u001b[0m\u001b[0;34m,\u001b[0m \u001b[0;34m**\u001b[0m\u001b[0mkwargs\u001b[0m\u001b[0;34m)\u001b[0m\u001b[0;34m\u001b[0m\u001b[0;34m\u001b[0m\u001b[0m\n\u001b[0m\u001b[1;32m   1474\u001b[0m \u001b[0;34m\u001b[0m\u001b[0m\n\u001b[1;32m   1475\u001b[0m         \u001b[0;32mreturn\u001b[0m \u001b[0mwrapper\u001b[0m\u001b[0;34m\u001b[0m\u001b[0;34m\u001b[0m\u001b[0m\n",
            "\u001b[0;32m/usr/local/lib/python3.10/dist-packages/sklearn/ensemble/_forest.py\u001b[0m in \u001b[0;36mfit\u001b[0;34m(self, X, y, sample_weight)\u001b[0m\n\u001b[1;32m    419\u001b[0m         \u001b[0mself\u001b[0m\u001b[0;34m.\u001b[0m\u001b[0m_n_samples\u001b[0m\u001b[0;34m,\u001b[0m \u001b[0mself\u001b[0m\u001b[0;34m.\u001b[0m\u001b[0mn_outputs_\u001b[0m \u001b[0;34m=\u001b[0m \u001b[0my\u001b[0m\u001b[0;34m.\u001b[0m\u001b[0mshape\u001b[0m\u001b[0;34m\u001b[0m\u001b[0;34m\u001b[0m\u001b[0m\n\u001b[1;32m    420\u001b[0m \u001b[0;34m\u001b[0m\u001b[0m\n\u001b[0;32m--> 421\u001b[0;31m         \u001b[0my\u001b[0m\u001b[0;34m,\u001b[0m \u001b[0mexpanded_class_weight\u001b[0m \u001b[0;34m=\u001b[0m \u001b[0mself\u001b[0m\u001b[0;34m.\u001b[0m\u001b[0m_validate_y_class_weight\u001b[0m\u001b[0;34m(\u001b[0m\u001b[0my\u001b[0m\u001b[0;34m)\u001b[0m\u001b[0;34m\u001b[0m\u001b[0;34m\u001b[0m\u001b[0m\n\u001b[0m\u001b[1;32m    422\u001b[0m \u001b[0;34m\u001b[0m\u001b[0m\n\u001b[1;32m    423\u001b[0m         \u001b[0;32mif\u001b[0m \u001b[0mgetattr\u001b[0m\u001b[0;34m(\u001b[0m\u001b[0my\u001b[0m\u001b[0;34m,\u001b[0m \u001b[0;34m\"dtype\"\u001b[0m\u001b[0;34m,\u001b[0m \u001b[0;32mNone\u001b[0m\u001b[0;34m)\u001b[0m \u001b[0;34m!=\u001b[0m \u001b[0mDOUBLE\u001b[0m \u001b[0;32mor\u001b[0m \u001b[0;32mnot\u001b[0m \u001b[0my\u001b[0m\u001b[0;34m.\u001b[0m\u001b[0mflags\u001b[0m\u001b[0;34m.\u001b[0m\u001b[0mcontiguous\u001b[0m\u001b[0;34m:\u001b[0m\u001b[0;34m\u001b[0m\u001b[0;34m\u001b[0m\u001b[0m\n",
            "\u001b[0;32m/usr/local/lib/python3.10/dist-packages/sklearn/ensemble/_forest.py\u001b[0m in \u001b[0;36m_validate_y_class_weight\u001b[0;34m(self, y)\u001b[0m\n\u001b[1;32m    829\u001b[0m \u001b[0;34m\u001b[0m\u001b[0m\n\u001b[1;32m    830\u001b[0m     \u001b[0;32mdef\u001b[0m \u001b[0m_validate_y_class_weight\u001b[0m\u001b[0;34m(\u001b[0m\u001b[0mself\u001b[0m\u001b[0;34m,\u001b[0m \u001b[0my\u001b[0m\u001b[0;34m)\u001b[0m\u001b[0;34m:\u001b[0m\u001b[0;34m\u001b[0m\u001b[0;34m\u001b[0m\u001b[0m\n\u001b[0;32m--> 831\u001b[0;31m         \u001b[0mcheck_classification_targets\u001b[0m\u001b[0;34m(\u001b[0m\u001b[0my\u001b[0m\u001b[0;34m)\u001b[0m\u001b[0;34m\u001b[0m\u001b[0;34m\u001b[0m\u001b[0m\n\u001b[0m\u001b[1;32m    832\u001b[0m \u001b[0;34m\u001b[0m\u001b[0m\n\u001b[1;32m    833\u001b[0m         \u001b[0my\u001b[0m \u001b[0;34m=\u001b[0m \u001b[0mnp\u001b[0m\u001b[0;34m.\u001b[0m\u001b[0mcopy\u001b[0m\u001b[0;34m(\u001b[0m\u001b[0my\u001b[0m\u001b[0;34m)\u001b[0m\u001b[0;34m\u001b[0m\u001b[0;34m\u001b[0m\u001b[0m\n",
            "\u001b[0;32m/usr/local/lib/python3.10/dist-packages/sklearn/utils/multiclass.py\u001b[0m in \u001b[0;36mcheck_classification_targets\u001b[0;34m(y)\u001b[0m\n\u001b[1;32m    217\u001b[0m         \u001b[0;34m\"multilabel-sequences\"\u001b[0m\u001b[0;34m,\u001b[0m\u001b[0;34m\u001b[0m\u001b[0;34m\u001b[0m\u001b[0m\n\u001b[1;32m    218\u001b[0m     ]:\n\u001b[0;32m--> 219\u001b[0;31m         raise ValueError(\n\u001b[0m\u001b[1;32m    220\u001b[0m             \u001b[0;34mf\"Unknown label type: {y_type}. Maybe you are trying to fit a \"\u001b[0m\u001b[0;34m\u001b[0m\u001b[0;34m\u001b[0m\u001b[0m\n\u001b[1;32m    221\u001b[0m             \u001b[0;34m\"classifier, which expects discrete classes on a \"\u001b[0m\u001b[0;34m\u001b[0m\u001b[0;34m\u001b[0m\u001b[0m\n",
            "\u001b[0;31mValueError\u001b[0m: Unknown label type: continuous-multioutput. Maybe you are trying to fit a classifier, which expects discrete classes on a regression target with continuous values."
          ]
        }
      ]
    },
    {
      "cell_type": "code",
      "source": [
        "# Random Forest Classifier - USING ENCODER (X_TRAIN AND X_TEST DF)\n",
        "rf = RandomForestClassifier(n_estimators=50, n_jobs=-1)\n",
        "rf.fit(X_train_ae_df, y_train_seq_rf)\n",
        "\n",
        "print(f'Train Accuracy: {rf.score(X_train_ae_df, y_train_ae_df) * 100:.2f}%')\n",
        "print(f'Test Accuracy: {rf.score(X_test_ae, y_test_original_rf_drop_last_rows) * 100:.2f}%')"
      ],
      "metadata": {
        "colab": {
          "base_uri": "https://localhost:8080/",
          "height": 220
        },
        "id": "BFPUmAulXW9U",
        "outputId": "43dab473-8c50-4baa-9f37-4bfb9ecc2b0a"
      },
      "execution_count": null,
      "outputs": [
        {
          "output_type": "error",
          "ename": "NameError",
          "evalue": "name 'y_train_seq_rf' is not defined",
          "traceback": [
            "\u001b[0;31m---------------------------------------------------------------------------\u001b[0m",
            "\u001b[0;31mNameError\u001b[0m                                 Traceback (most recent call last)",
            "\u001b[0;32m<ipython-input-36-b062fca58561>\u001b[0m in \u001b[0;36m<cell line: 3>\u001b[0;34m()\u001b[0m\n\u001b[1;32m      1\u001b[0m \u001b[0;31m# Random Forest Classifier - USING ENCODER (X_TRAIN AND X_TEST DF)\u001b[0m\u001b[0;34m\u001b[0m\u001b[0;34m\u001b[0m\u001b[0m\n\u001b[1;32m      2\u001b[0m \u001b[0mrf\u001b[0m \u001b[0;34m=\u001b[0m \u001b[0mRandomForestClassifier\u001b[0m\u001b[0;34m(\u001b[0m\u001b[0mn_estimators\u001b[0m\u001b[0;34m=\u001b[0m\u001b[0;36m50\u001b[0m\u001b[0;34m,\u001b[0m \u001b[0mn_jobs\u001b[0m\u001b[0;34m=\u001b[0m\u001b[0;34m-\u001b[0m\u001b[0;36m1\u001b[0m\u001b[0;34m)\u001b[0m\u001b[0;34m\u001b[0m\u001b[0;34m\u001b[0m\u001b[0m\n\u001b[0;32m----> 3\u001b[0;31m \u001b[0mrf\u001b[0m\u001b[0;34m.\u001b[0m\u001b[0mfit\u001b[0m\u001b[0;34m(\u001b[0m\u001b[0mX_train_ae_df\u001b[0m\u001b[0;34m,\u001b[0m \u001b[0my_train_seq_rf\u001b[0m\u001b[0;34m)\u001b[0m\u001b[0;34m\u001b[0m\u001b[0;34m\u001b[0m\u001b[0m\n\u001b[0m\u001b[1;32m      4\u001b[0m \u001b[0;34m\u001b[0m\u001b[0m\n\u001b[1;32m      5\u001b[0m \u001b[0mprint\u001b[0m\u001b[0;34m(\u001b[0m\u001b[0;34mf'Train Accuracy: {rf.score(X_train_ae_df, y_train_ae_df) * 100:.2f}%'\u001b[0m\u001b[0;34m)\u001b[0m\u001b[0;34m\u001b[0m\u001b[0;34m\u001b[0m\u001b[0m\n",
            "\u001b[0;31mNameError\u001b[0m: name 'y_train_seq_rf' is not defined"
          ]
        }
      ]
    },
    {
      "cell_type": "code",
      "source": [
        "# Random Forest Classifier\n",
        "rf = RandomForestClassifier(n_estimators=50, n_jobs=-1)\n",
        "rf.fit(X_train_ae, y_train_original_rf_drop_last_rows)\n",
        "\n",
        "print(f'Train Accuracy: {rf.score(X_train_ae, y_train_original_rf_drop_last_rows) * 100:.2f}%')\n",
        "print(f'Test Accuracy: {rf.score(X_test_ae, y_test_original_rf_drop_last_rows) * 100:.2f}%')\n"
      ],
      "metadata": {
        "colab": {
          "base_uri": "https://localhost:8080/"
        },
        "id": "qzGvo-kYmO2M",
        "outputId": "6c573ef2-c9e9-4e81-b167-fbfd720fc49d"
      },
      "execution_count": null,
      "outputs": [
        {
          "output_type": "stream",
          "name": "stdout",
          "text": [
            "Train Accuracy: 54.33%\n",
            "Test Accuracy: 55.16%\n"
          ]
        }
      ]
    },
    {
      "cell_type": "code",
      "source": [
        "print(\"Training label distribution:\", np.unique(y_train_seq, return_counts=True))\n",
        "print(\"Testing label distribution:\", np.unique(y_test_ae, return_counts=True))\n"
      ],
      "metadata": {
        "colab": {
          "base_uri": "https://localhost:8080/"
        },
        "id": "b5sH_vLr2xSm",
        "outputId": "84ea9ed0-cda6-45bf-f410-1d872e383e54"
      },
      "execution_count": null,
      "outputs": [
        {
          "output_type": "stream",
          "name": "stdout",
          "text": [
            "Training label distribution: (array([0., 1.], dtype=float32), array([16527326, 19348994]))\n",
            "Testing label distribution: (array([0., 1.], dtype=float32), array([5569882, 7006518]))\n"
          ]
        }
      ]
    },
    {
      "cell_type": "code",
      "source": [
        "print(\"X_train_ae shape:\", X_train_ae.shape)\n",
        "print(\"X_test_ae shape:\", X_test_ae.shape)\n",
        "print(\"y_train_ae shape:\", y_train_ae.shape)\n",
        "print(\"y_test_ae shape:\", y_test_ae.shape)\n"
      ],
      "metadata": {
        "colab": {
          "base_uri": "https://localhost:8080/"
        },
        "id": "uGPEMnFk21mG",
        "outputId": "aa79bc45-94f6-45c7-f1db-eadd9b85302d"
      },
      "execution_count": null,
      "outputs": [
        {
          "output_type": "stream",
          "name": "stdout",
          "text": [
            "X_train_ae shape: (77992, 50)\n",
            "X_test_ae shape: (27340, 50)\n",
            "y_train_ae shape: (77992, 460)\n",
            "y_test_ae shape: (27340, 460)\n"
          ]
        }
      ]
    },
    {
      "cell_type": "markdown",
      "source": [
        "## Inserting X_test in the autoencoder without sequence (simulate real data)"
      ],
      "metadata": {
        "id": "ci1AJdpcf_sS"
      }
    },
    {
      "cell_type": "code",
      "source": [
        "X_train_tensor_orig = torch.tensor(X_train_original_rf.values, dtype=torch.float32)\n",
        "y_train_tensor_orig = X_train_tensor_orig.clone()  # Target for the autoencoder is the input itself\n",
        "X_test_tensor_orig = torch.tensor(X_test_original_rf.values, dtype=torch.float32)\n",
        "y_test_tensor_orig = X_test_tensor_orig.clone()  # Target for the autoencoder is the input itself\n",
        "\n",
        "# Create TensorDataset for train and test sets\n",
        "train_dataset_orig = TensorDataset(X_train_tensor_orig, y_train_tensor_orig)\n",
        "test_dataset_orig = TensorDataset(X_test_tensor_orig, y_test_tensor_orig)\n",
        "\n",
        "batch_size = 256\n",
        "train_loader_orig = DataLoader(train_dataset_orig, batch_size=batch_size, shuffle=False, drop_last=True) #timeseries data -  shuffle = False\n",
        "test_loader_orig = DataLoader(test_dataset_orig, batch_size=batch_size, shuffle=False, drop_last=True) #timeseries data - shuffle = False"
      ],
      "metadata": {
        "id": "9AcKQkL8oX6_"
      },
      "execution_count": null,
      "outputs": []
    },
    {
      "cell_type": "code",
      "source": [
        "print(f\"x train original shape: {X_train_original_rf.shape}\")\n",
        "print(f\"y train original shape: {y_train_original_rf.shape}\")\n",
        "print(X_train_tensor_orig.shape)\n",
        "print(y_train_tensor_orig.shape)\n",
        "print(X_test_tensor_orig.shape)\n",
        "print(y_test_tensor_orig.shape)"
      ],
      "metadata": {
        "colab": {
          "base_uri": "https://localhost:8080/"
        },
        "id": "pKYijXy44aey",
        "outputId": "2e70fdc0-244f-47c5-8521-fe21edfae810"
      },
      "execution_count": null,
      "outputs": [
        {
          "output_type": "stream",
          "name": "stdout",
          "text": [
            "x train original shape: (79689, 8)\n",
            "y train original shape: (79689,)\n",
            "torch.Size([79689, 8])\n",
            "torch.Size([79689, 8])\n",
            "torch.Size([26563, 8])\n",
            "torch.Size([26563, 8])\n"
          ]
        }
      ]
    },
    {
      "cell_type": "code",
      "source": [
        "#### USING ENCODER - SO WE CAN INSERT X TEST WITH NO SEQUENCES IN THE RF MODEL\n",
        "\n",
        "# Extract features from the autoencoder for Random Forest\n",
        "X_train_ae_orig2 = np.ones((len(train_dataset_orig), num_hidden_2))\n",
        "# y_train_ae = y_train_seq\n",
        "y_train_ae_orig2 = np.ones((len(train_dataset_orig),num_hidden_2))\n",
        "\n",
        "X_test_ae_orig2 = np.ones((len(test_dataset_orig), num_hidden_2))\n",
        "# y_test_ae = y_test_seq\n",
        "y_test_ae_orig2 = np.ones((len(test_dataset_orig),num_hidden_2))\n",
        "\n",
        "start_idx = 0\n",
        "for idx, (sequences, labels) in enumerate(train_loader_orig):\n",
        "    sequences = sequences.to(device)\n",
        "    encoded = model.encoder(sequences.view(sequences.size(0), -1))\n",
        "    # encoded = model.encoder(sequences.view(sequences.size(0), -1)[:, :model.encoder_layer1.in_features])  #added code\n",
        "    # decoded = model.encoder(sequences.view(sequences.size(0), -1))\n",
        "\n",
        "    batch_size = encoded.shape[0]\n",
        "    # batch_size = decoded.shape[0]\n",
        "    # X_train_ae[start_idx:start_idx+batch_size] = decoded.cpu().detach().numpy() #using decoder\n",
        "    # y_train_ae[start_idx:start_idx+batch_size] = decoded.cpu().detach().numpy() #using decoder #labels.cpu().detach().numpy()\n",
        "    X_train_ae_orig[start_idx:start_idx+batch_size] = encoded.cpu().detach().numpy() #using encoder\n",
        "    y_train_ae_orig[start_idx:start_idx+batch_size] = encoded.cpu().detach().numpy() #using encoder #labels.cpu().detach().numpy()\n",
        "    start_idx += batch_size\n",
        "\n",
        "start_idx = 0\n",
        "for idx, (sequences, labels) in enumerate(test_loader_orig):\n",
        "    sequences = sequences.to(device)\n",
        "    encoded = model.encoder(sequences.view(sequences.size(0), -1))\n",
        "    decoded = model.encoder(sequences.view(sequences.size(0), -1))\n",
        "    decoded = model.encoder(sequences.view(sequences.size(0), -1)[:, :model.encoder_layer1.in_features])  #added code\n",
        "    # batch_size = encoded.shape[0]\n",
        "    batch_size = decoded.shape[0]\n",
        "    X_test_ae_orig[start_idx:start_idx + batch_size] = decoded.cpu().detach().numpy() #using encoder\n",
        "    y_test_ae_orig[start_idx:start_idx+batch_size] = decoded.cpu().detach().numpy() #using encoder #labels.cpu().detach().numpy()\n",
        "    # X_test_ae[start_idx:start_idx+batch_size] = decoded.cpu().detach().numpy() #using decoder\n",
        "    # y_test_ae[start_idx:start_idx+batch_size] = decoded.cpu().detach().numpy() #using decoder #labels.cpu().detach().numpy()\n",
        "\n",
        "    start_idx += batch_size\n",
        "\n",
        "    ### USE X_TEST_AE_ORIG IN THE RF"
      ],
      "metadata": {
        "colab": {
          "base_uri": "https://localhost:8080/",
          "height": 390
        },
        "id": "9teUH_tWnsqo",
        "outputId": "0059e060-5a5d-427f-e242-4ddfa3636d49"
      },
      "execution_count": null,
      "outputs": [
        {
          "output_type": "error",
          "ename": "RuntimeError",
          "evalue": "mat1 and mat2 shapes cannot be multiplied (256x8 and 9x500)",
          "traceback": [
            "\u001b[0;31m---------------------------------------------------------------------------\u001b[0m",
            "\u001b[0;31mRuntimeError\u001b[0m                              Traceback (most recent call last)",
            "\u001b[0;32m<ipython-input-67-ca82a149a518>\u001b[0m in \u001b[0;36m<cell line: 13>\u001b[0;34m()\u001b[0m\n\u001b[1;32m     13\u001b[0m \u001b[0;32mfor\u001b[0m \u001b[0midx\u001b[0m\u001b[0;34m,\u001b[0m \u001b[0;34m(\u001b[0m\u001b[0msequences\u001b[0m\u001b[0;34m,\u001b[0m \u001b[0mlabels\u001b[0m\u001b[0;34m)\u001b[0m \u001b[0;32min\u001b[0m \u001b[0menumerate\u001b[0m\u001b[0;34m(\u001b[0m\u001b[0mtrain_loader_orig\u001b[0m\u001b[0;34m)\u001b[0m\u001b[0;34m:\u001b[0m\u001b[0;34m\u001b[0m\u001b[0;34m\u001b[0m\u001b[0m\n\u001b[1;32m     14\u001b[0m     \u001b[0msequences\u001b[0m \u001b[0;34m=\u001b[0m \u001b[0msequences\u001b[0m\u001b[0;34m.\u001b[0m\u001b[0mto\u001b[0m\u001b[0;34m(\u001b[0m\u001b[0mdevice\u001b[0m\u001b[0;34m)\u001b[0m\u001b[0;34m\u001b[0m\u001b[0;34m\u001b[0m\u001b[0m\n\u001b[0;32m---> 15\u001b[0;31m     \u001b[0mencoded\u001b[0m \u001b[0;34m=\u001b[0m \u001b[0mmodel\u001b[0m\u001b[0;34m.\u001b[0m\u001b[0mencoder\u001b[0m\u001b[0;34m(\u001b[0m\u001b[0msequences\u001b[0m\u001b[0;34m.\u001b[0m\u001b[0mview\u001b[0m\u001b[0;34m(\u001b[0m\u001b[0msequences\u001b[0m\u001b[0;34m.\u001b[0m\u001b[0msize\u001b[0m\u001b[0;34m(\u001b[0m\u001b[0;36m0\u001b[0m\u001b[0;34m)\u001b[0m\u001b[0;34m,\u001b[0m \u001b[0;34m-\u001b[0m\u001b[0;36m1\u001b[0m\u001b[0;34m)\u001b[0m\u001b[0;34m)\u001b[0m\u001b[0;34m\u001b[0m\u001b[0;34m\u001b[0m\u001b[0m\n\u001b[0m\u001b[1;32m     16\u001b[0m     \u001b[0;31m# encoded = model.encoder(sequences.view(sequences.size(0), -1)[:, :model.encoder_layer1.in_features])  #added code\u001b[0m\u001b[0;34m\u001b[0m\u001b[0;34m\u001b[0m\u001b[0m\n\u001b[1;32m     17\u001b[0m     \u001b[0;31m# decoded = model.encoder(sequences.view(sequences.size(0), -1))\u001b[0m\u001b[0;34m\u001b[0m\u001b[0;34m\u001b[0m\u001b[0m\n",
            "\u001b[0;32m<ipython-input-27-d6a305723186>\u001b[0m in \u001b[0;36mencoder\u001b[0;34m(self, x)\u001b[0m\n\u001b[1;32m     27\u001b[0m \u001b[0;34m\u001b[0m\u001b[0m\n\u001b[1;32m     28\u001b[0m     \u001b[0;32mdef\u001b[0m \u001b[0mencoder\u001b[0m\u001b[0;34m(\u001b[0m\u001b[0mself\u001b[0m\u001b[0;34m,\u001b[0m \u001b[0mx\u001b[0m\u001b[0;34m)\u001b[0m\u001b[0;34m:\u001b[0m\u001b[0;34m\u001b[0m\u001b[0;34m\u001b[0m\u001b[0m\n\u001b[0;32m---> 29\u001b[0;31m         \u001b[0mx\u001b[0m \u001b[0;34m=\u001b[0m \u001b[0mF\u001b[0m\u001b[0;34m.\u001b[0m\u001b[0msigmoid\u001b[0m\u001b[0;34m(\u001b[0m\u001b[0mself\u001b[0m\u001b[0;34m.\u001b[0m\u001b[0mencoder_layer1\u001b[0m\u001b[0;34m(\u001b[0m\u001b[0mx\u001b[0m\u001b[0;34m)\u001b[0m\u001b[0;34m)\u001b[0m\u001b[0;34m\u001b[0m\u001b[0;34m\u001b[0m\u001b[0m\n\u001b[0m\u001b[1;32m     30\u001b[0m         \u001b[0mencoded\u001b[0m \u001b[0;34m=\u001b[0m \u001b[0mF\u001b[0m\u001b[0;34m.\u001b[0m\u001b[0msigmoid\u001b[0m\u001b[0;34m(\u001b[0m\u001b[0mself\u001b[0m\u001b[0;34m.\u001b[0m\u001b[0mencoder_layer2\u001b[0m\u001b[0;34m(\u001b[0m\u001b[0mx\u001b[0m\u001b[0;34m)\u001b[0m\u001b[0;34m)\u001b[0m\u001b[0;34m\u001b[0m\u001b[0;34m\u001b[0m\u001b[0m\n\u001b[1;32m     31\u001b[0m         \u001b[0;32mreturn\u001b[0m \u001b[0mencoded\u001b[0m\u001b[0;34m\u001b[0m\u001b[0;34m\u001b[0m\u001b[0m\n",
            "\u001b[0;32m/usr/local/lib/python3.10/dist-packages/torch/nn/modules/module.py\u001b[0m in \u001b[0;36m_wrapped_call_impl\u001b[0;34m(self, *args, **kwargs)\u001b[0m\n\u001b[1;32m   1734\u001b[0m             \u001b[0;32mreturn\u001b[0m \u001b[0mself\u001b[0m\u001b[0;34m.\u001b[0m\u001b[0m_compiled_call_impl\u001b[0m\u001b[0;34m(\u001b[0m\u001b[0;34m*\u001b[0m\u001b[0margs\u001b[0m\u001b[0;34m,\u001b[0m \u001b[0;34m**\u001b[0m\u001b[0mkwargs\u001b[0m\u001b[0;34m)\u001b[0m  \u001b[0;31m# type: ignore[misc]\u001b[0m\u001b[0;34m\u001b[0m\u001b[0;34m\u001b[0m\u001b[0m\n\u001b[1;32m   1735\u001b[0m         \u001b[0;32melse\u001b[0m\u001b[0;34m:\u001b[0m\u001b[0;34m\u001b[0m\u001b[0;34m\u001b[0m\u001b[0m\n\u001b[0;32m-> 1736\u001b[0;31m             \u001b[0;32mreturn\u001b[0m \u001b[0mself\u001b[0m\u001b[0;34m.\u001b[0m\u001b[0m_call_impl\u001b[0m\u001b[0;34m(\u001b[0m\u001b[0;34m*\u001b[0m\u001b[0margs\u001b[0m\u001b[0;34m,\u001b[0m \u001b[0;34m**\u001b[0m\u001b[0mkwargs\u001b[0m\u001b[0;34m)\u001b[0m\u001b[0;34m\u001b[0m\u001b[0;34m\u001b[0m\u001b[0m\n\u001b[0m\u001b[1;32m   1737\u001b[0m \u001b[0;34m\u001b[0m\u001b[0m\n\u001b[1;32m   1738\u001b[0m     \u001b[0;31m# torchrec tests the code consistency with the following code\u001b[0m\u001b[0;34m\u001b[0m\u001b[0;34m\u001b[0m\u001b[0m\n",
            "\u001b[0;32m/usr/local/lib/python3.10/dist-packages/torch/nn/modules/module.py\u001b[0m in \u001b[0;36m_call_impl\u001b[0;34m(self, *args, **kwargs)\u001b[0m\n\u001b[1;32m   1745\u001b[0m                 \u001b[0;32mor\u001b[0m \u001b[0m_global_backward_pre_hooks\u001b[0m \u001b[0;32mor\u001b[0m \u001b[0m_global_backward_hooks\u001b[0m\u001b[0;34m\u001b[0m\u001b[0;34m\u001b[0m\u001b[0m\n\u001b[1;32m   1746\u001b[0m                 or _global_forward_hooks or _global_forward_pre_hooks):\n\u001b[0;32m-> 1747\u001b[0;31m             \u001b[0;32mreturn\u001b[0m \u001b[0mforward_call\u001b[0m\u001b[0;34m(\u001b[0m\u001b[0;34m*\u001b[0m\u001b[0margs\u001b[0m\u001b[0;34m,\u001b[0m \u001b[0;34m**\u001b[0m\u001b[0mkwargs\u001b[0m\u001b[0;34m)\u001b[0m\u001b[0;34m\u001b[0m\u001b[0;34m\u001b[0m\u001b[0m\n\u001b[0m\u001b[1;32m   1748\u001b[0m \u001b[0;34m\u001b[0m\u001b[0m\n\u001b[1;32m   1749\u001b[0m         \u001b[0mresult\u001b[0m \u001b[0;34m=\u001b[0m \u001b[0;32mNone\u001b[0m\u001b[0;34m\u001b[0m\u001b[0;34m\u001b[0m\u001b[0m\n",
            "\u001b[0;32m/usr/local/lib/python3.10/dist-packages/torch/nn/modules/linear.py\u001b[0m in \u001b[0;36mforward\u001b[0;34m(self, input)\u001b[0m\n\u001b[1;32m    123\u001b[0m \u001b[0;34m\u001b[0m\u001b[0m\n\u001b[1;32m    124\u001b[0m     \u001b[0;32mdef\u001b[0m \u001b[0mforward\u001b[0m\u001b[0;34m(\u001b[0m\u001b[0mself\u001b[0m\u001b[0;34m,\u001b[0m \u001b[0minput\u001b[0m\u001b[0;34m:\u001b[0m \u001b[0mTensor\u001b[0m\u001b[0;34m)\u001b[0m \u001b[0;34m->\u001b[0m \u001b[0mTensor\u001b[0m\u001b[0;34m:\u001b[0m\u001b[0;34m\u001b[0m\u001b[0;34m\u001b[0m\u001b[0m\n\u001b[0;32m--> 125\u001b[0;31m         \u001b[0;32mreturn\u001b[0m \u001b[0mF\u001b[0m\u001b[0;34m.\u001b[0m\u001b[0mlinear\u001b[0m\u001b[0;34m(\u001b[0m\u001b[0minput\u001b[0m\u001b[0;34m,\u001b[0m \u001b[0mself\u001b[0m\u001b[0;34m.\u001b[0m\u001b[0mweight\u001b[0m\u001b[0;34m,\u001b[0m \u001b[0mself\u001b[0m\u001b[0;34m.\u001b[0m\u001b[0mbias\u001b[0m\u001b[0;34m)\u001b[0m\u001b[0;34m\u001b[0m\u001b[0;34m\u001b[0m\u001b[0m\n\u001b[0m\u001b[1;32m    126\u001b[0m \u001b[0;34m\u001b[0m\u001b[0m\n\u001b[1;32m    127\u001b[0m     \u001b[0;32mdef\u001b[0m \u001b[0mextra_repr\u001b[0m\u001b[0;34m(\u001b[0m\u001b[0mself\u001b[0m\u001b[0;34m)\u001b[0m \u001b[0;34m->\u001b[0m \u001b[0mstr\u001b[0m\u001b[0;34m:\u001b[0m\u001b[0;34m\u001b[0m\u001b[0;34m\u001b[0m\u001b[0m\n",
            "\u001b[0;31mRuntimeError\u001b[0m: mat1 and mat2 shapes cannot be multiplied (256x8 and 9x500)"
          ]
        }
      ]
    },
    {
      "source": [
        "#### USING ENCODER - SO WE CAN INSERT X TEST WITH NO SEQUENCES IN THE RF MODEL\n",
        "\n",
        "# Extract features from the autoencoder for Random Forest\n",
        "X_train_ae_orig2 = np.ones((len(train_dataset_orig), num_hidden_2))\n",
        "# y_train_ae = y_train_seq\n",
        "y_train_ae_orig2 = np.ones((len(train_dataset_orig),num_hidden_2))\n",
        "\n",
        "X_test_ae_orig2 = np.ones((len(test_dataset_orig), num_hidden_2))\n",
        "# y_test_ae = y_test_seq\n",
        "y_test_ae_orig2 = np.ones((len(test_dataset_orig),num_hidden_2))\n",
        "\n",
        "start_idx = 0\n",
        "for idx, (sequences, labels) in enumerate(train_loader_orig):\n",
        "    sequences = sequences.to(device)\n",
        "    # The issue was that your input data had 8 features, but your encoder's\n",
        "    # first layer was expecting 9 features. Instead of slicing the input,\n",
        "    # we'll pad it with an extra dimension of zeros to make it compatible.\n",
        "\n",
        "    # Get the original shape of the sequences\n",
        "    original_shape = sequences.shape\n",
        "\n",
        "    # Pad the sequences with an extra dimension of zeros at the end\n",
        "    # to match the expected input features of the encoder (9)\n",
        "    padded_sequences = torch.cat([sequences, torch.zeros(original_shape[0], 1, device=device)], dim=1)\n",
        "\n",
        "    encoded = model.encoder(padded_sequences.view(padded_sequences.size(0), -1)[:, :model.encoder_layer1.in_features])\n",
        "\n",
        "    batch_size = encoded.shape[0]\n",
        "    X_train_ae_orig[start_idx:start_idx+batch_size] = encoded.cpu().detach().numpy() #using encoder\n",
        "    y_train_ae_orig[start_idx:start_idx+batch_size] = encoded.cpu().detach().numpy() #using encoder #labels.cpu().detach().numpy()\n",
        "    start_idx += batch_size\n",
        "\n",
        "start_idx = 0\n",
        "for idx, (sequences, labels) in enumerate(test_loader_orig):\n",
        "    sequences = sequences.to(device)\n",
        "    # Similar to the training loop, we pad the test sequences with zeros.\n",
        "    original_shape = sequences.shape\n",
        "    padded_sequences = torch.cat([sequences, torch.zeros(original_shape[0], 1, device=device)], dim=1)\n",
        "\n",
        "    decoded = model.encoder(padded_sequences.view(padded_sequences.size(0), -1)[:, :model.encoder_layer1.in_features])\n",
        "\n",
        "    batch_size = decoded.shape[0]\n",
        "    X_test_ae_orig[start_idx:start_idx + batch_size] = decoded.cpu().detach().numpy() #using encoder\n",
        "    y_test_ae_orig[start_idx:start_idx+batch_size] = decoded.cpu().detach().numpy() #using encoder #labels.cpu"
      ],
      "cell_type": "code",
      "metadata": {
        "id": "OdanTOPExJHP"
      },
      "execution_count": null,
      "outputs": []
    },
    {
      "cell_type": "code",
      "source": [
        "y_test_ae_orig.shape\n",
        "\n",
        "print(X_train_ae_orig2.shape)\n",
        "print(y_train_ae_orig2.shape)\n",
        "print(X_test_ae_orig2.shape)\n",
        "print(y_test_ae_orig2.shape)"
      ],
      "metadata": {
        "colab": {
          "base_uri": "https://localhost:8080/"
        },
        "id": "XtwzzkOjrRV7",
        "outputId": "4623b67c-c468-4668-bd16-2952f9284990"
      },
      "execution_count": null,
      "outputs": [
        {
          "output_type": "stream",
          "name": "stdout",
          "text": [
            "(79689, 50)\n",
            "(79689, 50)\n",
            "(26563, 50)\n",
            "(26563, 50)\n"
          ]
        }
      ]
    },
    {
      "cell_type": "code",
      "source": [
        "# X_train_original_rf = et_train_original_rf[feature_cols] # Features\n",
        "y_train_original_rf = et_train_original_rf.GT1 # Target variable\n",
        "\n",
        "# X_test_original_rf = et_test_original_rf[feature_cols] # Features\n",
        "y_test_original_rf = et_test_original_rf.GT1 # Target variable"
      ],
      "metadata": {
        "id": "YAZW_e6_vMVH"
      },
      "execution_count": null,
      "outputs": []
    },
    {
      "cell_type": "code",
      "source": [
        "print(f\"The X_train_ae_seq shape is:  {X_train_ae_seq.shape}\")\n",
        "print(f\"The y_train_original_rf shape is:  {y_train_original_rf.shape}\")\n",
        "print(f\"The X_test_ae_orig shape is:  {X_test_ae_orig.shape}\")\n",
        "print(f\"The y_test_original_rf shape is:  {y_test_original_rf.shape}\")"
      ],
      "metadata": {
        "colab": {
          "base_uri": "https://localhost:8080/"
        },
        "id": "gB4CG5INzrdM",
        "outputId": "60ef0680-bb09-4e46-a1b0-7dbc29b18481"
      },
      "execution_count": null,
      "outputs": [
        {
          "output_type": "stream",
          "name": "stdout",
          "text": [
            "The X_train_ae_seq shape is:  (79229, 50)\n",
            "The y_train_original_rf shape is:  (79689,)\n",
            "The X_test_ae_orig shape is:  (26103, 50)\n",
            "The y_test_original_rf shape is:  (26563,)\n"
          ]
        }
      ]
    },
    {
      "cell_type": "code",
      "source": [
        "# Random Forest Classifier - USING X FROM ENCODER AND ORIGINAL Y - LABELS FOR TRAINING AND TEST\n",
        "rf = RandomForestClassifier(n_estimators=50, n_jobs=-1)\n",
        "rf.fit(X_train_ae_seq, y_train_original_rf)\n",
        "\n",
        "print(f'Train Accuracy: {rf.score(X_train_ae_seq, y_train_original_rf) * 100:.2f}%')\n",
        "print(f'Test Accuracy: {rf.score(X_test_ae_orig, y_test_original_rf) * 100:.2f}%')"
      ],
      "metadata": {
        "colab": {
          "base_uri": "https://localhost:8080/",
          "height": 408
        },
        "outputId": "2ab92c8e-f0ed-4714-de49-c7776a1b7c75",
        "id": "dttBJ-9yvVoZ"
      },
      "execution_count": null,
      "outputs": [
        {
          "output_type": "error",
          "ename": "ValueError",
          "evalue": "Found input variables with inconsistent numbers of samples: [79229, 79689]",
          "traceback": [
            "\u001b[0;31m---------------------------------------------------------------------------\u001b[0m",
            "\u001b[0;31mValueError\u001b[0m                                Traceback (most recent call last)",
            "\u001b[0;32m<ipython-input-30-00df0c7c94af>\u001b[0m in \u001b[0;36m<cell line: 3>\u001b[0;34m()\u001b[0m\n\u001b[1;32m      1\u001b[0m \u001b[0;31m# Random Forest Classifier - USING X FROM ENCODER AND ORIGINAL Y - LABELS FOR TRAINING AND TEST\u001b[0m\u001b[0;34m\u001b[0m\u001b[0;34m\u001b[0m\u001b[0m\n\u001b[1;32m      2\u001b[0m \u001b[0mrf\u001b[0m \u001b[0;34m=\u001b[0m \u001b[0mRandomForestClassifier\u001b[0m\u001b[0;34m(\u001b[0m\u001b[0mn_estimators\u001b[0m\u001b[0;34m=\u001b[0m\u001b[0;36m50\u001b[0m\u001b[0;34m,\u001b[0m \u001b[0mn_jobs\u001b[0m\u001b[0;34m=\u001b[0m\u001b[0;34m-\u001b[0m\u001b[0;36m1\u001b[0m\u001b[0;34m)\u001b[0m\u001b[0;34m\u001b[0m\u001b[0;34m\u001b[0m\u001b[0m\n\u001b[0;32m----> 3\u001b[0;31m \u001b[0mrf\u001b[0m\u001b[0;34m.\u001b[0m\u001b[0mfit\u001b[0m\u001b[0;34m(\u001b[0m\u001b[0mX_train_ae_seq\u001b[0m\u001b[0;34m,\u001b[0m \u001b[0my_train_original_rf\u001b[0m\u001b[0;34m)\u001b[0m\u001b[0;34m\u001b[0m\u001b[0;34m\u001b[0m\u001b[0m\n\u001b[0m\u001b[1;32m      4\u001b[0m \u001b[0;34m\u001b[0m\u001b[0m\n\u001b[1;32m      5\u001b[0m \u001b[0mprint\u001b[0m\u001b[0;34m(\u001b[0m\u001b[0;34mf'Train Accuracy: {rf.score(X_train_ae_seq, y_train_original_rf) * 100:.2f}%'\u001b[0m\u001b[0;34m)\u001b[0m\u001b[0;34m\u001b[0m\u001b[0;34m\u001b[0m\u001b[0m\n",
            "\u001b[0;32m/usr/local/lib/python3.10/dist-packages/sklearn/base.py\u001b[0m in \u001b[0;36mwrapper\u001b[0;34m(estimator, *args, **kwargs)\u001b[0m\n\u001b[1;32m   1471\u001b[0m                 )\n\u001b[1;32m   1472\u001b[0m             ):\n\u001b[0;32m-> 1473\u001b[0;31m                 \u001b[0;32mreturn\u001b[0m \u001b[0mfit_method\u001b[0m\u001b[0;34m(\u001b[0m\u001b[0mestimator\u001b[0m\u001b[0;34m,\u001b[0m \u001b[0;34m*\u001b[0m\u001b[0margs\u001b[0m\u001b[0;34m,\u001b[0m \u001b[0;34m**\u001b[0m\u001b[0mkwargs\u001b[0m\u001b[0;34m)\u001b[0m\u001b[0;34m\u001b[0m\u001b[0;34m\u001b[0m\u001b[0m\n\u001b[0m\u001b[1;32m   1474\u001b[0m \u001b[0;34m\u001b[0m\u001b[0m\n\u001b[1;32m   1475\u001b[0m         \u001b[0;32mreturn\u001b[0m \u001b[0mwrapper\u001b[0m\u001b[0;34m\u001b[0m\u001b[0;34m\u001b[0m\u001b[0m\n",
            "\u001b[0;32m/usr/local/lib/python3.10/dist-packages/sklearn/ensemble/_forest.py\u001b[0m in \u001b[0;36mfit\u001b[0;34m(self, X, y, sample_weight)\u001b[0m\n\u001b[1;32m    361\u001b[0m             \u001b[0;32mraise\u001b[0m \u001b[0mValueError\u001b[0m\u001b[0;34m(\u001b[0m\u001b[0;34m\"sparse multilabel-indicator for y is not supported.\"\u001b[0m\u001b[0;34m)\u001b[0m\u001b[0;34m\u001b[0m\u001b[0;34m\u001b[0m\u001b[0m\n\u001b[1;32m    362\u001b[0m \u001b[0;34m\u001b[0m\u001b[0m\n\u001b[0;32m--> 363\u001b[0;31m         X, y = self._validate_data(\n\u001b[0m\u001b[1;32m    364\u001b[0m             \u001b[0mX\u001b[0m\u001b[0;34m,\u001b[0m\u001b[0;34m\u001b[0m\u001b[0;34m\u001b[0m\u001b[0m\n\u001b[1;32m    365\u001b[0m             \u001b[0my\u001b[0m\u001b[0;34m,\u001b[0m\u001b[0;34m\u001b[0m\u001b[0;34m\u001b[0m\u001b[0m\n",
            "\u001b[0;32m/usr/local/lib/python3.10/dist-packages/sklearn/base.py\u001b[0m in \u001b[0;36m_validate_data\u001b[0;34m(self, X, y, reset, validate_separately, cast_to_ndarray, **check_params)\u001b[0m\n\u001b[1;32m    648\u001b[0m                 \u001b[0my\u001b[0m \u001b[0;34m=\u001b[0m \u001b[0mcheck_array\u001b[0m\u001b[0;34m(\u001b[0m\u001b[0my\u001b[0m\u001b[0;34m,\u001b[0m \u001b[0minput_name\u001b[0m\u001b[0;34m=\u001b[0m\u001b[0;34m\"y\"\u001b[0m\u001b[0;34m,\u001b[0m \u001b[0;34m**\u001b[0m\u001b[0mcheck_y_params\u001b[0m\u001b[0;34m)\u001b[0m\u001b[0;34m\u001b[0m\u001b[0;34m\u001b[0m\u001b[0m\n\u001b[1;32m    649\u001b[0m             \u001b[0;32melse\u001b[0m\u001b[0;34m:\u001b[0m\u001b[0;34m\u001b[0m\u001b[0;34m\u001b[0m\u001b[0m\n\u001b[0;32m--> 650\u001b[0;31m                 \u001b[0mX\u001b[0m\u001b[0;34m,\u001b[0m \u001b[0my\u001b[0m \u001b[0;34m=\u001b[0m \u001b[0mcheck_X_y\u001b[0m\u001b[0;34m(\u001b[0m\u001b[0mX\u001b[0m\u001b[0;34m,\u001b[0m \u001b[0my\u001b[0m\u001b[0;34m,\u001b[0m \u001b[0;34m**\u001b[0m\u001b[0mcheck_params\u001b[0m\u001b[0;34m)\u001b[0m\u001b[0;34m\u001b[0m\u001b[0;34m\u001b[0m\u001b[0m\n\u001b[0m\u001b[1;32m    651\u001b[0m             \u001b[0mout\u001b[0m \u001b[0;34m=\u001b[0m \u001b[0mX\u001b[0m\u001b[0;34m,\u001b[0m \u001b[0my\u001b[0m\u001b[0;34m\u001b[0m\u001b[0;34m\u001b[0m\u001b[0m\n\u001b[1;32m    652\u001b[0m \u001b[0;34m\u001b[0m\u001b[0m\n",
            "\u001b[0;32m/usr/local/lib/python3.10/dist-packages/sklearn/utils/validation.py\u001b[0m in \u001b[0;36mcheck_X_y\u001b[0;34m(X, y, accept_sparse, accept_large_sparse, dtype, order, copy, force_writeable, force_all_finite, ensure_2d, allow_nd, multi_output, ensure_min_samples, ensure_min_features, y_numeric, estimator)\u001b[0m\n\u001b[1;32m   1318\u001b[0m     \u001b[0my\u001b[0m \u001b[0;34m=\u001b[0m \u001b[0m_check_y\u001b[0m\u001b[0;34m(\u001b[0m\u001b[0my\u001b[0m\u001b[0;34m,\u001b[0m \u001b[0mmulti_output\u001b[0m\u001b[0;34m=\u001b[0m\u001b[0mmulti_output\u001b[0m\u001b[0;34m,\u001b[0m \u001b[0my_numeric\u001b[0m\u001b[0;34m=\u001b[0m\u001b[0my_numeric\u001b[0m\u001b[0;34m,\u001b[0m \u001b[0mestimator\u001b[0m\u001b[0;34m=\u001b[0m\u001b[0mestimator\u001b[0m\u001b[0;34m)\u001b[0m\u001b[0;34m\u001b[0m\u001b[0;34m\u001b[0m\u001b[0m\n\u001b[1;32m   1319\u001b[0m \u001b[0;34m\u001b[0m\u001b[0m\n\u001b[0;32m-> 1320\u001b[0;31m     \u001b[0mcheck_consistent_length\u001b[0m\u001b[0;34m(\u001b[0m\u001b[0mX\u001b[0m\u001b[0;34m,\u001b[0m \u001b[0my\u001b[0m\u001b[0;34m)\u001b[0m\u001b[0;34m\u001b[0m\u001b[0;34m\u001b[0m\u001b[0m\n\u001b[0m\u001b[1;32m   1321\u001b[0m \u001b[0;34m\u001b[0m\u001b[0m\n\u001b[1;32m   1322\u001b[0m     \u001b[0;32mreturn\u001b[0m \u001b[0mX\u001b[0m\u001b[0;34m,\u001b[0m \u001b[0my\u001b[0m\u001b[0;34m\u001b[0m\u001b[0;34m\u001b[0m\u001b[0m\n",
            "\u001b[0;32m/usr/local/lib/python3.10/dist-packages/sklearn/utils/validation.py\u001b[0m in \u001b[0;36mcheck_consistent_length\u001b[0;34m(*arrays)\u001b[0m\n\u001b[1;32m    455\u001b[0m     \u001b[0muniques\u001b[0m \u001b[0;34m=\u001b[0m \u001b[0mnp\u001b[0m\u001b[0;34m.\u001b[0m\u001b[0munique\u001b[0m\u001b[0;34m(\u001b[0m\u001b[0mlengths\u001b[0m\u001b[0;34m)\u001b[0m\u001b[0;34m\u001b[0m\u001b[0;34m\u001b[0m\u001b[0m\n\u001b[1;32m    456\u001b[0m     \u001b[0;32mif\u001b[0m \u001b[0mlen\u001b[0m\u001b[0;34m(\u001b[0m\u001b[0muniques\u001b[0m\u001b[0;34m)\u001b[0m \u001b[0;34m>\u001b[0m \u001b[0;36m1\u001b[0m\u001b[0;34m:\u001b[0m\u001b[0;34m\u001b[0m\u001b[0;34m\u001b[0m\u001b[0m\n\u001b[0;32m--> 457\u001b[0;31m         raise ValueError(\n\u001b[0m\u001b[1;32m    458\u001b[0m             \u001b[0;34m\"Found input variables with inconsistent numbers of samples: %r\"\u001b[0m\u001b[0;34m\u001b[0m\u001b[0;34m\u001b[0m\u001b[0m\n\u001b[1;32m    459\u001b[0m             \u001b[0;34m%\u001b[0m \u001b[0;34m[\u001b[0m\u001b[0mint\u001b[0m\u001b[0;34m(\u001b[0m\u001b[0ml\u001b[0m\u001b[0;34m)\u001b[0m \u001b[0;32mfor\u001b[0m \u001b[0ml\u001b[0m \u001b[0;32min\u001b[0m \u001b[0mlengths\u001b[0m\u001b[0;34m]\u001b[0m\u001b[0;34m\u001b[0m\u001b[0;34m\u001b[0m\u001b[0m\n",
            "\u001b[0;31mValueError\u001b[0m: Found input variables with inconsistent numbers of samples: [79229, 79689]"
          ]
        }
      ]
    }
  ]
}