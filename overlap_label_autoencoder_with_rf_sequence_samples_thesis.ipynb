{
  "nbformat": 4,
  "nbformat_minor": 0,
  "metadata": {
    "colab": {
      "provenance": [],
      "authorship_tag": "ABX9TyOcD68hGKYhHygay2L07YE7",
      "include_colab_link": true
    },
    "kernelspec": {
      "name": "python3",
      "display_name": "Python 3"
    },
    "language_info": {
      "name": "python"
    }
  },
  "cells": [
    {
      "cell_type": "markdown",
      "metadata": {
        "id": "view-in-github",
        "colab_type": "text"
      },
      "source": [
        "<a href=\"https://colab.research.google.com/github/lorenafc/MscThesis_EyeTrackingIVR/blob/main/overlap_label_autoencoder_with_rf_sequence_samples_thesis.ipynb\" target=\"_parent\"><img src=\"https://colab.research.google.com/assets/colab-badge.svg\" alt=\"Open In Colab\"/></a>"
      ]
    },
    {
      "cell_type": "markdown",
      "source": [
        "# Detecting Fixations in Eye tracking Data in Immersive Virtual Environments using Autoencoder + Random Forest"
      ],
      "metadata": {
        "id": "wM6UFB9FFd_j"
      }
    },
    {
      "cell_type": "markdown",
      "source": [
        "I am adapting the autoencoder + Random Forest from this original work:\n",
        "\n",
        "\" Autoencoder (MNIST) + Scikit-Learn Random Forest Classifier\n",
        "\n",
        "A simple, single-hidden-layer, fully-connected autoencoder that compresses 768-pixel MNIST images into 32-pixel vectors (32-times smaller representations). A random forest classifier is then trained for predicting the class labels based on that 32-pixel compressed space.\n",
        "\n",
        "Deep Learning Models -- A collection of various deep learning architectures, models, and tips for TensorFlow and PyTorch in Jupyter Notebooks.\n",
        "\n",
        "Author: Sebastian Raschka GitHub Repository: https://github.com/rasbt/deeplearning-models https://github.com/rasbt/deeplearning-models/blob/master/pytorch_ipynb/autoencoder/ae-basic-with-rf.ipynb \"\n",
        "\n",
        "CPython 3.7.3, IPython 7.9.0, torch 1.3.0\n",
        "\n",
        "Generative AI is being used to help writting the script and debugging"
      ],
      "metadata": {
        "id": "jOtb3ng7FaST"
      }
    },
    {
      "cell_type": "code",
      "source": [
        "import time\n",
        "import pandas as pd\n",
        "import numpy as np\n",
        "import torch\n",
        "import torch.nn as nn\n",
        "import torch.nn.functional as F\n",
        "from torch.utils.data import Dataset, DataLoader\n",
        "from sklearn.preprocessing import MinMaxScaler\n",
        "from sklearn.ensemble import RandomForestClassifier\n",
        "from torch.utils.data import TensorDataset\n"
      ],
      "metadata": {
        "id": "Hm_d1GsOmke4"
      },
      "execution_count": 1,
      "outputs": []
    },
    {
      "cell_type": "code",
      "source": [
        "# Device\n",
        "device = torch.device(\"cuda:0\" if torch.cuda.is_available() else \"cpu\")\n",
        "print('Device:', device)\n",
        "\n",
        "# Read the CSV file\n",
        "file_name = '/content/LLA2020_labeled.csv'\n",
        "# file_name = '/content/eye_tracking_data_small_2019.csv'\n",
        "eye_tracking_data = pd.read_csv(file_name)"
      ],
      "metadata": {
        "colab": {
          "base_uri": "https://localhost:8080/"
        },
        "id": "SpDf-1Hxmomv",
        "outputId": "5005d945-4814-4703-8a93-73591c4b2a42"
      },
      "execution_count": 2,
      "outputs": [
        {
          "output_type": "stream",
          "name": "stdout",
          "text": [
            "Device: cpu\n"
          ]
        }
      ]
    },
    {
      "cell_type": "code",
      "source": [
        "print(eye_tracking_data.head())\n",
        "print(eye_tracking_data.shape)"
      ],
      "metadata": {
        "colab": {
          "base_uri": "https://localhost:8080/"
        },
        "id": "ghlLMn_o3jTY",
        "outputId": "b4fcbe46-d439-4056-9fa0-40600bf103be"
      },
      "execution_count": 3,
      "outputs": [
        {
          "output_type": "stream",
          "name": "stdout",
          "text": [
            "    time    L_x     L_y     L_z     C_x     C_y     C_z  observer  GT1  GT2  \\\n",
            "0  9.314 -2.969  1.6232 -1.2434 -0.4009  1.6289 -1.2939         1    0    0   \n",
            "1  9.337 -2.969  1.6255 -1.2432 -0.4007  1.6290 -1.2940         1    0    0   \n",
            "2  9.360 -2.969  1.6260 -1.2447 -0.4006  1.6290 -1.2940         1    0    0   \n",
            "3  9.381 -2.969  1.6232 -1.2430 -0.4004  1.6291 -1.2941         1    0    0   \n",
            "4  9.403 -2.969  1.6242 -1.2410 -0.4002  1.6291 -1.2941         1    0    0   \n",
            "\n",
            "   GT3  GT4  GT5  GT6  GT7  \n",
            "0    0    0    0    0    0  \n",
            "1    0    0    0    0    0  \n",
            "2    0    0    0    0    0  \n",
            "3    0    0    0    0    0  \n",
            "4    0    0    0    0    0  \n",
            "(106252, 15)\n"
          ]
        }
      ]
    },
    {
      "cell_type": "code",
      "source": [
        "eye_tracking_data_rf = eye_tracking_data.copy()"
      ],
      "metadata": {
        "id": "_obyjfa6p_2D"
      },
      "execution_count": 4,
      "outputs": []
    },
    {
      "cell_type": "code",
      "source": [
        "# Data cleaning\n",
        "eye_tracking_data = eye_tracking_data.drop(columns=['GT2', 'GT3', 'GT4', 'GT5', 'GT6', 'GT7']) # removing\n",
        "eye_tracking_data = eye_tracking_data[['time', 'L_x', 'L_y', 'L_z', 'C_x', 'C_y', 'C_z', 'GT1','observer']]"
      ],
      "metadata": {
        "id": "r8yFHKhSrhlz"
      },
      "execution_count": 5,
      "outputs": []
    },
    {
      "cell_type": "code",
      "source": [
        "print(eye_tracking_data.head(3))"
      ],
      "metadata": {
        "colab": {
          "base_uri": "https://localhost:8080/"
        },
        "id": "csBo82UhsgWw",
        "outputId": "7a68f731-5e59-4852-bf80-eead74b05a9c"
      },
      "execution_count": 6,
      "outputs": [
        {
          "output_type": "stream",
          "name": "stdout",
          "text": [
            "    time    L_x     L_y     L_z     C_x     C_y     C_z  GT1  observer\n",
            "0  9.314 -2.969  1.6232 -1.2434 -0.4009  1.6289 -1.2939    0         1\n",
            "1  9.337 -2.969  1.6255 -1.2432 -0.4007  1.6290 -1.2940    0         1\n",
            "2  9.360 -2.969  1.6260 -1.2447 -0.4006  1.6290 -1.2940    0         1\n"
          ]
        }
      ]
    },
    {
      "cell_type": "code",
      "source": [
        "if \"time_diff\" not in eye_tracking_data.columns:\n",
        "    eye_tracking_data[\"time_diff\"] = \"\"\n",
        "    eye_tracking_data[\"time_diff\"] = eye_tracking_data[\"time\"].diff().fillna(0)\n",
        "    eye_tracking_data[\"time_diff\"] = pd.to_numeric(eye_tracking_data[\"time_diff\"], errors='coerce')"
      ],
      "metadata": {
        "id": "vpP_RJ4XuxoS"
      },
      "execution_count": 7,
      "outputs": []
    },
    {
      "cell_type": "code",
      "source": [
        "print(eye_tracking_data.head(3))"
      ],
      "metadata": {
        "colab": {
          "base_uri": "https://localhost:8080/"
        },
        "id": "PKxSUMcXJUrG",
        "outputId": "aa009de2-c98c-4c60-a562-5cb89b2ddbbd"
      },
      "execution_count": 8,
      "outputs": [
        {
          "output_type": "stream",
          "name": "stdout",
          "text": [
            "    time    L_x     L_y     L_z     C_x     C_y     C_z  GT1  observer  \\\n",
            "0  9.314 -2.969  1.6232 -1.2434 -0.4009  1.6289 -1.2939    0         1   \n",
            "1  9.337 -2.969  1.6255 -1.2432 -0.4007  1.6290 -1.2940    0         1   \n",
            "2  9.360 -2.969  1.6260 -1.2447 -0.4006  1.6290 -1.2940    0         1   \n",
            "\n",
            "   time_diff  \n",
            "0      0.000  \n",
            "1      0.023  \n",
            "2      0.023  \n"
          ]
        }
      ]
    },
    {
      "cell_type": "markdown",
      "source": [
        "### FEATURES"
      ],
      "metadata": {
        "id": "aoXlq8dvh0Kc"
      }
    },
    {
      "cell_type": "code",
      "source": [
        "eye_tracking_data_without_GT1 = eye_tracking_data.drop(columns=['GT1'])"
      ],
      "metadata": {
        "id": "KVisdpykrw26"
      },
      "execution_count": 9,
      "outputs": []
    },
    {
      "cell_type": "code",
      "source": [
        "print(eye_tracking_data_without_GT1.head(3))\n",
        "print(\"eye_tracking_data_without_GT1 shape:\", eye_tracking_data_without_GT1.shape)"
      ],
      "metadata": {
        "colab": {
          "base_uri": "https://localhost:8080/"
        },
        "id": "2cLUvgTGsZzw",
        "outputId": "e3b34cf4-743f-4cd2-bf22-38663c5d5f7c"
      },
      "execution_count": 10,
      "outputs": [
        {
          "output_type": "stream",
          "name": "stdout",
          "text": [
            "    time    L_x     L_y     L_z     C_x     C_y     C_z  observer  time_diff\n",
            "0  9.314 -2.969  1.6232 -1.2434 -0.4009  1.6289 -1.2939         1      0.000\n",
            "1  9.337 -2.969  1.6255 -1.2432 -0.4007  1.6290 -1.2940         1      0.023\n",
            "2  9.360 -2.969  1.6260 -1.2447 -0.4006  1.6290 -1.2940         1      0.023\n",
            "eye_tracking_data_without_GT1 shape: (106252, 9)\n"
          ]
        }
      ]
    },
    {
      "cell_type": "code",
      "execution_count": 11,
      "metadata": {
        "id": "-7qM3-vAmGcX",
        "colab": {
          "base_uri": "https://localhost:8080/"
        },
        "outputId": "65ef309a-5c55-47c3-8d98-6d3688e983cb"
      },
      "outputs": [
        {
          "output_type": "stream",
          "name": "stdout",
          "text": [
            "et_train_without_GT1 shape: (79689, 9)\n"
          ]
        }
      ],
      "source": [
        "# X train and X test without GT1\n",
        "\n",
        "# Convert columns to float32 for compatibility with PyTorch\n",
        "eye_tracking_data_without_GT1 = eye_tracking_data_without_GT1.astype('float32')\n",
        "train_split = 0.75\n",
        "\n",
        "# Creating data indices for training and test splits: source: LSTM autoencoder time series https://github.com/fabiozappo/LSTM-Autoencoder-Time-Series/blob/main/code/main.py\n",
        "dataset_size = len(eye_tracking_data_without_GT1)\n",
        "indices = list(range(dataset_size))\n",
        "split = int(np.floor(train_split * dataset_size))\n",
        "\n",
        "et_train_without_GT1 = eye_tracking_data_without_GT1.iloc[:split, :]\n",
        "et_test_without_GT1 = eye_tracking_data_without_GT1.iloc[split:, :]\n",
        "\n",
        "print(\"et_train_without_GT1 shape:\", et_train_without_GT1.shape)\n"
      ]
    },
    {
      "cell_type": "markdown",
      "source": [
        "### LABEL - GT1"
      ],
      "metadata": {
        "id": "t-AOIOQ0iLMZ"
      }
    },
    {
      "cell_type": "code",
      "source": [
        "eye_tracking_data_GT1 = eye_tracking_data[['GT1']]\n",
        "print(eye_tracking_data_GT1.head(3))\n",
        "print(\"eye_tracking_data_GT1 shape:\", eye_tracking_data_GT1.shape)"
      ],
      "metadata": {
        "colab": {
          "base_uri": "https://localhost:8080/"
        },
        "id": "46YnrW7hGTH8",
        "outputId": "4e68ed9f-876a-41bf-ea02-1e74930a307d"
      },
      "execution_count": 12,
      "outputs": [
        {
          "output_type": "stream",
          "name": "stdout",
          "text": [
            "   GT1\n",
            "0    0\n",
            "1    0\n",
            "2    0\n",
            "eye_tracking_data_GT1 shape: (106252, 1)\n"
          ]
        }
      ]
    },
    {
      "cell_type": "code",
      "source": [
        "# Convert all columns to float32 for compatibility with PyTorch\n",
        "eye_tracking_data_GT1 = eye_tracking_data_GT1.astype('float32')\n",
        "\n",
        "train_split = 0.75\n",
        "dataset_size = len(eye_tracking_data_GT1)\n",
        "indices = list(range(dataset_size))\n",
        "split = int(np.floor(train_split * dataset_size))\n",
        "\n",
        "et_train_GT1 = eye_tracking_data_GT1.iloc[:split, :]\n",
        "et_test_GT1 = eye_tracking_data_GT1.iloc[split:, :]"
      ],
      "metadata": {
        "id": "x6ZKAg_pIbR8"
      },
      "execution_count": 13,
      "outputs": []
    },
    {
      "cell_type": "code",
      "source": [
        "print(\"et_train_GT1 shape:\", et_train_GT1.shape)\n",
        "print(\"et_test_GT1 shape:\", et_test_GT1.shape)"
      ],
      "metadata": {
        "colab": {
          "base_uri": "https://localhost:8080/"
        },
        "id": "YFi6pIJsAihC",
        "outputId": "7606255e-1e6a-40ea-d416-7928c8b791de"
      },
      "execution_count": 14,
      "outputs": [
        {
          "output_type": "stream",
          "name": "stdout",
          "text": [
            "et_train_GT1 shape: (79689, 1)\n",
            "et_test_GT1 shape: (26563, 1)\n"
          ]
        }
      ]
    },
    {
      "cell_type": "markdown",
      "source": [
        "# Create overlapping data"
      ],
      "metadata": {
        "id": "s1pj20DOg11H"
      }
    },
    {
      "cell_type": "code",
      "source": [
        "# create overlapping data:\n",
        "\n",
        "def subset_training_data_overlap_by_rows(\n",
        "    training_data_overlap: pd.DataFrame, rows_interval: int = 460, rows_overlap: int = 135\n",
        ") -> pd.DataFrame:\n",
        "    \"\"\"\n",
        "    Splits the training_data DataFrame into overlapping subsets for each observer, using row-based intervals.\n",
        "    Parameters: training_data_overlap (pd.DataFrame): The input DataFrame with an 'observer' column.\n",
        "                rows_interval (int): The number of rows for each subset.\n",
        "                rows_overlap (int): The number of overlapping rows for the next subset.\n",
        "    Returns: pd.DataFrame: A new DataFrame with repeated overlapping rows for each observer, using global subset IDs.\n",
        "    \"\"\"\n",
        "    # Ensure the data is sorted by observer and time\n",
        "    training_data_overlap = training_data_overlap.sort_values(by=[\"observer\", \"time\"]).reset_index(drop=True)\n",
        "\n",
        "    all_subsets = []\n",
        "    global_subset_id = 1\n",
        "\n",
        "    # Iterate over each observer\n",
        "    for observer_id, observer_data in training_data_overlap.groupby(\"observer\"):\n",
        "        observer_data = observer_data.reset_index(drop=True)\n",
        "\n",
        "        # Calculate the step for each subset\n",
        "        subset_step = rows_interval - rows_overlap\n",
        "        n_rows = len(observer_data)\n",
        "\n",
        "        # Create subsets using slicing\n",
        "        for start_idx in range(0, n_rows, subset_step):\n",
        "            end_idx = start_idx + rows_interval\n",
        "            current_subset = observer_data.iloc[start_idx:end_idx].copy()\n",
        "\n",
        "            if not current_subset.empty:\n",
        "                # Label this subset with a unique global subset ID\n",
        "                current_subset[\"subset\"] = global_subset_id\n",
        "                all_subsets.append(current_subset)\n",
        "                global_subset_id += 1\n",
        "\n",
        "    # Concatenate all subsets into one DataFrame\n",
        "    df = pd.concat(all_subsets, ignore_index=True)\n",
        "    return df"
      ],
      "metadata": {
        "id": "7XH2CKe26tTC"
      },
      "execution_count": 15,
      "outputs": []
    },
    {
      "cell_type": "markdown",
      "source": [
        "### FEATURES WITH OVERLAPPING - (TEST DATA TO TEST THE MODEL WILL NOT BE OVERLAPPED)"
      ],
      "metadata": {
        "id": "Kld9qwp1nq_6"
      }
    },
    {
      "cell_type": "markdown",
      "source": [
        "Test data willl not be overlaped, therefore we need to split the data before doing the overlapping"
      ],
      "metadata": {
        "id": "zb7C0do4Foay"
      }
    },
    {
      "cell_type": "code",
      "source": [
        "### REMOVE GT1, SPLIT TRAIN/TEST, than overlap: et_train_without_GT1\n",
        "\n",
        "### OVERLAP TRAINING DATA\n",
        "# et_train_without_GT1_overlap = subset_training_data_overlap_by_rows(et_train_without_GT1_norm)\n",
        "et_train_without_GT1_overlap = subset_training_data_overlap_by_rows(et_train_without_GT1)\n",
        "print(f\"et_train_without_GT1_overlap shape is: {et_train_without_GT1_overlap.shape}\")\n",
        "\n",
        "### DONT OVERLAP TEST DATA TO TRAIN AUTOENCODER\n",
        "# et_test_without_GT1_no_overlap = et_test_without_GT1_norm.copy() #normalized\n",
        "et_test_without_GT1_no_overlap = et_test_without_GT1.copy()\n",
        "print(f\"et_test_without_GT1_no_overlap shape is: {et_test_without_GT1_no_overlap.shape}\")\n",
        "et_test_without_GT1_no_overlap = et_test_without_GT1_no_overlap.astype('float32')\n",
        "# et_test_without_GT1_overlap = subset_training_data_overlap_by_rows(et_test_without_GT1)\n",
        "\n",
        "# Convert all columns to float32 for compatibility with PyTorch\n",
        "et_train_without_GT1_overlap = et_train_without_GT1_overlap.astype('float32')\n",
        "\n"
      ],
      "metadata": {
        "colab": {
          "base_uri": "https://localhost:8080/"
        },
        "id": "lXAr4dQ6uk0X",
        "outputId": "e503eab9-0122-4319-d574-f9a9ec8d4972"
      },
      "execution_count": 16,
      "outputs": [
        {
          "output_type": "stream",
          "name": "stdout",
          "text": [
            "et_train_without_GT1_overlap shape is: (108821, 10)\n",
            "et_test_without_GT1_no_overlap shape is: (26563, 9)\n"
          ]
        }
      ]
    },
    {
      "cell_type": "code",
      "source": [
        "et_train_without_GT1_overlap = et_train_without_GT1_overlap.drop(columns=['subset', 'observer', 'time'])\n",
        "et_test_without_GT1_no_overlap = et_test_without_GT1_no_overlap.drop(columns=['observer', 'time'])\n"
      ],
      "metadata": {
        "id": "G8baRQSGlYe1"
      },
      "execution_count": 17,
      "outputs": []
    },
    {
      "cell_type": "code",
      "source": [
        "et_train_without_GT1_overlap"
      ],
      "metadata": {
        "colab": {
          "base_uri": "https://localhost:8080/",
          "height": 424
        },
        "id": "lHTf4Y4TS0xq",
        "outputId": "edd0c981-20bc-4571-d998-a45ac3d9f867"
      },
      "execution_count": 18,
      "outputs": [
        {
          "output_type": "execute_result",
          "data": {
            "text/plain": [
              "          L_x     L_y     L_z     C_x     C_y     C_z  time_diff\n",
              "0      -2.969  1.6232 -1.2434 -0.4009  1.6289 -1.2939      0.000\n",
              "1      -2.969  1.6255 -1.2432 -0.4007  1.6290 -1.2940      0.023\n",
              "2      -2.969  1.6260 -1.2447 -0.4006  1.6290 -1.2940      0.023\n",
              "3      -2.969  1.6232 -1.2430 -0.4004  1.6291 -1.2941      0.021\n",
              "4      -2.969  1.6242 -1.2410 -0.4002  1.6291 -1.2941      0.022\n",
              "...       ...     ...     ...     ...     ...     ...        ...\n",
              "108816 -2.969  0.9573  1.8967 -0.1379  1.3900 -1.5008      0.023\n",
              "108817 -2.969  0.9336  1.9018 -0.1378  1.3900 -1.5007      0.022\n",
              "108818 -2.969  0.9196  1.9237 -0.1378  1.3898 -1.5007      0.021\n",
              "108819 -2.969  0.9093  1.9320 -0.1377  1.3897 -1.5007      0.022\n",
              "108820 -2.969  0.9026  1.9437 -0.1376  1.3896 -1.5006      0.023\n",
              "\n",
              "[108821 rows x 7 columns]"
            ],
            "text/html": [
              "\n",
              "  <div id=\"df-9f733d25-400e-4c14-a392-b92d5f6497dd\" class=\"colab-df-container\">\n",
              "    <div>\n",
              "<style scoped>\n",
              "    .dataframe tbody tr th:only-of-type {\n",
              "        vertical-align: middle;\n",
              "    }\n",
              "\n",
              "    .dataframe tbody tr th {\n",
              "        vertical-align: top;\n",
              "    }\n",
              "\n",
              "    .dataframe thead th {\n",
              "        text-align: right;\n",
              "    }\n",
              "</style>\n",
              "<table border=\"1\" class=\"dataframe\">\n",
              "  <thead>\n",
              "    <tr style=\"text-align: right;\">\n",
              "      <th></th>\n",
              "      <th>L_x</th>\n",
              "      <th>L_y</th>\n",
              "      <th>L_z</th>\n",
              "      <th>C_x</th>\n",
              "      <th>C_y</th>\n",
              "      <th>C_z</th>\n",
              "      <th>time_diff</th>\n",
              "    </tr>\n",
              "  </thead>\n",
              "  <tbody>\n",
              "    <tr>\n",
              "      <th>0</th>\n",
              "      <td>-2.969</td>\n",
              "      <td>1.6232</td>\n",
              "      <td>-1.2434</td>\n",
              "      <td>-0.4009</td>\n",
              "      <td>1.6289</td>\n",
              "      <td>-1.2939</td>\n",
              "      <td>0.000</td>\n",
              "    </tr>\n",
              "    <tr>\n",
              "      <th>1</th>\n",
              "      <td>-2.969</td>\n",
              "      <td>1.6255</td>\n",
              "      <td>-1.2432</td>\n",
              "      <td>-0.4007</td>\n",
              "      <td>1.6290</td>\n",
              "      <td>-1.2940</td>\n",
              "      <td>0.023</td>\n",
              "    </tr>\n",
              "    <tr>\n",
              "      <th>2</th>\n",
              "      <td>-2.969</td>\n",
              "      <td>1.6260</td>\n",
              "      <td>-1.2447</td>\n",
              "      <td>-0.4006</td>\n",
              "      <td>1.6290</td>\n",
              "      <td>-1.2940</td>\n",
              "      <td>0.023</td>\n",
              "    </tr>\n",
              "    <tr>\n",
              "      <th>3</th>\n",
              "      <td>-2.969</td>\n",
              "      <td>1.6232</td>\n",
              "      <td>-1.2430</td>\n",
              "      <td>-0.4004</td>\n",
              "      <td>1.6291</td>\n",
              "      <td>-1.2941</td>\n",
              "      <td>0.021</td>\n",
              "    </tr>\n",
              "    <tr>\n",
              "      <th>4</th>\n",
              "      <td>-2.969</td>\n",
              "      <td>1.6242</td>\n",
              "      <td>-1.2410</td>\n",
              "      <td>-0.4002</td>\n",
              "      <td>1.6291</td>\n",
              "      <td>-1.2941</td>\n",
              "      <td>0.022</td>\n",
              "    </tr>\n",
              "    <tr>\n",
              "      <th>...</th>\n",
              "      <td>...</td>\n",
              "      <td>...</td>\n",
              "      <td>...</td>\n",
              "      <td>...</td>\n",
              "      <td>...</td>\n",
              "      <td>...</td>\n",
              "      <td>...</td>\n",
              "    </tr>\n",
              "    <tr>\n",
              "      <th>108816</th>\n",
              "      <td>-2.969</td>\n",
              "      <td>0.9573</td>\n",
              "      <td>1.8967</td>\n",
              "      <td>-0.1379</td>\n",
              "      <td>1.3900</td>\n",
              "      <td>-1.5008</td>\n",
              "      <td>0.023</td>\n",
              "    </tr>\n",
              "    <tr>\n",
              "      <th>108817</th>\n",
              "      <td>-2.969</td>\n",
              "      <td>0.9336</td>\n",
              "      <td>1.9018</td>\n",
              "      <td>-0.1378</td>\n",
              "      <td>1.3900</td>\n",
              "      <td>-1.5007</td>\n",
              "      <td>0.022</td>\n",
              "    </tr>\n",
              "    <tr>\n",
              "      <th>108818</th>\n",
              "      <td>-2.969</td>\n",
              "      <td>0.9196</td>\n",
              "      <td>1.9237</td>\n",
              "      <td>-0.1378</td>\n",
              "      <td>1.3898</td>\n",
              "      <td>-1.5007</td>\n",
              "      <td>0.021</td>\n",
              "    </tr>\n",
              "    <tr>\n",
              "      <th>108819</th>\n",
              "      <td>-2.969</td>\n",
              "      <td>0.9093</td>\n",
              "      <td>1.9320</td>\n",
              "      <td>-0.1377</td>\n",
              "      <td>1.3897</td>\n",
              "      <td>-1.5007</td>\n",
              "      <td>0.022</td>\n",
              "    </tr>\n",
              "    <tr>\n",
              "      <th>108820</th>\n",
              "      <td>-2.969</td>\n",
              "      <td>0.9026</td>\n",
              "      <td>1.9437</td>\n",
              "      <td>-0.1376</td>\n",
              "      <td>1.3896</td>\n",
              "      <td>-1.5006</td>\n",
              "      <td>0.023</td>\n",
              "    </tr>\n",
              "  </tbody>\n",
              "</table>\n",
              "<p>108821 rows × 7 columns</p>\n",
              "</div>\n",
              "    <div class=\"colab-df-buttons\">\n",
              "\n",
              "  <div class=\"colab-df-container\">\n",
              "    <button class=\"colab-df-convert\" onclick=\"convertToInteractive('df-9f733d25-400e-4c14-a392-b92d5f6497dd')\"\n",
              "            title=\"Convert this dataframe to an interactive table.\"\n",
              "            style=\"display:none;\">\n",
              "\n",
              "  <svg xmlns=\"http://www.w3.org/2000/svg\" height=\"24px\" viewBox=\"0 -960 960 960\">\n",
              "    <path d=\"M120-120v-720h720v720H120Zm60-500h600v-160H180v160Zm220 220h160v-160H400v160Zm0 220h160v-160H400v160ZM180-400h160v-160H180v160Zm440 0h160v-160H620v160ZM180-180h160v-160H180v160Zm440 0h160v-160H620v160Z\"/>\n",
              "  </svg>\n",
              "    </button>\n",
              "\n",
              "  <style>\n",
              "    .colab-df-container {\n",
              "      display:flex;\n",
              "      gap: 12px;\n",
              "    }\n",
              "\n",
              "    .colab-df-convert {\n",
              "      background-color: #E8F0FE;\n",
              "      border: none;\n",
              "      border-radius: 50%;\n",
              "      cursor: pointer;\n",
              "      display: none;\n",
              "      fill: #1967D2;\n",
              "      height: 32px;\n",
              "      padding: 0 0 0 0;\n",
              "      width: 32px;\n",
              "    }\n",
              "\n",
              "    .colab-df-convert:hover {\n",
              "      background-color: #E2EBFA;\n",
              "      box-shadow: 0px 1px 2px rgba(60, 64, 67, 0.3), 0px 1px 3px 1px rgba(60, 64, 67, 0.15);\n",
              "      fill: #174EA6;\n",
              "    }\n",
              "\n",
              "    .colab-df-buttons div {\n",
              "      margin-bottom: 4px;\n",
              "    }\n",
              "\n",
              "    [theme=dark] .colab-df-convert {\n",
              "      background-color: #3B4455;\n",
              "      fill: #D2E3FC;\n",
              "    }\n",
              "\n",
              "    [theme=dark] .colab-df-convert:hover {\n",
              "      background-color: #434B5C;\n",
              "      box-shadow: 0px 1px 3px 1px rgba(0, 0, 0, 0.15);\n",
              "      filter: drop-shadow(0px 1px 2px rgba(0, 0, 0, 0.3));\n",
              "      fill: #FFFFFF;\n",
              "    }\n",
              "  </style>\n",
              "\n",
              "    <script>\n",
              "      const buttonEl =\n",
              "        document.querySelector('#df-9f733d25-400e-4c14-a392-b92d5f6497dd button.colab-df-convert');\n",
              "      buttonEl.style.display =\n",
              "        google.colab.kernel.accessAllowed ? 'block' : 'none';\n",
              "\n",
              "      async function convertToInteractive(key) {\n",
              "        const element = document.querySelector('#df-9f733d25-400e-4c14-a392-b92d5f6497dd');\n",
              "        const dataTable =\n",
              "          await google.colab.kernel.invokeFunction('convertToInteractive',\n",
              "                                                    [key], {});\n",
              "        if (!dataTable) return;\n",
              "\n",
              "        const docLinkHtml = 'Like what you see? Visit the ' +\n",
              "          '<a target=\"_blank\" href=https://colab.research.google.com/notebooks/data_table.ipynb>data table notebook</a>'\n",
              "          + ' to learn more about interactive tables.';\n",
              "        element.innerHTML = '';\n",
              "        dataTable['output_type'] = 'display_data';\n",
              "        await google.colab.output.renderOutput(dataTable, element);\n",
              "        const docLink = document.createElement('div');\n",
              "        docLink.innerHTML = docLinkHtml;\n",
              "        element.appendChild(docLink);\n",
              "      }\n",
              "    </script>\n",
              "  </div>\n",
              "\n",
              "\n",
              "<div id=\"df-6b5b98fe-81b9-4daf-a915-198a1cbe55fb\">\n",
              "  <button class=\"colab-df-quickchart\" onclick=\"quickchart('df-6b5b98fe-81b9-4daf-a915-198a1cbe55fb')\"\n",
              "            title=\"Suggest charts\"\n",
              "            style=\"display:none;\">\n",
              "\n",
              "<svg xmlns=\"http://www.w3.org/2000/svg\" height=\"24px\"viewBox=\"0 0 24 24\"\n",
              "     width=\"24px\">\n",
              "    <g>\n",
              "        <path d=\"M19 3H5c-1.1 0-2 .9-2 2v14c0 1.1.9 2 2 2h14c1.1 0 2-.9 2-2V5c0-1.1-.9-2-2-2zM9 17H7v-7h2v7zm4 0h-2V7h2v10zm4 0h-2v-4h2v4z\"/>\n",
              "    </g>\n",
              "</svg>\n",
              "  </button>\n",
              "\n",
              "<style>\n",
              "  .colab-df-quickchart {\n",
              "      --bg-color: #E8F0FE;\n",
              "      --fill-color: #1967D2;\n",
              "      --hover-bg-color: #E2EBFA;\n",
              "      --hover-fill-color: #174EA6;\n",
              "      --disabled-fill-color: #AAA;\n",
              "      --disabled-bg-color: #DDD;\n",
              "  }\n",
              "\n",
              "  [theme=dark] .colab-df-quickchart {\n",
              "      --bg-color: #3B4455;\n",
              "      --fill-color: #D2E3FC;\n",
              "      --hover-bg-color: #434B5C;\n",
              "      --hover-fill-color: #FFFFFF;\n",
              "      --disabled-bg-color: #3B4455;\n",
              "      --disabled-fill-color: #666;\n",
              "  }\n",
              "\n",
              "  .colab-df-quickchart {\n",
              "    background-color: var(--bg-color);\n",
              "    border: none;\n",
              "    border-radius: 50%;\n",
              "    cursor: pointer;\n",
              "    display: none;\n",
              "    fill: var(--fill-color);\n",
              "    height: 32px;\n",
              "    padding: 0;\n",
              "    width: 32px;\n",
              "  }\n",
              "\n",
              "  .colab-df-quickchart:hover {\n",
              "    background-color: var(--hover-bg-color);\n",
              "    box-shadow: 0 1px 2px rgba(60, 64, 67, 0.3), 0 1px 3px 1px rgba(60, 64, 67, 0.15);\n",
              "    fill: var(--button-hover-fill-color);\n",
              "  }\n",
              "\n",
              "  .colab-df-quickchart-complete:disabled,\n",
              "  .colab-df-quickchart-complete:disabled:hover {\n",
              "    background-color: var(--disabled-bg-color);\n",
              "    fill: var(--disabled-fill-color);\n",
              "    box-shadow: none;\n",
              "  }\n",
              "\n",
              "  .colab-df-spinner {\n",
              "    border: 2px solid var(--fill-color);\n",
              "    border-color: transparent;\n",
              "    border-bottom-color: var(--fill-color);\n",
              "    animation:\n",
              "      spin 1s steps(1) infinite;\n",
              "  }\n",
              "\n",
              "  @keyframes spin {\n",
              "    0% {\n",
              "      border-color: transparent;\n",
              "      border-bottom-color: var(--fill-color);\n",
              "      border-left-color: var(--fill-color);\n",
              "    }\n",
              "    20% {\n",
              "      border-color: transparent;\n",
              "      border-left-color: var(--fill-color);\n",
              "      border-top-color: var(--fill-color);\n",
              "    }\n",
              "    30% {\n",
              "      border-color: transparent;\n",
              "      border-left-color: var(--fill-color);\n",
              "      border-top-color: var(--fill-color);\n",
              "      border-right-color: var(--fill-color);\n",
              "    }\n",
              "    40% {\n",
              "      border-color: transparent;\n",
              "      border-right-color: var(--fill-color);\n",
              "      border-top-color: var(--fill-color);\n",
              "    }\n",
              "    60% {\n",
              "      border-color: transparent;\n",
              "      border-right-color: var(--fill-color);\n",
              "    }\n",
              "    80% {\n",
              "      border-color: transparent;\n",
              "      border-right-color: var(--fill-color);\n",
              "      border-bottom-color: var(--fill-color);\n",
              "    }\n",
              "    90% {\n",
              "      border-color: transparent;\n",
              "      border-bottom-color: var(--fill-color);\n",
              "    }\n",
              "  }\n",
              "</style>\n",
              "\n",
              "  <script>\n",
              "    async function quickchart(key) {\n",
              "      const quickchartButtonEl =\n",
              "        document.querySelector('#' + key + ' button');\n",
              "      quickchartButtonEl.disabled = true;  // To prevent multiple clicks.\n",
              "      quickchartButtonEl.classList.add('colab-df-spinner');\n",
              "      try {\n",
              "        const charts = await google.colab.kernel.invokeFunction(\n",
              "            'suggestCharts', [key], {});\n",
              "      } catch (error) {\n",
              "        console.error('Error during call to suggestCharts:', error);\n",
              "      }\n",
              "      quickchartButtonEl.classList.remove('colab-df-spinner');\n",
              "      quickchartButtonEl.classList.add('colab-df-quickchart-complete');\n",
              "    }\n",
              "    (() => {\n",
              "      let quickchartButtonEl =\n",
              "        document.querySelector('#df-6b5b98fe-81b9-4daf-a915-198a1cbe55fb button');\n",
              "      quickchartButtonEl.style.display =\n",
              "        google.colab.kernel.accessAllowed ? 'block' : 'none';\n",
              "    })();\n",
              "  </script>\n",
              "</div>\n",
              "\n",
              "  <div id=\"id_1cf84187-664d-4458-a796-4f3d977fbd72\">\n",
              "    <style>\n",
              "      .colab-df-generate {\n",
              "        background-color: #E8F0FE;\n",
              "        border: none;\n",
              "        border-radius: 50%;\n",
              "        cursor: pointer;\n",
              "        display: none;\n",
              "        fill: #1967D2;\n",
              "        height: 32px;\n",
              "        padding: 0 0 0 0;\n",
              "        width: 32px;\n",
              "      }\n",
              "\n",
              "      .colab-df-generate:hover {\n",
              "        background-color: #E2EBFA;\n",
              "        box-shadow: 0px 1px 2px rgba(60, 64, 67, 0.3), 0px 1px 3px 1px rgba(60, 64, 67, 0.15);\n",
              "        fill: #174EA6;\n",
              "      }\n",
              "\n",
              "      [theme=dark] .colab-df-generate {\n",
              "        background-color: #3B4455;\n",
              "        fill: #D2E3FC;\n",
              "      }\n",
              "\n",
              "      [theme=dark] .colab-df-generate:hover {\n",
              "        background-color: #434B5C;\n",
              "        box-shadow: 0px 1px 3px 1px rgba(0, 0, 0, 0.15);\n",
              "        filter: drop-shadow(0px 1px 2px rgba(0, 0, 0, 0.3));\n",
              "        fill: #FFFFFF;\n",
              "      }\n",
              "    </style>\n",
              "    <button class=\"colab-df-generate\" onclick=\"generateWithVariable('et_train_without_GT1_overlap')\"\n",
              "            title=\"Generate code using this dataframe.\"\n",
              "            style=\"display:none;\">\n",
              "\n",
              "  <svg xmlns=\"http://www.w3.org/2000/svg\" height=\"24px\"viewBox=\"0 0 24 24\"\n",
              "       width=\"24px\">\n",
              "    <path d=\"M7,19H8.4L18.45,9,17,7.55,7,17.6ZM5,21V16.75L18.45,3.32a2,2,0,0,1,2.83,0l1.4,1.43a1.91,1.91,0,0,1,.58,1.4,1.91,1.91,0,0,1-.58,1.4L9.25,21ZM18.45,9,17,7.55Zm-12,3A5.31,5.31,0,0,0,4.9,8.1,5.31,5.31,0,0,0,1,6.5,5.31,5.31,0,0,0,4.9,4.9,5.31,5.31,0,0,0,6.5,1,5.31,5.31,0,0,0,8.1,4.9,5.31,5.31,0,0,0,12,6.5,5.46,5.46,0,0,0,6.5,12Z\"/>\n",
              "  </svg>\n",
              "    </button>\n",
              "    <script>\n",
              "      (() => {\n",
              "      const buttonEl =\n",
              "        document.querySelector('#id_1cf84187-664d-4458-a796-4f3d977fbd72 button.colab-df-generate');\n",
              "      buttonEl.style.display =\n",
              "        google.colab.kernel.accessAllowed ? 'block' : 'none';\n",
              "\n",
              "      buttonEl.onclick = () => {\n",
              "        google.colab.notebook.generateWithVariable('et_train_without_GT1_overlap');\n",
              "      }\n",
              "      })();\n",
              "    </script>\n",
              "  </div>\n",
              "\n",
              "    </div>\n",
              "  </div>\n"
            ],
            "application/vnd.google.colaboratory.intrinsic+json": {
              "type": "dataframe",
              "variable_name": "et_train_without_GT1_overlap"
            }
          },
          "metadata": {},
          "execution_count": 18
        }
      ]
    },
    {
      "cell_type": "code",
      "source": [
        "et_test_without_GT1_no_overlap"
      ],
      "metadata": {
        "colab": {
          "base_uri": "https://localhost:8080/",
          "height": 424
        },
        "id": "Wa-nerNoTrQi",
        "outputId": "eb074d08-94a4-463c-deb6-7f31526c85f3"
      },
      "execution_count": 19,
      "outputs": [
        {
          "output_type": "execute_result",
          "data": {
            "text/plain": [
              "           L_x     L_y     L_z     C_x     C_y     C_z  time_diff\n",
              "79689  -4.9724  0.4638  4.6958 -0.1375  1.3894 -1.5004      0.022\n",
              "79690  -2.9690  0.8912  2.0914 -0.1374  1.3894 -1.5003      0.022\n",
              "79691  -2.9690  0.8812  2.1000 -0.1373  1.3893 -1.5001      0.022\n",
              "79692  -2.9690  0.8610  2.0807 -0.1372  1.3892 -1.5000      0.022\n",
              "79693  -4.8530  0.4135  4.7060 -0.1371  1.3892 -1.4997      0.023\n",
              "...        ...     ...     ...     ...     ...     ...        ...\n",
              "106247 -2.9690  1.1224  0.8590 -0.1139  1.5114 -1.4982      0.023\n",
              "106248 -2.9690  1.1208  0.8585 -0.1139  1.5114 -1.4982      0.023\n",
              "106249 -2.9690  1.1209  0.8566 -0.1138  1.5114 -1.4983      0.022\n",
              "106250 -2.9690  1.1262  0.8472 -0.1138  1.5114 -1.4984      0.022\n",
              "106251 -2.9690  1.1282  0.8475 -0.1138  1.5115 -1.4985      0.023\n",
              "\n",
              "[26563 rows x 7 columns]"
            ],
            "text/html": [
              "\n",
              "  <div id=\"df-3017a582-d1aa-40ec-816b-151385e18e1c\" class=\"colab-df-container\">\n",
              "    <div>\n",
              "<style scoped>\n",
              "    .dataframe tbody tr th:only-of-type {\n",
              "        vertical-align: middle;\n",
              "    }\n",
              "\n",
              "    .dataframe tbody tr th {\n",
              "        vertical-align: top;\n",
              "    }\n",
              "\n",
              "    .dataframe thead th {\n",
              "        text-align: right;\n",
              "    }\n",
              "</style>\n",
              "<table border=\"1\" class=\"dataframe\">\n",
              "  <thead>\n",
              "    <tr style=\"text-align: right;\">\n",
              "      <th></th>\n",
              "      <th>L_x</th>\n",
              "      <th>L_y</th>\n",
              "      <th>L_z</th>\n",
              "      <th>C_x</th>\n",
              "      <th>C_y</th>\n",
              "      <th>C_z</th>\n",
              "      <th>time_diff</th>\n",
              "    </tr>\n",
              "  </thead>\n",
              "  <tbody>\n",
              "    <tr>\n",
              "      <th>79689</th>\n",
              "      <td>-4.9724</td>\n",
              "      <td>0.4638</td>\n",
              "      <td>4.6958</td>\n",
              "      <td>-0.1375</td>\n",
              "      <td>1.3894</td>\n",
              "      <td>-1.5004</td>\n",
              "      <td>0.022</td>\n",
              "    </tr>\n",
              "    <tr>\n",
              "      <th>79690</th>\n",
              "      <td>-2.9690</td>\n",
              "      <td>0.8912</td>\n",
              "      <td>2.0914</td>\n",
              "      <td>-0.1374</td>\n",
              "      <td>1.3894</td>\n",
              "      <td>-1.5003</td>\n",
              "      <td>0.022</td>\n",
              "    </tr>\n",
              "    <tr>\n",
              "      <th>79691</th>\n",
              "      <td>-2.9690</td>\n",
              "      <td>0.8812</td>\n",
              "      <td>2.1000</td>\n",
              "      <td>-0.1373</td>\n",
              "      <td>1.3893</td>\n",
              "      <td>-1.5001</td>\n",
              "      <td>0.022</td>\n",
              "    </tr>\n",
              "    <tr>\n",
              "      <th>79692</th>\n",
              "      <td>-2.9690</td>\n",
              "      <td>0.8610</td>\n",
              "      <td>2.0807</td>\n",
              "      <td>-0.1372</td>\n",
              "      <td>1.3892</td>\n",
              "      <td>-1.5000</td>\n",
              "      <td>0.022</td>\n",
              "    </tr>\n",
              "    <tr>\n",
              "      <th>79693</th>\n",
              "      <td>-4.8530</td>\n",
              "      <td>0.4135</td>\n",
              "      <td>4.7060</td>\n",
              "      <td>-0.1371</td>\n",
              "      <td>1.3892</td>\n",
              "      <td>-1.4997</td>\n",
              "      <td>0.023</td>\n",
              "    </tr>\n",
              "    <tr>\n",
              "      <th>...</th>\n",
              "      <td>...</td>\n",
              "      <td>...</td>\n",
              "      <td>...</td>\n",
              "      <td>...</td>\n",
              "      <td>...</td>\n",
              "      <td>...</td>\n",
              "      <td>...</td>\n",
              "    </tr>\n",
              "    <tr>\n",
              "      <th>106247</th>\n",
              "      <td>-2.9690</td>\n",
              "      <td>1.1224</td>\n",
              "      <td>0.8590</td>\n",
              "      <td>-0.1139</td>\n",
              "      <td>1.5114</td>\n",
              "      <td>-1.4982</td>\n",
              "      <td>0.023</td>\n",
              "    </tr>\n",
              "    <tr>\n",
              "      <th>106248</th>\n",
              "      <td>-2.9690</td>\n",
              "      <td>1.1208</td>\n",
              "      <td>0.8585</td>\n",
              "      <td>-0.1139</td>\n",
              "      <td>1.5114</td>\n",
              "      <td>-1.4982</td>\n",
              "      <td>0.023</td>\n",
              "    </tr>\n",
              "    <tr>\n",
              "      <th>106249</th>\n",
              "      <td>-2.9690</td>\n",
              "      <td>1.1209</td>\n",
              "      <td>0.8566</td>\n",
              "      <td>-0.1138</td>\n",
              "      <td>1.5114</td>\n",
              "      <td>-1.4983</td>\n",
              "      <td>0.022</td>\n",
              "    </tr>\n",
              "    <tr>\n",
              "      <th>106250</th>\n",
              "      <td>-2.9690</td>\n",
              "      <td>1.1262</td>\n",
              "      <td>0.8472</td>\n",
              "      <td>-0.1138</td>\n",
              "      <td>1.5114</td>\n",
              "      <td>-1.4984</td>\n",
              "      <td>0.022</td>\n",
              "    </tr>\n",
              "    <tr>\n",
              "      <th>106251</th>\n",
              "      <td>-2.9690</td>\n",
              "      <td>1.1282</td>\n",
              "      <td>0.8475</td>\n",
              "      <td>-0.1138</td>\n",
              "      <td>1.5115</td>\n",
              "      <td>-1.4985</td>\n",
              "      <td>0.023</td>\n",
              "    </tr>\n",
              "  </tbody>\n",
              "</table>\n",
              "<p>26563 rows × 7 columns</p>\n",
              "</div>\n",
              "    <div class=\"colab-df-buttons\">\n",
              "\n",
              "  <div class=\"colab-df-container\">\n",
              "    <button class=\"colab-df-convert\" onclick=\"convertToInteractive('df-3017a582-d1aa-40ec-816b-151385e18e1c')\"\n",
              "            title=\"Convert this dataframe to an interactive table.\"\n",
              "            style=\"display:none;\">\n",
              "\n",
              "  <svg xmlns=\"http://www.w3.org/2000/svg\" height=\"24px\" viewBox=\"0 -960 960 960\">\n",
              "    <path d=\"M120-120v-720h720v720H120Zm60-500h600v-160H180v160Zm220 220h160v-160H400v160Zm0 220h160v-160H400v160ZM180-400h160v-160H180v160Zm440 0h160v-160H620v160ZM180-180h160v-160H180v160Zm440 0h160v-160H620v160Z\"/>\n",
              "  </svg>\n",
              "    </button>\n",
              "\n",
              "  <style>\n",
              "    .colab-df-container {\n",
              "      display:flex;\n",
              "      gap: 12px;\n",
              "    }\n",
              "\n",
              "    .colab-df-convert {\n",
              "      background-color: #E8F0FE;\n",
              "      border: none;\n",
              "      border-radius: 50%;\n",
              "      cursor: pointer;\n",
              "      display: none;\n",
              "      fill: #1967D2;\n",
              "      height: 32px;\n",
              "      padding: 0 0 0 0;\n",
              "      width: 32px;\n",
              "    }\n",
              "\n",
              "    .colab-df-convert:hover {\n",
              "      background-color: #E2EBFA;\n",
              "      box-shadow: 0px 1px 2px rgba(60, 64, 67, 0.3), 0px 1px 3px 1px rgba(60, 64, 67, 0.15);\n",
              "      fill: #174EA6;\n",
              "    }\n",
              "\n",
              "    .colab-df-buttons div {\n",
              "      margin-bottom: 4px;\n",
              "    }\n",
              "\n",
              "    [theme=dark] .colab-df-convert {\n",
              "      background-color: #3B4455;\n",
              "      fill: #D2E3FC;\n",
              "    }\n",
              "\n",
              "    [theme=dark] .colab-df-convert:hover {\n",
              "      background-color: #434B5C;\n",
              "      box-shadow: 0px 1px 3px 1px rgba(0, 0, 0, 0.15);\n",
              "      filter: drop-shadow(0px 1px 2px rgba(0, 0, 0, 0.3));\n",
              "      fill: #FFFFFF;\n",
              "    }\n",
              "  </style>\n",
              "\n",
              "    <script>\n",
              "      const buttonEl =\n",
              "        document.querySelector('#df-3017a582-d1aa-40ec-816b-151385e18e1c button.colab-df-convert');\n",
              "      buttonEl.style.display =\n",
              "        google.colab.kernel.accessAllowed ? 'block' : 'none';\n",
              "\n",
              "      async function convertToInteractive(key) {\n",
              "        const element = document.querySelector('#df-3017a582-d1aa-40ec-816b-151385e18e1c');\n",
              "        const dataTable =\n",
              "          await google.colab.kernel.invokeFunction('convertToInteractive',\n",
              "                                                    [key], {});\n",
              "        if (!dataTable) return;\n",
              "\n",
              "        const docLinkHtml = 'Like what you see? Visit the ' +\n",
              "          '<a target=\"_blank\" href=https://colab.research.google.com/notebooks/data_table.ipynb>data table notebook</a>'\n",
              "          + ' to learn more about interactive tables.';\n",
              "        element.innerHTML = '';\n",
              "        dataTable['output_type'] = 'display_data';\n",
              "        await google.colab.output.renderOutput(dataTable, element);\n",
              "        const docLink = document.createElement('div');\n",
              "        docLink.innerHTML = docLinkHtml;\n",
              "        element.appendChild(docLink);\n",
              "      }\n",
              "    </script>\n",
              "  </div>\n",
              "\n",
              "\n",
              "<div id=\"df-a475c241-261c-4bc4-ba55-cb3ce81bec9c\">\n",
              "  <button class=\"colab-df-quickchart\" onclick=\"quickchart('df-a475c241-261c-4bc4-ba55-cb3ce81bec9c')\"\n",
              "            title=\"Suggest charts\"\n",
              "            style=\"display:none;\">\n",
              "\n",
              "<svg xmlns=\"http://www.w3.org/2000/svg\" height=\"24px\"viewBox=\"0 0 24 24\"\n",
              "     width=\"24px\">\n",
              "    <g>\n",
              "        <path d=\"M19 3H5c-1.1 0-2 .9-2 2v14c0 1.1.9 2 2 2h14c1.1 0 2-.9 2-2V5c0-1.1-.9-2-2-2zM9 17H7v-7h2v7zm4 0h-2V7h2v10zm4 0h-2v-4h2v4z\"/>\n",
              "    </g>\n",
              "</svg>\n",
              "  </button>\n",
              "\n",
              "<style>\n",
              "  .colab-df-quickchart {\n",
              "      --bg-color: #E8F0FE;\n",
              "      --fill-color: #1967D2;\n",
              "      --hover-bg-color: #E2EBFA;\n",
              "      --hover-fill-color: #174EA6;\n",
              "      --disabled-fill-color: #AAA;\n",
              "      --disabled-bg-color: #DDD;\n",
              "  }\n",
              "\n",
              "  [theme=dark] .colab-df-quickchart {\n",
              "      --bg-color: #3B4455;\n",
              "      --fill-color: #D2E3FC;\n",
              "      --hover-bg-color: #434B5C;\n",
              "      --hover-fill-color: #FFFFFF;\n",
              "      --disabled-bg-color: #3B4455;\n",
              "      --disabled-fill-color: #666;\n",
              "  }\n",
              "\n",
              "  .colab-df-quickchart {\n",
              "    background-color: var(--bg-color);\n",
              "    border: none;\n",
              "    border-radius: 50%;\n",
              "    cursor: pointer;\n",
              "    display: none;\n",
              "    fill: var(--fill-color);\n",
              "    height: 32px;\n",
              "    padding: 0;\n",
              "    width: 32px;\n",
              "  }\n",
              "\n",
              "  .colab-df-quickchart:hover {\n",
              "    background-color: var(--hover-bg-color);\n",
              "    box-shadow: 0 1px 2px rgba(60, 64, 67, 0.3), 0 1px 3px 1px rgba(60, 64, 67, 0.15);\n",
              "    fill: var(--button-hover-fill-color);\n",
              "  }\n",
              "\n",
              "  .colab-df-quickchart-complete:disabled,\n",
              "  .colab-df-quickchart-complete:disabled:hover {\n",
              "    background-color: var(--disabled-bg-color);\n",
              "    fill: var(--disabled-fill-color);\n",
              "    box-shadow: none;\n",
              "  }\n",
              "\n",
              "  .colab-df-spinner {\n",
              "    border: 2px solid var(--fill-color);\n",
              "    border-color: transparent;\n",
              "    border-bottom-color: var(--fill-color);\n",
              "    animation:\n",
              "      spin 1s steps(1) infinite;\n",
              "  }\n",
              "\n",
              "  @keyframes spin {\n",
              "    0% {\n",
              "      border-color: transparent;\n",
              "      border-bottom-color: var(--fill-color);\n",
              "      border-left-color: var(--fill-color);\n",
              "    }\n",
              "    20% {\n",
              "      border-color: transparent;\n",
              "      border-left-color: var(--fill-color);\n",
              "      border-top-color: var(--fill-color);\n",
              "    }\n",
              "    30% {\n",
              "      border-color: transparent;\n",
              "      border-left-color: var(--fill-color);\n",
              "      border-top-color: var(--fill-color);\n",
              "      border-right-color: var(--fill-color);\n",
              "    }\n",
              "    40% {\n",
              "      border-color: transparent;\n",
              "      border-right-color: var(--fill-color);\n",
              "      border-top-color: var(--fill-color);\n",
              "    }\n",
              "    60% {\n",
              "      border-color: transparent;\n",
              "      border-right-color: var(--fill-color);\n",
              "    }\n",
              "    80% {\n",
              "      border-color: transparent;\n",
              "      border-right-color: var(--fill-color);\n",
              "      border-bottom-color: var(--fill-color);\n",
              "    }\n",
              "    90% {\n",
              "      border-color: transparent;\n",
              "      border-bottom-color: var(--fill-color);\n",
              "    }\n",
              "  }\n",
              "</style>\n",
              "\n",
              "  <script>\n",
              "    async function quickchart(key) {\n",
              "      const quickchartButtonEl =\n",
              "        document.querySelector('#' + key + ' button');\n",
              "      quickchartButtonEl.disabled = true;  // To prevent multiple clicks.\n",
              "      quickchartButtonEl.classList.add('colab-df-spinner');\n",
              "      try {\n",
              "        const charts = await google.colab.kernel.invokeFunction(\n",
              "            'suggestCharts', [key], {});\n",
              "      } catch (error) {\n",
              "        console.error('Error during call to suggestCharts:', error);\n",
              "      }\n",
              "      quickchartButtonEl.classList.remove('colab-df-spinner');\n",
              "      quickchartButtonEl.classList.add('colab-df-quickchart-complete');\n",
              "    }\n",
              "    (() => {\n",
              "      let quickchartButtonEl =\n",
              "        document.querySelector('#df-a475c241-261c-4bc4-ba55-cb3ce81bec9c button');\n",
              "      quickchartButtonEl.style.display =\n",
              "        google.colab.kernel.accessAllowed ? 'block' : 'none';\n",
              "    })();\n",
              "  </script>\n",
              "</div>\n",
              "\n",
              "  <div id=\"id_e65ec22c-d1fe-40e8-b693-ba08b990011f\">\n",
              "    <style>\n",
              "      .colab-df-generate {\n",
              "        background-color: #E8F0FE;\n",
              "        border: none;\n",
              "        border-radius: 50%;\n",
              "        cursor: pointer;\n",
              "        display: none;\n",
              "        fill: #1967D2;\n",
              "        height: 32px;\n",
              "        padding: 0 0 0 0;\n",
              "        width: 32px;\n",
              "      }\n",
              "\n",
              "      .colab-df-generate:hover {\n",
              "        background-color: #E2EBFA;\n",
              "        box-shadow: 0px 1px 2px rgba(60, 64, 67, 0.3), 0px 1px 3px 1px rgba(60, 64, 67, 0.15);\n",
              "        fill: #174EA6;\n",
              "      }\n",
              "\n",
              "      [theme=dark] .colab-df-generate {\n",
              "        background-color: #3B4455;\n",
              "        fill: #D2E3FC;\n",
              "      }\n",
              "\n",
              "      [theme=dark] .colab-df-generate:hover {\n",
              "        background-color: #434B5C;\n",
              "        box-shadow: 0px 1px 3px 1px rgba(0, 0, 0, 0.15);\n",
              "        filter: drop-shadow(0px 1px 2px rgba(0, 0, 0, 0.3));\n",
              "        fill: #FFFFFF;\n",
              "      }\n",
              "    </style>\n",
              "    <button class=\"colab-df-generate\" onclick=\"generateWithVariable('et_test_without_GT1_no_overlap')\"\n",
              "            title=\"Generate code using this dataframe.\"\n",
              "            style=\"display:none;\">\n",
              "\n",
              "  <svg xmlns=\"http://www.w3.org/2000/svg\" height=\"24px\"viewBox=\"0 0 24 24\"\n",
              "       width=\"24px\">\n",
              "    <path d=\"M7,19H8.4L18.45,9,17,7.55,7,17.6ZM5,21V16.75L18.45,3.32a2,2,0,0,1,2.83,0l1.4,1.43a1.91,1.91,0,0,1,.58,1.4,1.91,1.91,0,0,1-.58,1.4L9.25,21ZM18.45,9,17,7.55Zm-12,3A5.31,5.31,0,0,0,4.9,8.1,5.31,5.31,0,0,0,1,6.5,5.31,5.31,0,0,0,4.9,4.9,5.31,5.31,0,0,0,6.5,1,5.31,5.31,0,0,0,8.1,4.9,5.31,5.31,0,0,0,12,6.5,5.46,5.46,0,0,0,6.5,12Z\"/>\n",
              "  </svg>\n",
              "    </button>\n",
              "    <script>\n",
              "      (() => {\n",
              "      const buttonEl =\n",
              "        document.querySelector('#id_e65ec22c-d1fe-40e8-b693-ba08b990011f button.colab-df-generate');\n",
              "      buttonEl.style.display =\n",
              "        google.colab.kernel.accessAllowed ? 'block' : 'none';\n",
              "\n",
              "      buttonEl.onclick = () => {\n",
              "        google.colab.notebook.generateWithVariable('et_test_without_GT1_no_overlap');\n",
              "      }\n",
              "      })();\n",
              "    </script>\n",
              "  </div>\n",
              "\n",
              "    </div>\n",
              "  </div>\n"
            ],
            "application/vnd.google.colaboratory.intrinsic+json": {
              "type": "dataframe",
              "variable_name": "et_test_without_GT1_no_overlap",
              "summary": "{\n  \"name\": \"et_test_without_GT1_no_overlap\",\n  \"rows\": 26563,\n  \"fields\": [\n    {\n      \"column\": \"L_x\",\n      \"properties\": {\n        \"dtype\": \"float32\",\n        \"num_unique_values\": 1229,\n        \"samples\": [\n          -13.800399780273438,\n          -4.894899845123291,\n          -13.591400146484375\n        ],\n        \"semantic_type\": \"\",\n        \"description\": \"\"\n      }\n    },\n    {\n      \"column\": \"L_y\",\n      \"properties\": {\n        \"dtype\": \"float32\",\n        \"num_unique_values\": 11345,\n        \"samples\": [\n          1.2869000434875488,\n          1.6916999816894531,\n          0.7718999981880188\n        ],\n        \"semantic_type\": \"\",\n        \"description\": \"\"\n      }\n    },\n    {\n      \"column\": \"L_z\",\n      \"properties\": {\n        \"dtype\": \"float32\",\n        \"num_unique_values\": 15323,\n        \"samples\": [\n          1.3147000074386597,\n          -0.7405999898910522,\n          -1.4483000040054321\n        ],\n        \"semantic_type\": \"\",\n        \"description\": \"\"\n      }\n    },\n    {\n      \"column\": \"C_x\",\n      \"properties\": {\n        \"dtype\": \"float32\",\n        \"num_unique_values\": 2313,\n        \"samples\": [\n          -0.11410000175237656,\n          -0.16410000622272491,\n          -0.3084000051021576\n        ],\n        \"semantic_type\": \"\",\n        \"description\": \"\"\n      }\n    },\n    {\n      \"column\": \"C_y\",\n      \"properties\": {\n        \"dtype\": \"float32\",\n        \"num_unique_values\": 1487,\n        \"samples\": [\n          1.5906000137329102,\n          1.5166000127792358,\n          1.5202000141143799\n        ],\n        \"semantic_type\": \"\",\n        \"description\": \"\"\n      }\n    },\n    {\n      \"column\": \"C_z\",\n      \"properties\": {\n        \"dtype\": \"float32\",\n        \"num_unique_values\": 2726,\n        \"samples\": [\n          -1.4208999872207642,\n          -1.38919997215271,\n          -1.3514000177383423\n        ],\n        \"semantic_type\": \"\",\n        \"description\": \"\"\n      }\n    },\n    {\n      \"column\": \"time_diff\",\n      \"properties\": {\n        \"dtype\": \"float32\",\n        \"num_unique_values\": 71,\n        \"samples\": [\n          0.027000000700354576,\n          0.02199999988079071,\n          0.22300000488758087\n        ],\n        \"semantic_type\": \"\",\n        \"description\": \"\"\n      }\n    }\n  ]\n}"
            }
          },
          "metadata": {},
          "execution_count": 19
        }
      ]
    },
    {
      "cell_type": "markdown",
      "source": [
        "## OVERLAPPING THE LABEL GT1 - Y TRAIN -\n",
        "###(Need to overlap the dataset before separatig the features and labels because of the column \"observer\", used in the function:  subset_training_data_overlap_by_rows)"
      ],
      "metadata": {
        "id": "79wq5zak3Jdl"
      }
    },
    {
      "cell_type": "code",
      "source": [
        "## SPLIT TRAIN/TEST, than overlap: et_train_GT1\n",
        "eye_tracking_data_complete = eye_tracking_data.astype('float32')\n",
        "\n",
        "train_split = 0.75\n",
        "dataset_size = len(eye_tracking_data_complete)\n",
        "indices = list(range(dataset_size))\n",
        "split = int(np.floor(train_split * dataset_size))\n",
        "\n",
        "et_train_complete = eye_tracking_data_complete.iloc[:split, :]\n",
        "# et_test_GT1 = eye_tracking_data_GT1.iloc[split:, :]\n",
        "\n",
        "### OVERLAP COMPLETE DATA - NOT POSSIBLE ONLY GT1 BECAUSE THERE IS NO OBSERVER COLUMN\n",
        "\n",
        "et_train_complete_overlap = subset_training_data_overlap_by_rows(et_train_complete)\n",
        "print(f\"et_train_complete_overlap shape is: {et_train_complete_overlap.shape}\\n\")\n",
        "print(et_train_complete_overlap.head(3))\n",
        "\n",
        "### then REMOVE FEATUES\n"
      ],
      "metadata": {
        "colab": {
          "base_uri": "https://localhost:8080/"
        },
        "id": "fNqp97d73QtI",
        "outputId": "397ce692-d3d3-4185-cf95-56786c8be5c4"
      },
      "execution_count": 35,
      "outputs": [
        {
          "output_type": "stream",
          "name": "stdout",
          "text": [
            "et_train_complete_overlap shape is: (108821, 11)\n",
            "\n",
            "    time    L_x     L_y     L_z     C_x     C_y     C_z  GT1  observer  \\\n",
            "0  9.314 -2.969  1.6232 -1.2434 -0.4009  1.6289 -1.2939  0.0       1.0   \n",
            "1  9.337 -2.969  1.6255 -1.2432 -0.4007  1.6290 -1.2940  0.0       1.0   \n",
            "2  9.360 -2.969  1.6260 -1.2447 -0.4006  1.6290 -1.2940  0.0       1.0   \n",
            "\n",
            "   time_diff  subset  \n",
            "0      0.000       1  \n",
            "1      0.023       1  \n",
            "2      0.023       1  \n"
          ]
        }
      ]
    },
    {
      "cell_type": "code",
      "source": [
        "# Convert all columns to float32 for compatibility with PyTorch\n",
        "\n",
        "et_train_GT1_overlap = et_train_complete_overlap[['GT1']]\n",
        "\n",
        "print(f\"et_train_GT1_overlap shape is: {et_train_GT1_overlap.shape}\\n\")"
      ],
      "metadata": {
        "colab": {
          "base_uri": "https://localhost:8080/"
        },
        "id": "fUiZctUGHCkD",
        "outputId": "cf747c74-b770-437b-ae6d-aa87f4c294e4"
      },
      "execution_count": 36,
      "outputs": [
        {
          "output_type": "stream",
          "name": "stdout",
          "text": [
            "et_train_GT1_overlap shape is: (108821, 1)\n",
            "\n"
          ]
        }
      ]
    },
    {
      "cell_type": "markdown",
      "source": [
        "## Data Normalization"
      ],
      "metadata": {
        "id": "lz6dr28WOorc"
      }
    },
    {
      "cell_type": "code",
      "source": [
        "## DATA NORMALIZATION\n",
        "\n",
        "# Good practice to keep original dataframes untouched for reusability https://www.datacamp.com/tutorial/normalization-in-machine-learning?utm_source=google&utm_medium=paid_search&utm_campaignid=19589720821&utm_adgroupid=157156374951&utm_device=c&utm_keyword=&utm_matchtype=&utm_network=g&utm_adpostion=&utm_creative=684592139651&utm_targetid=aud-1940143831083:dsa-2218886984380&utm_loc_interest_ms=&utm_loc_physical_ms=9065007&utm_content=&utm_campaign=230119_1-sea~dsa~tofu_2-b2c_3-row-p1_4-prc_5-na_6-na_7-le_8-pdsh-go_9-nb-e_10-na_11-na&gad_source=1&gclid=Cj0KCQiApNW6BhD5ARIsACmEbkV4CiclaE8Gp-cKYV-93b7n6IT0qCIhGa9hPtTT_SHKo2qodHl_i5kaAn91EALw_wcB\n",
        "\n",
        "et_train_without_GT1_copy = et_train_without_GT1.copy()\n",
        "et_test_without_GT1_copy = et_test_without_GT1.copy()\n",
        "\n",
        "\n",
        "# Fit min-max scaler on training data\n",
        "norm = MinMaxScaler().fit(et_train_without_GT1_overlap)\n",
        "\n",
        "# Transform the training data\n",
        "et_train_without_GT1_overlap_norm = norm.transform(et_train_without_GT1_overlap)\n",
        "# et_train_without_GT1_overlap_norm = norm.transform(et_train_without_GT1)\n",
        "\n",
        "# Use the same scaler to transform the testing set\n",
        "et_test_without_GT1_no_overlap_norm = norm.transform(et_test_without_GT1_no_overlap)\n",
        "#et_test_without_GT1_overlap_norm = norm.transform(et_test_without_GT1)"
      ],
      "metadata": {
        "id": "HkC86bjjNehE"
      },
      "execution_count": 20,
      "outputs": []
    },
    {
      "cell_type": "code",
      "source": [
        "## y - labels - normalization - NO NEED ITS CLASSIFICATION 0 OR 1\n",
        "\n",
        "# et_train_GT1_overlap_norm = norm.transform(et_train_GT1_overlap)\n"
      ],
      "metadata": {
        "id": "JxwsYTJnvmZw"
      },
      "execution_count": null,
      "outputs": []
    },
    {
      "cell_type": "code",
      "source": [
        "et_train_without_GT1_overlap_norm.shape\n",
        "\n",
        "#et_train_without_GT1_overlap.head(3)"
      ],
      "metadata": {
        "colab": {
          "base_uri": "https://localhost:8080/"
        },
        "id": "mmn-ifaRKuBp",
        "outputId": "4129914c-3c37-45f7-cc17-1210def91aa0"
      },
      "execution_count": 21,
      "outputs": [
        {
          "output_type": "execute_result",
          "data": {
            "text/plain": [
              "(108821, 7)"
            ]
          },
          "metadata": {},
          "execution_count": 21
        }
      ]
    },
    {
      "cell_type": "code",
      "source": [
        "print(f\"et_train_without_GT1_overlap shape is: {et_train_without_GT1_overlap.shape}\")\n",
        "# print(f\"et_test_without_GT1_overlap shape is: {et_test_without_GT1_overlap.shape}\")\n",
        "print(f\"et_test_without_GT1_no_overlap shape is: {et_test_without_GT1_no_overlap.shape}\")"
      ],
      "metadata": {
        "colab": {
          "base_uri": "https://localhost:8080/"
        },
        "id": "9MIthPHUmR48",
        "outputId": "4d274513-05ec-497a-d8e4-31735e6690f3"
      },
      "execution_count": 22,
      "outputs": [
        {
          "output_type": "stream",
          "name": "stdout",
          "text": [
            "et_train_without_GT1_overlap shape is: (108821, 7)\n",
            "et_test_without_GT1_no_overlap shape is: (26563, 7)\n"
          ]
        }
      ]
    },
    {
      "cell_type": "code",
      "source": [
        "print(\"et_train_without_GT1_overlap_norm shape is:\", et_train_without_GT1_overlap_norm.shape)\n",
        "print(\"et_test_without_GT1_no_overlap_norm shape is:\", et_test_without_GT1_no_overlap_norm.shape)"
      ],
      "metadata": {
        "colab": {
          "base_uri": "https://localhost:8080/"
        },
        "id": "YdFf36YaVxjU",
        "outputId": "aa754cf6-e4f3-4947-e533-6addb7cea201"
      },
      "execution_count": 23,
      "outputs": [
        {
          "output_type": "stream",
          "name": "stdout",
          "text": [
            "et_train_without_GT1_overlap_norm shape is: (108821, 7)\n",
            "et_test_without_GT1_no_overlap_norm shape is: (26563, 7)\n"
          ]
        }
      ]
    },
    {
      "cell_type": "code",
      "source": [
        "et_train_without_GT1_overlap_norm"
      ],
      "metadata": {
        "colab": {
          "base_uri": "https://localhost:8080/"
        },
        "id": "EgsuJPAtUFrF",
        "outputId": "f812af40-a257-4585-807a-740c19dd6a93"
      },
      "execution_count": 24,
      "outputs": [
        {
          "output_type": "execute_result",
          "data": {
            "text/plain": [
              "array([[0.9590517 , 0.4440523 , 0.33516896, ..., 0.5125704 , 0.5791006 ,\n",
              "        0.988464  ],\n",
              "       [0.9590517 , 0.4442532 , 0.33517957, ..., 0.5127778 , 0.57890654,\n",
              "        0.98884964],\n",
              "       [0.9590517 , 0.4442969 , 0.33510005, ..., 0.5127778 , 0.57890654,\n",
              "        0.98884964],\n",
              "       ...,\n",
              "       [0.9590517 , 0.38258803, 0.50303173, ..., 0.01579046, 0.17816997,\n",
              "        0.98881614],\n",
              "       [0.9590517 , 0.38168827, 0.5034716 , ..., 0.01558304, 0.17816997,\n",
              "        0.9888329 ],\n",
              "       [0.9590517 , 0.38110298, 0.50409174, ..., 0.01537514, 0.1783638 ,\n",
              "        0.98884964]], dtype=float32)"
            ]
          },
          "metadata": {},
          "execution_count": 24
        }
      ]
    },
    {
      "cell_type": "code",
      "source": [
        "et_test_without_GT1_no_overlap_norm\n",
        "#et_test_without_GT1_no_overlap.head(3)"
      ],
      "metadata": {
        "colab": {
          "base_uri": "https://localhost:8080/"
        },
        "id": "nnorG439MaZB",
        "outputId": "2a0bf3a8-679d-4e52-cf62-85a28a201ed1"
      },
      "execution_count": 25,
      "outputs": [
        {
          "output_type": "execute_result",
          "data": {
            "text/plain": [
              "array([[0.82645786, 0.34277079, 0.6499586 , ..., 0.01495957, 0.1787517 ,\n",
              "        0.9888329 ],\n",
              "       [0.9590517 , 0.3801071 , 0.51192015, ..., 0.01495957, 0.1789453 ,\n",
              "        0.9888329 ],\n",
              "       [0.9590517 , 0.37923354, 0.51237595, ..., 0.01475167, 0.17933321,\n",
              "        0.9888329 ],\n",
              "       ...,\n",
              "       [0.9590517 , 0.40017295, 0.44647324, ..., 0.26843977, 0.18282294,\n",
              "        0.9888329 ],\n",
              "       [0.9590517 , 0.40063596, 0.445975  , ..., 0.26843977, 0.18262911,\n",
              "        0.9888329 ],\n",
              "       [0.9590517 , 0.40081066, 0.44599092, ..., 0.26864743, 0.18243527,\n",
              "        0.98884964]], dtype=float32)"
            ]
          },
          "metadata": {},
          "execution_count": 25
        }
      ]
    },
    {
      "cell_type": "markdown",
      "source": [
        "## FEATURES OVERLAPPED IN THE **ENCODER**"
      ],
      "metadata": {
        "id": "_s25O4A_2veE"
      }
    },
    {
      "cell_type": "markdown",
      "source": [
        "## Using label this time instead of x_copy"
      ],
      "metadata": {
        "id": "vEmPtTZInjFS"
      }
    },
    {
      "cell_type": "code",
      "source": [
        "# Convert the df to PyTorch tensor\n",
        "def convert_to_tensor(data, dtype=torch.float32):\n",
        "    if hasattr(data, 'values'):\n",
        "      data_to_convert = data.values\n",
        "    else:\n",
        "      data_to_convert = data\n",
        "\n",
        "    return torch.tensor(data_to_convert, dtype=dtype)\n",
        "\n",
        "# # Convert the df to PyTorch tensor\n",
        "# def convert_to_tensor(dataframe, dtype=torch.float32):\n",
        "#     return torch.tensor(dataframe.values, dtype=dtype)\n"
      ],
      "metadata": {
        "id": "tK1xA0ZNU5gB"
      },
      "execution_count": 26,
      "outputs": []
    },
    {
      "cell_type": "code",
      "source": [
        "#Using label this time instead of x_copy\n",
        "\n",
        "X_train_tensor = convert_to_tensor(et_train_without_GT1_overlap_norm) #normalized data in the autoencoder1\n",
        "y_train_tensor = convert_to_tensor(et_train_GT1_overlap)\n",
        "X_test_tensor = convert_to_tensor(et_test_without_GT1_no_overlap_norm)\n",
        "y_test_tensor = convert_to_tensor(et_test_GT1)\n",
        "\n",
        "#### NO NEED OF LABELS FOR THE AUTOENCODEDRS!!\n",
        "\n",
        "print(f\"X_train_tensor shape: {X_train_tensor.shape}\")\n",
        "print(f\"y_train_tensor shape: {y_train_tensor.shape}\\n\")\n",
        "print(f\"X_test_tensor shape: {X_test_tensor.shape}\")\n",
        "print(f\"y_test_tensor shape: {y_test_tensor.shape}\")"
      ],
      "metadata": {
        "colab": {
          "base_uri": "https://localhost:8080/"
        },
        "id": "oRm1WEWyVKvT",
        "outputId": "b884ac8d-a070-47ff-f69a-b7f968697308"
      },
      "execution_count": 63,
      "outputs": [
        {
          "output_type": "stream",
          "name": "stdout",
          "text": [
            "X_train_tensor shape: torch.Size([108821, 7])\n",
            "y_train_tensor shape: torch.Size([108821, 1])\n",
            "\n",
            "X_test_tensor shape: torch.Size([26563, 7])\n",
            "y_test_tensor shape: torch.Size([26563, 1])\n"
          ]
        }
      ]
    },
    {
      "cell_type": "code",
      "source": [
        "# Create TensorDataset for train and test sets\n",
        "train_dataset = TensorDataset(X_train_tensor, y_train_tensor)\n",
        "test_dataset = TensorDataset(X_test_tensor, y_test_tensor) # the test data is not overlapped\n",
        "\n",
        "batch_size = 256\n",
        "train_loader = DataLoader(train_dataset, batch_size=batch_size, shuffle=False, drop_last=True) #timeseries data: shuffle = False\n",
        "test_loader = DataLoader(test_dataset, batch_size=batch_size, shuffle=False, drop_last=True) #timeseries data: shuffle = False\n",
        "\n",
        "print(f\"X_train_tensor shape: {X_train_tensor.shape}\")\n",
        "print(f\"y_train_tensor shape: {y_train_tensor.shape}\\n\")\n",
        "print(f\"X_test_tensor shape: {X_test_tensor.shape}\")\n",
        "print(f\"y_test_tensor shape: {y_test_tensor.shape}\")"
      ],
      "metadata": {
        "id": "OtD9XSEMmjJ-",
        "colab": {
          "base_uri": "https://localhost:8080/"
        },
        "outputId": "8d072749-f0e9-447f-9b94-cced6c6a68ab"
      },
      "execution_count": 64,
      "outputs": [
        {
          "output_type": "stream",
          "name": "stdout",
          "text": [
            "X_train_tensor shape: torch.Size([108821, 7])\n",
            "y_train_tensor shape: torch.Size([108821, 1])\n",
            "\n",
            "X_test_tensor shape: torch.Size([26563, 7])\n",
            "y_test_tensor shape: torch.Size([26563, 1])\n"
          ]
        }
      ]
    },
    {
      "cell_type": "code",
      "source": [
        "print(f\"train_loader (does not have shape): {train_loader}\")\n",
        "print(f\"test_loader shape: {test_loader}\")"
      ],
      "metadata": {
        "colab": {
          "base_uri": "https://localhost:8080/"
        },
        "id": "96-rdHuANXKK",
        "outputId": "324e59f5-c9c9-45ba-bdd3-70d47b6bda45"
      },
      "execution_count": 29,
      "outputs": [
        {
          "output_type": "stream",
          "name": "stdout",
          "text": [
            "train_loader (does not have shape): <torch.utils.data.dataloader.DataLoader object at 0x7b1127c919c0>\n",
            "test_loader shape: <torch.utils.data.dataloader.DataLoader object at 0x7b1127c91ff0>\n"
          ]
        }
      ]
    },
    {
      "cell_type": "markdown",
      "source": [
        "# AUTOENCODER MODEL"
      ],
      "metadata": {
        "id": "1vZ2uBit25em"
      }
    },
    {
      "cell_type": "code",
      "source": [
        "# Hyperparameters for the autoencoder model\n",
        "random_seed = 123\n",
        "learning_rate = 0.005\n",
        "num_epochs = 5\n",
        "weight_decay = 1e-5\n",
        "\n",
        "# Model architecture settings\n",
        "input_size = X_train_tensor.shape[1]\n",
        "\n",
        "num_hidden_1 = 250  # First layer in encoder\n",
        "num_hidden_2 = 5   # Compressed representation layer\n",
        "# num_hidden_3 = 50   # Uncomment and change value layer 2 if use 3 layers\n",
        "\n",
        "# Define the Autoencoder model\n",
        "class Autoencoder(nn.Module):\n",
        "    def __init__(self):\n",
        "        super(Autoencoder, self).__init__()\n",
        "\n",
        "        ### ENCODER\n",
        "        self.encoder_layer1 = nn.Linear(input_size, num_hidden_1)\n",
        "        self.encoder_layer2 = nn.Linear(num_hidden_1, num_hidden_2)\n",
        "        # self.encoder_layer3 = nn.Linear(num_hidden_2, num_hidden_3)\n",
        "        # self.encoder_layer2.weight.detach().normal_(0.0, 0.1)\n",
        "        # self.encoder_layer2.bias.detach().zero_()\n",
        "\n",
        "\n",
        "        ### DECODER\n",
        "        # self.decoder_layer1 = nn.Linear(num_hidden_3, num_hidden_2)\n",
        "        self.decoder_layer1 = nn.Linear(num_hidden_2, num_hidden_1)\n",
        "        self.decoder_layer2 = nn.Linear(num_hidden_1, input_size)\n",
        "        # self.decoder_layer2.weight.detach().normal_(0.0, 0.1)\n",
        "        # self.decoder_layer2.bias.detach().zero_()\n",
        "\n",
        "## When using the Sigmoid or TanH functions for hidden layers, it is a good practice to use a “Xavier Normal” or “Xavier Uniform” weight\n",
        "## initialization (also referred to Glorot initialization, named for Xavier Glorot) and scale input data to the range 0 to 1; -1 to 1 (e.g. the range of the\n",
        "## activation function) prior to training. https://machinelearningmastery.com/choose-an-activation-function-for-deep-learning/\n",
        "\n",
        "## How to Choose an Output Activation Function:  If there are two mutually exclusive classes (binary classification), then your output layer will have one node and\n",
        "## a sigmoid activation function should be used.https://machinelearningmastery.com/choose-an-activation-function-for-deep-learning/\n",
        "\n",
        "    def encoder(self, x):\n",
        "        x = F.sigmoid(self.encoder_layer1(x)) # 3 - relu instead of sigmoid -1, or leaky_relu, 2\n",
        "        encoded = F.sigmoid(self.encoder_layer2(x))\n",
        "        return encoded\n",
        "\n",
        "    def decoder(self, encoded_x):\n",
        "        x = F.leaky_relu(self.decoder_layer1(encoded_x))\n",
        "        decoded = torch.sigmoid(self.decoder_layer2(x))  # Sigmoid to get values between 0 and 1\n",
        "        return decoded\n",
        "\n",
        "## if using 3 layers:\n",
        "\n",
        "    # def encoder(self, x):\n",
        "    #     x = F.sigmoid(self.encoder_layer1(x))\n",
        "    #     x = F.sigmoid(self.encoder_layer2(x)) ## ADDING A 3DR LAYER\n",
        "    #     encoded = F.sigmoid(self.encoder_layer3(x)) ## ADDING A 3DR LAYER\n",
        "    #     return encoded\n",
        "\n",
        "    # def decoder(self, encoded_x):\n",
        "    #     x = F.sigmoid(self.decoder_layer1(encoded_x))\n",
        "    #     x = F.sigmoid(self.decoder_layer2(x)) ## ADDING A 3DR LAYER\n",
        "    #     decoded = torch.sigmoid(self.decoder_layer3(x))  # Sigmoid to get values between 0 and 1 ## ADDING A 3DR LAYER\n",
        "    #     return decoded\n",
        "\n",
        "    def forward(self, x):\n",
        "        # Flatten input from (batch, sequence_length, features) to (batch, input_size)\n",
        "        x = x.view(x.size(0), -1)\n",
        "        encoded = self.encoder(x)\n",
        "        decoded = self.decoder(encoded)\n",
        "        return decoded\n",
        "\n",
        "# Instantiate the model\n",
        "torch.manual_seed(random_seed)\n",
        "model = Autoencoder().to(device)\n",
        "optimizer = torch.optim.Adam(model.parameters(), lr=learning_rate)#, weight_decay=weight_decay) # added regularization (weight decay) L2\n",
        "\n",
        "\n",
        "\n"
      ],
      "metadata": {
        "id": "nXU7SNjOmceG"
      },
      "execution_count": 65,
      "outputs": []
    },
    {
      "cell_type": "markdown",
      "source": [
        "#  Training"
      ],
      "metadata": {
        "id": "Yu0qH60ztzmT"
      }
    },
    {
      "cell_type": "code",
      "source": [
        "# Training Loop\n",
        "start_time = time.time()\n",
        "for epoch in range(num_epochs):\n",
        "    for batch_idx, (sequences, _) in enumerate(train_loader):\n",
        "        sequences = sequences.to(device)\n",
        "\n",
        "        # Forward pass\n",
        "        decoded = model(sequences)\n",
        "\n",
        "        # loss = F.binary_cross_entropy(decoded, sequences.view(sequences.size(0), -1), reduction='mean')\n",
        "         # reconstruction error\n",
        "        loss = F.mse_loss(decoded, sequences.view(sequences.size(0), -1)) # changed binary_cross_entropy loss to mse_loss\n",
        "        optimizer.zero_grad()\n",
        "\n",
        "        # Backward pass and optimization\n",
        "        loss.backward()\n",
        "        optimizer.step()\n",
        "\n",
        "        # Logging\n",
        "        if not batch_idx % 50:\n",
        "            print('Epoch: %03d/%03d | Batch %03d/%03d | Loss: %.4f'\n",
        "                  % (epoch + 1, num_epochs, batch_idx, len(train_loader), loss))\n",
        "\n",
        "    print('Time elapsed: %.2f min' % ((time.time() - start_time) / 60))\n",
        "\n",
        "print('Total Training Time: %.2f min' % ((time.time() - start_time) / 60))"
      ],
      "metadata": {
        "colab": {
          "base_uri": "https://localhost:8080/"
        },
        "id": "RSrEdtDOtwzl",
        "outputId": "c7d8698d-7873-4a61-dc1b-a67b66e4b9ed"
      },
      "execution_count": 66,
      "outputs": [
        {
          "output_type": "stream",
          "name": "stdout",
          "text": [
            "Epoch: 001/005 | Batch 000/425 | Loss: 0.0848\n",
            "Epoch: 001/005 | Batch 050/425 | Loss: 0.0038\n",
            "Epoch: 001/005 | Batch 100/425 | Loss: 0.0132\n",
            "Epoch: 001/005 | Batch 150/425 | Loss: 0.0134\n",
            "Epoch: 001/005 | Batch 200/425 | Loss: 0.0328\n",
            "Epoch: 001/005 | Batch 250/425 | Loss: 0.0156\n",
            "Epoch: 001/005 | Batch 300/425 | Loss: 0.0096\n",
            "Epoch: 001/005 | Batch 350/425 | Loss: 0.0261\n",
            "Epoch: 001/005 | Batch 400/425 | Loss: 0.0230\n",
            "Time elapsed: 0.04 min\n",
            "Epoch: 002/005 | Batch 000/425 | Loss: 0.0354\n",
            "Epoch: 002/005 | Batch 050/425 | Loss: 0.0072\n",
            "Epoch: 002/005 | Batch 100/425 | Loss: 0.0037\n",
            "Epoch: 002/005 | Batch 150/425 | Loss: 0.0074\n",
            "Epoch: 002/005 | Batch 200/425 | Loss: 0.0318\n",
            "Epoch: 002/005 | Batch 250/425 | Loss: 0.0155\n",
            "Epoch: 002/005 | Batch 300/425 | Loss: 0.0068\n",
            "Epoch: 002/005 | Batch 350/425 | Loss: 0.0392\n",
            "Epoch: 002/005 | Batch 400/425 | Loss: 0.0213\n",
            "Time elapsed: 0.08 min\n",
            "Epoch: 003/005 | Batch 000/425 | Loss: 0.0286\n",
            "Epoch: 003/005 | Batch 050/425 | Loss: 0.0144\n",
            "Epoch: 003/005 | Batch 100/425 | Loss: 0.0038\n",
            "Epoch: 003/005 | Batch 150/425 | Loss: 0.0080\n",
            "Epoch: 003/005 | Batch 200/425 | Loss: 0.0182\n",
            "Epoch: 003/005 | Batch 250/425 | Loss: 0.0132\n",
            "Epoch: 003/005 | Batch 300/425 | Loss: 0.0052\n",
            "Epoch: 003/005 | Batch 350/425 | Loss: 0.0414\n",
            "Epoch: 003/005 | Batch 400/425 | Loss: 0.0259\n",
            "Time elapsed: 0.11 min\n",
            "Epoch: 004/005 | Batch 000/425 | Loss: 0.0241\n",
            "Epoch: 004/005 | Batch 050/425 | Loss: 0.0267\n",
            "Epoch: 004/005 | Batch 100/425 | Loss: 0.0025\n",
            "Epoch: 004/005 | Batch 150/425 | Loss: 0.0079\n",
            "Epoch: 004/005 | Batch 200/425 | Loss: 0.0188\n",
            "Epoch: 004/005 | Batch 250/425 | Loss: 0.0135\n",
            "Epoch: 004/005 | Batch 300/425 | Loss: 0.0048\n",
            "Epoch: 004/005 | Batch 350/425 | Loss: 0.0408\n",
            "Epoch: 004/005 | Batch 400/425 | Loss: 0.0250\n",
            "Time elapsed: 0.14 min\n",
            "Epoch: 005/005 | Batch 000/425 | Loss: 0.0230\n",
            "Epoch: 005/005 | Batch 050/425 | Loss: 0.0272\n",
            "Epoch: 005/005 | Batch 100/425 | Loss: 0.0053\n",
            "Epoch: 005/005 | Batch 150/425 | Loss: 0.0091\n",
            "Epoch: 005/005 | Batch 200/425 | Loss: 0.0174\n",
            "Epoch: 005/005 | Batch 250/425 | Loss: 0.0130\n",
            "Epoch: 005/005 | Batch 300/425 | Loss: 0.0058\n",
            "Epoch: 005/005 | Batch 350/425 | Loss: 0.0375\n",
            "Epoch: 005/005 | Batch 400/425 | Loss: 0.0218\n",
            "Time elapsed: 0.17 min\n",
            "Total Training Time: 0.17 min\n"
          ]
        }
      ]
    },
    {
      "cell_type": "markdown",
      "source": [
        "## Testing Autoencoders' Model Accuracy and visualizing differences after reconstructing:"
      ],
      "metadata": {
        "id": "O2koh3snT8wB"
      }
    },
    {
      "cell_type": "code",
      "source": [
        "# Testing autoencoders' model accuracy:\n",
        "\n",
        "# source: https://saturncloud.io/blog/calculating-the-accuracy-of-pytorch-models-every-epoch/#:~:text=In%20order%20to%20calculate%20the,tensor%20along%20a%20specified%20dimension.\n",
        "\n",
        "## Define your PyTorch model, optimizer, and loss function here\n",
        "\n",
        "tolerance = 0.05\n",
        "\n",
        "for epoch in range(num_epochs):\n",
        "    total_correct = 0\n",
        "    total_samples = 0\n",
        "\n",
        "    for images, labels in test_loader:\n",
        "        # Move the data to the device (CPU or GPU)\n",
        "        images = images.to(device)\n",
        "        labels = labels.to(device)\n",
        "\n",
        "        # Forward pass\n",
        "        outputs = model(images)\n",
        "        # _, predicted = torch.max(outputs, 1)\n",
        "\n",
        "        # Update the running total of correct predictions and samples\n",
        "        total_correct += torch.sum(torch.abs(images - outputs) <= tolerance).item() #(images == outputs).sum().item()\n",
        "        total_samples += images.nelement() #labels.size(0)\n",
        "\n",
        "    # Calculate the accuracy for this epoch\n",
        "    accuracy = 100 * total_correct / total_samples\n",
        "    print(f'Epoch {epoch+1}: Accuracy = {accuracy:.2f}%')\n",
        "\n",
        "# https://stackoverflow.com/questions/51503851/calculate-the-accuracy-every-epoch-in-pytorch/63271002#63271002\n",
        "\n"
      ],
      "metadata": {
        "id": "lushkZtMT_5r",
        "colab": {
          "base_uri": "https://localhost:8080/"
        },
        "outputId": "f86c30dc-31f5-463a-9ec8-404bd78703ba"
      },
      "execution_count": 77,
      "outputs": [
        {
          "output_type": "stream",
          "name": "stdout",
          "text": [
            "Epoch 1: Accuracy = 54.41%\n",
            "Epoch 2: Accuracy = 54.41%\n",
            "Epoch 3: Accuracy = 54.41%\n",
            "Epoch 4: Accuracy = 54.41%\n",
            "Epoch 5: Accuracy = 54.41%\n"
          ]
        }
      ]
    },
    {
      "source": [
        "tolerance = 0.05  # Set your desired tolerance level\n",
        "\n",
        "for epoch in range(num_epochs):\n",
        "    epoch_accuracy = []  # Store accuracy for each row in the epoch\n",
        "\n",
        "    for images, labels in test_loader:\n",
        "        # Move the data to the device (CPU or GPU)\n",
        "        images = images.to(device)\n",
        "        labels = labels.to(device)\n",
        "\n",
        "        # Forward pass\n",
        "        outputs = model(images)\n",
        "\n",
        "        # Calculate accuracy for each row\n",
        "        for i in range(images.shape[0]):  # Iterate through each row\n",
        "            row_correct = torch.sum(torch.abs(images[i] - outputs[i]) <= tolerance).item()\n",
        "            row_total = images[i].nelement()\n",
        "            row_accuracy = 100 * row_correct / row_total\n",
        "            epoch_accuracy.append(row_accuracy)\n",
        "\n",
        "    # Calculate average accuracy for the epoch\n",
        "    average_accuracy = sum(epoch_accuracy) / len(epoch_accuracy) if epoch_accuracy else 0\n",
        "    print(f'Epoch {epoch+1}: Average Accuracy = {average_accuracy:.2f}%')"
      ],
      "cell_type": "code",
      "metadata": {
        "colab": {
          "base_uri": "https://localhost:8080/"
        },
        "id": "UBRIvo9G4Xrd",
        "outputId": "628c80d5-e2cb-4c05-f574-7e8d0892bc81"
      },
      "execution_count": 78,
      "outputs": [
        {
          "output_type": "stream",
          "name": "stdout",
          "text": [
            "Epoch 1: Average Accuracy = 54.41%\n",
            "Epoch 2: Average Accuracy = 54.41%\n",
            "Epoch 3: Average Accuracy = 54.41%\n",
            "Epoch 4: Average Accuracy = 54.41%\n",
            "Epoch 5: Average Accuracy = 54.41%\n"
          ]
        }
      ]
    },
    {
      "cell_type": "code",
      "source": [
        "## R2 and MSE\n",
        "from sklearn.metrics import mean_squared_error, r2_score\n"
      ],
      "metadata": {
        "id": "4kJfwNl0pxeV"
      },
      "execution_count": null,
      "outputs": []
    },
    {
      "source": [
        "mse = mean_squared_error(images.cpu().numpy(), outputs.cpu().detach().numpy())\n",
        "print(f\"MSE: {round(mse, 2)}\")\n",
        "\n",
        "r2 = r2_score(images.cpu().numpy(), outputs.cpu().detach().numpy())\n",
        "print(f\"R2: {round(r2,2)}\")"
      ],
      "cell_type": "code",
      "metadata": {
        "colab": {
          "base_uri": "https://localhost:8080/"
        },
        "id": "GXaLzbjxp0i-",
        "outputId": "165832d9-a21c-42b8-cd7c-a091e5c37cb1"
      },
      "execution_count": 76,
      "outputs": [
        {
          "output_type": "stream",
          "name": "stdout",
          "text": [
            "MSE: 0.009999999776482582\n",
            "R2: -570.04\n"
          ]
        }
      ]
    },
    {
      "cell_type": "code",
      "source": [
        "print(images)\n",
        "print(outputs)"
      ],
      "metadata": {
        "colab": {
          "base_uri": "https://localhost:8080/"
        },
        "id": "GI0gGTQeoNtX",
        "outputId": "2087f34e-74ba-4ac3-e998-7271d54cb00f"
      },
      "execution_count": 50,
      "outputs": [
        {
          "output_type": "stream",
          "name": "stdout",
          "text": [
            "tensor([[0.9591, 0.4145, 0.3242,  ..., 0.2763, 0.1171, 0.9888],\n",
            "        [0.9591, 0.4162, 0.3232,  ..., 0.2765, 0.1171, 0.9888],\n",
            "        [0.9591, 0.4143, 0.3237,  ..., 0.2763, 0.1173, 0.9888],\n",
            "        ...,\n",
            "        [0.9591, 0.4390, 0.3071,  ..., 0.2797, 0.1314, 0.9888],\n",
            "        [0.9591, 0.4395, 0.3074,  ..., 0.2799, 0.1297, 0.9888],\n",
            "        [0.9591, 0.4464, 0.3003,  ..., 0.2803, 0.1278, 0.9888]])\n",
            "tensor([[0.9365, 0.4085, 0.3808,  ..., 0.4150, 0.3678, 0.9807],\n",
            "        [0.9365, 0.4085, 0.3808,  ..., 0.4150, 0.3678, 0.9807],\n",
            "        [0.9365, 0.4085, 0.3808,  ..., 0.4150, 0.3678, 0.9807],\n",
            "        ...,\n",
            "        [0.9365, 0.4085, 0.3808,  ..., 0.4150, 0.3678, 0.9807],\n",
            "        [0.9365, 0.4085, 0.3808,  ..., 0.4150, 0.3678, 0.9807],\n",
            "        [0.9365, 0.4085, 0.3808,  ..., 0.4150, 0.3678, 0.9807]],\n",
            "       grad_fn=<SigmoidBackward0>)\n"
          ]
        }
      ]
    },
    {
      "source": [
        "num_samples_to_visualize = 10\n",
        "original_data = images[:num_samples_to_visualize].cpu().numpy()\n",
        "reconstructed_data = outputs[:num_samples_to_visualize].cpu().detach().numpy()"
      ],
      "cell_type": "code",
      "metadata": {
        "id": "dCmSbJhArzLP"
      },
      "execution_count": 61,
      "outputs": []
    },
    {
      "source": [
        "import matplotlib.pyplot as plt\n",
        "\n",
        "# Creating subplots\n",
        "fig, axes = plt.subplots(num_samples_to_visualize, 1, figsize=(10, 2 * num_samples_to_visualize))\n",
        "\n",
        "# Looping through each sample\n",
        "for i in range(num_samples_to_visualize):\n",
        "    axes[i].plot(original_data[i], label='Original')\n",
        "    axes[i].plot(reconstructed_data[i], label='Reconstructed')\n",
        "    axes[i].legend()\n",
        "    axes[i].set_title(f'Sample {i + 1}')\n",
        "\n",
        "plt.tight_layout()\n",
        "plt.show()"
      ],
      "cell_type": "code",
      "metadata": {
        "colab": {
          "base_uri": "https://localhost:8080/",
          "height": 1000
        },
        "id": "WK2BrhrorxNn",
        "outputId": "6e63e796-27fd-48be-a01b-65323619ccc9"
      },
      "execution_count": 70,
      "outputs": [
        {
          "output_type": "display_data",
          "data": {
            "text/plain": [
              "<Figure size 1000x2000 with 10 Axes>"
            ],
            "image/png": "[encoded data removed]"
          },
          "metadata": {}
        }
      ]
    },
    {
      "cell_type": "markdown",
      "source": [
        "# Using encoder with the overlapped features\n"
      ],
      "metadata": {
        "id": "FaYUiJWNWjap"
      }
    },
    {
      "cell_type": "code",
      "source": [
        "def process_autoencoder_data(train_dataset, test_dataset, train_loader, test_loader, num_hidden_layer):\n",
        "\n",
        "    X_train_encoded = np.ones((len(train_dataset), num_hidden_layer))\n",
        "    y_train_encoded = np.ones((len(train_dataset), num_hidden_layer)) # instead of using y_train, it is actually repeating the train data because no labels will be inserted in the autoencoder\n",
        "\n",
        "    X_test_encoded = np.ones((len(test_dataset), num_hidden_layer))\n",
        "    y_test_encoded = np.ones((len(test_dataset), num_hidden_layer)) # instead of using y_test, it is actually repeating the test data because no labels will be inserted in the autoencoder\n",
        "\n",
        "    # Encode training data\n",
        "    start_idx = 0\n",
        "    for idx, (sequences, labels) in enumerate(train_loader): #not using labels in the autoencoder\n",
        "        sequences = sequences.to(device)\n",
        "        encoded = model.encoder(sequences.view(sequences.size(0), -1))\n",
        "\n",
        "        batch_size = encoded.shape[0]\n",
        "        X_train_encoded[start_idx:start_idx + batch_size] = encoded.cpu().detach().numpy()\n",
        "        y_train_encoded[start_idx:start_idx + batch_size] = labels\n",
        "        start_idx += batch_size\n",
        "\n",
        "    # Encode testing data\n",
        "    start_idx = 0\n",
        "    for idx, (sequences, labels) in enumerate(test_loader): #not using labels in the autoencoder\n",
        "        sequences = sequences.to(device)\n",
        "        encoded = model.encoder(sequences.view(sequences.size(0), -1))\n",
        "\n",
        "        batch_size = encoded.shape[0]\n",
        "        X_test_encoded[start_idx:start_idx + batch_size] = encoded.cpu().detach().numpy()\n",
        "        y_test_encoded[start_idx:start_idx + batch_size] = labels\n",
        "        start_idx += batch_size\n",
        "\n",
        "    return X_train_encoded, y_train_encoded, X_test_encoded, y_test_encoded\n",
        "\n",
        "X_train_ae_overlap, y_train_ae_overlap, X_test_ae, y_test_ae = process_autoencoder_data(train_dataset=train_dataset,\n",
        "    test_dataset=test_dataset, train_loader=train_loader,test_loader=test_loader, num_hidden_layer=num_hidden_2)\n",
        "\n",
        "print(X_train_ae_overlap.shape)\n",
        "print(y_train_ae_overlap.shape)\n",
        "print(X_test_ae.shape)\n",
        "print(y_test_ae.shape)"
      ],
      "metadata": {
        "colab": {
          "base_uri": "https://localhost:8080/"
        },
        "id": "98vKBHUebHfe",
        "outputId": "a7b0628e-9bcb-4a34-bdac-67614828b9d5"
      },
      "execution_count": 69,
      "outputs": [
        {
          "output_type": "stream",
          "name": "stdout",
          "text": [
            "(108821, 5)\n",
            "(108821, 5)\n",
            "(26563, 5)\n",
            "(26563, 5)\n"
          ]
        }
      ]
    },
    {
      "cell_type": "markdown",
      "source": [
        "# RANDOM FOREST"
      ],
      "metadata": {
        "id": "mMPXkv4jAzid"
      }
    },
    {
      "cell_type": "code",
      "source": [
        "eye_tracking_data.columns"
      ],
      "metadata": {
        "colab": {
          "base_uri": "https://localhost:8080/"
        },
        "id": "qyM8NkIMAyhs",
        "outputId": "f7907f4e-abf0-45b0-f5ac-92a15f63f558"
      },
      "execution_count": 37,
      "outputs": [
        {
          "output_type": "execute_result",
          "data": {
            "text/plain": [
              "Index(['time', 'L_x', 'L_y', 'L_z', 'C_x', 'C_y', 'C_z', 'GT1', 'observer',\n",
              "       'time_diff'],\n",
              "      dtype='object')"
            ]
          },
          "metadata": {},
          "execution_count": 37
        }
      ]
    },
    {
      "cell_type": "markdown",
      "source": [
        "### TESTING THE MODEL:"
      ],
      "metadata": {
        "id": "wVrljdcC_2X8"
      }
    },
    {
      "cell_type": "code",
      "source": [
        "print(f\"The X_train_ae_overlap shape is:  {X_train_ae_overlap.shape}\")\n",
        "print(f\"The et_train_GT1_overlap shape is:  {et_train_GT1_overlap.shape}\\n\")\n",
        "print(f\"The X_test_ae_orig shape is:  {X_test_ae_orig.shape}\")\n",
        "print(f\"The et_test_GT1 shape is:  {et_test_GT1.shape}\")"
      ],
      "metadata": {
        "colab": {
          "base_uri": "https://localhost:8080/"
        },
        "id": "xGjwiyr8KV-X",
        "outputId": "4ceab67a-20ac-4f6a-c3b5-dce261f79663"
      },
      "execution_count": 43,
      "outputs": [
        {
          "output_type": "stream",
          "name": "stdout",
          "text": [
            "The X_train_ae_overlap shape is:  (108821, 5)\n",
            "The et_train_GT1_overlap shape is:  (108821, 1)\n",
            "\n",
            "The X_test_ae_orig shape is:  (26563, 5)\n",
            "The et_test_GT1 shape is:  (26563, 1)\n"
          ]
        }
      ]
    },
    {
      "cell_type": "code",
      "source": [
        "# Random Forest Classifier - USING OVERLAP X FROM ENCODER AND OVERLAP Y (LABELS) FOR TRAIN. USING ORIGINAL X FROM AUTOENCODER AND Y FOR TEST\n",
        "rf = RandomForestClassifier(n_estimators=50, max_depth=12, n_jobs=-1)\n",
        "rf.fit(X_train_ae_overlap, et_train_GT1_overlap.values.ravel()) # #source: https://stackoverflow.com/questions/34165731/a-column-vector-y-was-passed-when-a-1d-array-was-expected\n",
        "\n",
        "print(f'Train Accuracy: {rf.score(X_train_ae_overlap, et_train_GT1_overlap) * 100:.2f}%')\n",
        "print(f'Test Accuracy: {rf.score(X_test_ae, et_test_GT1) * 100:.2f}%')"
      ],
      "metadata": {
        "colab": {
          "base_uri": "https://localhost:8080/"
        },
        "id": "lvDjr4fGpD-R",
        "outputId": "2bc31496-936b-4b26-9e8c-a8d3bf247d19"
      },
      "execution_count": 74,
      "outputs": [
        {
          "output_type": "stream",
          "name": "stdout",
          "text": [
            "Train Accuracy: 57.84%\n",
            "Test Accuracy: 54.39%\n"
          ]
        }
      ]
    },
    {
      "cell_type": "markdown",
      "source": [
        "# VISUALIZING THE GAZE DATA"
      ],
      "metadata": {
        "id": "ILg7hH2hHl_-"
      }
    },
    {
      "cell_type": "code",
      "source": [
        "import matplotlib.pyplot as plt\n",
        "import numpy as np\n",
        "import matplotlib.cm as cm\n",
        "from matplotlib.colors import Normalize\n",
        "\n",
        "ax = plt.figure().add_subplot(projection='3d')\n",
        "\n",
        "# Make the grid\n",
        "x, y, z = eye_tracking_data.loc[0:5,'time'], eye_tracking_data.loc[0:5,'L_z'], eye_tracking_data.loc[0:5,'L_y'],\n",
        "\n",
        "\n",
        "# Make legend, set axes limits and labels\n",
        "ax.legend()\n",
        "# ax.set_xlim(0, 1)\n",
        "# ax.set_ylim(0, 1)\n",
        "# ax.set_zlim(0, 1)\n",
        "ax.set_xlabel('time')\n",
        "ax.set_ylabel('L_z')\n",
        "ax.set_zlabel('L_y')\n",
        "\n",
        "\n",
        "x_start = eye_tracking_data.loc[0, 'time'] #x.iloc[0]\n",
        "x_end = eye_tracking_data.loc[20, 'time']\n",
        "x_tick_values = np.arange(x_start, x_end, 0.02)\n",
        "plt.xticks(x_tick_values)\n",
        "# plt.xticks(np.arange(9.32, 9.38, 0.02))\n",
        "\n",
        "y_start = eye_tracking_data.loc[0, 'L_z']\n",
        "y_end = eye_tracking_data.loc[20, 'L_z']\n",
        "y_tick_values = np.arange(y_start, y_end, 0.0001)\n",
        "plt.yticks(y_tick_values)\n",
        "# plt.yticks(np.arange(-1.24450, -1.24300, 0.0005))\n",
        "\n",
        "z_start = eye_tracking_data.loc[0, 'L_y']\n",
        "z_end = eye_tracking_data.loc[20, 'L_y']\n",
        "z_tick_values = np.arange(z_start, z_end, 0.001)\n",
        "ax.set_zticks(z_tick_values)\n",
        "# ax.set_zticks(np.arange(1.6235, 1.6260, 0.001))\n",
        "\n",
        "\n",
        "# Plot scatterplot data (20 2D points per colour) on the x and z axes.\n",
        "# colors = ['r', 'g', \"b\", \"k\", \"pink\", \"orange\"] # this one limits the number of points to be displayed to the same number of colors\n",
        "\n",
        "num_points = len(x)\n",
        "cmap = cm.get_cmap('Reds')\n",
        "norm = Normalize(vmin=0, vmax=num_points - 1)  # Normalize data\n",
        "colors = [cmap(norm(i)) for i in range(num_points)]  # Generate color sequence\n",
        "\n",
        "ax.scatter(x, y, z,  c=colors)\n",
        "\n",
        "fig = plt.figure(figsize=(15, 10))\n",
        "fig.suptitle(\"Gaze Points\")\n",
        "\n",
        "\n",
        "plt.show()"
      ],
      "metadata": {
        "colab": {
          "base_uri": "https://localhost:8080/",
          "height": 498
        },
        "id": "Swxo2ppdfr-b",
        "outputId": "c3faaa6e-f3a2-426f-f0bd-736c92cca69f"
      },
      "execution_count": 45,
      "outputs": [
        {
          "output_type": "stream",
          "name": "stderr",
          "text": [
            "WARNING:matplotlib.legend:No artists with labels found to put in legend.  Note that artists whose label start with an underscore are ignored when legend() is called with no argument.\n",
            "<ipython-input-45-7ae569e0946c>:45: MatplotlibDeprecationWarning: The get_cmap function was deprecated in Matplotlib 3.7 and will be removed two minor releases later. Use ``matplotlib.colormaps[name]`` or ``matplotlib.colormaps.get_cmap(obj)`` instead.\n",
            "  cmap = cm.get_cmap('Reds')\n"
          ]
        },
        {
          "output_type": "display_data",
          "data": {
            "text/plain": [
              "<Figure size 640x480 with 1 Axes>"
            ],
            "image/png": "[encoded data removed]"
          },
          "metadata": {}
        },
        {
          "output_type": "display_data",
          "data": {
            "text/plain": [
              "<Figure size 1500x1000 with 0 Axes>"
            ]
          },
          "metadata": {}
        }
      ]
    }
  ]
}