{
  "nbformat": 4,
  "nbformat_minor": 0,
  "metadata": {
    "colab": {
      "provenance": [],
      "authorship_tag": "ABX9TyOXBy//H9kWMkSqf5UNAF4M",
      "include_colab_link": true
    },
    "kernelspec": {
      "name": "python3",
      "display_name": "Python 3"
    },
    "language_info": {
      "name": "python"
    }
  },
  "cells": [
    {
      "cell_type": "markdown",
      "metadata": {
        "id": "view-in-github",
        "colab_type": "text"
      },
      "source": [
        "<a href=\"https://colab.research.google.com/github/lorenafc/MscThesis_EyeTrackingIVR/blob/main/autoencoder_with_rf_sequence_samples_thesis.ipynb\" target=\"_parent\"><img src=\"https://colab.research.google.com/assets/colab-badge.svg\" alt=\"Open In Colab\"/></a>"
      ]
    },
    {
      "cell_type": "code",
      "source": [
        "import time\n",
        "import pandas as pd\n",
        "import numpy as np\n",
        "import torch\n",
        "import torch.nn as nn\n",
        "import torch.nn.functional as F\n",
        "from torch.utils.data import Dataset, DataLoader\n",
        "from sklearn.preprocessing import MinMaxScaler\n",
        "from sklearn.ensemble import RandomForestClassifier\n",
        "from torch.utils.data import TensorDataset\n"
      ],
      "metadata": {
        "id": "Hm_d1GsOmke4"
      },
      "execution_count": 1,
      "outputs": []
    },
    {
      "cell_type": "code",
      "source": [
        "# Device\n",
        "device = torch.device(\"cuda:0\" if torch.cuda.is_available() else \"cpu\")\n",
        "print('Device:', device)\n",
        "\n",
        "# Read the CSV file\n",
        "file_name = '/content/LLA2020_labeled.csv'\n",
        "# file_name = '/content/eye_tracking_data_small_2019.csv'\n",
        "eye_tracking_data = pd.read_csv(file_name)"
      ],
      "metadata": {
        "colab": {
          "base_uri": "https://localhost:8080/"
        },
        "id": "SpDf-1Hxmomv",
        "outputId": "96ee87cc-f05d-4ab9-f6ac-efef60c87ea2"
      },
      "execution_count": 2,
      "outputs": [
        {
          "output_type": "stream",
          "name": "stdout",
          "text": [
            "Device: cpu\n"
          ]
        }
      ]
    },
    {
      "cell_type": "code",
      "source": [
        "eye_tracking_data.head()"
      ],
      "metadata": {
        "colab": {
          "base_uri": "https://localhost:8080/",
          "height": 206
        },
        "id": "ghlLMn_o3jTY",
        "outputId": "567d36df-2d2a-4ca0-9ca4-7715fdfb3f7b"
      },
      "execution_count": 3,
      "outputs": [
        {
          "output_type": "execute_result",
          "data": {
            "text/plain": [
              "    time    L_x     L_y     L_z     C_x     C_y     C_z  observer  GT1  GT2  \\\n",
              "0  9.314 -2.969  1.6232 -1.2434 -0.4009  1.6289 -1.2939         1    0    0   \n",
              "1  9.337 -2.969  1.6255 -1.2432 -0.4007  1.6290 -1.2940         1    0    0   \n",
              "2  9.360 -2.969  1.6260 -1.2447 -0.4006  1.6290 -1.2940         1    0    0   \n",
              "3  9.381 -2.969  1.6232 -1.2430 -0.4004  1.6291 -1.2941         1    0    0   \n",
              "4  9.403 -2.969  1.6242 -1.2410 -0.4002  1.6291 -1.2941         1    0    0   \n",
              "\n",
              "   GT3  GT4  GT5  GT6  GT7  \n",
              "0    0    0    0    0    0  \n",
              "1    0    0    0    0    0  \n",
              "2    0    0    0    0    0  \n",
              "3    0    0    0    0    0  \n",
              "4    0    0    0    0    0  "
            ],
            "text/html": [
              "\n",
              "  <div id=\"df-5d6ce961-6ddc-46ab-b908-91e0c0eb7fa6\" class=\"colab-df-container\">\n",
              "    <div>\n",
              "<style scoped>\n",
              "    .dataframe tbody tr th:only-of-type {\n",
              "        vertical-align: middle;\n",
              "    }\n",
              "\n",
              "    .dataframe tbody tr th {\n",
              "        vertical-align: top;\n",
              "    }\n",
              "\n",
              "    .dataframe thead th {\n",
              "        text-align: right;\n",
              "    }\n",
              "</style>\n",
              "<table border=\"1\" class=\"dataframe\">\n",
              "  <thead>\n",
              "    <tr style=\"text-align: right;\">\n",
              "      <th></th>\n",
              "      <th>time</th>\n",
              "      <th>L_x</th>\n",
              "      <th>L_y</th>\n",
              "      <th>L_z</th>\n",
              "      <th>C_x</th>\n",
              "      <th>C_y</th>\n",
              "      <th>C_z</th>\n",
              "      <th>observer</th>\n",
              "      <th>GT1</th>\n",
              "      <th>GT2</th>\n",
              "      <th>GT3</th>\n",
              "      <th>GT4</th>\n",
              "      <th>GT5</th>\n",
              "      <th>GT6</th>\n",
              "      <th>GT7</th>\n",
              "    </tr>\n",
              "  </thead>\n",
              "  <tbody>\n",
              "    <tr>\n",
              "      <th>0</th>\n",
              "      <td>9.314</td>\n",
              "      <td>-2.969</td>\n",
              "      <td>1.6232</td>\n",
              "      <td>-1.2434</td>\n",
              "      <td>-0.4009</td>\n",
              "      <td>1.6289</td>\n",
              "      <td>-1.2939</td>\n",
              "      <td>1</td>\n",
              "      <td>0</td>\n",
              "      <td>0</td>\n",
              "      <td>0</td>\n",
              "      <td>0</td>\n",
              "      <td>0</td>\n",
              "      <td>0</td>\n",
              "      <td>0</td>\n",
              "    </tr>\n",
              "    <tr>\n",
              "      <th>1</th>\n",
              "      <td>9.337</td>\n",
              "      <td>-2.969</td>\n",
              "      <td>1.6255</td>\n",
              "      <td>-1.2432</td>\n",
              "      <td>-0.4007</td>\n",
              "      <td>1.6290</td>\n",
              "      <td>-1.2940</td>\n",
              "      <td>1</td>\n",
              "      <td>0</td>\n",
              "      <td>0</td>\n",
              "      <td>0</td>\n",
              "      <td>0</td>\n",
              "      <td>0</td>\n",
              "      <td>0</td>\n",
              "      <td>0</td>\n",
              "    </tr>\n",
              "    <tr>\n",
              "      <th>2</th>\n",
              "      <td>9.360</td>\n",
              "      <td>-2.969</td>\n",
              "      <td>1.6260</td>\n",
              "      <td>-1.2447</td>\n",
              "      <td>-0.4006</td>\n",
              "      <td>1.6290</td>\n",
              "      <td>-1.2940</td>\n",
              "      <td>1</td>\n",
              "      <td>0</td>\n",
              "      <td>0</td>\n",
              "      <td>0</td>\n",
              "      <td>0</td>\n",
              "      <td>0</td>\n",
              "      <td>0</td>\n",
              "      <td>0</td>\n",
              "    </tr>\n",
              "    <tr>\n",
              "      <th>3</th>\n",
              "      <td>9.381</td>\n",
              "      <td>-2.969</td>\n",
              "      <td>1.6232</td>\n",
              "      <td>-1.2430</td>\n",
              "      <td>-0.4004</td>\n",
              "      <td>1.6291</td>\n",
              "      <td>-1.2941</td>\n",
              "      <td>1</td>\n",
              "      <td>0</td>\n",
              "      <td>0</td>\n",
              "      <td>0</td>\n",
              "      <td>0</td>\n",
              "      <td>0</td>\n",
              "      <td>0</td>\n",
              "      <td>0</td>\n",
              "    </tr>\n",
              "    <tr>\n",
              "      <th>4</th>\n",
              "      <td>9.403</td>\n",
              "      <td>-2.969</td>\n",
              "      <td>1.6242</td>\n",
              "      <td>-1.2410</td>\n",
              "      <td>-0.4002</td>\n",
              "      <td>1.6291</td>\n",
              "      <td>-1.2941</td>\n",
              "      <td>1</td>\n",
              "      <td>0</td>\n",
              "      <td>0</td>\n",
              "      <td>0</td>\n",
              "      <td>0</td>\n",
              "      <td>0</td>\n",
              "      <td>0</td>\n",
              "      <td>0</td>\n",
              "    </tr>\n",
              "  </tbody>\n",
              "</table>\n",
              "</div>\n",
              "    <div class=\"colab-df-buttons\">\n",
              "\n",
              "  <div class=\"colab-df-container\">\n",
              "    <button class=\"colab-df-convert\" onclick=\"convertToInteractive('df-5d6ce961-6ddc-46ab-b908-91e0c0eb7fa6')\"\n",
              "            title=\"Convert this dataframe to an interactive table.\"\n",
              "            style=\"display:none;\">\n",
              "\n",
              "  <svg xmlns=\"http://www.w3.org/2000/svg\" height=\"24px\" viewBox=\"0 -960 960 960\">\n",
              "    <path d=\"M120-120v-720h720v720H120Zm60-500h600v-160H180v160Zm220 220h160v-160H400v160Zm0 220h160v-160H400v160ZM180-400h160v-160H180v160Zm440 0h160v-160H620v160ZM180-180h160v-160H180v160Zm440 0h160v-160H620v160Z\"/>\n",
              "  </svg>\n",
              "    </button>\n",
              "\n",
              "  <style>\n",
              "    .colab-df-container {\n",
              "      display:flex;\n",
              "      gap: 12px;\n",
              "    }\n",
              "\n",
              "    .colab-df-convert {\n",
              "      background-color: #E8F0FE;\n",
              "      border: none;\n",
              "      border-radius: 50%;\n",
              "      cursor: pointer;\n",
              "      display: none;\n",
              "      fill: #1967D2;\n",
              "      height: 32px;\n",
              "      padding: 0 0 0 0;\n",
              "      width: 32px;\n",
              "    }\n",
              "\n",
              "    .colab-df-convert:hover {\n",
              "      background-color: #E2EBFA;\n",
              "      box-shadow: 0px 1px 2px rgba(60, 64, 67, 0.3), 0px 1px 3px 1px rgba(60, 64, 67, 0.15);\n",
              "      fill: #174EA6;\n",
              "    }\n",
              "\n",
              "    .colab-df-buttons div {\n",
              "      margin-bottom: 4px;\n",
              "    }\n",
              "\n",
              "    [theme=dark] .colab-df-convert {\n",
              "      background-color: #3B4455;\n",
              "      fill: #D2E3FC;\n",
              "    }\n",
              "\n",
              "    [theme=dark] .colab-df-convert:hover {\n",
              "      background-color: #434B5C;\n",
              "      box-shadow: 0px 1px 3px 1px rgba(0, 0, 0, 0.15);\n",
              "      filter: drop-shadow(0px 1px 2px rgba(0, 0, 0, 0.3));\n",
              "      fill: #FFFFFF;\n",
              "    }\n",
              "  </style>\n",
              "\n",
              "    <script>\n",
              "      const buttonEl =\n",
              "        document.querySelector('#df-5d6ce961-6ddc-46ab-b908-91e0c0eb7fa6 button.colab-df-convert');\n",
              "      buttonEl.style.display =\n",
              "        google.colab.kernel.accessAllowed ? 'block' : 'none';\n",
              "\n",
              "      async function convertToInteractive(key) {\n",
              "        const element = document.querySelector('#df-5d6ce961-6ddc-46ab-b908-91e0c0eb7fa6');\n",
              "        const dataTable =\n",
              "          await google.colab.kernel.invokeFunction('convertToInteractive',\n",
              "                                                    [key], {});\n",
              "        if (!dataTable) return;\n",
              "\n",
              "        const docLinkHtml = 'Like what you see? Visit the ' +\n",
              "          '<a target=\"_blank\" href=https://colab.research.google.com/notebooks/data_table.ipynb>data table notebook</a>'\n",
              "          + ' to learn more about interactive tables.';\n",
              "        element.innerHTML = '';\n",
              "        dataTable['output_type'] = 'display_data';\n",
              "        await google.colab.output.renderOutput(dataTable, element);\n",
              "        const docLink = document.createElement('div');\n",
              "        docLink.innerHTML = docLinkHtml;\n",
              "        element.appendChild(docLink);\n",
              "      }\n",
              "    </script>\n",
              "  </div>\n",
              "\n",
              "\n",
              "<div id=\"df-90cbc783-1cf8-4027-8cd8-ffccd15e7bf3\">\n",
              "  <button class=\"colab-df-quickchart\" onclick=\"quickchart('df-90cbc783-1cf8-4027-8cd8-ffccd15e7bf3')\"\n",
              "            title=\"Suggest charts\"\n",
              "            style=\"display:none;\">\n",
              "\n",
              "<svg xmlns=\"http://www.w3.org/2000/svg\" height=\"24px\"viewBox=\"0 0 24 24\"\n",
              "     width=\"24px\">\n",
              "    <g>\n",
              "        <path d=\"M19 3H5c-1.1 0-2 .9-2 2v14c0 1.1.9 2 2 2h14c1.1 0 2-.9 2-2V5c0-1.1-.9-2-2-2zM9 17H7v-7h2v7zm4 0h-2V7h2v10zm4 0h-2v-4h2v4z\"/>\n",
              "    </g>\n",
              "</svg>\n",
              "  </button>\n",
              "\n",
              "<style>\n",
              "  .colab-df-quickchart {\n",
              "      --bg-color: #E8F0FE;\n",
              "      --fill-color: #1967D2;\n",
              "      --hover-bg-color: #E2EBFA;\n",
              "      --hover-fill-color: #174EA6;\n",
              "      --disabled-fill-color: #AAA;\n",
              "      --disabled-bg-color: #DDD;\n",
              "  }\n",
              "\n",
              "  [theme=dark] .colab-df-quickchart {\n",
              "      --bg-color: #3B4455;\n",
              "      --fill-color: #D2E3FC;\n",
              "      --hover-bg-color: #434B5C;\n",
              "      --hover-fill-color: #FFFFFF;\n",
              "      --disabled-bg-color: #3B4455;\n",
              "      --disabled-fill-color: #666;\n",
              "  }\n",
              "\n",
              "  .colab-df-quickchart {\n",
              "    background-color: var(--bg-color);\n",
              "    border: none;\n",
              "    border-radius: 50%;\n",
              "    cursor: pointer;\n",
              "    display: none;\n",
              "    fill: var(--fill-color);\n",
              "    height: 32px;\n",
              "    padding: 0;\n",
              "    width: 32px;\n",
              "  }\n",
              "\n",
              "  .colab-df-quickchart:hover {\n",
              "    background-color: var(--hover-bg-color);\n",
              "    box-shadow: 0 1px 2px rgba(60, 64, 67, 0.3), 0 1px 3px 1px rgba(60, 64, 67, 0.15);\n",
              "    fill: var(--button-hover-fill-color);\n",
              "  }\n",
              "\n",
              "  .colab-df-quickchart-complete:disabled,\n",
              "  .colab-df-quickchart-complete:disabled:hover {\n",
              "    background-color: var(--disabled-bg-color);\n",
              "    fill: var(--disabled-fill-color);\n",
              "    box-shadow: none;\n",
              "  }\n",
              "\n",
              "  .colab-df-spinner {\n",
              "    border: 2px solid var(--fill-color);\n",
              "    border-color: transparent;\n",
              "    border-bottom-color: var(--fill-color);\n",
              "    animation:\n",
              "      spin 1s steps(1) infinite;\n",
              "  }\n",
              "\n",
              "  @keyframes spin {\n",
              "    0% {\n",
              "      border-color: transparent;\n",
              "      border-bottom-color: var(--fill-color);\n",
              "      border-left-color: var(--fill-color);\n",
              "    }\n",
              "    20% {\n",
              "      border-color: transparent;\n",
              "      border-left-color: var(--fill-color);\n",
              "      border-top-color: var(--fill-color);\n",
              "    }\n",
              "    30% {\n",
              "      border-color: transparent;\n",
              "      border-left-color: var(--fill-color);\n",
              "      border-top-color: var(--fill-color);\n",
              "      border-right-color: var(--fill-color);\n",
              "    }\n",
              "    40% {\n",
              "      border-color: transparent;\n",
              "      border-right-color: var(--fill-color);\n",
              "      border-top-color: var(--fill-color);\n",
              "    }\n",
              "    60% {\n",
              "      border-color: transparent;\n",
              "      border-right-color: var(--fill-color);\n",
              "    }\n",
              "    80% {\n",
              "      border-color: transparent;\n",
              "      border-right-color: var(--fill-color);\n",
              "      border-bottom-color: var(--fill-color);\n",
              "    }\n",
              "    90% {\n",
              "      border-color: transparent;\n",
              "      border-bottom-color: var(--fill-color);\n",
              "    }\n",
              "  }\n",
              "</style>\n",
              "\n",
              "  <script>\n",
              "    async function quickchart(key) {\n",
              "      const quickchartButtonEl =\n",
              "        document.querySelector('#' + key + ' button');\n",
              "      quickchartButtonEl.disabled = true;  // To prevent multiple clicks.\n",
              "      quickchartButtonEl.classList.add('colab-df-spinner');\n",
              "      try {\n",
              "        const charts = await google.colab.kernel.invokeFunction(\n",
              "            'suggestCharts', [key], {});\n",
              "      } catch (error) {\n",
              "        console.error('Error during call to suggestCharts:', error);\n",
              "      }\n",
              "      quickchartButtonEl.classList.remove('colab-df-spinner');\n",
              "      quickchartButtonEl.classList.add('colab-df-quickchart-complete');\n",
              "    }\n",
              "    (() => {\n",
              "      let quickchartButtonEl =\n",
              "        document.querySelector('#df-90cbc783-1cf8-4027-8cd8-ffccd15e7bf3 button');\n",
              "      quickchartButtonEl.style.display =\n",
              "        google.colab.kernel.accessAllowed ? 'block' : 'none';\n",
              "    })();\n",
              "  </script>\n",
              "</div>\n",
              "\n",
              "    </div>\n",
              "  </div>\n"
            ],
            "application/vnd.google.colaboratory.intrinsic+json": {
              "type": "dataframe",
              "variable_name": "eye_tracking_data"
            }
          },
          "metadata": {},
          "execution_count": 3
        }
      ]
    },
    {
      "cell_type": "code",
      "source": [
        "eye_tracking_data_rf = eye_tracking_data.copy()"
      ],
      "metadata": {
        "id": "_obyjfa6p_2D"
      },
      "execution_count": 4,
      "outputs": []
    },
    {
      "cell_type": "code",
      "source": [
        "# Data cleaning\n",
        "eye_tracking_data = eye_tracking_data.drop(columns=['GT2', 'GT3', 'GT4', 'GT5', 'GT6', 'GT7']) # removing\n",
        "eye_tracking_data = eye_tracking_data[['time', 'L_x', 'L_y', 'L_z', 'C_x', 'C_y', 'C_z', 'GT1','observer']]"
      ],
      "metadata": {
        "id": "r8yFHKhSrhlz"
      },
      "execution_count": 5,
      "outputs": []
    },
    {
      "cell_type": "code",
      "source": [
        "print(eye_tracking_data.head(3))"
      ],
      "metadata": {
        "colab": {
          "base_uri": "https://localhost:8080/"
        },
        "id": "csBo82UhsgWw",
        "outputId": "a6e1c888-eb3b-45f1-aee1-814183fa46e4"
      },
      "execution_count": 6,
      "outputs": [
        {
          "output_type": "stream",
          "name": "stdout",
          "text": [
            "    time    L_x     L_y     L_z     C_x     C_y     C_z  GT1  observer\n",
            "0  9.314 -2.969  1.6232 -1.2434 -0.4009  1.6289 -1.2939    0         1\n",
            "1  9.337 -2.969  1.6255 -1.2432 -0.4007  1.6290 -1.2940    0         1\n",
            "2  9.360 -2.969  1.6260 -1.2447 -0.4006  1.6290 -1.2940    0         1\n"
          ]
        }
      ]
    },
    {
      "cell_type": "code",
      "source": [
        "eye_tracking_data_without_GT1 = eye_tracking_data.drop(columns=['GT1'])"
      ],
      "metadata": {
        "id": "KVisdpykrw26"
      },
      "execution_count": 7,
      "outputs": []
    },
    {
      "cell_type": "code",
      "source": [
        "print(eye_tracking_data_without_GT1.head(3))"
      ],
      "metadata": {
        "colab": {
          "base_uri": "https://localhost:8080/"
        },
        "id": "2cLUvgTGsZzw",
        "outputId": "91d9bb82-1f75-43af-ed40-fd6c03df1b3a"
      },
      "execution_count": 8,
      "outputs": [
        {
          "output_type": "stream",
          "name": "stdout",
          "text": [
            "    time    L_x     L_y     L_z     C_x     C_y     C_z  observer\n",
            "0  9.314 -2.969  1.6232 -1.2434 -0.4009  1.6289 -1.2939         1\n",
            "1  9.337 -2.969  1.6255 -1.2432 -0.4007  1.6290 -1.2940         1\n",
            "2  9.360 -2.969  1.6260 -1.2447 -0.4006  1.6290 -1.2940         1\n"
          ]
        }
      ]
    },
    {
      "cell_type": "code",
      "execution_count": 9,
      "metadata": {
        "id": "-7qM3-vAmGcX"
      },
      "outputs": [],
      "source": [
        "# Convert all columns to float32 for compatibility with PyTorch\n",
        "eye_tracking_data_without_GT1 = eye_tracking_data_without_GT1.astype('float32')\n",
        "\n",
        "train_split = 0.75\n",
        "# Creating data indices for training and test splits: LSTM autoencoder time series https://github.com/fabiozappo/LSTM-Autoencoder-Time-Series/blob/main/code/main.py\n",
        "dataset_size = len(eye_tracking_data_without_GT1)\n",
        "indices = list(range(dataset_size))\n",
        "split = int(np.floor(train_split * dataset_size))\n",
        "\n",
        "et_train_without_GT1 = eye_tracking_data_without_GT1.iloc[:split, :]\n",
        "et_test_without_GT1 = eye_tracking_data_without_GT1.iloc[split:, :]\n",
        "\n",
        "# Scaling the data\n",
        "# scaler = MinMaxScaler()\n",
        "# et_train_without_GT1 = pd.DataFrame(scaler.fit_transform(et_train_without_GT1), columns=et_train_without_GT1.columns)\n",
        "# et_test_without_GT1 = pd.DataFrame(scaler.transform(et_test_without_GT1), columns=et_test_without_GT1.columns)\n",
        "\n",
        "# Define sequence length (the sequences have overlapping data)\n",
        "sequence_length = 460  # 10 seconds of data - sampled at ~45 Hz\n",
        "\n",
        "# Function to create sequences\n",
        "def create_sequences(data, sequence_length):\n",
        "    sequences = []\n",
        "    sequences_again = []\n",
        "    for i in range(len(data) - sequence_length):\n",
        "        seq = data.iloc[i:i+sequence_length, :].values  # Convert to numpy array with .values to use it as a tensor.\n",
        "        seq_again = data.iloc[i:i+sequence_length, :].values  # Repeated X in Y position\n",
        "        sequences.append(seq)\n",
        "        sequences_again.append(seq_again)\n",
        "    return np.array(sequences), np.array(sequences_again)\n",
        "\n",
        "# Generate sequences for training and testing\n",
        "X_train_seq, y_train_seq = create_sequences(et_train_without_GT1, sequence_length)\n",
        "X_test_seq, y_test_seq = create_sequences(et_test_without_GT1, sequence_length)\n",
        "\n",
        "\n"
      ]
    },
    {
      "cell_type": "code",
      "source": [
        "print(f\"X_train_seq shape: {X_train_seq.shape}\")\n",
        "print(f\"y_train_seq shape: {y_train_seq.shape}\")\n",
        "print(f\"X_test_seq shape: {X_test_seq.shape}\")\n",
        "print(f\"y_test_seq shape: {y_test_seq.shape}\")\n"
      ],
      "metadata": {
        "colab": {
          "base_uri": "https://localhost:8080/"
        },
        "id": "T27NYbISRdnO",
        "outputId": "687861cd-11c6-48d7-b100-ade0ff4c26d9"
      },
      "execution_count": 10,
      "outputs": [
        {
          "output_type": "stream",
          "name": "stdout",
          "text": [
            "X_train_seq shape: (79229, 460, 8)\n",
            "y_train_seq shape: (79229, 460, 8)\n",
            "X_test_seq shape: (26103, 460, 8)\n",
            "y_test_seq shape: (26103, 460, 8)\n"
          ]
        }
      ]
    },
    {
      "cell_type": "code",
      "source": [
        "X_train_tensor = torch.tensor(X_train_seq, dtype=torch.float32)\n",
        "y_train_tensor = X_train_tensor.clone()  # Target for the autoencoder is the input itself\n",
        "X_test_tensor = torch.tensor(X_test_seq, dtype=torch.float32)\n",
        "y_test_tensor = X_test_tensor.clone()  # Target for the autoencoder is the input itself\n",
        "\n",
        "# Create TensorDataset for train and test sets\n",
        "train_dataset = TensorDataset(X_train_tensor, y_train_tensor)\n",
        "test_dataset = TensorDataset(X_test_tensor, y_test_tensor)\n",
        "\n",
        "batch_size = 256\n",
        "train_loader = DataLoader(train_dataset, batch_size=batch_size, shuffle=False, drop_last=True) #timeseries data so shuffle = False\n",
        "test_loader = DataLoader(test_dataset, batch_size=batch_size, shuffle=False, drop_last=True) #timeseries data so shuffle = False\n"
      ],
      "metadata": {
        "id": "OtD9XSEMmjJ-"
      },
      "execution_count": 11,
      "outputs": []
    },
    {
      "cell_type": "code",
      "source": [
        "print(X_train_tensor.shape)\n",
        "print(y_train_tensor.shape)\n",
        "print(X_test_tensor.shape)\n",
        "print(y_test_tensor.shape)"
      ],
      "metadata": {
        "colab": {
          "base_uri": "https://localhost:8080/"
        },
        "id": "RQm3j--Qu0zO",
        "outputId": "ad8899fd-41ad-49be-ee82-bdff0b3822e0"
      },
      "execution_count": 12,
      "outputs": [
        {
          "output_type": "stream",
          "name": "stdout",
          "text": [
            "torch.Size([79229, 460, 8])\n",
            "torch.Size([79229, 460, 8])\n",
            "torch.Size([26103, 460, 8])\n",
            "torch.Size([26103, 460, 8])\n"
          ]
        }
      ]
    },
    {
      "cell_type": "code",
      "source": [
        "# Hyperparameters for the autoencoder model\n",
        "random_seed = 123\n",
        "learning_rate = 0.005\n",
        "num_epochs = 5\n",
        "\n",
        "# Model architecture settings\n",
        "input_size = sequence_length * 8  # 460 samples * 8 features per sample (I am including the column \"observer\") = 3220\n",
        "num_hidden_1 = 500  # First layer in encoder\n",
        "num_hidden_2 = 50   # Compressed representation layer\n",
        "\n",
        "# Define the Autoencoder model\n",
        "class Autoencoder(nn.Module):\n",
        "    def __init__(self):\n",
        "        super(Autoencoder, self).__init__()\n",
        "\n",
        "        ### ENCODER\n",
        "        self.encoder_layer1 = nn.Linear(input_size, num_hidden_1)\n",
        "\n",
        "        self.encoder_layer2 = nn.Linear(num_hidden_1, num_hidden_2)\n",
        "\n",
        "\n",
        "        ### DECODER\n",
        "        self.decoder_layer1 = nn.Linear(num_hidden_2, num_hidden_1)\n",
        "        self.decoder_layer2 = nn.Linear(num_hidden_1, input_size)\n",
        "        # self.decoder_layer2.weight.detach().normal_(0.0, 0.1)\n",
        "        # self.decoder_layer2.bias.detach().zero_()\n",
        "\n",
        "    def encoder(self, x):\n",
        "        x = F.sigmoid(self.encoder_layer1(x))\n",
        "        encoded = F.sigmoid(self.encoder_layer2(x))\n",
        "        return encoded\n",
        "\n",
        "    def decoder(self, encoded_x):\n",
        "        x = F.leaky_relu(self.decoder_layer1(encoded_x))\n",
        "        decoded = torch.sigmoid(self.decoder_layer2(x))  # Sigmoid to get values between 0 and 1\n",
        "        return decoded\n",
        "\n",
        "    def forward(self, x):\n",
        "        # Flatten input from (batch, sequence_length, features) to (batch, input_size)\n",
        "        x = x.view(x.size(0), -1)\n",
        "        encoded = self.encoder(x)\n",
        "        decoded = self.decoder(encoded)\n",
        "        return decoded\n",
        "\n",
        "# Instantiate the model\n",
        "torch.manual_seed(random_seed)\n",
        "model = Autoencoder().to(device)\n",
        "optimizer = torch.optim.Adam(model.parameters(), lr=learning_rate)\n",
        "\n",
        "# Training Loop\n",
        "start_time = time.time()\n",
        "for epoch in range(num_epochs):\n",
        "    for batch_idx, (sequences, _) in enumerate(train_loader):\n",
        "        sequences = sequences.to(device)\n",
        "\n",
        "        # Forward pass\n",
        "        decoded = model(sequences)\n",
        "\n",
        "        # loss = F.binary_cross_entropy(decoded, sequences.view(sequences.size(0), -1), reduction='mean')\n",
        "         # reconstruction error\n",
        "        loss = F.mse_loss(decoded, sequences.view(sequences.size(0), -1)) # changes binary_cross_entropy loss to mse_loss\n",
        "        optimizer.zero_grad()\n",
        "\n",
        "        # Backward pass and optimization\n",
        "        loss.backward()\n",
        "        optimizer.step()\n",
        "\n",
        "        # Logging\n",
        "        if not batch_idx % 50:\n",
        "            print('Epoch: %03d/%03d | Batch %03d/%03d | Loss: %.4f'\n",
        "                  % (epoch + 1, num_epochs, batch_idx, len(train_loader), loss))\n",
        "\n",
        "    print('Time elapsed: %.2f min' % ((time.time() - start_time) / 60))\n",
        "\n",
        "print('Total Training Time: %.2f min' % ((time.time() - start_time) / 60))\n",
        "\n"
      ],
      "metadata": {
        "colab": {
          "base_uri": "https://localhost:8080/"
        },
        "id": "nXU7SNjOmceG",
        "outputId": "12283992-f443-4e1b-be8a-ed129a21e2cc"
      },
      "execution_count": 13,
      "outputs": [
        {
          "output_type": "stream",
          "name": "stdout",
          "text": [
            "Epoch: 001/005 | Batch 000/309 | Loss: 39.3705\n",
            "Epoch: 001/005 | Batch 050/309 | Loss: 117.5504\n",
            "Epoch: 001/005 | Batch 100/309 | Loss: 257.5620\n",
            "Epoch: 001/005 | Batch 150/309 | Loss: 76.9752\n",
            "Epoch: 001/005 | Batch 200/309 | Loss: 221.5446\n",
            "Epoch: 001/005 | Batch 250/309 | Loss: 327.3101\n",
            "Epoch: 001/005 | Batch 300/309 | Loss: 352.1613\n",
            "Time elapsed: 0.57 min\n",
            "Epoch: 002/005 | Batch 000/309 | Loss: 36.2229\n",
            "Epoch: 002/005 | Batch 050/309 | Loss: 117.5504\n",
            "Epoch: 002/005 | Batch 100/309 | Loss: 257.5620\n",
            "Epoch: 002/005 | Batch 150/309 | Loss: 76.9752\n",
            "Epoch: 002/005 | Batch 200/309 | Loss: 221.5446\n",
            "Epoch: 002/005 | Batch 250/309 | Loss: 327.3101\n",
            "Epoch: 002/005 | Batch 300/309 | Loss: 352.1613\n",
            "Time elapsed: 1.16 min\n",
            "Epoch: 003/005 | Batch 000/309 | Loss: 36.2229\n",
            "Epoch: 003/005 | Batch 050/309 | Loss: 117.5504\n",
            "Epoch: 003/005 | Batch 100/309 | Loss: 257.5620\n",
            "Epoch: 003/005 | Batch 150/309 | Loss: 76.9752\n",
            "Epoch: 003/005 | Batch 200/309 | Loss: 221.5446\n",
            "Epoch: 003/005 | Batch 250/309 | Loss: 327.3101\n",
            "Epoch: 003/005 | Batch 300/309 | Loss: 352.1613\n",
            "Time elapsed: 1.99 min\n",
            "Epoch: 004/005 | Batch 000/309 | Loss: 36.2229\n",
            "Epoch: 004/005 | Batch 050/309 | Loss: 117.5504\n",
            "Epoch: 004/005 | Batch 100/309 | Loss: 257.5620\n",
            "Epoch: 004/005 | Batch 150/309 | Loss: 76.9752\n",
            "Epoch: 004/005 | Batch 200/309 | Loss: 221.5446\n",
            "Epoch: 004/005 | Batch 250/309 | Loss: 327.3101\n",
            "Epoch: 004/005 | Batch 300/309 | Loss: 352.1613\n",
            "Time elapsed: 2.97 min\n",
            "Epoch: 005/005 | Batch 000/309 | Loss: 36.2229\n",
            "Epoch: 005/005 | Batch 050/309 | Loss: 117.5504\n",
            "Epoch: 005/005 | Batch 100/309 | Loss: 257.5620\n",
            "Epoch: 005/005 | Batch 150/309 | Loss: 76.9752\n",
            "Epoch: 005/005 | Batch 200/309 | Loss: 221.5446\n",
            "Epoch: 005/005 | Batch 250/309 | Loss: 327.3101\n",
            "Epoch: 005/005 | Batch 300/309 | Loss: 352.1613\n",
            "Time elapsed: 3.76 min\n",
            "Total Training Time: 3.76 min\n"
          ]
        }
      ]
    },
    {
      "cell_type": "code",
      "source": [
        "print(\"input size:\", input_size)\n",
        "print(\"num_hidden_1:\", num_hidden_1)\n",
        "print(\"num_hidden_2:\", num_hidden_2)"
      ],
      "metadata": {
        "colab": {
          "base_uri": "https://localhost:8080/"
        },
        "id": "XHL_M0y74006",
        "outputId": "73d11e73-361e-41a5-9d8c-11e56bd2a341"
      },
      "execution_count": 14,
      "outputs": [
        {
          "output_type": "stream",
          "name": "stdout",
          "text": [
            "input size: 3680\n",
            "num_hidden_1: 500\n",
            "num_hidden_2: 50\n"
          ]
        }
      ]
    },
    {
      "cell_type": "markdown",
      "source": [
        "# Using encoder\n"
      ],
      "metadata": {
        "id": "FaYUiJWNWjap"
      }
    },
    {
      "cell_type": "code",
      "source": [
        "#### USING ENCODER (dont run the cell below of decoder if you run this one)\n",
        "\n",
        "# Extract features from the autoencoder for Random Forest\n",
        "X_train_ae = np.ones((len(train_dataset), num_hidden_2))\n",
        "# y_train_ae = y_train_seq\n",
        "y_train_ae = np.ones((len(train_dataset),num_hidden_2))\n",
        "\n",
        "X_test_ae = np.ones((len(test_dataset), num_hidden_2))\n",
        "# y_test_ae = y_test_seq\n",
        "y_test_ae = np.ones((len(test_dataset),num_hidden_2))\n",
        "\n",
        "start_idx = 0\n",
        "for idx, (sequences, labels) in enumerate(train_loader):\n",
        "    sequences = sequences.to(device)\n",
        "    encoded = model.encoder(sequences.view(sequences.size(0), -1))\n",
        "    # decoded = model.encoder(sequences.view(sequences.size(0), -1))\n",
        "\n",
        "    batch_size = encoded.shape[0]\n",
        "    # batch_size = decoded.shape[0]\n",
        "    # X_train_ae[start_idx:start_idx+batch_size] = decoded.cpu().detach().numpy() #using decoder\n",
        "    # y_train_ae[start_idx:start_idx+batch_size] = decoded.cpu().detach().numpy() #using decoder #labels.cpu().detach().numpy()\n",
        "    X_train_ae[start_idx:start_idx+batch_size] = encoded.cpu().detach().numpy() #using encoder\n",
        "    y_train_ae[start_idx:start_idx+batch_size] = encoded.cpu().detach().numpy() #using encoder #labels.cpu().detach().numpy()\n",
        "    start_idx += batch_size\n",
        "\n",
        "start_idx = 0\n",
        "for idx, (sequences, labels) in enumerate(test_loader):\n",
        "    sequences = sequences.to(device)\n",
        "    # encoded = model.encoder(sequences.view(sequences.size(0), -1))\n",
        "    decoded = model.encoder(sequences.view(sequences.size(0), -1))\n",
        "    # batch_size = encoded.shape[0]\n",
        "    batch_size = decoded.shape[0]\n",
        "    X_test_ae[start_idx:start_idx + batch_size] = decoded.cpu().detach().numpy() #using encoder\n",
        "    y_test_ae[start_idx:start_idx+batch_size] = decoded.cpu().detach().numpy() #using encoder #labels.cpu().detach().numpy()\n",
        "    # X_test_ae[start_idx:start_idx+batch_size] = decoded.cpu().detach().numpy() #using decoder\n",
        "    # y_test_ae[start_idx:start_idx+batch_size] = decoded.cpu().detach().numpy() #using decoder #labels.cpu().detach().numpy()\n",
        "\n",
        "    start_idx += batch_size\n"
      ],
      "metadata": {
        "id": "3iUFyA8QWE8A"
      },
      "execution_count": 15,
      "outputs": []
    },
    {
      "cell_type": "markdown",
      "source": [
        "# RANDOM FOREST"
      ],
      "metadata": {
        "id": "mMPXkv4jAzid"
      }
    },
    {
      "cell_type": "code",
      "source": [
        "eye_tracking_data.columns"
      ],
      "metadata": {
        "colab": {
          "base_uri": "https://localhost:8080/"
        },
        "id": "qyM8NkIMAyhs",
        "outputId": "764e2a5f-3c3e-4896-becb-2405459d4482"
      },
      "execution_count": 18,
      "outputs": [
        {
          "output_type": "execute_result",
          "data": {
            "text/plain": [
              "Index(['time', 'L_x', 'L_y', 'L_z', 'C_x', 'C_y', 'C_z', 'GT1', 'observer'], dtype='object')"
            ]
          },
          "metadata": {},
          "execution_count": 18
        }
      ]
    },
    {
      "cell_type": "code",
      "source": [
        "train_split = 0.75\n",
        "# Creating data indices for training and test splits: LSTM autoencoder time series https://github.com/fabiozappo/LSTM-Autoencoder-Time-Series/blob/main/code/main.py\n",
        "dataset_size = len(eye_tracking_data)\n",
        "indices = list(range(dataset_size))\n",
        "split = int(np.floor(train_split * dataset_size))\n",
        "\n",
        "et_train_original_rf = eye_tracking_data.iloc[:split, :]\n",
        "et_test_original_rf = eye_tracking_data.iloc[split:, :]\n",
        "\n",
        "print(\"et_train_rf shape is %s\\n\" % (et_train_original_rf.shape,))\n",
        "\n",
        "feature_cols = ['time', 'L_x', 'L_y', 'L_z', 'C_x', 'C_y', 'C_z', 'observer']\n",
        "\n",
        "X_train_original_rf = et_train_original_rf[feature_cols] # Features\n",
        "y_train_original_rf = et_train_original_rf.GT1 # Target variable\n",
        "\n",
        "X_test_original_rf = et_test_original_rf[feature_cols] # Features\n",
        "y_test_original_rf = et_test_original_rf.GT1 # Target variable\n",
        "\n",
        "print(f\"X_train_original_rf shape is {X_train_original_rf.shape} \\nY train original rf shape is {y_train_original_rf.shape} \")\n",
        "print(f\"X_test_original_rf shape is {X_test_original_rf.shape}\\n\")\n",
        "print(f\"y_test_original_rf shape is {y_test_original_rf.shape}\")\n"
      ],
      "metadata": {
        "colab": {
          "base_uri": "https://localhost:8080/"
        },
        "id": "6BSzOOmbH0bF",
        "outputId": "3f815dc1-3c3a-4f08-85b8-733270c878d3"
      },
      "execution_count": 16,
      "outputs": [
        {
          "output_type": "stream",
          "name": "stdout",
          "text": [
            "et_train_rf shape is (79689, 9)\n",
            "\n",
            "X_train_original_rf shape is (79689, 8) \n",
            "Y train original rf shape is (79689,) \n",
            "X_test_original_rf shape is (26563, 8)\n",
            "\n",
            "y_test_original_rf shape is (26563,)\n"
          ]
        }
      ]
    },
    {
      "cell_type": "code",
      "source": [
        "print(f\"The X_train_ae shape is:  {X_train_ae.shape}\")\n",
        "print(f\"The X_test_ae shape is:  {X_test_ae.shape}\\n\")\n",
        "\n",
        "print(f\"The y_train_ae shape is:  {X_train_ae.shape}\")\n",
        "print(f\"The Y_test_ae shape is:  {X_test_ae.shape}\\n\")\n",
        "\n",
        "print(f\"The y_train_seq shape is:  {y_train_seq.shape}\\n\")\n",
        "\n",
        "print(f\"The y_train_original_rf shape is: {y_train_original_rf.shape}\")\n",
        "print(f\"The y_test_original_rf shape is: {y_test_original_rf.shape}\")\n",
        "# the number of rows are different from the autoencoders and the original ones to be used in the RF"
      ],
      "metadata": {
        "colab": {
          "base_uri": "https://localhost:8080/"
        },
        "id": "Tf85pkSBGqMl",
        "outputId": "d5d2a6f2-a649-4bdf-f801-020db5a912d4"
      },
      "execution_count": 17,
      "outputs": [
        {
          "output_type": "stream",
          "name": "stdout",
          "text": [
            "The X_train_ae shape is:  (79229, 50)\n",
            "The X_test_ae shape is:  (26103, 50)\n",
            "\n",
            "The y_train_ae shape is:  (79229, 50)\n",
            "The Y_test_ae shape is:  (26103, 50)\n",
            "\n",
            "The y_train_seq shape is:  (79229, 460, 8)\n",
            "\n",
            "The y_train_original_rf shape is: (79689,)\n",
            "The y_test_original_rf shape is: (26563,)\n"
          ]
        }
      ]
    },
    {
      "cell_type": "markdown",
      "source": [
        "## Using original GT1 column for Y train and test dropping last rows to match autoencoder size:"
      ],
      "metadata": {
        "id": "rF4-Jr4-iI-I"
      }
    },
    {
      "cell_type": "code",
      "source": [
        "# drop last 460 rows of y_train_original_rf is (79689,) and y_train_original_rf is (79689,)\n",
        "# to match the number of rows of X_train_ae\n",
        "\n",
        "y_train_original_rf_drop_last_rows = y_train_original_rf[:-460]\n",
        "y_test_original_rf_drop_last_rows = y_test_original_rf[:-460]"
      ],
      "metadata": {
        "id": "5iomzIq3S5bb"
      },
      "execution_count": 18,
      "outputs": []
    },
    {
      "cell_type": "code",
      "source": [
        "print(f\"The X_train_ae shape is:  {X_train_ae.shape}\")\n",
        "print(f\"The X_test_ae shape is:  {X_test_ae.shape}\\n\")\n",
        "\n",
        "print(f\"The y_train_ae shape is:  {y_train_ae.shape}\")\n",
        "print(f\"The y_test_ae shape is:  {y_test_ae.shape}\\n\")\n",
        "\n",
        "print(f\"The train_original_rf_drop_last_rows shape is:  {y_train_original_rf_drop_last_rows.shape}\")\n",
        "print(f\"The test_original_rf_drop_last_rows shape is:  {y_test_original_rf_drop_last_rows.shape}\")"
      ],
      "metadata": {
        "colab": {
          "base_uri": "https://localhost:8080/"
        },
        "id": "62MPPhOaT3VL",
        "outputId": "b9192b29-28ad-4bcd-fac5-d903a35121c6"
      },
      "execution_count": 36,
      "outputs": [
        {
          "output_type": "stream",
          "name": "stdout",
          "text": [
            "The X_train_ae shape is:  (79229, 50)\n",
            "The X_test_ae shape is:  (26103, 50)\n",
            "\n",
            "The y_train_ae shape is:  (79229, 50)\n",
            "The y_test_ae shape is:  (26103, 50)\n",
            "\n",
            "The train_original_rf_drop_last_rows shape is:  (79229,)\n",
            "The test_original_rf_drop_last_rows shape is:  (26103,)\n"
          ]
        }
      ]
    },
    {
      "cell_type": "code",
      "source": [
        "# Random Forest Classifier - USING ENCODER AND ORIGINAL X TEST AND Y TEST\n",
        "rf = RandomForestClassifier(n_estimators=50, n_jobs=-1)\n",
        "rf.fit(X_train_ae, y_train_original_rf_drop_last_rows)\n",
        "\n",
        "print(f'Train Accuracy: {rf.score(X_train_ae, y_train_original_rf_drop_last_rows) * 100:.2f}%')\n",
        "print(f'Test Accuracy: {rf.score(X_test_ae, y_train_original_rf_drop_last_rows) * 100:.2f}%')\n"
      ],
      "metadata": {
        "colab": {
          "base_uri": "https://localhost:8080/",
          "height": 393
        },
        "id": "TfYh-fYmnVLY",
        "outputId": "0c763fe8-b64e-489a-dd9f-a0cf00a82883"
      },
      "execution_count": 34,
      "outputs": [
        {
          "output_type": "stream",
          "name": "stdout",
          "text": [
            "Train Accuracy: 54.33%\n"
          ]
        },
        {
          "output_type": "stream",
          "name": "stderr",
          "text": [
            "/usr/local/lib/python3.10/dist-packages/sklearn/base.py:486: UserWarning: X has feature names, but RandomForestClassifier was fitted without feature names\n",
            "  warnings.warn(\n"
          ]
        },
        {
          "output_type": "error",
          "ename": "ValueError",
          "evalue": "X has 8 features, but RandomForestClassifier is expecting 50 features as input.",
          "traceback": [
            "\u001b[0;31m---------------------------------------------------------------------------\u001b[0m",
            "\u001b[0;31mValueError\u001b[0m                                Traceback (most recent call last)",
            "\u001b[0;32m<ipython-input-34-615d3cdc7a6f>\u001b[0m in \u001b[0;36m<cell line: 6>\u001b[0;34m()\u001b[0m\n\u001b[1;32m      4\u001b[0m \u001b[0;34m\u001b[0m\u001b[0m\n\u001b[1;32m      5\u001b[0m \u001b[0mprint\u001b[0m\u001b[0;34m(\u001b[0m\u001b[0;34mf'Train Accuracy: {rf.score(X_train_ae, y_train_original_rf_drop_last_rows) * 100:.2f}%'\u001b[0m\u001b[0;34m)\u001b[0m\u001b[0;34m\u001b[0m\u001b[0;34m\u001b[0m\u001b[0m\n\u001b[0;32m----> 6\u001b[0;31m \u001b[0mprint\u001b[0m\u001b[0;34m(\u001b[0m\u001b[0;34mf'Test Accuracy: {rf.score(X_test_original_rf, y_test_original_rf) * 100:.2f}%'\u001b[0m\u001b[0;34m)\u001b[0m\u001b[0;34m\u001b[0m\u001b[0;34m\u001b[0m\u001b[0m\n\u001b[0m",
            "\u001b[0;32m/usr/local/lib/python3.10/dist-packages/sklearn/base.py\u001b[0m in \u001b[0;36mscore\u001b[0;34m(self, X, y, sample_weight)\u001b[0m\n\u001b[1;32m    762\u001b[0m         \u001b[0;32mfrom\u001b[0m \u001b[0;34m.\u001b[0m\u001b[0mmetrics\u001b[0m \u001b[0;32mimport\u001b[0m \u001b[0maccuracy_score\u001b[0m\u001b[0;34m\u001b[0m\u001b[0;34m\u001b[0m\u001b[0m\n\u001b[1;32m    763\u001b[0m \u001b[0;34m\u001b[0m\u001b[0m\n\u001b[0;32m--> 764\u001b[0;31m         \u001b[0;32mreturn\u001b[0m \u001b[0maccuracy_score\u001b[0m\u001b[0;34m(\u001b[0m\u001b[0my\u001b[0m\u001b[0;34m,\u001b[0m \u001b[0mself\u001b[0m\u001b[0;34m.\u001b[0m\u001b[0mpredict\u001b[0m\u001b[0;34m(\u001b[0m\u001b[0mX\u001b[0m\u001b[0;34m)\u001b[0m\u001b[0;34m,\u001b[0m \u001b[0msample_weight\u001b[0m\u001b[0;34m=\u001b[0m\u001b[0msample_weight\u001b[0m\u001b[0;34m)\u001b[0m\u001b[0;34m\u001b[0m\u001b[0;34m\u001b[0m\u001b[0m\n\u001b[0m\u001b[1;32m    765\u001b[0m \u001b[0;34m\u001b[0m\u001b[0m\n\u001b[1;32m    766\u001b[0m     \u001b[0;32mdef\u001b[0m \u001b[0m_more_tags\u001b[0m\u001b[0;34m(\u001b[0m\u001b[0mself\u001b[0m\u001b[0;34m)\u001b[0m\u001b[0;34m:\u001b[0m\u001b[0;34m\u001b[0m\u001b[0;34m\u001b[0m\u001b[0m\n",
            "\u001b[0;32m/usr/local/lib/python3.10/dist-packages/sklearn/ensemble/_forest.py\u001b[0m in \u001b[0;36mpredict\u001b[0;34m(self, X)\u001b[0m\n\u001b[1;32m    902\u001b[0m             \u001b[0mThe\u001b[0m \u001b[0mpredicted\u001b[0m \u001b[0mclasses\u001b[0m\u001b[0;34m.\u001b[0m\u001b[0;34m\u001b[0m\u001b[0;34m\u001b[0m\u001b[0m\n\u001b[1;32m    903\u001b[0m         \"\"\"\n\u001b[0;32m--> 904\u001b[0;31m         \u001b[0mproba\u001b[0m \u001b[0;34m=\u001b[0m \u001b[0mself\u001b[0m\u001b[0;34m.\u001b[0m\u001b[0mpredict_proba\u001b[0m\u001b[0;34m(\u001b[0m\u001b[0mX\u001b[0m\u001b[0;34m)\u001b[0m\u001b[0;34m\u001b[0m\u001b[0;34m\u001b[0m\u001b[0m\n\u001b[0m\u001b[1;32m    905\u001b[0m \u001b[0;34m\u001b[0m\u001b[0m\n\u001b[1;32m    906\u001b[0m         \u001b[0;32mif\u001b[0m \u001b[0mself\u001b[0m\u001b[0;34m.\u001b[0m\u001b[0mn_outputs_\u001b[0m \u001b[0;34m==\u001b[0m \u001b[0;36m1\u001b[0m\u001b[0;34m:\u001b[0m\u001b[0;34m\u001b[0m\u001b[0;34m\u001b[0m\u001b[0m\n",
            "\u001b[0;32m/usr/local/lib/python3.10/dist-packages/sklearn/ensemble/_forest.py\u001b[0m in \u001b[0;36mpredict_proba\u001b[0;34m(self, X)\u001b[0m\n\u001b[1;32m    944\u001b[0m         \u001b[0mcheck_is_fitted\u001b[0m\u001b[0;34m(\u001b[0m\u001b[0mself\u001b[0m\u001b[0;34m)\u001b[0m\u001b[0;34m\u001b[0m\u001b[0;34m\u001b[0m\u001b[0m\n\u001b[1;32m    945\u001b[0m         \u001b[0;31m# Check data\u001b[0m\u001b[0;34m\u001b[0m\u001b[0;34m\u001b[0m\u001b[0m\n\u001b[0;32m--> 946\u001b[0;31m         \u001b[0mX\u001b[0m \u001b[0;34m=\u001b[0m \u001b[0mself\u001b[0m\u001b[0;34m.\u001b[0m\u001b[0m_validate_X_predict\u001b[0m\u001b[0;34m(\u001b[0m\u001b[0mX\u001b[0m\u001b[0;34m)\u001b[0m\u001b[0;34m\u001b[0m\u001b[0;34m\u001b[0m\u001b[0m\n\u001b[0m\u001b[1;32m    947\u001b[0m \u001b[0;34m\u001b[0m\u001b[0m\n\u001b[1;32m    948\u001b[0m         \u001b[0;31m# Assign chunk of trees to jobs\u001b[0m\u001b[0;34m\u001b[0m\u001b[0;34m\u001b[0m\u001b[0m\n",
            "\u001b[0;32m/usr/local/lib/python3.10/dist-packages/sklearn/ensemble/_forest.py\u001b[0m in \u001b[0;36m_validate_X_predict\u001b[0;34m(self, X)\u001b[0m\n\u001b[1;32m    639\u001b[0m             \u001b[0mforce_all_finite\u001b[0m \u001b[0;34m=\u001b[0m \u001b[0;32mTrue\u001b[0m\u001b[0;34m\u001b[0m\u001b[0;34m\u001b[0m\u001b[0m\n\u001b[1;32m    640\u001b[0m \u001b[0;34m\u001b[0m\u001b[0m\n\u001b[0;32m--> 641\u001b[0;31m         X = self._validate_data(\n\u001b[0m\u001b[1;32m    642\u001b[0m             \u001b[0mX\u001b[0m\u001b[0;34m,\u001b[0m\u001b[0;34m\u001b[0m\u001b[0;34m\u001b[0m\u001b[0m\n\u001b[1;32m    643\u001b[0m             \u001b[0mdtype\u001b[0m\u001b[0;34m=\u001b[0m\u001b[0mDTYPE\u001b[0m\u001b[0;34m,\u001b[0m\u001b[0;34m\u001b[0m\u001b[0;34m\u001b[0m\u001b[0m\n",
            "\u001b[0;32m/usr/local/lib/python3.10/dist-packages/sklearn/base.py\u001b[0m in \u001b[0;36m_validate_data\u001b[0;34m(self, X, y, reset, validate_separately, cast_to_ndarray, **check_params)\u001b[0m\n\u001b[1;32m    652\u001b[0m \u001b[0;34m\u001b[0m\u001b[0m\n\u001b[1;32m    653\u001b[0m         \u001b[0;32mif\u001b[0m \u001b[0;32mnot\u001b[0m \u001b[0mno_val_X\u001b[0m \u001b[0;32mand\u001b[0m \u001b[0mcheck_params\u001b[0m\u001b[0;34m.\u001b[0m\u001b[0mget\u001b[0m\u001b[0;34m(\u001b[0m\u001b[0;34m\"ensure_2d\"\u001b[0m\u001b[0;34m,\u001b[0m \u001b[0;32mTrue\u001b[0m\u001b[0;34m)\u001b[0m\u001b[0;34m:\u001b[0m\u001b[0;34m\u001b[0m\u001b[0;34m\u001b[0m\u001b[0m\n\u001b[0;32m--> 654\u001b[0;31m             \u001b[0mself\u001b[0m\u001b[0;34m.\u001b[0m\u001b[0m_check_n_features\u001b[0m\u001b[0;34m(\u001b[0m\u001b[0mX\u001b[0m\u001b[0;34m,\u001b[0m \u001b[0mreset\u001b[0m\u001b[0;34m=\u001b[0m\u001b[0mreset\u001b[0m\u001b[0;34m)\u001b[0m\u001b[0;34m\u001b[0m\u001b[0;34m\u001b[0m\u001b[0m\n\u001b[0m\u001b[1;32m    655\u001b[0m \u001b[0;34m\u001b[0m\u001b[0m\n\u001b[1;32m    656\u001b[0m         \u001b[0;32mreturn\u001b[0m \u001b[0mout\u001b[0m\u001b[0;34m\u001b[0m\u001b[0;34m\u001b[0m\u001b[0m\n",
            "\u001b[0;32m/usr/local/lib/python3.10/dist-packages/sklearn/base.py\u001b[0m in \u001b[0;36m_check_n_features\u001b[0;34m(self, X, reset)\u001b[0m\n\u001b[1;32m    441\u001b[0m \u001b[0;34m\u001b[0m\u001b[0m\n\u001b[1;32m    442\u001b[0m         \u001b[0;32mif\u001b[0m \u001b[0mn_features\u001b[0m \u001b[0;34m!=\u001b[0m \u001b[0mself\u001b[0m\u001b[0;34m.\u001b[0m\u001b[0mn_features_in_\u001b[0m\u001b[0;34m:\u001b[0m\u001b[0;34m\u001b[0m\u001b[0;34m\u001b[0m\u001b[0m\n\u001b[0;32m--> 443\u001b[0;31m             raise ValueError(\n\u001b[0m\u001b[1;32m    444\u001b[0m                 \u001b[0;34mf\"X has {n_features} features, but {self.__class__.__name__} \"\u001b[0m\u001b[0;34m\u001b[0m\u001b[0;34m\u001b[0m\u001b[0m\n\u001b[1;32m    445\u001b[0m                 \u001b[0;34mf\"is expecting {self.n_features_in_} features as input.\"\u001b[0m\u001b[0;34m\u001b[0m\u001b[0;34m\u001b[0m\u001b[0m\n",
            "\u001b[0;31mValueError\u001b[0m: X has 8 features, but RandomForestClassifier is expecting 50 features as input."
          ]
        }
      ]
    },
    {
      "cell_type": "markdown",
      "source": [
        "## Creating sequences\n",
        "## Use y_train_seq_rf, X_test_seq_rf and y_test_seq_rf in the RF model with X_train_ae"
      ],
      "metadata": {
        "id": "bw4pChFocaVJ"
      }
    },
    {
      "cell_type": "code",
      "source": [
        "# Function to create sequences\n",
        "def create_sequences_rf(data, sequence_length):\n",
        "    sequences = []\n",
        "    labels_GT1 = []\n",
        "    for i in range(len(data) - sequence_length):\n",
        "        seq = data.iloc[i:i+sequence_length, :].values  #\n",
        "        label_GT1 = data.iloc[i:i+sequence_length]['GT1'].values  # Select only GT1 column\n",
        "        sequences.append(seq)\n",
        "        labels_GT1.append(label_GT1)\n",
        "    return np.array(sequences), np.array(labels_GT1)\n",
        "\n",
        "\n",
        "# Generate sequences for training and testing\n",
        "X_train_seq_rf, y_train_seq_rf = create_sequences_rf(et_train_original_rf, sequence_length)\n",
        "X_test_seq_rf, y_test_seq_rf = create_sequences_rf(et_test_original_rf, sequence_length)"
      ],
      "metadata": {
        "id": "LBHeC-I79rby"
      },
      "execution_count": null,
      "outputs": []
    },
    {
      "cell_type": "code",
      "source": [
        "print(f\"The X_train_seq_rf shape is:  {X_train_seq_rf.shape}\")\n",
        "print(f\"The y_train_seq_rf shape is:  {y_train_seq_rf.shape}\\n\")\n",
        "\n",
        "print(f\"The X_test_seq_rf shape is:  {X_test_seq_rf.shape}\")\n",
        "print(f\"The y_test_seq_rf shape is:  {y_test_seq_rf.shape}\\n\")"
      ],
      "metadata": {
        "id": "89So1RTDFTFg"
      },
      "execution_count": null,
      "outputs": []
    },
    {
      "cell_type": "code",
      "source": [
        "print(f\"The X_train_ae shape is:  {X_train_ae.shape}\")\n",
        "print(f\"The X_test_ae shape is:  {X_test_ae.shape}\\n\")\n",
        "\n",
        "print(f\"The y_train_ae shape is:  {y_train_ae.shape}\")\n",
        "print(f\"The y_test_ae shape is:  {y_test_ae.shape}\\n\")\n",
        "\n"
      ],
      "metadata": {
        "colab": {
          "base_uri": "https://localhost:8080/"
        },
        "id": "ZvC9PtfJ_iAa",
        "outputId": "9f609f41-6202-4582-a5c3-3954206fcbd4"
      },
      "execution_count": 20,
      "outputs": [
        {
          "output_type": "stream",
          "name": "stdout",
          "text": [
            "The X_train_ae shape is:  (79229, 50)\n",
            "The X_test_ae shape is:  (26103, 50)\n",
            "\n",
            "The y_train_ae shape is:  (79229, 50)\n",
            "The y_test_ae shape is:  (26103, 50)\n",
            "\n",
            "The X_test_seq_rf shape is:  (26103, 460, 9)\n",
            "The y_test_seq_rf shape is:  (26103, 460)\n",
            "\n"
          ]
        }
      ]
    },
    {
      "cell_type": "code",
      "source": [
        "# Random Forest Classifier - USING ENCODER AND X_TRAIN_AE and y_train_seq_rf, X_test_seq_rf and y_train_seq_rf. Labels GT1 in train and test with sequences\n",
        "rf = RandomForestClassifier(n_estimators=50, n_jobs=-1)\n",
        "rf.fit(X_train_ae, y_train_ae)\n",
        "\n",
        "print(f'Train Accuracy: {rf.score(X_train_ae, y_train_ae) * 100:.2f}%')\n",
        "print(f'Test Accuracy: {rf.score(X_test_ae, y_test_ae) * 100:.2f}%')"
      ],
      "metadata": {
        "colab": {
          "base_uri": "https://localhost:8080/",
          "height": 0
        },
        "id": "qbN9pbOFmYxc",
        "outputId": "1919379f-2685-4d96-807c-f6a6f0c769dd"
      },
      "execution_count": 24,
      "outputs": [
        {
          "output_type": "error",
          "ename": "ValueError",
          "evalue": "Unknown label type: continuous-multioutput. Maybe you are trying to fit a classifier, which expects discrete classes on a regression target with continuous values.",
          "traceback": [
            "\u001b[0;31m---------------------------------------------------------------------------\u001b[0m",
            "\u001b[0;31mValueError\u001b[0m                                Traceback (most recent call last)",
            "\u001b[0;32m<ipython-input-24-3fdd7a0d5001>\u001b[0m in \u001b[0;36m<cell line: 3>\u001b[0;34m()\u001b[0m\n\u001b[1;32m      1\u001b[0m \u001b[0;31m# Random Forest Classifier - USING ENCODER AND X_TRAIN ARRAY\u001b[0m\u001b[0;34m\u001b[0m\u001b[0;34m\u001b[0m\u001b[0m\n\u001b[1;32m      2\u001b[0m \u001b[0mrf\u001b[0m \u001b[0;34m=\u001b[0m \u001b[0mRandomForestClassifier\u001b[0m\u001b[0;34m(\u001b[0m\u001b[0mn_estimators\u001b[0m\u001b[0;34m=\u001b[0m\u001b[0;36m50\u001b[0m\u001b[0;34m,\u001b[0m \u001b[0mn_jobs\u001b[0m\u001b[0;34m=\u001b[0m\u001b[0;34m-\u001b[0m\u001b[0;36m1\u001b[0m\u001b[0;34m)\u001b[0m\u001b[0;34m\u001b[0m\u001b[0;34m\u001b[0m\u001b[0m\n\u001b[0;32m----> 3\u001b[0;31m \u001b[0mrf\u001b[0m\u001b[0;34m.\u001b[0m\u001b[0mfit\u001b[0m\u001b[0;34m(\u001b[0m\u001b[0mX_train_ae\u001b[0m\u001b[0;34m,\u001b[0m \u001b[0my_train_ae\u001b[0m\u001b[0;34m)\u001b[0m\u001b[0;34m\u001b[0m\u001b[0;34m\u001b[0m\u001b[0m\n\u001b[0m\u001b[1;32m      4\u001b[0m \u001b[0;34m\u001b[0m\u001b[0m\n\u001b[1;32m      5\u001b[0m \u001b[0mprint\u001b[0m\u001b[0;34m(\u001b[0m\u001b[0;34mf'Train Accuracy: {rf.score(X_train_ae, y_train_ae) * 100:.2f}%'\u001b[0m\u001b[0;34m)\u001b[0m\u001b[0;34m\u001b[0m\u001b[0;34m\u001b[0m\u001b[0m\n",
            "\u001b[0;32m/usr/local/lib/python3.10/dist-packages/sklearn/base.py\u001b[0m in \u001b[0;36mwrapper\u001b[0;34m(estimator, *args, **kwargs)\u001b[0m\n\u001b[1;32m   1471\u001b[0m                 )\n\u001b[1;32m   1472\u001b[0m             ):\n\u001b[0;32m-> 1473\u001b[0;31m                 \u001b[0;32mreturn\u001b[0m \u001b[0mfit_method\u001b[0m\u001b[0;34m(\u001b[0m\u001b[0mestimator\u001b[0m\u001b[0;34m,\u001b[0m \u001b[0;34m*\u001b[0m\u001b[0margs\u001b[0m\u001b[0;34m,\u001b[0m \u001b[0;34m**\u001b[0m\u001b[0mkwargs\u001b[0m\u001b[0;34m)\u001b[0m\u001b[0;34m\u001b[0m\u001b[0;34m\u001b[0m\u001b[0m\n\u001b[0m\u001b[1;32m   1474\u001b[0m \u001b[0;34m\u001b[0m\u001b[0m\n\u001b[1;32m   1475\u001b[0m         \u001b[0;32mreturn\u001b[0m \u001b[0mwrapper\u001b[0m\u001b[0;34m\u001b[0m\u001b[0;34m\u001b[0m\u001b[0m\n",
            "\u001b[0;32m/usr/local/lib/python3.10/dist-packages/sklearn/ensemble/_forest.py\u001b[0m in \u001b[0;36mfit\u001b[0;34m(self, X, y, sample_weight)\u001b[0m\n\u001b[1;32m    419\u001b[0m         \u001b[0mself\u001b[0m\u001b[0;34m.\u001b[0m\u001b[0m_n_samples\u001b[0m\u001b[0;34m,\u001b[0m \u001b[0mself\u001b[0m\u001b[0;34m.\u001b[0m\u001b[0mn_outputs_\u001b[0m \u001b[0;34m=\u001b[0m \u001b[0my\u001b[0m\u001b[0;34m.\u001b[0m\u001b[0mshape\u001b[0m\u001b[0;34m\u001b[0m\u001b[0;34m\u001b[0m\u001b[0m\n\u001b[1;32m    420\u001b[0m \u001b[0;34m\u001b[0m\u001b[0m\n\u001b[0;32m--> 421\u001b[0;31m         \u001b[0my\u001b[0m\u001b[0;34m,\u001b[0m \u001b[0mexpanded_class_weight\u001b[0m \u001b[0;34m=\u001b[0m \u001b[0mself\u001b[0m\u001b[0;34m.\u001b[0m\u001b[0m_validate_y_class_weight\u001b[0m\u001b[0;34m(\u001b[0m\u001b[0my\u001b[0m\u001b[0;34m)\u001b[0m\u001b[0;34m\u001b[0m\u001b[0;34m\u001b[0m\u001b[0m\n\u001b[0m\u001b[1;32m    422\u001b[0m \u001b[0;34m\u001b[0m\u001b[0m\n\u001b[1;32m    423\u001b[0m         \u001b[0;32mif\u001b[0m \u001b[0mgetattr\u001b[0m\u001b[0;34m(\u001b[0m\u001b[0my\u001b[0m\u001b[0;34m,\u001b[0m \u001b[0;34m\"dtype\"\u001b[0m\u001b[0;34m,\u001b[0m \u001b[0;32mNone\u001b[0m\u001b[0;34m)\u001b[0m \u001b[0;34m!=\u001b[0m \u001b[0mDOUBLE\u001b[0m \u001b[0;32mor\u001b[0m \u001b[0;32mnot\u001b[0m \u001b[0my\u001b[0m\u001b[0;34m.\u001b[0m\u001b[0mflags\u001b[0m\u001b[0;34m.\u001b[0m\u001b[0mcontiguous\u001b[0m\u001b[0;34m:\u001b[0m\u001b[0;34m\u001b[0m\u001b[0;34m\u001b[0m\u001b[0m\n",
            "\u001b[0;32m/usr/local/lib/python3.10/dist-packages/sklearn/ensemble/_forest.py\u001b[0m in \u001b[0;36m_validate_y_class_weight\u001b[0;34m(self, y)\u001b[0m\n\u001b[1;32m    829\u001b[0m \u001b[0;34m\u001b[0m\u001b[0m\n\u001b[1;32m    830\u001b[0m     \u001b[0;32mdef\u001b[0m \u001b[0m_validate_y_class_weight\u001b[0m\u001b[0;34m(\u001b[0m\u001b[0mself\u001b[0m\u001b[0;34m,\u001b[0m \u001b[0my\u001b[0m\u001b[0;34m)\u001b[0m\u001b[0;34m:\u001b[0m\u001b[0;34m\u001b[0m\u001b[0;34m\u001b[0m\u001b[0m\n\u001b[0;32m--> 831\u001b[0;31m         \u001b[0mcheck_classification_targets\u001b[0m\u001b[0;34m(\u001b[0m\u001b[0my\u001b[0m\u001b[0;34m)\u001b[0m\u001b[0;34m\u001b[0m\u001b[0;34m\u001b[0m\u001b[0m\n\u001b[0m\u001b[1;32m    832\u001b[0m \u001b[0;34m\u001b[0m\u001b[0m\n\u001b[1;32m    833\u001b[0m         \u001b[0my\u001b[0m \u001b[0;34m=\u001b[0m \u001b[0mnp\u001b[0m\u001b[0;34m.\u001b[0m\u001b[0mcopy\u001b[0m\u001b[0;34m(\u001b[0m\u001b[0my\u001b[0m\u001b[0;34m)\u001b[0m\u001b[0;34m\u001b[0m\u001b[0;34m\u001b[0m\u001b[0m\n",
            "\u001b[0;32m/usr/local/lib/python3.10/dist-packages/sklearn/utils/multiclass.py\u001b[0m in \u001b[0;36mcheck_classification_targets\u001b[0;34m(y)\u001b[0m\n\u001b[1;32m    217\u001b[0m         \u001b[0;34m\"multilabel-sequences\"\u001b[0m\u001b[0;34m,\u001b[0m\u001b[0;34m\u001b[0m\u001b[0;34m\u001b[0m\u001b[0m\n\u001b[1;32m    218\u001b[0m     ]:\n\u001b[0;32m--> 219\u001b[0;31m         raise ValueError(\n\u001b[0m\u001b[1;32m    220\u001b[0m             \u001b[0;34mf\"Unknown label type: {y_type}. Maybe you are trying to fit a \"\u001b[0m\u001b[0;34m\u001b[0m\u001b[0;34m\u001b[0m\u001b[0m\n\u001b[1;32m    221\u001b[0m             \u001b[0;34m\"classifier, which expects discrete classes on a \"\u001b[0m\u001b[0;34m\u001b[0m\u001b[0;34m\u001b[0m\u001b[0m\n",
            "\u001b[0;31mValueError\u001b[0m: Unknown label type: continuous-multioutput. Maybe you are trying to fit a classifier, which expects discrete classes on a regression target with continuous values."
          ]
        }
      ]
    },
    {
      "cell_type": "code",
      "source": [
        "# Random Forest Classifier - USING ENCODER (X_TRAIN AND X_TEST DF)\n",
        "rf = RandomForestClassifier(n_estimators=50, n_jobs=-1)\n",
        "rf.fit(X_train_ae_df, y_train_seq_rf)\n",
        "\n",
        "print(f'Train Accuracy: {rf.score(X_train_ae_df, y_train_ae_df) * 100:.2f}%')\n",
        "print(f'Test Accuracy: {rf.score(X_test_ae, y_test_original_rf_drop_last_rows) * 100:.2f}%')"
      ],
      "metadata": {
        "colab": {
          "base_uri": "https://localhost:8080/",
          "height": 0
        },
        "id": "BFPUmAulXW9U",
        "outputId": "43dab473-8c50-4baa-9f37-4bfb9ecc2b0a"
      },
      "execution_count": 36,
      "outputs": [
        {
          "output_type": "error",
          "ename": "NameError",
          "evalue": "name 'y_train_seq_rf' is not defined",
          "traceback": [
            "\u001b[0;31m---------------------------------------------------------------------------\u001b[0m",
            "\u001b[0;31mNameError\u001b[0m                                 Traceback (most recent call last)",
            "\u001b[0;32m<ipython-input-36-b062fca58561>\u001b[0m in \u001b[0;36m<cell line: 3>\u001b[0;34m()\u001b[0m\n\u001b[1;32m      1\u001b[0m \u001b[0;31m# Random Forest Classifier - USING ENCODER (X_TRAIN AND X_TEST DF)\u001b[0m\u001b[0;34m\u001b[0m\u001b[0;34m\u001b[0m\u001b[0m\n\u001b[1;32m      2\u001b[0m \u001b[0mrf\u001b[0m \u001b[0;34m=\u001b[0m \u001b[0mRandomForestClassifier\u001b[0m\u001b[0;34m(\u001b[0m\u001b[0mn_estimators\u001b[0m\u001b[0;34m=\u001b[0m\u001b[0;36m50\u001b[0m\u001b[0;34m,\u001b[0m \u001b[0mn_jobs\u001b[0m\u001b[0;34m=\u001b[0m\u001b[0;34m-\u001b[0m\u001b[0;36m1\u001b[0m\u001b[0;34m)\u001b[0m\u001b[0;34m\u001b[0m\u001b[0;34m\u001b[0m\u001b[0m\n\u001b[0;32m----> 3\u001b[0;31m \u001b[0mrf\u001b[0m\u001b[0;34m.\u001b[0m\u001b[0mfit\u001b[0m\u001b[0;34m(\u001b[0m\u001b[0mX_train_ae_df\u001b[0m\u001b[0;34m,\u001b[0m \u001b[0my_train_seq_rf\u001b[0m\u001b[0;34m)\u001b[0m\u001b[0;34m\u001b[0m\u001b[0;34m\u001b[0m\u001b[0m\n\u001b[0m\u001b[1;32m      4\u001b[0m \u001b[0;34m\u001b[0m\u001b[0m\n\u001b[1;32m      5\u001b[0m \u001b[0mprint\u001b[0m\u001b[0;34m(\u001b[0m\u001b[0;34mf'Train Accuracy: {rf.score(X_train_ae_df, y_train_ae_df) * 100:.2f}%'\u001b[0m\u001b[0;34m)\u001b[0m\u001b[0;34m\u001b[0m\u001b[0;34m\u001b[0m\u001b[0m\n",
            "\u001b[0;31mNameError\u001b[0m: name 'y_train_seq_rf' is not defined"
          ]
        }
      ]
    },
    {
      "cell_type": "code",
      "source": [
        "# Random Forest Classifier\n",
        "rf = RandomForestClassifier(n_estimators=50, n_jobs=-1)\n",
        "rf.fit(X_train_ae, y_train_original_rf_drop_last_rows)\n",
        "\n",
        "print(f'Train Accuracy: {rf.score(X_train_ae, y_train_original_rf_drop_last_rows) * 100:.2f}%')\n",
        "print(f'Test Accuracy: {rf.score(X_test_ae, y_test_original_rf_drop_last_rows) * 100:.2f}%')\n"
      ],
      "metadata": {
        "colab": {
          "base_uri": "https://localhost:8080/"
        },
        "id": "qzGvo-kYmO2M",
        "outputId": "6c573ef2-c9e9-4e81-b167-fbfd720fc49d"
      },
      "execution_count": 33,
      "outputs": [
        {
          "output_type": "stream",
          "name": "stdout",
          "text": [
            "Train Accuracy: 54.33%\n",
            "Test Accuracy: 55.16%\n"
          ]
        }
      ]
    },
    {
      "cell_type": "code",
      "source": [
        "print(\"Training label distribution:\", np.unique(y_train_seq, return_counts=True))\n",
        "print(\"Testing label distribution:\", np.unique(y_test_ae, return_counts=True))\n"
      ],
      "metadata": {
        "colab": {
          "base_uri": "https://localhost:8080/"
        },
        "id": "b5sH_vLr2xSm",
        "outputId": "84ea9ed0-cda6-45bf-f410-1d872e383e54"
      },
      "execution_count": null,
      "outputs": [
        {
          "output_type": "stream",
          "name": "stdout",
          "text": [
            "Training label distribution: (array([0., 1.], dtype=float32), array([16527326, 19348994]))\n",
            "Testing label distribution: (array([0., 1.], dtype=float32), array([5569882, 7006518]))\n"
          ]
        }
      ]
    },
    {
      "cell_type": "code",
      "source": [
        "print(\"X_train_ae shape:\", X_train_ae.shape)\n",
        "print(\"X_test_ae shape:\", X_test_ae.shape)\n",
        "print(\"y_train_ae shape:\", y_train_ae.shape)\n",
        "print(\"y_test_ae shape:\", y_test_ae.shape)\n"
      ],
      "metadata": {
        "colab": {
          "base_uri": "https://localhost:8080/"
        },
        "id": "uGPEMnFk21mG",
        "outputId": "aa79bc45-94f6-45c7-f1db-eadd9b85302d"
      },
      "execution_count": null,
      "outputs": [
        {
          "output_type": "stream",
          "name": "stdout",
          "text": [
            "X_train_ae shape: (77992, 50)\n",
            "X_test_ae shape: (27340, 50)\n",
            "y_train_ae shape: (77992, 460)\n",
            "y_test_ae shape: (27340, 460)\n"
          ]
        }
      ]
    },
    {
      "cell_type": "markdown",
      "source": [
        "## Inserting X_test in the autoencoder without sequence (simulate real data)"
      ],
      "metadata": {
        "id": "ci1AJdpcf_sS"
      }
    },
    {
      "cell_type": "code",
      "source": [
        "# Convert all columns to float32 for compatibility with PyTorch\n",
        "eye_tracking_data_without_GT1 = eye_tracking_data_without_GT1.astype('float32')\n",
        "\n",
        "train_split = 0.75\n",
        "# Creating data indices for training and test splits: LSTM autoencoder time series https://github.com/fabiozappo/LSTM-Autoencoder-Time-Series/blob/main/code/main.py\n",
        "dataset_size = len(eye_tracking_data_without_GT1)\n",
        "indices = list(range(dataset_size))\n",
        "split = int(np.floor(train_split * dataset_size))\n",
        "\n",
        "et_train_without_GT1 = eye_tracking_data_without_GT1.iloc[:split, :]\n",
        "et_test_without_GT1 = eye_tracking_data_without_GT1.iloc[split:, :]\n"
      ],
      "metadata": {
        "id": "f39vDKcinyTp"
      },
      "execution_count": null,
      "outputs": []
    },
    {
      "cell_type": "code",
      "source": [
        "X_train_tensor = torch.tensor(X_train_seq, dtype=torch.float32)\n",
        "y_train_tensor = X_train_tensor.clone()  # Target for the autoencoder is the input itself\n",
        "X_test_tensor = torch.tensor(X_test_seq, dtype=torch.float32)\n",
        "y_test_tensor = X_test_tensor.clone()  # Target for the autoencoder is the input itself\n",
        "\n",
        "# Create TensorDataset for train and test sets\n",
        "train_dataset = TensorDataset(X_train_tensor, y_train_tensor)\n",
        "test_dataset = TensorDataset(X_test_tensor, y_test_tensor)\n",
        "\n",
        "batch_size = 256\n",
        "train_loader = DataLoader(train_dataset, batch_size=batch_size, shuffle=False, drop_last=True) #timeseries data so shuffle = False\n",
        "test_loader = DataLoader(test_dataset, batch_size=batch_size, shuffle=False, drop_last=True) #timeseries data so shuffle = False"
      ],
      "metadata": {
        "id": "9AcKQkL8oX6_"
      },
      "execution_count": null,
      "outputs": []
    },
    {
      "cell_type": "code",
      "source": [
        "#### USING ENCODER (dont run the cell below of decoder if you run this one)\n",
        "\n",
        "# Extract features from the autoencoder for Random Forest\n",
        "X_train_ae = np.ones((len(train_dataset), num_hidden_2))\n",
        "# y_train_ae = y_train_seq\n",
        "y_train_ae = np.ones((len(train_dataset),num_hidden_2))\n",
        "\n",
        "X_test_ae = np.ones((len(test_dataset), num_hidden_2))\n",
        "# y_test_ae = y_test_seq\n",
        "y_test_ae = np.ones((len(test_dataset),num_hidden_2))\n",
        "\n",
        "start_idx = 0\n",
        "for idx, (sequences, labels) in enumerate(train_loader):\n",
        "    sequences = sequences.to(device)\n",
        "    encoded = model.encoder(sequences.view(sequences.size(0), -1))\n",
        "    # decoded = model.encoder(sequences.view(sequences.size(0), -1))\n",
        "\n",
        "    batch_size = encoded.shape[0]\n",
        "    # batch_size = decoded.shape[0]\n",
        "    # X_train_ae[start_idx:start_idx+batch_size] = decoded.cpu().detach().numpy() #using decoder\n",
        "    # y_train_ae[start_idx:start_idx+batch_size] = decoded.cpu().detach().numpy() #using decoder #labels.cpu().detach().numpy()\n",
        "    X_train_ae[start_idx:start_idx+batch_size] = encoded.cpu().detach().numpy() #using encoder\n",
        "    y_train_ae[start_idx:start_idx+batch_size] = encoded.cpu().detach().numpy() #using encoder #labels.cpu().detach().numpy()\n",
        "    start_idx += batch_size\n",
        "\n",
        "start_idx = 0\n",
        "for idx, (sequences, labels) in enumerate(test_loader):\n",
        "    sequences = sequences.to(device)\n",
        "    # encoded = model.encoder(sequences.view(sequences.size(0), -1))\n",
        "    decoded = model.encoder(sequences.view(sequences.size(0), -1))\n",
        "    # batch_size = encoded.shape[0]\n",
        "    batch_size = decoded.shape[0]\n",
        "    X_test_ae[start_idx:start_idx + batch_size] = decoded.cpu().detach().numpy() #using encoder\n",
        "    y_test_ae[start_idx:start_idx+batch_size] = decoded.cpu().detach().numpy() #using encoder #labels.cpu().detach().numpy()\n",
        "    # X_test_ae[start_idx:start_idx+batch_size] = decoded.cpu().detach().numpy() #using decoder\n",
        "    # y_test_ae[start_idx:start_idx+batch_size] = decoded.cpu().detach().numpy() #using decoder #labels.cpu().detach().numpy()\n",
        "\n",
        "    start_idx += batch_size"
      ],
      "metadata": {
        "id": "9teUH_tWnsqo"
      },
      "execution_count": null,
      "outputs": []
    }
  ]
}