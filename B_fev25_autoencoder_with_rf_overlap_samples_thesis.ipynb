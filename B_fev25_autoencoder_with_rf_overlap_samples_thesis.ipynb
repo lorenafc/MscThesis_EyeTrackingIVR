{
  "nbformat": 4,
  "nbformat_minor": 0,
  "metadata": {
    "colab": {
      "provenance": [],
      "authorship_tag": "ABX9TyPGHe3jCKVGdbdOIYNWPAct",
      "include_colab_link": true
    },
    "kernelspec": {
      "name": "python3",
      "display_name": "Python 3"
    },
    "language_info": {
      "name": "python"
    }
  },
  "cells": [
    {
      "cell_type": "markdown",
      "metadata": {
        "id": "view-in-github",
        "colab_type": "text"
      },
      "source": [
        "<a href=\"https://colab.research.google.com/github/lorenafc/MscThesis_EyeTrackingIVR/blob/main/B_fev25_autoencoder_with_rf_overlap_samples_thesis.ipynb\" target=\"_parent\"><img src=\"https://colab.research.google.com/assets/colab-badge.svg\" alt=\"Open In Colab\"/></a>"
      ]
    },
    {
      "cell_type": "markdown",
      "source": [
        "# Detecting Fixations in Eye tracking Data in Immersive Virtual Environments using Autoencoder + Random Forest"
      ],
      "metadata": {
        "id": "wM6UFB9FFd_j"
      }
    },
    {
      "cell_type": "markdown",
      "source": [
        "I am adapting the autoencoder + Random Forest from this original work:\n",
        "\n",
        "\" Autoencoder (MNIST) + Scikit-Learn Random Forest Classifier\n",
        "\n",
        "A simple, single-hidden-layer, fully-connected autoencoder that compresses 768-pixel MNIST images into 32-pixel vectors (32-times smaller representations). A random forest classifier is then trained for predicting the class labels based on that 32-pixel compressed space.\n",
        "\n",
        "Deep Learning Models -- A collection of various deep learning architectures, models, and tips for TensorFlow and PyTorch in Jupyter Notebooks.\n",
        "\n",
        "Author: Sebastian Raschka GitHub Repository: https://github.com/rasbt/deeplearning-models https://github.com/rasbt/deeplearning-models/blob/master/pytorch_ipynb/autoencoder/ae-basic-with-rf.ipynb \"\n",
        "\n",
        "CPython 3.7.3, IPython 7.9.0, torch 1.3.0\n",
        "\n",
        "Generative AI is being used to help writting the script and debugging"
      ],
      "metadata": {
        "id": "jOtb3ng7FaST"
      }
    },
    {
      "cell_type": "code",
      "source": [
        "import time\n",
        "import pandas as pd\n",
        "import numpy as np\n",
        "import torch\n",
        "import torch.nn as nn\n",
        "import torch.nn.functional as F\n",
        "from torch.utils.data import Dataset, DataLoader\n",
        "from sklearn.preprocessing import MinMaxScaler\n",
        "from sklearn.ensemble import RandomForestClassifier\n",
        "from torch.utils.data import TensorDataset\n"
      ],
      "metadata": {
        "id": "Hm_d1GsOmke4"
      },
      "execution_count": 92,
      "outputs": []
    },
    {
      "cell_type": "code",
      "source": [
        "# Device\n",
        "device = torch.device(\"cuda:0\" if torch.cuda.is_available() else \"cpu\")\n",
        "print('Device:', device)\n",
        "\n",
        "# Read the CSV file\n",
        "# file_name = '/content/LLA2020_labeled.csv'\n",
        "file_name = '/content/LLA2020_labeled_feature_eng_veloc_acc.csv'\n",
        "eye_tracking_data = pd.read_csv(file_name)"
      ],
      "metadata": {
        "colab": {
          "base_uri": "https://localhost:8080/"
        },
        "id": "SpDf-1Hxmomv",
        "outputId": "88148c3c-8c93-409f-d88f-cf7ec7813c62"
      },
      "execution_count": 93,
      "outputs": [
        {
          "output_type": "stream",
          "name": "stdout",
          "text": [
            "Device: cpu\n"
          ]
        }
      ]
    },
    {
      "cell_type": "code",
      "source": [
        "print(eye_tracking_data.head())\n",
        "print(eye_tracking_data.shape)"
      ],
      "metadata": {
        "colab": {
          "base_uri": "https://localhost:8080/"
        },
        "id": "ghlLMn_o3jTY",
        "outputId": "45c9bcd4-a127-4899-deba-0a50aeb8bf69"
      },
      "execution_count": 94,
      "outputs": [
        {
          "output_type": "stream",
          "name": "stdout",
          "text": [
            "    time    L_x     L_y     L_z     C_x     C_y     C_z  viewing_distance  \\\n",
            "0  9.337 -2.969  1.6255 -1.2432 -0.4007  1.6290 -1.2940            2.5688   \n",
            "1  9.360 -2.969  1.6260 -1.2447 -0.4006  1.6290 -1.2940            2.5689   \n",
            "2  9.381 -2.969  1.6232 -1.2430 -0.4004  1.6291 -1.2941            2.5691   \n",
            "3  9.403 -2.969  1.6242 -1.2410 -0.4002  1.6291 -1.2941            2.5694   \n",
            "4  9.425 -2.969  1.6213 -1.0632 -0.4001  1.6292 -1.2941            2.5793   \n",
            "\n",
            "   time_diff                coordinates  ...  velocity_deg_s  acceler_deg_s  \\\n",
            "0      0.023  (-2.969, 1.6255, -1.2432)  ...        1.115225      48.488023   \n",
            "1      0.023   (-2.969, 1.626, -1.2447)  ...        0.775778      33.729487   \n",
            "2      0.021   (-2.969, 1.6232, -1.243)  ...        1.752291      83.442425   \n",
            "3      0.022   (-2.969, 1.6242, -1.241)  ...        1.114964      50.680187   \n",
            "4      0.022  (-2.969, 1.6213, -1.0632)  ...       89.727996    4078.545278   \n",
            "\n",
            "   observer  GT1  GT2  GT3  GT4  GT5  GT6  GT7  \n",
            "0         1    0    0    0    0    0    0    0  \n",
            "1         1    0    0    0    0    0    0    0  \n",
            "2         1    0    0    0    0    0    0    0  \n",
            "3         1    0    0    0    0    0    0    0  \n",
            "4         1    0    0    0    0    0    0    0  \n",
            "\n",
            "[5 rows x 22 columns]\n",
            "(106251, 22)\n"
          ]
        }
      ]
    },
    {
      "cell_type": "code",
      "source": [
        "eye_tracking_data_rf = eye_tracking_data.copy()"
      ],
      "metadata": {
        "id": "_obyjfa6p_2D"
      },
      "execution_count": 95,
      "outputs": []
    },
    {
      "cell_type": "code",
      "source": [
        "# Data cleaning\n",
        "eye_tracking_data = eye_tracking_data.drop(columns=['GT2', 'GT3', 'GT4', 'GT5', 'GT6', 'GT7']) # removing\n",
        "# eye_tracking_data = eye_tracking_data[['time', 'L_x', 'L_y', 'L_z', 'C_x', 'C_y', 'C_z', 'GT1','observer']]"
      ],
      "metadata": {
        "id": "r8yFHKhSrhlz"
      },
      "execution_count": 96,
      "outputs": []
    },
    {
      "cell_type": "code",
      "source": [
        "print(eye_tracking_data.head(3))"
      ],
      "metadata": {
        "colab": {
          "base_uri": "https://localhost:8080/"
        },
        "id": "csBo82UhsgWw",
        "outputId": "b089ffa5-1d39-4a04-a13c-27fc160c649f"
      },
      "execution_count": 97,
      "outputs": [
        {
          "output_type": "stream",
          "name": "stdout",
          "text": [
            "    time    L_x     L_y     L_z     C_x     C_y     C_z  viewing_distance  \\\n",
            "0  9.337 -2.969  1.6255 -1.2432 -0.4007  1.6290 -1.2940            2.5688   \n",
            "1  9.360 -2.969  1.6260 -1.2447 -0.4006  1.6290 -1.2940            2.5689   \n",
            "2  9.381 -2.969  1.6232 -1.2430 -0.4004  1.6291 -1.2941            2.5691   \n",
            "\n",
            "   time_diff                coordinates  coordinates_dist  \\\n",
            "0      0.023  (-2.969, 1.6255, -1.2432)            0.0023   \n",
            "1      0.023   (-2.969, 1.626, -1.2447)            0.0016   \n",
            "2      0.021   (-2.969, 1.6232, -1.243)            0.0033   \n",
            "\n",
            "   cm_to_deg_inside_VE  velocity_deg_s  acceler_deg_s  observer  GT1  \n",
            "0             0.025650        1.115225      48.488023         1    0  \n",
            "1             0.017843        0.775778      33.729487         1    0  \n",
            "2             0.036798        1.752291      83.442425         1    0  \n"
          ]
        }
      ]
    },
    {
      "cell_type": "code",
      "source": [
        "if \"time_diff\" not in eye_tracking_data.columns:\n",
        "    eye_tracking_data[\"time_diff\"] = \"\"\n",
        "    eye_tracking_data[\"time_diff\"] = eye_tracking_data[\"time\"].diff().fillna(0)\n",
        "    eye_tracking_data[\"time_diff\"] = pd.to_numeric(eye_tracking_data[\"time_diff\"], errors='coerce')"
      ],
      "metadata": {
        "id": "vpP_RJ4XuxoS"
      },
      "execution_count": 98,
      "outputs": []
    },
    {
      "cell_type": "code",
      "source": [
        "print(eye_tracking_data.head(3))"
      ],
      "metadata": {
        "colab": {
          "base_uri": "https://localhost:8080/"
        },
        "id": "PKxSUMcXJUrG",
        "outputId": "0a70b31f-3332-4681-e471-3611a8053c85"
      },
      "execution_count": 99,
      "outputs": [
        {
          "output_type": "stream",
          "name": "stdout",
          "text": [
            "    time    L_x     L_y     L_z     C_x     C_y     C_z  viewing_distance  \\\n",
            "0  9.337 -2.969  1.6255 -1.2432 -0.4007  1.6290 -1.2940            2.5688   \n",
            "1  9.360 -2.969  1.6260 -1.2447 -0.4006  1.6290 -1.2940            2.5689   \n",
            "2  9.381 -2.969  1.6232 -1.2430 -0.4004  1.6291 -1.2941            2.5691   \n",
            "\n",
            "   time_diff                coordinates  coordinates_dist  \\\n",
            "0      0.023  (-2.969, 1.6255, -1.2432)            0.0023   \n",
            "1      0.023   (-2.969, 1.626, -1.2447)            0.0016   \n",
            "2      0.021   (-2.969, 1.6232, -1.243)            0.0033   \n",
            "\n",
            "   cm_to_deg_inside_VE  velocity_deg_s  acceler_deg_s  observer  GT1  \n",
            "0             0.025650        1.115225      48.488023         1    0  \n",
            "1             0.017843        0.775778      33.729487         1    0  \n",
            "2             0.036798        1.752291      83.442425         1    0  \n"
          ]
        }
      ]
    },
    {
      "cell_type": "markdown",
      "source": [
        "### FEATURES"
      ],
      "metadata": {
        "id": "aoXlq8dvh0Kc"
      }
    },
    {
      "cell_type": "code",
      "source": [
        "eye_tracking_data = eye_tracking_data.dropna()\n"
      ],
      "metadata": {
        "id": "1MSk4dNp1Bxc"
      },
      "execution_count": 100,
      "outputs": []
    },
    {
      "cell_type": "code",
      "source": [
        "eye_tracking_data = eye_tracking_data.drop(columns=['coordinates'])"
      ],
      "metadata": {
        "id": "WxinXGG0mWYv"
      },
      "execution_count": 101,
      "outputs": []
    },
    {
      "cell_type": "code",
      "source": [
        "eye_tracking_data_without_GT1 = eye_tracking_data.drop(columns=['GT1'])"
      ],
      "metadata": {
        "id": "KVisdpykrw26"
      },
      "execution_count": 102,
      "outputs": []
    },
    {
      "cell_type": "code",
      "source": [
        "print(eye_tracking_data_without_GT1.head(3))\n",
        "print(\"eye_tracking_data_without_GT1 shape:\", eye_tracking_data_without_GT1.shape)"
      ],
      "metadata": {
        "colab": {
          "base_uri": "https://localhost:8080/"
        },
        "id": "2cLUvgTGsZzw",
        "outputId": "a9ed3c64-15c1-4e21-9106-4f694b7e6e52"
      },
      "execution_count": 103,
      "outputs": [
        {
          "output_type": "stream",
          "name": "stdout",
          "text": [
            "    time    L_x     L_y     L_z     C_x     C_y     C_z  viewing_distance  \\\n",
            "0  9.337 -2.969  1.6255 -1.2432 -0.4007  1.6290 -1.2940            2.5688   \n",
            "1  9.360 -2.969  1.6260 -1.2447 -0.4006  1.6290 -1.2940            2.5689   \n",
            "2  9.381 -2.969  1.6232 -1.2430 -0.4004  1.6291 -1.2941            2.5691   \n",
            "\n",
            "   time_diff  coordinates_dist  cm_to_deg_inside_VE  velocity_deg_s  \\\n",
            "0      0.023            0.0023             0.025650        1.115225   \n",
            "1      0.023            0.0016             0.017843        0.775778   \n",
            "2      0.021            0.0033             0.036798        1.752291   \n",
            "\n",
            "   acceler_deg_s  observer  \n",
            "0      48.488023         1  \n",
            "1      33.729487         1  \n",
            "2      83.442425         1  \n",
            "eye_tracking_data_without_GT1 shape: (106251, 14)\n"
          ]
        }
      ]
    },
    {
      "source": [
        "import ast\n",
        "\n",
        "# Before converting to float32, convert tuple strings to actual tuples\n",
        "def convert_tuple_string(value):\n",
        "    try:\n",
        "        return ast.literal_eval(value)\n",
        "    except (SyntaxError, ValueError):\n",
        "        return value  # Return original value if not a tuple string\n",
        "\n",
        "for column in eye_tracking_data_without_GT1.select_dtypes(include=['object']).columns:\n",
        "    eye_tracking_data_without_GT1[column] = eye_tracking_data_without_GT1[column].apply(convert_tuple_string)\n",
        "\n",
        "# Convert tuple columns to individual numeric columns\n",
        "def unpack_tuple_column(df, column_name):\n",
        "    if df[column_name].apply(lambda x: isinstance(x, tuple)).any():\n",
        "        # Unpack tuple elements into separate columns\n",
        "        num_elements = len(df[column_name].iloc[0])  # Assuming all tuples have the same length\n",
        "        new_columns = [f\"{column_name}_{i}\" for i in range(num_elements)]\n",
        "        df[new_columns] = pd.DataFrame(df[column_name].tolist(), index=df.index)\n",
        "\n",
        "        # Drop the original tuple column\n",
        "        df = df.drop(columns=[column_name])\n",
        "    return df\n",
        "\n",
        "# Apply the unpacking function to columns containing tuples\n",
        "for column in eye_tracking_data_without_GT1.columns:\n",
        "    eye_tracking_data_without_GT1 = unpack_tuple_column(eye_tracking_data_without_GT1, column)\n",
        "\n",
        "# # Now convert to float32\n",
        "# eye_tracking_data_without_GT1 = eye_tracking_data_without_GT1.astype('float32')"
      ],
      "cell_type": "code",
      "metadata": {
        "id": "2EauCS7ogzd2"
      },
      "execution_count": 104,
      "outputs": []
    },
    {
      "cell_type": "code",
      "execution_count": 105,
      "metadata": {
        "id": "-7qM3-vAmGcX",
        "colab": {
          "base_uri": "https://localhost:8080/"
        },
        "outputId": "b8b50c49-e7bf-4c2f-b5d5-6db95e6511d1"
      },
      "outputs": [
        {
          "output_type": "stream",
          "name": "stdout",
          "text": [
            "et_train_without_GT1 shape: (79688, 14)\n"
          ]
        }
      ],
      "source": [
        "# X train and X test without GT1\n",
        "\n",
        "# Convert columns to float32 for compatibility with PyTorch\n",
        "eye_tracking_data_without_GT1 = eye_tracking_data_without_GT1.astype('float32')\n",
        "train_split = 0.75\n",
        "\n",
        "# Creating data indices for training and test splits: source: LSTM autoencoder time series https://github.com/fabiozappo/LSTM-Autoencoder-Time-Series/blob/main/code/main.py\n",
        "dataset_size = len(eye_tracking_data_without_GT1)\n",
        "indices = list(range(dataset_size))\n",
        "split = int(np.floor(train_split * dataset_size))\n",
        "\n",
        "et_train_without_GT1 = eye_tracking_data_without_GT1.iloc[:split, :]\n",
        "et_test_without_GT1 = eye_tracking_data_without_GT1.iloc[split:, :]\n",
        "\n",
        "print(\"et_train_without_GT1 shape:\", et_train_without_GT1.shape)\n"
      ]
    },
    {
      "cell_type": "markdown",
      "source": [
        "### LABEL - GT1"
      ],
      "metadata": {
        "id": "t-AOIOQ0iLMZ"
      }
    },
    {
      "cell_type": "code",
      "source": [
        "eye_tracking_data_GT1 = eye_tracking_data[['GT1']]\n",
        "print(eye_tracking_data_GT1.head(3))\n",
        "print(\"eye_tracking_data_GT1 shape:\", eye_tracking_data_GT1.shape)"
      ],
      "metadata": {
        "colab": {
          "base_uri": "https://localhost:8080/"
        },
        "id": "46YnrW7hGTH8",
        "outputId": "334ba024-6da9-4da4-a242-03a7787bfb47"
      },
      "execution_count": 106,
      "outputs": [
        {
          "output_type": "stream",
          "name": "stdout",
          "text": [
            "   GT1\n",
            "0    0\n",
            "1    0\n",
            "2    0\n",
            "eye_tracking_data_GT1 shape: (106251, 1)\n"
          ]
        }
      ]
    },
    {
      "cell_type": "code",
      "source": [
        "# Convert all columns to float32 for compatibility with PyTorch\n",
        "eye_tracking_data_GT1 = eye_tracking_data_GT1.astype('float32')\n",
        "\n",
        "train_split = 0.75\n",
        "dataset_size = len(eye_tracking_data_GT1)\n",
        "indices = list(range(dataset_size))\n",
        "split = int(np.floor(train_split * dataset_size))\n",
        "\n",
        "et_train_GT1 = eye_tracking_data_GT1.iloc[:split, :]\n",
        "et_test_GT1 = eye_tracking_data_GT1.iloc[split:, :]"
      ],
      "metadata": {
        "id": "x6ZKAg_pIbR8"
      },
      "execution_count": 107,
      "outputs": []
    },
    {
      "cell_type": "code",
      "source": [
        "print(\"et_train_GT1 shape:\", et_train_GT1.shape)\n",
        "print(\"et_test_GT1 shape:\", et_test_GT1.shape)"
      ],
      "metadata": {
        "colab": {
          "base_uri": "https://localhost:8080/"
        },
        "id": "YFi6pIJsAihC",
        "outputId": "cf3e0e26-5f21-4305-fcc4-0cff01672653"
      },
      "execution_count": 108,
      "outputs": [
        {
          "output_type": "stream",
          "name": "stdout",
          "text": [
            "et_train_GT1 shape: (79688, 1)\n",
            "et_test_GT1 shape: (26563, 1)\n"
          ]
        }
      ]
    },
    {
      "cell_type": "code",
      "source": [],
      "metadata": {
        "id": "PBTyK0mRoxcv"
      },
      "execution_count": 108,
      "outputs": []
    },
    {
      "cell_type": "markdown",
      "source": [
        "# Create overlapping data"
      ],
      "metadata": {
        "id": "s1pj20DOg11H"
      }
    },
    {
      "cell_type": "code",
      "source": [
        "# create overlapping data:\n",
        "\n",
        "def subset_training_data_overlap_by_rows(\n",
        "    training_data_overlap: pd.DataFrame, rows_interval: int = 460, rows_overlap: int = 135\n",
        ") -> pd.DataFrame:\n",
        "    \"\"\"\n",
        "    Splits the training_data DataFrame into overlapping subsets for each observer, using row-based intervals.\n",
        "    Parameters: training_data_overlap (pd.DataFrame): The input DataFrame with an 'observer' column.\n",
        "                rows_interval (int): The number of rows for each subset.\n",
        "                rows_overlap (int): The number of overlapping rows for the next subset.\n",
        "    Returns: pd.DataFrame: A new DataFrame with repeated overlapping rows for each observer, using global subset IDs.\n",
        "    \"\"\"\n",
        "    # Ensure the data is sorted by observer and time\n",
        "    training_data_overlap = training_data_overlap.sort_values(by=[\"observer\", \"time\"]).reset_index(drop=True)\n",
        "\n",
        "    all_subsets = []\n",
        "    global_subset_id = 1\n",
        "\n",
        "    # Iterate over each observer\n",
        "    for observer_id, observer_data in training_data_overlap.groupby(\"observer\"):\n",
        "        observer_data = observer_data.reset_index(drop=True)\n",
        "\n",
        "        # Calculate the step for each subset\n",
        "        subset_step = rows_interval - rows_overlap\n",
        "        n_rows = len(observer_data)\n",
        "\n",
        "        # Create subsets using slicing\n",
        "        for start_idx in range(0, n_rows, subset_step):\n",
        "            end_idx = start_idx + rows_interval\n",
        "            current_subset = observer_data.iloc[start_idx:end_idx].copy()\n",
        "\n",
        "            if not current_subset.empty:\n",
        "                # Label this subset with a unique global subset ID\n",
        "                current_subset[\"subset\"] = global_subset_id\n",
        "                all_subsets.append(current_subset)\n",
        "                global_subset_id += 1\n",
        "\n",
        "    # Concatenate all subsets into one DataFrame\n",
        "    df = pd.concat(all_subsets, ignore_index=True)\n",
        "    return df"
      ],
      "metadata": {
        "id": "7XH2CKe26tTC"
      },
      "execution_count": 109,
      "outputs": []
    },
    {
      "cell_type": "markdown",
      "source": [
        "### FEATURES WITH OVERLAPPING - (TEST DATA TO TEST THE MODEL WILL NOT BE OVERLAPPED)"
      ],
      "metadata": {
        "id": "Kld9qwp1nq_6"
      }
    },
    {
      "cell_type": "markdown",
      "source": [
        "Test data willl not be overlaped, therefore we need to split the data before doing the overlapping"
      ],
      "metadata": {
        "id": "zb7C0do4Foay"
      }
    },
    {
      "cell_type": "code",
      "source": [
        "### REMOVE GT1, SPLIT TRAIN/TEST, than overlap: et_train_without_GT1\n",
        "\n",
        "### OVERLAP TRAINING DATA\n",
        "# et_train_without_GT1_overlap = subset_training_data_overlap_by_rows(et_train_without_GT1_norm)\n",
        "et_train_without_GT1_overlap = subset_training_data_overlap_by_rows(et_train_without_GT1)\n",
        "print(f\"et_train_without_GT1_overlap shape is: {et_train_without_GT1_overlap.shape}\")\n",
        "\n",
        "### DONT OVERLAP TEST DATA TO TRAIN AUTOENCODER\n",
        "# et_test_without_GT1_no_overlap = et_test_without_GT1_norm.copy() #normalized\n",
        "et_test_without_GT1_no_overlap = et_test_without_GT1.copy()\n",
        "print(f\"et_test_without_GT1_no_overlap shape is: {et_test_without_GT1_no_overlap.shape}\")\n",
        "et_test_without_GT1_no_overlap = et_test_without_GT1_no_overlap.astype('float32')\n",
        "# et_test_without_GT1_overlap = subset_training_data_overlap_by_rows(et_test_without_GT1)\n",
        "\n",
        "# Convert all columns to float32 for compatibility with PyTorch\n",
        "et_train_without_GT1_overlap = et_train_without_GT1_overlap.astype('float32')\n",
        "\n"
      ],
      "metadata": {
        "colab": {
          "base_uri": "https://localhost:8080/"
        },
        "id": "lXAr4dQ6uk0X",
        "outputId": "88162353-a3a5-491b-bdee-7efc5aba0f5d"
      },
      "execution_count": 110,
      "outputs": [
        {
          "output_type": "stream",
          "name": "stdout",
          "text": [
            "et_train_without_GT1_overlap shape is: (108819, 15)\n",
            "et_test_without_GT1_no_overlap shape is: (26563, 14)\n"
          ]
        }
      ]
    },
    {
      "cell_type": "code",
      "source": [
        "et_train_without_GT1_overlap = et_train_without_GT1_overlap.drop(columns=['subset', 'observer', 'time'])\n",
        "et_test_without_GT1_no_overlap = et_test_without_GT1_no_overlap.drop(columns=['observer', 'time'])\n"
      ],
      "metadata": {
        "id": "G8baRQSGlYe1"
      },
      "execution_count": 111,
      "outputs": []
    },
    {
      "cell_type": "code",
      "source": [
        "et_train_without_GT1_overlap"
      ],
      "metadata": {
        "colab": {
          "base_uri": "https://localhost:8080/",
          "height": 0
        },
        "id": "lHTf4Y4TS0xq",
        "outputId": "cd4043b4-643a-471e-e6eb-e0f64547075f"
      },
      "execution_count": 112,
      "outputs": [
        {
          "output_type": "execute_result",
          "data": {
            "text/plain": [
              "          L_x     L_y     L_z     C_x     C_y     C_z  viewing_distance  \\\n",
              "0      -2.969  1.6255 -1.2432 -0.4007  1.6290 -1.2940            2.5688   \n",
              "1      -2.969  1.6260 -1.2447 -0.4006  1.6290 -1.2940            2.5689   \n",
              "2      -2.969  1.6232 -1.2430 -0.4004  1.6291 -1.2941            2.5691   \n",
              "3      -2.969  1.6242 -1.2410 -0.4002  1.6291 -1.2941            2.5694   \n",
              "4      -2.969  1.6213 -1.0632 -0.4001  1.6292 -1.2941            2.5793   \n",
              "...       ...     ...     ...     ...     ...     ...               ...   \n",
              "108814 -2.969  0.9573  1.8967 -0.1379  1.3900 -1.5008            4.4436   \n",
              "108815 -2.969  0.9336  1.9018 -0.1378  1.3900 -1.5007            4.4498   \n",
              "108816 -2.969  0.9196  1.9237 -0.1378  1.3898 -1.5007            4.4680   \n",
              "108817 -2.969  0.9093  1.9320 -0.1377  1.3897 -1.5007            4.4755   \n",
              "108818 -2.969  0.9026  1.9437 -0.1376  1.3896 -1.5006            4.4852   \n",
              "\n",
              "        time_diff  coordinates_dist  cm_to_deg_inside_VE  velocity_deg_s  \\\n",
              "0           0.023            0.0023             0.025650        1.115224   \n",
              "1           0.023            0.0016             0.017843        0.775778   \n",
              "2           0.021            0.0033             0.036798        1.752291   \n",
              "3           0.022            0.0022             0.024529        1.114964   \n",
              "4           0.022            0.1778             1.974016       89.727997   \n",
              "...           ...               ...                  ...             ...   \n",
              "108814      0.023            0.0463             0.298493       12.977974   \n",
              "108815      0.022            0.0242             0.155800        7.081802   \n",
              "108816      0.021            0.0260             0.166706        7.938387   \n",
              "108817      0.022            0.0132             0.084494        3.840626   \n",
              "108818      0.023            0.0135             0.086227        3.749008   \n",
              "\n",
              "        acceler_deg_s  \n",
              "0           48.488022  \n",
              "1           33.729488  \n",
              "2           83.442429  \n",
              "3           50.680187  \n",
              "4         4078.545166  \n",
              "...               ...  \n",
              "108814     564.259766  \n",
              "108815     321.900085  \n",
              "108816     378.018463  \n",
              "108817     174.573914  \n",
              "108818     163.000366  \n",
              "\n",
              "[108819 rows x 12 columns]"
            ],
            "text/html": [
              "\n",
              "  <div id=\"df-519a72db-deb2-4eab-81e1-ddb236d99676\" class=\"colab-df-container\">\n",
              "    <div>\n",
              "<style scoped>\n",
              "    .dataframe tbody tr th:only-of-type {\n",
              "        vertical-align: middle;\n",
              "    }\n",
              "\n",
              "    .dataframe tbody tr th {\n",
              "        vertical-align: top;\n",
              "    }\n",
              "\n",
              "    .dataframe thead th {\n",
              "        text-align: right;\n",
              "    }\n",
              "</style>\n",
              "<table border=\"1\" class=\"dataframe\">\n",
              "  <thead>\n",
              "    <tr style=\"text-align: right;\">\n",
              "      <th></th>\n",
              "      <th>L_x</th>\n",
              "      <th>L_y</th>\n",
              "      <th>L_z</th>\n",
              "      <th>C_x</th>\n",
              "      <th>C_y</th>\n",
              "      <th>C_z</th>\n",
              "      <th>viewing_distance</th>\n",
              "      <th>time_diff</th>\n",
              "      <th>coordinates_dist</th>\n",
              "      <th>cm_to_deg_inside_VE</th>\n",
              "      <th>velocity_deg_s</th>\n",
              "      <th>acceler_deg_s</th>\n",
              "    </tr>\n",
              "  </thead>\n",
              "  <tbody>\n",
              "    <tr>\n",
              "      <th>0</th>\n",
              "      <td>-2.969</td>\n",
              "      <td>1.6255</td>\n",
              "      <td>-1.2432</td>\n",
              "      <td>-0.4007</td>\n",
              "      <td>1.6290</td>\n",
              "      <td>-1.2940</td>\n",
              "      <td>2.5688</td>\n",
              "      <td>0.023</td>\n",
              "      <td>0.0023</td>\n",
              "      <td>0.025650</td>\n",
              "      <td>1.115224</td>\n",
              "      <td>48.488022</td>\n",
              "    </tr>\n",
              "    <tr>\n",
              "      <th>1</th>\n",
              "      <td>-2.969</td>\n",
              "      <td>1.6260</td>\n",
              "      <td>-1.2447</td>\n",
              "      <td>-0.4006</td>\n",
              "      <td>1.6290</td>\n",
              "      <td>-1.2940</td>\n",
              "      <td>2.5689</td>\n",
              "      <td>0.023</td>\n",
              "      <td>0.0016</td>\n",
              "      <td>0.017843</td>\n",
              "      <td>0.775778</td>\n",
              "      <td>33.729488</td>\n",
              "    </tr>\n",
              "    <tr>\n",
              "      <th>2</th>\n",
              "      <td>-2.969</td>\n",
              "      <td>1.6232</td>\n",
              "      <td>-1.2430</td>\n",
              "      <td>-0.4004</td>\n",
              "      <td>1.6291</td>\n",
              "      <td>-1.2941</td>\n",
              "      <td>2.5691</td>\n",
              "      <td>0.021</td>\n",
              "      <td>0.0033</td>\n",
              "      <td>0.036798</td>\n",
              "      <td>1.752291</td>\n",
              "      <td>83.442429</td>\n",
              "    </tr>\n",
              "    <tr>\n",
              "      <th>3</th>\n",
              "      <td>-2.969</td>\n",
              "      <td>1.6242</td>\n",
              "      <td>-1.2410</td>\n",
              "      <td>-0.4002</td>\n",
              "      <td>1.6291</td>\n",
              "      <td>-1.2941</td>\n",
              "      <td>2.5694</td>\n",
              "      <td>0.022</td>\n",
              "      <td>0.0022</td>\n",
              "      <td>0.024529</td>\n",
              "      <td>1.114964</td>\n",
              "      <td>50.680187</td>\n",
              "    </tr>\n",
              "    <tr>\n",
              "      <th>4</th>\n",
              "      <td>-2.969</td>\n",
              "      <td>1.6213</td>\n",
              "      <td>-1.0632</td>\n",
              "      <td>-0.4001</td>\n",
              "      <td>1.6292</td>\n",
              "      <td>-1.2941</td>\n",
              "      <td>2.5793</td>\n",
              "      <td>0.022</td>\n",
              "      <td>0.1778</td>\n",
              "      <td>1.974016</td>\n",
              "      <td>89.727997</td>\n",
              "      <td>4078.545166</td>\n",
              "    </tr>\n",
              "    <tr>\n",
              "      <th>...</th>\n",
              "      <td>...</td>\n",
              "      <td>...</td>\n",
              "      <td>...</td>\n",
              "      <td>...</td>\n",
              "      <td>...</td>\n",
              "      <td>...</td>\n",
              "      <td>...</td>\n",
              "      <td>...</td>\n",
              "      <td>...</td>\n",
              "      <td>...</td>\n",
              "      <td>...</td>\n",
              "      <td>...</td>\n",
              "    </tr>\n",
              "    <tr>\n",
              "      <th>108814</th>\n",
              "      <td>-2.969</td>\n",
              "      <td>0.9573</td>\n",
              "      <td>1.8967</td>\n",
              "      <td>-0.1379</td>\n",
              "      <td>1.3900</td>\n",
              "      <td>-1.5008</td>\n",
              "      <td>4.4436</td>\n",
              "      <td>0.023</td>\n",
              "      <td>0.0463</td>\n",
              "      <td>0.298493</td>\n",
              "      <td>12.977974</td>\n",
              "      <td>564.259766</td>\n",
              "    </tr>\n",
              "    <tr>\n",
              "      <th>108815</th>\n",
              "      <td>-2.969</td>\n",
              "      <td>0.9336</td>\n",
              "      <td>1.9018</td>\n",
              "      <td>-0.1378</td>\n",
              "      <td>1.3900</td>\n",
              "      <td>-1.5007</td>\n",
              "      <td>4.4498</td>\n",
              "      <td>0.022</td>\n",
              "      <td>0.0242</td>\n",
              "      <td>0.155800</td>\n",
              "      <td>7.081802</td>\n",
              "      <td>321.900085</td>\n",
              "    </tr>\n",
              "    <tr>\n",
              "      <th>108816</th>\n",
              "      <td>-2.969</td>\n",
              "      <td>0.9196</td>\n",
              "      <td>1.9237</td>\n",
              "      <td>-0.1378</td>\n",
              "      <td>1.3898</td>\n",
              "      <td>-1.5007</td>\n",
              "      <td>4.4680</td>\n",
              "      <td>0.021</td>\n",
              "      <td>0.0260</td>\n",
              "      <td>0.166706</td>\n",
              "      <td>7.938387</td>\n",
              "      <td>378.018463</td>\n",
              "    </tr>\n",
              "    <tr>\n",
              "      <th>108817</th>\n",
              "      <td>-2.969</td>\n",
              "      <td>0.9093</td>\n",
              "      <td>1.9320</td>\n",
              "      <td>-0.1377</td>\n",
              "      <td>1.3897</td>\n",
              "      <td>-1.5007</td>\n",
              "      <td>4.4755</td>\n",
              "      <td>0.022</td>\n",
              "      <td>0.0132</td>\n",
              "      <td>0.084494</td>\n",
              "      <td>3.840626</td>\n",
              "      <td>174.573914</td>\n",
              "    </tr>\n",
              "    <tr>\n",
              "      <th>108818</th>\n",
              "      <td>-2.969</td>\n",
              "      <td>0.9026</td>\n",
              "      <td>1.9437</td>\n",
              "      <td>-0.1376</td>\n",
              "      <td>1.3896</td>\n",
              "      <td>-1.5006</td>\n",
              "      <td>4.4852</td>\n",
              "      <td>0.023</td>\n",
              "      <td>0.0135</td>\n",
              "      <td>0.086227</td>\n",
              "      <td>3.749008</td>\n",
              "      <td>163.000366</td>\n",
              "    </tr>\n",
              "  </tbody>\n",
              "</table>\n",
              "<p>108819 rows × 12 columns</p>\n",
              "</div>\n",
              "    <div class=\"colab-df-buttons\">\n",
              "\n",
              "  <div class=\"colab-df-container\">\n",
              "    <button class=\"colab-df-convert\" onclick=\"convertToInteractive('df-519a72db-deb2-4eab-81e1-ddb236d99676')\"\n",
              "            title=\"Convert this dataframe to an interactive table.\"\n",
              "            style=\"display:none;\">\n",
              "\n",
              "  <svg xmlns=\"http://www.w3.org/2000/svg\" height=\"24px\" viewBox=\"0 -960 960 960\">\n",
              "    <path d=\"M120-120v-720h720v720H120Zm60-500h600v-160H180v160Zm220 220h160v-160H400v160Zm0 220h160v-160H400v160ZM180-400h160v-160H180v160Zm440 0h160v-160H620v160ZM180-180h160v-160H180v160Zm440 0h160v-160H620v160Z\"/>\n",
              "  </svg>\n",
              "    </button>\n",
              "\n",
              "  <style>\n",
              "    .colab-df-container {\n",
              "      display:flex;\n",
              "      gap: 12px;\n",
              "    }\n",
              "\n",
              "    .colab-df-convert {\n",
              "      background-color: #E8F0FE;\n",
              "      border: none;\n",
              "      border-radius: 50%;\n",
              "      cursor: pointer;\n",
              "      display: none;\n",
              "      fill: #1967D2;\n",
              "      height: 32px;\n",
              "      padding: 0 0 0 0;\n",
              "      width: 32px;\n",
              "    }\n",
              "\n",
              "    .colab-df-convert:hover {\n",
              "      background-color: #E2EBFA;\n",
              "      box-shadow: 0px 1px 2px rgba(60, 64, 67, 0.3), 0px 1px 3px 1px rgba(60, 64, 67, 0.15);\n",
              "      fill: #174EA6;\n",
              "    }\n",
              "\n",
              "    .colab-df-buttons div {\n",
              "      margin-bottom: 4px;\n",
              "    }\n",
              "\n",
              "    [theme=dark] .colab-df-convert {\n",
              "      background-color: #3B4455;\n",
              "      fill: #D2E3FC;\n",
              "    }\n",
              "\n",
              "    [theme=dark] .colab-df-convert:hover {\n",
              "      background-color: #434B5C;\n",
              "      box-shadow: 0px 1px 3px 1px rgba(0, 0, 0, 0.15);\n",
              "      filter: drop-shadow(0px 1px 2px rgba(0, 0, 0, 0.3));\n",
              "      fill: #FFFFFF;\n",
              "    }\n",
              "  </style>\n",
              "\n",
              "    <script>\n",
              "      const buttonEl =\n",
              "        document.querySelector('#df-519a72db-deb2-4eab-81e1-ddb236d99676 button.colab-df-convert');\n",
              "      buttonEl.style.display =\n",
              "        google.colab.kernel.accessAllowed ? 'block' : 'none';\n",
              "\n",
              "      async function convertToInteractive(key) {\n",
              "        const element = document.querySelector('#df-519a72db-deb2-4eab-81e1-ddb236d99676');\n",
              "        const dataTable =\n",
              "          await google.colab.kernel.invokeFunction('convertToInteractive',\n",
              "                                                    [key], {});\n",
              "        if (!dataTable) return;\n",
              "\n",
              "        const docLinkHtml = 'Like what you see? Visit the ' +\n",
              "          '<a target=\"_blank\" href=https://colab.research.google.com/notebooks/data_table.ipynb>data table notebook</a>'\n",
              "          + ' to learn more about interactive tables.';\n",
              "        element.innerHTML = '';\n",
              "        dataTable['output_type'] = 'display_data';\n",
              "        await google.colab.output.renderOutput(dataTable, element);\n",
              "        const docLink = document.createElement('div');\n",
              "        docLink.innerHTML = docLinkHtml;\n",
              "        element.appendChild(docLink);\n",
              "      }\n",
              "    </script>\n",
              "  </div>\n",
              "\n",
              "\n",
              "<div id=\"df-68cc4a70-060f-44ad-8891-c63d08859c9b\">\n",
              "  <button class=\"colab-df-quickchart\" onclick=\"quickchart('df-68cc4a70-060f-44ad-8891-c63d08859c9b')\"\n",
              "            title=\"Suggest charts\"\n",
              "            style=\"display:none;\">\n",
              "\n",
              "<svg xmlns=\"http://www.w3.org/2000/svg\" height=\"24px\"viewBox=\"0 0 24 24\"\n",
              "     width=\"24px\">\n",
              "    <g>\n",
              "        <path d=\"M19 3H5c-1.1 0-2 .9-2 2v14c0 1.1.9 2 2 2h14c1.1 0 2-.9 2-2V5c0-1.1-.9-2-2-2zM9 17H7v-7h2v7zm4 0h-2V7h2v10zm4 0h-2v-4h2v4z\"/>\n",
              "    </g>\n",
              "</svg>\n",
              "  </button>\n",
              "\n",
              "<style>\n",
              "  .colab-df-quickchart {\n",
              "      --bg-color: #E8F0FE;\n",
              "      --fill-color: #1967D2;\n",
              "      --hover-bg-color: #E2EBFA;\n",
              "      --hover-fill-color: #174EA6;\n",
              "      --disabled-fill-color: #AAA;\n",
              "      --disabled-bg-color: #DDD;\n",
              "  }\n",
              "\n",
              "  [theme=dark] .colab-df-quickchart {\n",
              "      --bg-color: #3B4455;\n",
              "      --fill-color: #D2E3FC;\n",
              "      --hover-bg-color: #434B5C;\n",
              "      --hover-fill-color: #FFFFFF;\n",
              "      --disabled-bg-color: #3B4455;\n",
              "      --disabled-fill-color: #666;\n",
              "  }\n",
              "\n",
              "  .colab-df-quickchart {\n",
              "    background-color: var(--bg-color);\n",
              "    border: none;\n",
              "    border-radius: 50%;\n",
              "    cursor: pointer;\n",
              "    display: none;\n",
              "    fill: var(--fill-color);\n",
              "    height: 32px;\n",
              "    padding: 0;\n",
              "    width: 32px;\n",
              "  }\n",
              "\n",
              "  .colab-df-quickchart:hover {\n",
              "    background-color: var(--hover-bg-color);\n",
              "    box-shadow: 0 1px 2px rgba(60, 64, 67, 0.3), 0 1px 3px 1px rgba(60, 64, 67, 0.15);\n",
              "    fill: var(--button-hover-fill-color);\n",
              "  }\n",
              "\n",
              "  .colab-df-quickchart-complete:disabled,\n",
              "  .colab-df-quickchart-complete:disabled:hover {\n",
              "    background-color: var(--disabled-bg-color);\n",
              "    fill: var(--disabled-fill-color);\n",
              "    box-shadow: none;\n",
              "  }\n",
              "\n",
              "  .colab-df-spinner {\n",
              "    border: 2px solid var(--fill-color);\n",
              "    border-color: transparent;\n",
              "    border-bottom-color: var(--fill-color);\n",
              "    animation:\n",
              "      spin 1s steps(1) infinite;\n",
              "  }\n",
              "\n",
              "  @keyframes spin {\n",
              "    0% {\n",
              "      border-color: transparent;\n",
              "      border-bottom-color: var(--fill-color);\n",
              "      border-left-color: var(--fill-color);\n",
              "    }\n",
              "    20% {\n",
              "      border-color: transparent;\n",
              "      border-left-color: var(--fill-color);\n",
              "      border-top-color: var(--fill-color);\n",
              "    }\n",
              "    30% {\n",
              "      border-color: transparent;\n",
              "      border-left-color: var(--fill-color);\n",
              "      border-top-color: var(--fill-color);\n",
              "      border-right-color: var(--fill-color);\n",
              "    }\n",
              "    40% {\n",
              "      border-color: transparent;\n",
              "      border-right-color: var(--fill-color);\n",
              "      border-top-color: var(--fill-color);\n",
              "    }\n",
              "    60% {\n",
              "      border-color: transparent;\n",
              "      border-right-color: var(--fill-color);\n",
              "    }\n",
              "    80% {\n",
              "      border-color: transparent;\n",
              "      border-right-color: var(--fill-color);\n",
              "      border-bottom-color: var(--fill-color);\n",
              "    }\n",
              "    90% {\n",
              "      border-color: transparent;\n",
              "      border-bottom-color: var(--fill-color);\n",
              "    }\n",
              "  }\n",
              "</style>\n",
              "\n",
              "  <script>\n",
              "    async function quickchart(key) {\n",
              "      const quickchartButtonEl =\n",
              "        document.querySelector('#' + key + ' button');\n",
              "      quickchartButtonEl.disabled = true;  // To prevent multiple clicks.\n",
              "      quickchartButtonEl.classList.add('colab-df-spinner');\n",
              "      try {\n",
              "        const charts = await google.colab.kernel.invokeFunction(\n",
              "            'suggestCharts', [key], {});\n",
              "      } catch (error) {\n",
              "        console.error('Error during call to suggestCharts:', error);\n",
              "      }\n",
              "      quickchartButtonEl.classList.remove('colab-df-spinner');\n",
              "      quickchartButtonEl.classList.add('colab-df-quickchart-complete');\n",
              "    }\n",
              "    (() => {\n",
              "      let quickchartButtonEl =\n",
              "        document.querySelector('#df-68cc4a70-060f-44ad-8891-c63d08859c9b button');\n",
              "      quickchartButtonEl.style.display =\n",
              "        google.colab.kernel.accessAllowed ? 'block' : 'none';\n",
              "    })();\n",
              "  </script>\n",
              "</div>\n",
              "\n",
              "  <div id=\"id_7b535761-c9d9-4287-b018-4823e6e0f6f2\">\n",
              "    <style>\n",
              "      .colab-df-generate {\n",
              "        background-color: #E8F0FE;\n",
              "        border: none;\n",
              "        border-radius: 50%;\n",
              "        cursor: pointer;\n",
              "        display: none;\n",
              "        fill: #1967D2;\n",
              "        height: 32px;\n",
              "        padding: 0 0 0 0;\n",
              "        width: 32px;\n",
              "      }\n",
              "\n",
              "      .colab-df-generate:hover {\n",
              "        background-color: #E2EBFA;\n",
              "        box-shadow: 0px 1px 2px rgba(60, 64, 67, 0.3), 0px 1px 3px 1px rgba(60, 64, 67, 0.15);\n",
              "        fill: #174EA6;\n",
              "      }\n",
              "\n",
              "      [theme=dark] .colab-df-generate {\n",
              "        background-color: #3B4455;\n",
              "        fill: #D2E3FC;\n",
              "      }\n",
              "\n",
              "      [theme=dark] .colab-df-generate:hover {\n",
              "        background-color: #434B5C;\n",
              "        box-shadow: 0px 1px 3px 1px rgba(0, 0, 0, 0.15);\n",
              "        filter: drop-shadow(0px 1px 2px rgba(0, 0, 0, 0.3));\n",
              "        fill: #FFFFFF;\n",
              "      }\n",
              "    </style>\n",
              "    <button class=\"colab-df-generate\" onclick=\"generateWithVariable('et_train_without_GT1_overlap')\"\n",
              "            title=\"Generate code using this dataframe.\"\n",
              "            style=\"display:none;\">\n",
              "\n",
              "  <svg xmlns=\"http://www.w3.org/2000/svg\" height=\"24px\"viewBox=\"0 0 24 24\"\n",
              "       width=\"24px\">\n",
              "    <path d=\"M7,19H8.4L18.45,9,17,7.55,7,17.6ZM5,21V16.75L18.45,3.32a2,2,0,0,1,2.83,0l1.4,1.43a1.91,1.91,0,0,1,.58,1.4,1.91,1.91,0,0,1-.58,1.4L9.25,21ZM18.45,9,17,7.55Zm-12,3A5.31,5.31,0,0,0,4.9,8.1,5.31,5.31,0,0,0,1,6.5,5.31,5.31,0,0,0,4.9,4.9,5.31,5.31,0,0,0,6.5,1,5.31,5.31,0,0,0,8.1,4.9,5.31,5.31,0,0,0,12,6.5,5.46,5.46,0,0,0,6.5,12Z\"/>\n",
              "  </svg>\n",
              "    </button>\n",
              "    <script>\n",
              "      (() => {\n",
              "      const buttonEl =\n",
              "        document.querySelector('#id_7b535761-c9d9-4287-b018-4823e6e0f6f2 button.colab-df-generate');\n",
              "      buttonEl.style.display =\n",
              "        google.colab.kernel.accessAllowed ? 'block' : 'none';\n",
              "\n",
              "      buttonEl.onclick = () => {\n",
              "        google.colab.notebook.generateWithVariable('et_train_without_GT1_overlap');\n",
              "      }\n",
              "      })();\n",
              "    </script>\n",
              "  </div>\n",
              "\n",
              "    </div>\n",
              "  </div>\n"
            ],
            "application/vnd.google.colaboratory.intrinsic+json": {
              "type": "dataframe",
              "variable_name": "et_train_without_GT1_overlap"
            }
          },
          "metadata": {},
          "execution_count": 112
        }
      ]
    },
    {
      "cell_type": "code",
      "source": [
        "et_test_without_GT1_no_overlap"
      ],
      "metadata": {
        "colab": {
          "base_uri": "https://localhost:8080/",
          "height": 0
        },
        "id": "Wa-nerNoTrQi",
        "outputId": "3ac935c9-df81-49b2-8338-3cf412604a79"
      },
      "execution_count": 113,
      "outputs": [
        {
          "output_type": "execute_result",
          "data": {
            "text/plain": [
              "           L_x     L_y     L_z     C_x     C_y     C_z  viewing_distance  \\\n",
              "79688  -4.9724  0.4638  4.6958 -0.1375  1.3894 -1.5004            7.9137   \n",
              "79689  -2.9690  0.8912  2.0914 -0.1374  1.3894 -1.5003            4.6007   \n",
              "79690  -2.9690  0.8812  2.1000 -0.1373  1.3893 -1.5001            4.6084   \n",
              "79691  -2.9690  0.8610  2.0807 -0.1372  1.3892 -1.5000            4.5956   \n",
              "79692  -4.8530  0.4135  4.7060 -0.1371  1.3892 -1.4997            7.8551   \n",
              "...        ...     ...     ...     ...     ...     ...               ...   \n",
              "106246 -2.9690  1.1224  0.8590 -0.1139  1.5114 -1.4982            3.7228   \n",
              "106247 -2.9690  1.1208  0.8585 -0.1139  1.5114 -1.4982            3.7227   \n",
              "106248 -2.9690  1.1209  0.8566 -0.1138  1.5114 -1.4983            3.7216   \n",
              "106249 -2.9690  1.1262  0.8472 -0.1138  1.5114 -1.4984            3.7152   \n",
              "106250 -2.9690  1.1282  0.8475 -0.1138  1.5115 -1.4985            3.7152   \n",
              "\n",
              "        time_diff  coordinates_dist  cm_to_deg_inside_VE  velocity_deg_s  \\\n",
              "79688       0.022            3.4322            12.235253      556.147888   \n",
              "79689       0.022            3.3135            19.804367      900.198486   \n",
              "79690       0.022            0.0132             0.082057        3.729868   \n",
              "79691       0.022            0.0279             0.173922        7.905523   \n",
              "79692       0.023            3.2622            11.730680      510.029572   \n",
              "...           ...               ...                  ...             ...   \n",
              "106246      0.023            0.0051             0.039246        1.706339   \n",
              "106247      0.023            0.0017             0.013082        0.568795   \n",
              "106248      0.022            0.0019             0.014626        0.664804   \n",
              "106249      0.022            0.0108             0.083279        3.785395   \n",
              "106250      0.023            0.0020             0.015422        0.670521   \n",
              "\n",
              "        acceler_deg_s  \n",
              "79688    25279.449219  \n",
              "79689    40918.113281  \n",
              "79690      169.539444  \n",
              "79691      359.341949  \n",
              "79692    22175.197266  \n",
              "...               ...  \n",
              "106246      74.188629  \n",
              "106247      24.730211  \n",
              "106248      30.218380  \n",
              "106249     172.063416  \n",
              "106250      29.153101  \n",
              "\n",
              "[26563 rows x 12 columns]"
            ],
            "text/html": [
              "\n",
              "  <div id=\"df-c60c5e05-111b-493a-825c-14e6c9e993cc\" class=\"colab-df-container\">\n",
              "    <div>\n",
              "<style scoped>\n",
              "    .dataframe tbody tr th:only-of-type {\n",
              "        vertical-align: middle;\n",
              "    }\n",
              "\n",
              "    .dataframe tbody tr th {\n",
              "        vertical-align: top;\n",
              "    }\n",
              "\n",
              "    .dataframe thead th {\n",
              "        text-align: right;\n",
              "    }\n",
              "</style>\n",
              "<table border=\"1\" class=\"dataframe\">\n",
              "  <thead>\n",
              "    <tr style=\"text-align: right;\">\n",
              "      <th></th>\n",
              "      <th>L_x</th>\n",
              "      <th>L_y</th>\n",
              "      <th>L_z</th>\n",
              "      <th>C_x</th>\n",
              "      <th>C_y</th>\n",
              "      <th>C_z</th>\n",
              "      <th>viewing_distance</th>\n",
              "      <th>time_diff</th>\n",
              "      <th>coordinates_dist</th>\n",
              "      <th>cm_to_deg_inside_VE</th>\n",
              "      <th>velocity_deg_s</th>\n",
              "      <th>acceler_deg_s</th>\n",
              "    </tr>\n",
              "  </thead>\n",
              "  <tbody>\n",
              "    <tr>\n",
              "      <th>79688</th>\n",
              "      <td>-4.9724</td>\n",
              "      <td>0.4638</td>\n",
              "      <td>4.6958</td>\n",
              "      <td>-0.1375</td>\n",
              "      <td>1.3894</td>\n",
              "      <td>-1.5004</td>\n",
              "      <td>7.9137</td>\n",
              "      <td>0.022</td>\n",
              "      <td>3.4322</td>\n",
              "      <td>12.235253</td>\n",
              "      <td>556.147888</td>\n",
              "      <td>25279.449219</td>\n",
              "    </tr>\n",
              "    <tr>\n",
              "      <th>79689</th>\n",
              "      <td>-2.9690</td>\n",
              "      <td>0.8912</td>\n",
              "      <td>2.0914</td>\n",
              "      <td>-0.1374</td>\n",
              "      <td>1.3894</td>\n",
              "      <td>-1.5003</td>\n",
              "      <td>4.6007</td>\n",
              "      <td>0.022</td>\n",
              "      <td>3.3135</td>\n",
              "      <td>19.804367</td>\n",
              "      <td>900.198486</td>\n",
              "      <td>40918.113281</td>\n",
              "    </tr>\n",
              "    <tr>\n",
              "      <th>79690</th>\n",
              "      <td>-2.9690</td>\n",
              "      <td>0.8812</td>\n",
              "      <td>2.1000</td>\n",
              "      <td>-0.1373</td>\n",
              "      <td>1.3893</td>\n",
              "      <td>-1.5001</td>\n",
              "      <td>4.6084</td>\n",
              "      <td>0.022</td>\n",
              "      <td>0.0132</td>\n",
              "      <td>0.082057</td>\n",
              "      <td>3.729868</td>\n",
              "      <td>169.539444</td>\n",
              "    </tr>\n",
              "    <tr>\n",
              "      <th>79691</th>\n",
              "      <td>-2.9690</td>\n",
              "      <td>0.8610</td>\n",
              "      <td>2.0807</td>\n",
              "      <td>-0.1372</td>\n",
              "      <td>1.3892</td>\n",
              "      <td>-1.5000</td>\n",
              "      <td>4.5956</td>\n",
              "      <td>0.022</td>\n",
              "      <td>0.0279</td>\n",
              "      <td>0.173922</td>\n",
              "      <td>7.905523</td>\n",
              "      <td>359.341949</td>\n",
              "    </tr>\n",
              "    <tr>\n",
              "      <th>79692</th>\n",
              "      <td>-4.8530</td>\n",
              "      <td>0.4135</td>\n",
              "      <td>4.7060</td>\n",
              "      <td>-0.1371</td>\n",
              "      <td>1.3892</td>\n",
              "      <td>-1.4997</td>\n",
              "      <td>7.8551</td>\n",
              "      <td>0.023</td>\n",
              "      <td>3.2622</td>\n",
              "      <td>11.730680</td>\n",
              "      <td>510.029572</td>\n",
              "      <td>22175.197266</td>\n",
              "    </tr>\n",
              "    <tr>\n",
              "      <th>...</th>\n",
              "      <td>...</td>\n",
              "      <td>...</td>\n",
              "      <td>...</td>\n",
              "      <td>...</td>\n",
              "      <td>...</td>\n",
              "      <td>...</td>\n",
              "      <td>...</td>\n",
              "      <td>...</td>\n",
              "      <td>...</td>\n",
              "      <td>...</td>\n",
              "      <td>...</td>\n",
              "      <td>...</td>\n",
              "    </tr>\n",
              "    <tr>\n",
              "      <th>106246</th>\n",
              "      <td>-2.9690</td>\n",
              "      <td>1.1224</td>\n",
              "      <td>0.8590</td>\n",
              "      <td>-0.1139</td>\n",
              "      <td>1.5114</td>\n",
              "      <td>-1.4982</td>\n",
              "      <td>3.7228</td>\n",
              "      <td>0.023</td>\n",
              "      <td>0.0051</td>\n",
              "      <td>0.039246</td>\n",
              "      <td>1.706339</td>\n",
              "      <td>74.188629</td>\n",
              "    </tr>\n",
              "    <tr>\n",
              "      <th>106247</th>\n",
              "      <td>-2.9690</td>\n",
              "      <td>1.1208</td>\n",
              "      <td>0.8585</td>\n",
              "      <td>-0.1139</td>\n",
              "      <td>1.5114</td>\n",
              "      <td>-1.4982</td>\n",
              "      <td>3.7227</td>\n",
              "      <td>0.023</td>\n",
              "      <td>0.0017</td>\n",
              "      <td>0.013082</td>\n",
              "      <td>0.568795</td>\n",
              "      <td>24.730211</td>\n",
              "    </tr>\n",
              "    <tr>\n",
              "      <th>106248</th>\n",
              "      <td>-2.9690</td>\n",
              "      <td>1.1209</td>\n",
              "      <td>0.8566</td>\n",
              "      <td>-0.1138</td>\n",
              "      <td>1.5114</td>\n",
              "      <td>-1.4983</td>\n",
              "      <td>3.7216</td>\n",
              "      <td>0.022</td>\n",
              "      <td>0.0019</td>\n",
              "      <td>0.014626</td>\n",
              "      <td>0.664804</td>\n",
              "      <td>30.218380</td>\n",
              "    </tr>\n",
              "    <tr>\n",
              "      <th>106249</th>\n",
              "      <td>-2.9690</td>\n",
              "      <td>1.1262</td>\n",
              "      <td>0.8472</td>\n",
              "      <td>-0.1138</td>\n",
              "      <td>1.5114</td>\n",
              "      <td>-1.4984</td>\n",
              "      <td>3.7152</td>\n",
              "      <td>0.022</td>\n",
              "      <td>0.0108</td>\n",
              "      <td>0.083279</td>\n",
              "      <td>3.785395</td>\n",
              "      <td>172.063416</td>\n",
              "    </tr>\n",
              "    <tr>\n",
              "      <th>106250</th>\n",
              "      <td>-2.9690</td>\n",
              "      <td>1.1282</td>\n",
              "      <td>0.8475</td>\n",
              "      <td>-0.1138</td>\n",
              "      <td>1.5115</td>\n",
              "      <td>-1.4985</td>\n",
              "      <td>3.7152</td>\n",
              "      <td>0.023</td>\n",
              "      <td>0.0020</td>\n",
              "      <td>0.015422</td>\n",
              "      <td>0.670521</td>\n",
              "      <td>29.153101</td>\n",
              "    </tr>\n",
              "  </tbody>\n",
              "</table>\n",
              "<p>26563 rows × 12 columns</p>\n",
              "</div>\n",
              "    <div class=\"colab-df-buttons\">\n",
              "\n",
              "  <div class=\"colab-df-container\">\n",
              "    <button class=\"colab-df-convert\" onclick=\"convertToInteractive('df-c60c5e05-111b-493a-825c-14e6c9e993cc')\"\n",
              "            title=\"Convert this dataframe to an interactive table.\"\n",
              "            style=\"display:none;\">\n",
              "\n",
              "  <svg xmlns=\"http://www.w3.org/2000/svg\" height=\"24px\" viewBox=\"0 -960 960 960\">\n",
              "    <path d=\"M120-120v-720h720v720H120Zm60-500h600v-160H180v160Zm220 220h160v-160H400v160Zm0 220h160v-160H400v160ZM180-400h160v-160H180v160Zm440 0h160v-160H620v160ZM180-180h160v-160H180v160Zm440 0h160v-160H620v160Z\"/>\n",
              "  </svg>\n",
              "    </button>\n",
              "\n",
              "  <style>\n",
              "    .colab-df-container {\n",
              "      display:flex;\n",
              "      gap: 12px;\n",
              "    }\n",
              "\n",
              "    .colab-df-convert {\n",
              "      background-color: #E8F0FE;\n",
              "      border: none;\n",
              "      border-radius: 50%;\n",
              "      cursor: pointer;\n",
              "      display: none;\n",
              "      fill: #1967D2;\n",
              "      height: 32px;\n",
              "      padding: 0 0 0 0;\n",
              "      width: 32px;\n",
              "    }\n",
              "\n",
              "    .colab-df-convert:hover {\n",
              "      background-color: #E2EBFA;\n",
              "      box-shadow: 0px 1px 2px rgba(60, 64, 67, 0.3), 0px 1px 3px 1px rgba(60, 64, 67, 0.15);\n",
              "      fill: #174EA6;\n",
              "    }\n",
              "\n",
              "    .colab-df-buttons div {\n",
              "      margin-bottom: 4px;\n",
              "    }\n",
              "\n",
              "    [theme=dark] .colab-df-convert {\n",
              "      background-color: #3B4455;\n",
              "      fill: #D2E3FC;\n",
              "    }\n",
              "\n",
              "    [theme=dark] .colab-df-convert:hover {\n",
              "      background-color: #434B5C;\n",
              "      box-shadow: 0px 1px 3px 1px rgba(0, 0, 0, 0.15);\n",
              "      filter: drop-shadow(0px 1px 2px rgba(0, 0, 0, 0.3));\n",
              "      fill: #FFFFFF;\n",
              "    }\n",
              "  </style>\n",
              "\n",
              "    <script>\n",
              "      const buttonEl =\n",
              "        document.querySelector('#df-c60c5e05-111b-493a-825c-14e6c9e993cc button.colab-df-convert');\n",
              "      buttonEl.style.display =\n",
              "        google.colab.kernel.accessAllowed ? 'block' : 'none';\n",
              "\n",
              "      async function convertToInteractive(key) {\n",
              "        const element = document.querySelector('#df-c60c5e05-111b-493a-825c-14e6c9e993cc');\n",
              "        const dataTable =\n",
              "          await google.colab.kernel.invokeFunction('convertToInteractive',\n",
              "                                                    [key], {});\n",
              "        if (!dataTable) return;\n",
              "\n",
              "        const docLinkHtml = 'Like what you see? Visit the ' +\n",
              "          '<a target=\"_blank\" href=https://colab.research.google.com/notebooks/data_table.ipynb>data table notebook</a>'\n",
              "          + ' to learn more about interactive tables.';\n",
              "        element.innerHTML = '';\n",
              "        dataTable['output_type'] = 'display_data';\n",
              "        await google.colab.output.renderOutput(dataTable, element);\n",
              "        const docLink = document.createElement('div');\n",
              "        docLink.innerHTML = docLinkHtml;\n",
              "        element.appendChild(docLink);\n",
              "      }\n",
              "    </script>\n",
              "  </div>\n",
              "\n",
              "\n",
              "<div id=\"df-b2ffca06-7c94-40b4-a1a6-15dd31fb3728\">\n",
              "  <button class=\"colab-df-quickchart\" onclick=\"quickchart('df-b2ffca06-7c94-40b4-a1a6-15dd31fb3728')\"\n",
              "            title=\"Suggest charts\"\n",
              "            style=\"display:none;\">\n",
              "\n",
              "<svg xmlns=\"http://www.w3.org/2000/svg\" height=\"24px\"viewBox=\"0 0 24 24\"\n",
              "     width=\"24px\">\n",
              "    <g>\n",
              "        <path d=\"M19 3H5c-1.1 0-2 .9-2 2v14c0 1.1.9 2 2 2h14c1.1 0 2-.9 2-2V5c0-1.1-.9-2-2-2zM9 17H7v-7h2v7zm4 0h-2V7h2v10zm4 0h-2v-4h2v4z\"/>\n",
              "    </g>\n",
              "</svg>\n",
              "  </button>\n",
              "\n",
              "<style>\n",
              "  .colab-df-quickchart {\n",
              "      --bg-color: #E8F0FE;\n",
              "      --fill-color: #1967D2;\n",
              "      --hover-bg-color: #E2EBFA;\n",
              "      --hover-fill-color: #174EA6;\n",
              "      --disabled-fill-color: #AAA;\n",
              "      --disabled-bg-color: #DDD;\n",
              "  }\n",
              "\n",
              "  [theme=dark] .colab-df-quickchart {\n",
              "      --bg-color: #3B4455;\n",
              "      --fill-color: #D2E3FC;\n",
              "      --hover-bg-color: #434B5C;\n",
              "      --hover-fill-color: #FFFFFF;\n",
              "      --disabled-bg-color: #3B4455;\n",
              "      --disabled-fill-color: #666;\n",
              "  }\n",
              "\n",
              "  .colab-df-quickchart {\n",
              "    background-color: var(--bg-color);\n",
              "    border: none;\n",
              "    border-radius: 50%;\n",
              "    cursor: pointer;\n",
              "    display: none;\n",
              "    fill: var(--fill-color);\n",
              "    height: 32px;\n",
              "    padding: 0;\n",
              "    width: 32px;\n",
              "  }\n",
              "\n",
              "  .colab-df-quickchart:hover {\n",
              "    background-color: var(--hover-bg-color);\n",
              "    box-shadow: 0 1px 2px rgba(60, 64, 67, 0.3), 0 1px 3px 1px rgba(60, 64, 67, 0.15);\n",
              "    fill: var(--button-hover-fill-color);\n",
              "  }\n",
              "\n",
              "  .colab-df-quickchart-complete:disabled,\n",
              "  .colab-df-quickchart-complete:disabled:hover {\n",
              "    background-color: var(--disabled-bg-color);\n",
              "    fill: var(--disabled-fill-color);\n",
              "    box-shadow: none;\n",
              "  }\n",
              "\n",
              "  .colab-df-spinner {\n",
              "    border: 2px solid var(--fill-color);\n",
              "    border-color: transparent;\n",
              "    border-bottom-color: var(--fill-color);\n",
              "    animation:\n",
              "      spin 1s steps(1) infinite;\n",
              "  }\n",
              "\n",
              "  @keyframes spin {\n",
              "    0% {\n",
              "      border-color: transparent;\n",
              "      border-bottom-color: var(--fill-color);\n",
              "      border-left-color: var(--fill-color);\n",
              "    }\n",
              "    20% {\n",
              "      border-color: transparent;\n",
              "      border-left-color: var(--fill-color);\n",
              "      border-top-color: var(--fill-color);\n",
              "    }\n",
              "    30% {\n",
              "      border-color: transparent;\n",
              "      border-left-color: var(--fill-color);\n",
              "      border-top-color: var(--fill-color);\n",
              "      border-right-color: var(--fill-color);\n",
              "    }\n",
              "    40% {\n",
              "      border-color: transparent;\n",
              "      border-right-color: var(--fill-color);\n",
              "      border-top-color: var(--fill-color);\n",
              "    }\n",
              "    60% {\n",
              "      border-color: transparent;\n",
              "      border-right-color: var(--fill-color);\n",
              "    }\n",
              "    80% {\n",
              "      border-color: transparent;\n",
              "      border-right-color: var(--fill-color);\n",
              "      border-bottom-color: var(--fill-color);\n",
              "    }\n",
              "    90% {\n",
              "      border-color: transparent;\n",
              "      border-bottom-color: var(--fill-color);\n",
              "    }\n",
              "  }\n",
              "</style>\n",
              "\n",
              "  <script>\n",
              "    async function quickchart(key) {\n",
              "      const quickchartButtonEl =\n",
              "        document.querySelector('#' + key + ' button');\n",
              "      quickchartButtonEl.disabled = true;  // To prevent multiple clicks.\n",
              "      quickchartButtonEl.classList.add('colab-df-spinner');\n",
              "      try {\n",
              "        const charts = await google.colab.kernel.invokeFunction(\n",
              "            'suggestCharts', [key], {});\n",
              "      } catch (error) {\n",
              "        console.error('Error during call to suggestCharts:', error);\n",
              "      }\n",
              "      quickchartButtonEl.classList.remove('colab-df-spinner');\n",
              "      quickchartButtonEl.classList.add('colab-df-quickchart-complete');\n",
              "    }\n",
              "    (() => {\n",
              "      let quickchartButtonEl =\n",
              "        document.querySelector('#df-b2ffca06-7c94-40b4-a1a6-15dd31fb3728 button');\n",
              "      quickchartButtonEl.style.display =\n",
              "        google.colab.kernel.accessAllowed ? 'block' : 'none';\n",
              "    })();\n",
              "  </script>\n",
              "</div>\n",
              "\n",
              "  <div id=\"id_3a1ac9d3-5b7a-4184-8625-33095a0443ca\">\n",
              "    <style>\n",
              "      .colab-df-generate {\n",
              "        background-color: #E8F0FE;\n",
              "        border: none;\n",
              "        border-radius: 50%;\n",
              "        cursor: pointer;\n",
              "        display: none;\n",
              "        fill: #1967D2;\n",
              "        height: 32px;\n",
              "        padding: 0 0 0 0;\n",
              "        width: 32px;\n",
              "      }\n",
              "\n",
              "      .colab-df-generate:hover {\n",
              "        background-color: #E2EBFA;\n",
              "        box-shadow: 0px 1px 2px rgba(60, 64, 67, 0.3), 0px 1px 3px 1px rgba(60, 64, 67, 0.15);\n",
              "        fill: #174EA6;\n",
              "      }\n",
              "\n",
              "      [theme=dark] .colab-df-generate {\n",
              "        background-color: #3B4455;\n",
              "        fill: #D2E3FC;\n",
              "      }\n",
              "\n",
              "      [theme=dark] .colab-df-generate:hover {\n",
              "        background-color: #434B5C;\n",
              "        box-shadow: 0px 1px 3px 1px rgba(0, 0, 0, 0.15);\n",
              "        filter: drop-shadow(0px 1px 2px rgba(0, 0, 0, 0.3));\n",
              "        fill: #FFFFFF;\n",
              "      }\n",
              "    </style>\n",
              "    <button class=\"colab-df-generate\" onclick=\"generateWithVariable('et_test_without_GT1_no_overlap')\"\n",
              "            title=\"Generate code using this dataframe.\"\n",
              "            style=\"display:none;\">\n",
              "\n",
              "  <svg xmlns=\"http://www.w3.org/2000/svg\" height=\"24px\"viewBox=\"0 0 24 24\"\n",
              "       width=\"24px\">\n",
              "    <path d=\"M7,19H8.4L18.45,9,17,7.55,7,17.6ZM5,21V16.75L18.45,3.32a2,2,0,0,1,2.83,0l1.4,1.43a1.91,1.91,0,0,1,.58,1.4,1.91,1.91,0,0,1-.58,1.4L9.25,21ZM18.45,9,17,7.55Zm-12,3A5.31,5.31,0,0,0,4.9,8.1,5.31,5.31,0,0,0,1,6.5,5.31,5.31,0,0,0,4.9,4.9,5.31,5.31,0,0,0,6.5,1,5.31,5.31,0,0,0,8.1,4.9,5.31,5.31,0,0,0,12,6.5,5.46,5.46,0,0,0,6.5,12Z\"/>\n",
              "  </svg>\n",
              "    </button>\n",
              "    <script>\n",
              "      (() => {\n",
              "      const buttonEl =\n",
              "        document.querySelector('#id_3a1ac9d3-5b7a-4184-8625-33095a0443ca button.colab-df-generate');\n",
              "      buttonEl.style.display =\n",
              "        google.colab.kernel.accessAllowed ? 'block' : 'none';\n",
              "\n",
              "      buttonEl.onclick = () => {\n",
              "        google.colab.notebook.generateWithVariable('et_test_without_GT1_no_overlap');\n",
              "      }\n",
              "      })();\n",
              "    </script>\n",
              "  </div>\n",
              "\n",
              "    </div>\n",
              "  </div>\n"
            ],
            "application/vnd.google.colaboratory.intrinsic+json": {
              "type": "dataframe",
              "variable_name": "et_test_without_GT1_no_overlap",
              "summary": "{\n  \"name\": \"et_test_without_GT1_no_overlap\",\n  \"rows\": 26563,\n  \"fields\": [\n    {\n      \"column\": \"L_x\",\n      \"properties\": {\n        \"dtype\": \"float32\",\n        \"num_unique_values\": 1229,\n        \"samples\": [\n          -13.800399780273438,\n          -4.894899845123291,\n          -13.591400146484375\n        ],\n        \"semantic_type\": \"\",\n        \"description\": \"\"\n      }\n    },\n    {\n      \"column\": \"L_y\",\n      \"properties\": {\n        \"dtype\": \"float32\",\n        \"num_unique_values\": 11345,\n        \"samples\": [\n          1.2869000434875488,\n          1.6916999816894531,\n          0.7718999981880188\n        ],\n        \"semantic_type\": \"\",\n        \"description\": \"\"\n      }\n    },\n    {\n      \"column\": \"L_z\",\n      \"properties\": {\n        \"dtype\": \"float32\",\n        \"num_unique_values\": 15323,\n        \"samples\": [\n          1.3147000074386597,\n          -0.7405999898910522,\n          -1.4483000040054321\n        ],\n        \"semantic_type\": \"\",\n        \"description\": \"\"\n      }\n    },\n    {\n      \"column\": \"C_x\",\n      \"properties\": {\n        \"dtype\": \"float32\",\n        \"num_unique_values\": 2313,\n        \"samples\": [\n          -0.11410000175237656,\n          -0.16410000622272491,\n          -0.3084000051021576\n        ],\n        \"semantic_type\": \"\",\n        \"description\": \"\"\n      }\n    },\n    {\n      \"column\": \"C_y\",\n      \"properties\": {\n        \"dtype\": \"float32\",\n        \"num_unique_values\": 1487,\n        \"samples\": [\n          1.5906000137329102,\n          1.5166000127792358,\n          1.5202000141143799\n        ],\n        \"semantic_type\": \"\",\n        \"description\": \"\"\n      }\n    },\n    {\n      \"column\": \"C_z\",\n      \"properties\": {\n        \"dtype\": \"float32\",\n        \"num_unique_values\": 2726,\n        \"samples\": [\n          -1.4208999872207642,\n          -1.38919997215271,\n          -1.3514000177383423\n        ],\n        \"semantic_type\": \"\",\n        \"description\": \"\"\n      }\n    },\n    {\n      \"column\": \"viewing_distance\",\n      \"properties\": {\n        \"dtype\": \"float32\",\n        \"num_unique_values\": 10069,\n        \"samples\": [\n          2.813800096511841,\n          2.830699920654297,\n          4.301799774169922\n        ],\n        \"semantic_type\": \"\",\n        \"description\": \"\"\n      }\n    },\n    {\n      \"column\": \"time_diff\",\n      \"properties\": {\n        \"dtype\": \"float32\",\n        \"num_unique_values\": 71,\n        \"samples\": [\n          0.027000000700354576,\n          0.02199999988079071,\n          0.22300000488758087\n        ],\n        \"semantic_type\": \"\",\n        \"description\": \"\"\n      }\n    },\n    {\n      \"column\": \"coordinates_dist\",\n      \"properties\": {\n        \"dtype\": \"float32\",\n        \"num_unique_values\": 3334,\n        \"samples\": [\n          0.3736000061035156,\n          0.33390000462532043,\n          0.36169999837875366\n        ],\n        \"semantic_type\": \"\",\n        \"description\": \"\"\n      }\n    },\n    {\n      \"column\": \"cm_to_deg_inside_VE\",\n      \"properties\": {\n        \"dtype\": \"float32\",\n        \"num_unique_values\": 26125,\n        \"samples\": [\n          0.2122131735086441,\n          0.013858857564628124,\n          0.041296374052762985\n        ],\n        \"semantic_type\": \"\",\n        \"description\": \"\"\n      }\n    },\n    {\n      \"column\": \"velocity_deg_s\",\n      \"properties\": {\n        \"dtype\": \"float32\",\n        \"num_unique_values\": 26369,\n        \"samples\": [\n          12.621814727783203,\n          17.38662338256836,\n          41.09618377685547\n        ],\n        \"semantic_type\": \"\",\n        \"description\": \"\"\n      }\n    },\n    {\n      \"column\": \"acceler_deg_s\",\n      \"properties\": {\n        \"dtype\": \"float32\",\n        \"num_unique_values\": 26383,\n        \"samples\": [\n          116.18268585205078,\n          52.61776351928711,\n          88.18948364257812\n        ],\n        \"semantic_type\": \"\",\n        \"description\": \"\"\n      }\n    }\n  ]\n}"
            }
          },
          "metadata": {},
          "execution_count": 113
        }
      ]
    },
    {
      "cell_type": "markdown",
      "source": [
        "## OVERLAPPING THE LABEL GT1 - Y TRAIN -\n",
        "###(Need to overlap the dataset before separatig the features and labels because of the column \"observer\", used in the function:  subset_training_data_overlap_by_rows)"
      ],
      "metadata": {
        "id": "79wq5zak3Jdl"
      }
    },
    {
      "cell_type": "code",
      "source": [
        "## SPLIT TRAIN/TEST, than overlap: et_train_GT1\n",
        "eye_tracking_data_complete = eye_tracking_data.astype('float32')\n",
        "\n",
        "train_split = 0.75\n",
        "dataset_size = len(eye_tracking_data_complete)\n",
        "indices = list(range(dataset_size))\n",
        "split = int(np.floor(train_split * dataset_size))\n",
        "\n",
        "et_train_complete = eye_tracking_data_complete.iloc[:split, :]\n",
        "# et_test_GT1 = eye_tracking_data_GT1.iloc[split:, :]\n",
        "\n",
        "### OVERLAP COMPLETE DATA - NOT POSSIBLE ONLY GT1 BECAUSE THERE IS NO OBSERVER COLUMN\n",
        "\n",
        "et_train_complete_overlap = subset_training_data_overlap_by_rows(et_train_complete)\n",
        "print(f\"et_train_complete_overlap shape is: {et_train_complete_overlap.shape}\\n\")\n",
        "print(et_train_complete_overlap.head(3))\n",
        "\n",
        "### then REMOVE FEATUES\n"
      ],
      "metadata": {
        "colab": {
          "base_uri": "https://localhost:8080/"
        },
        "id": "fNqp97d73QtI",
        "outputId": "0627ab07-0eae-4a1e-a062-ba184cd23402"
      },
      "execution_count": 114,
      "outputs": [
        {
          "output_type": "stream",
          "name": "stdout",
          "text": [
            "et_train_complete_overlap shape is: (108819, 16)\n",
            "\n",
            "    time    L_x     L_y     L_z     C_x     C_y     C_z  viewing_distance  \\\n",
            "0  9.337 -2.969  1.6255 -1.2432 -0.4007  1.6290 -1.2940            2.5688   \n",
            "1  9.360 -2.969  1.6260 -1.2447 -0.4006  1.6290 -1.2940            2.5689   \n",
            "2  9.381 -2.969  1.6232 -1.2430 -0.4004  1.6291 -1.2941            2.5691   \n",
            "\n",
            "   time_diff  coordinates_dist  cm_to_deg_inside_VE  velocity_deg_s  \\\n",
            "0      0.023            0.0023             0.025650        1.115224   \n",
            "1      0.023            0.0016             0.017843        0.775778   \n",
            "2      0.021            0.0033             0.036798        1.752291   \n",
            "\n",
            "   acceler_deg_s  observer  GT1  subset  \n",
            "0      48.488022       1.0  0.0       1  \n",
            "1      33.729488       1.0  0.0       1  \n",
            "2      83.442429       1.0  0.0       1  \n"
          ]
        }
      ]
    },
    {
      "cell_type": "code",
      "source": [
        "# Convert all columns to float32 for compatibility with PyTorch\n",
        "\n",
        "et_train_GT1_overlap = et_train_complete_overlap[['GT1']]\n",
        "\n",
        "print(f\"et_train_GT1_overlap shape is: {et_train_GT1_overlap.shape}\\n\")"
      ],
      "metadata": {
        "colab": {
          "base_uri": "https://localhost:8080/"
        },
        "id": "fUiZctUGHCkD",
        "outputId": "514b4d9e-4158-478a-fcbe-5112d85b9461"
      },
      "execution_count": 115,
      "outputs": [
        {
          "output_type": "stream",
          "name": "stdout",
          "text": [
            "et_train_GT1_overlap shape is: (108819, 1)\n",
            "\n"
          ]
        }
      ]
    },
    {
      "cell_type": "markdown",
      "source": [
        "## Data Normalization"
      ],
      "metadata": {
        "id": "lz6dr28WOorc"
      }
    },
    {
      "cell_type": "code",
      "source": [
        "## DATA NORMALIZATION\n",
        "\n",
        "# Good practice to keep original dataframes untouched for reusability https://www.datacamp.com/tutorial/normalization-in-machine-learning?utm_source=google&utm_medium=paid_search&utm_campaignid=19589720821&utm_adgroupid=157156374951&utm_device=c&utm_keyword=&utm_matchtype=&utm_network=g&utm_adpostion=&utm_creative=684592139651&utm_targetid=aud-1940143831083:dsa-2218886984380&utm_loc_interest_ms=&utm_loc_physical_ms=9065007&utm_content=&utm_campaign=230119_1-sea~dsa~tofu_2-b2c_3-row-p1_4-prc_5-na_6-na_7-le_8-pdsh-go_9-nb-e_10-na_11-na&gad_source=1&gclid=Cj0KCQiApNW6BhD5ARIsACmEbkV4CiclaE8Gp-cKYV-93b7n6IT0qCIhGa9hPtTT_SHKo2qodHl_i5kaAn91EALw_wcB\n",
        "\n",
        "et_train_without_GT1_copy = et_train_without_GT1.copy()\n",
        "et_test_without_GT1_copy = et_test_without_GT1.copy()\n",
        "\n",
        "\n",
        "# Fit min-max scaler on training data\n",
        "norm = MinMaxScaler().fit(et_train_without_GT1_overlap)\n",
        "\n",
        "# Transform the training data\n",
        "et_train_without_GT1_overlap_norm = norm.transform(et_train_without_GT1_overlap)\n",
        "# et_train_without_GT1_overlap_norm = norm.transform(et_train_without_GT1)\n",
        "\n",
        "# Use the same scaler to transform the testing set\n",
        "et_test_without_GT1_no_overlap_norm = norm.transform(et_test_without_GT1_no_overlap)\n",
        "#et_test_without_GT1_overlap_norm = norm.transform(et_test_without_GT1)"
      ],
      "metadata": {
        "id": "HkC86bjjNehE"
      },
      "execution_count": 116,
      "outputs": []
    },
    {
      "cell_type": "code",
      "source": [
        "# import ast\n",
        "\n",
        "# # Before converting to float32, convert tuple strings to actual tuples\n",
        "# def convert_tuple_string(value):\n",
        "#     try:\n",
        "#         return ast.literal_eval(value)\n",
        "#     except (SyntaxError, ValueError):\n",
        "#         return value  # Return original value if not a tuple string\n",
        "\n",
        "for column in eye_tracking_data.select_dtypes(include=['object']).columns:\n",
        "    eye_tracking_data[column] = eye_tracking_data[column].apply(convert_tuple_string)\n",
        "\n",
        "# # Convert tuple columns to individual numeric columns\n",
        "# def unpack_tuple_column(df, column_name):\n",
        "#     if df[column_name].apply(lambda x: isinstance(x, tuple)).any():\n",
        "#         # Unpack tuple elements into separate columns\n",
        "#         num_elements = len(df[column_name].iloc[0])  # Assuming all tuples have the same length\n",
        "#         new_columns = [f\"{column_name}_{i}\" for i in range(num_elements)]\n",
        "#         df[new_columns] = pd.DataFrame(df[column_name].tolist(), index=df.index)\n",
        "\n",
        "#         # Drop the original tuple column\n",
        "#         df = df.drop(columns=[column_name])\n",
        "#     return df\n",
        "\n",
        "# Apply the unpacking function to columns containing tuples\n",
        "for column in eye_tracking_data.columns:\n",
        "    eye_tracking_data = unpack_tuple_column(eye_tracking_data, column)\n",
        "\n",
        "# # Now convert to float32\n",
        "# eye_tracking_data_without_GT1 = eye_tracking_data_without_GT1.astype('float32')"
      ],
      "metadata": {
        "id": "vevpNdqXh1F3"
      },
      "execution_count": 117,
      "outputs": []
    },
    {
      "cell_type": "code",
      "source": [
        "## y - labels - normalization - NO NEED ITS CLASSIFICATION 0 OR 1\n",
        "\n",
        "# et_train_GT1_overlap_norm = norm.transform(et_train_GT1_overlap)\n"
      ],
      "metadata": {
        "id": "JxwsYTJnvmZw"
      },
      "execution_count": 118,
      "outputs": []
    },
    {
      "cell_type": "code",
      "source": [
        "et_train_without_GT1_overlap_norm.shape\n",
        "\n",
        "#et_train_without_GT1_overlap.head(3)"
      ],
      "metadata": {
        "colab": {
          "base_uri": "https://localhost:8080/"
        },
        "id": "mmn-ifaRKuBp",
        "outputId": "e5ba3226-b310-4174-f55d-88679df57496"
      },
      "execution_count": 119,
      "outputs": [
        {
          "output_type": "execute_result",
          "data": {
            "text/plain": [
              "(108819, 12)"
            ]
          },
          "metadata": {},
          "execution_count": 119
        }
      ]
    },
    {
      "cell_type": "code",
      "source": [
        "print(f\"et_train_without_GT1_overlap shape is: {et_train_without_GT1_overlap.shape}\")\n",
        "# print(f\"et_test_without_GT1_overlap shape is: {et_test_without_GT1_overlap.shape}\")\n",
        "print(f\"et_test_without_GT1_no_overlap shape is: {et_test_without_GT1_no_overlap.shape}\")"
      ],
      "metadata": {
        "colab": {
          "base_uri": "https://localhost:8080/"
        },
        "id": "9MIthPHUmR48",
        "outputId": "53887a66-4314-4513-83a0-45d9bf491eaa"
      },
      "execution_count": 120,
      "outputs": [
        {
          "output_type": "stream",
          "name": "stdout",
          "text": [
            "et_train_without_GT1_overlap shape is: (108819, 12)\n",
            "et_test_without_GT1_no_overlap shape is: (26563, 12)\n"
          ]
        }
      ]
    },
    {
      "cell_type": "code",
      "source": [
        "print(\"et_train_without_GT1_overlap_norm shape is:\", et_train_without_GT1_overlap_norm.shape)\n",
        "print(\"et_test_without_GT1_no_overlap_norm shape is:\", et_test_without_GT1_no_overlap_norm.shape)"
      ],
      "metadata": {
        "colab": {
          "base_uri": "https://localhost:8080/"
        },
        "id": "YdFf36YaVxjU",
        "outputId": "1ad9ffd9-ea40-494a-9df8-f6fe692198bd"
      },
      "execution_count": 121,
      "outputs": [
        {
          "output_type": "stream",
          "name": "stdout",
          "text": [
            "et_train_without_GT1_overlap_norm shape is: (108819, 12)\n",
            "et_test_without_GT1_no_overlap_norm shape is: (26563, 12)\n"
          ]
        }
      ]
    },
    {
      "cell_type": "code",
      "source": [
        "et_train_without_GT1_overlap_norm"
      ],
      "metadata": {
        "colab": {
          "base_uri": "https://localhost:8080/"
        },
        "id": "EgsuJPAtUFrF",
        "outputId": "3fccaa90-e20e-4cb0-a834-28aae8ad90d7"
      },
      "execution_count": 122,
      "outputs": [
        {
          "output_type": "execute_result",
          "data": {
            "text/plain": [
              "array([[9.5905173e-01, 4.4425321e-01, 3.3517957e-01, ..., 3.5590748e-04,\n",
              "        4.8237428e-04, 2.6269737e-04],\n",
              "       [9.5905173e-01, 4.4429690e-01, 3.3510005e-01, ..., 2.4757817e-04,\n",
              "        3.8559834e-04, 1.8273892e-04],\n",
              "       [9.5905173e-01, 4.4405231e-01, 3.3519018e-01, ..., 5.1059015e-04,\n",
              "        6.6400156e-04, 4.5207265e-04],\n",
              "       ...,\n",
              "       [9.5905173e-01, 3.8258803e-01, 5.0303173e-01, ..., 2.3131222e-03,\n",
              "        2.4276539e-03, 2.0480205e-03],\n",
              "       [9.5905173e-01, 3.8168827e-01, 5.0347161e-01, ..., 1.1723888e-03,\n",
              "        1.2593844e-03, 9.4580289e-04],\n",
              "       [9.5905173e-01, 3.8110298e-01, 5.0409174e-01, ..., 1.1964408e-03,\n",
              "        1.2332643e-03, 8.8309997e-04]], dtype=float32)"
            ]
          },
          "metadata": {},
          "execution_count": 122
        }
      ]
    },
    {
      "cell_type": "code",
      "source": [
        "et_test_without_GT1_no_overlap_norm\n",
        "#et_test_without_GT1_no_overlap.head(3)"
      ],
      "metadata": {
        "colab": {
          "base_uri": "https://localhost:8080/"
        },
        "id": "nnorG439MaZB",
        "outputId": "ed8e0bc2-ded7-409e-ba73-888de37c5f05"
      },
      "execution_count": 123,
      "outputs": [
        {
          "output_type": "execute_result",
          "data": {
            "text/plain": [
              "array([[8.2645786e-01, 3.4277079e-01, 6.4995861e-01, ..., 1.6976960e-01,\n",
              "        1.5872183e-01, 1.3695846e-01],\n",
              "       [9.5905173e-01, 3.8010710e-01, 5.1192015e-01, ..., 2.7479443e-01,\n",
              "        2.5681046e-01, 2.2168529e-01],\n",
              "       [9.5905173e-01, 3.7923354e-01, 5.1237595e-01, ..., 1.1385788e-03,\n",
              "        1.2278074e-03, 9.1852725e-04],\n",
              "       ...,\n",
              "       [9.5905173e-01, 4.0017295e-01, 4.4647324e-01, ..., 2.0293806e-04,\n",
              "        3.5395977e-04, 1.6371651e-04],\n",
              "       [9.5905173e-01, 4.0063596e-01, 4.4597501e-01, ..., 1.1555291e-03,\n",
              "        1.2436382e-03, 9.3220157e-04],\n",
              "       [9.5905173e-01, 4.0081066e-01, 4.4599092e-01, ..., 2.1398700e-04,\n",
              "        3.5558967e-04, 1.5794506e-04]], dtype=float32)"
            ]
          },
          "metadata": {},
          "execution_count": 123
        }
      ]
    },
    {
      "cell_type": "markdown",
      "source": [
        "## FEATURES OVERLAPPED IN THE **ENCODER**"
      ],
      "metadata": {
        "id": "_s25O4A_2veE"
      }
    },
    {
      "cell_type": "markdown",
      "source": [
        "## Using label this time instead of x_copy"
      ],
      "metadata": {
        "id": "vEmPtTZInjFS"
      }
    },
    {
      "cell_type": "code",
      "source": [
        "# Convert the df to PyTorch tensor\n",
        "def convert_to_tensor(data, dtype=torch.float32):\n",
        "    if hasattr(data, 'values'):\n",
        "      data_to_convert = data.values\n",
        "    else:\n",
        "      data_to_convert = data\n",
        "\n",
        "    return torch.tensor(data_to_convert, dtype=dtype)\n",
        "\n",
        "# # Convert the df to PyTorch tensor\n",
        "# def convert_to_tensor(dataframe, dtype=torch.float32):\n",
        "#     return torch.tensor(dataframe.values, dtype=dtype)\n"
      ],
      "metadata": {
        "id": "tK1xA0ZNU5gB"
      },
      "execution_count": 124,
      "outputs": []
    },
    {
      "cell_type": "code",
      "source": [
        "#Using label this time instead of x_copy\n",
        "\n",
        "X_train_tensor = convert_to_tensor(et_train_without_GT1_overlap_norm) #normalized data in the autoencoder1\n",
        "y_train_tensor = convert_to_tensor(et_train_GT1_overlap)\n",
        "X_test_tensor = convert_to_tensor(et_test_without_GT1_no_overlap_norm)\n",
        "y_test_tensor = convert_to_tensor(et_test_GT1)\n",
        "\n",
        "#### NO NEED OF LABELS FOR THE AUTOENCODEDRS!!\n",
        "\n",
        "print(f\"X_train_tensor shape: {X_train_tensor.shape}\")\n",
        "print(f\"y_train_tensor shape: {y_train_tensor.shape}\\n\")\n",
        "print(f\"X_test_tensor shape: {X_test_tensor.shape}\")\n",
        "print(f\"y_test_tensor shape: {y_test_tensor.shape}\")"
      ],
      "metadata": {
        "colab": {
          "base_uri": "https://localhost:8080/"
        },
        "id": "oRm1WEWyVKvT",
        "outputId": "2abdf609-2e99-4b8e-a181-649018da5f89"
      },
      "execution_count": 125,
      "outputs": [
        {
          "output_type": "stream",
          "name": "stdout",
          "text": [
            "X_train_tensor shape: torch.Size([108819, 12])\n",
            "y_train_tensor shape: torch.Size([108819, 1])\n",
            "\n",
            "X_test_tensor shape: torch.Size([26563, 12])\n",
            "y_test_tensor shape: torch.Size([26563, 1])\n"
          ]
        }
      ]
    },
    {
      "cell_type": "code",
      "source": [
        "# Create TensorDataset for train and test sets\n",
        "train_dataset = TensorDataset(X_train_tensor, y_train_tensor)\n",
        "test_dataset = TensorDataset(X_test_tensor, y_test_tensor) # the test data is not overlapped\n",
        "\n",
        "batch_size = 256\n",
        "train_loader = DataLoader(train_dataset, batch_size=batch_size, shuffle=False, drop_last=True) #timeseries data: shuffle = False\n",
        "test_loader = DataLoader(test_dataset, batch_size=batch_size, shuffle=False, drop_last=True) #timeseries data: shuffle = False\n",
        "\n",
        "print(f\"X_train_tensor shape: {X_train_tensor.shape}\")\n",
        "print(f\"y_train_tensor shape: {y_train_tensor.shape}\\n\")\n",
        "print(f\"X_test_tensor shape: {X_test_tensor.shape}\")\n",
        "print(f\"y_test_tensor shape: {y_test_tensor.shape}\")"
      ],
      "metadata": {
        "id": "OtD9XSEMmjJ-",
        "colab": {
          "base_uri": "https://localhost:8080/"
        },
        "outputId": "e1e277f4-af63-4d9e-8879-2a6a316776cf"
      },
      "execution_count": 126,
      "outputs": [
        {
          "output_type": "stream",
          "name": "stdout",
          "text": [
            "X_train_tensor shape: torch.Size([108819, 12])\n",
            "y_train_tensor shape: torch.Size([108819, 1])\n",
            "\n",
            "X_test_tensor shape: torch.Size([26563, 12])\n",
            "y_test_tensor shape: torch.Size([26563, 1])\n"
          ]
        }
      ]
    },
    {
      "cell_type": "code",
      "source": [
        "print(f\"train_loader (does not have shape): {train_loader}\")\n",
        "print(f\"test_loader shape: {test_loader}\")"
      ],
      "metadata": {
        "colab": {
          "base_uri": "https://localhost:8080/"
        },
        "id": "96-rdHuANXKK",
        "outputId": "6566afa0-d2ed-41cd-dba8-6ea749af7358"
      },
      "execution_count": 127,
      "outputs": [
        {
          "output_type": "stream",
          "name": "stdout",
          "text": [
            "train_loader (does not have shape): <torch.utils.data.dataloader.DataLoader object at 0x7c6f24dda8d0>\n",
            "test_loader shape: <torch.utils.data.dataloader.DataLoader object at 0x7c6f24c90e10>\n"
          ]
        }
      ]
    },
    {
      "cell_type": "markdown",
      "source": [
        "# AUTOENCODER MODEL"
      ],
      "metadata": {
        "id": "1vZ2uBit25em"
      }
    },
    {
      "cell_type": "code",
      "source": [
        "# Hyperparameters for the autoencoder model\n",
        "random_seed = 123\n",
        "learning_rate = 0.005\n",
        "num_epochs = 5\n",
        "weight_decay = 1e-5\n",
        "\n",
        "# Model architecture settings\n",
        "input_size = X_train_tensor.shape[1]\n",
        "\n",
        "num_hidden_2 = 2\n",
        "num_hidden_1 =  round((num_hidden_2 * input_size)**(1/2)) # First layer in encoder # https://github.com/ari-dasci/S-autoencoder-case-studies/blob/dasci/R/visualization.R\n",
        "  # Compressed representation layer\n",
        "# num_hidden_3 = 50   # Uncomment and change value layer 2 if use 3 layers\n",
        "\n",
        "# Define the Autoencoder model\n",
        "class Autoencoder(nn.Module):\n",
        "    def __init__(self):\n",
        "        super(Autoencoder, self).__init__()\n",
        "\n",
        "        ### ENCODER\n",
        "        self.encoder_layer1 = nn.Linear(input_size, num_hidden_1)\n",
        "        self.encoder_layer2 = nn.Linear(num_hidden_1, num_hidden_2)\n",
        "        # self.encoder_layer3 = nn.Linear(num_hidden_2, num_hidden_3)\n",
        "        # self.encoder_layer2.weight.detach().normal_(0.0, 0.1)\n",
        "        # self.encoder_layer2.bias.detach().zero_()\n",
        "\n",
        "\n",
        "        ### DECODER\n",
        "        # self.decoder_layer1 = nn.Linear(num_hidden_3, num_hidden_2)\n",
        "        self.decoder_layer1 = nn.Linear(num_hidden_2, num_hidden_1)\n",
        "        self.decoder_layer2 = nn.Linear(num_hidden_1, input_size)\n",
        "        # self.decoder_layer2.weight.detach().normal_(0.0, 0.1)\n",
        "        # self.decoder_layer2.bias.detach().zero_()\n",
        "\n",
        "## When using the Sigmoid or TanH functions for hidden layers, it is a good practice to use a “Xavier Normal” or “Xavier Uniform” weight\n",
        "## initialization (also referred to Glorot initialization, named for Xavier Glorot) and scale input data to the range 0 to 1; -1 to 1 (e.g. the range of the\n",
        "## activation function) prior to training. https://machinelearningmastery.com/choose-an-activation-function-for-deep-learning/\n",
        "\n",
        "## How to Choose an Output Activation Function:  If there are two mutually exclusive classes (binary classification), then your output layer will have one node and\n",
        "## a sigmoid activation function should be used.https://machinelearningmastery.com/choose-an-activation-function-for-deep-learning/\n",
        "\n",
        "    def encoder(self, x):\n",
        "        x = F.relu(self.encoder_layer1(x)) # 3 - relu instead of sigmoid -1, or leaky_relu, 2\n",
        "        encoded = F.sigmoid(self.encoder_layer2(x))\n",
        "        return encoded\n",
        "\n",
        "    def decoder(self, encoded_x):\n",
        "        x = F.leaky_relu(self.decoder_layer1(encoded_x))\n",
        "        decoded = torch.sigmoid(self.decoder_layer2(x))  # Sigmoid to get values between 0 and 1\n",
        "        return decoded\n",
        "\n",
        "## if using 3 layers:\n",
        "\n",
        "    # def encoder(self, x):\n",
        "    #     x = F.sigmoid(self.encoder_layer1(x))\n",
        "    #     x = F.sigmoid(self.encoder_layer2(x)) ## ADDING A 3DR LAYER\n",
        "    #     encoded = F.sigmoid(self.encoder_layer3(x)) ## ADDING A 3DR LAYER\n",
        "    #     return encoded\n",
        "\n",
        "    # def decoder(self, encoded_x):\n",
        "    #     x = F.sigmoid(self.decoder_layer1(encoded_x))\n",
        "    #     x = F.sigmoid(self.decoder_layer2(x)) ## ADDING A 3DR LAYER\n",
        "    #     decoded = torch.sigmoid(self.decoder_layer3(x))  # Sigmoid to get values between 0 and 1 ## ADDING A 3DR LAYER\n",
        "    #     return decoded\n",
        "\n",
        "    def forward(self, x):\n",
        "        # Flatten input from (batch, sequence_length, features) to (batch, input_size)\n",
        "        x = x.view(x.size(0), -1)\n",
        "        encoded = self.encoder(x)\n",
        "        decoded = self.decoder(encoded)\n",
        "        return decoded\n",
        "\n",
        "# Instantiate the model\n",
        "torch.manual_seed(random_seed)\n",
        "model = Autoencoder().to(device)\n",
        "optimizer = torch.optim.Adam(model.parameters(), lr=learning_rate)#, weight_decay=weight_decay) # added regularization (weight decay) L2\n",
        "\n",
        "\n",
        "\n"
      ],
      "metadata": {
        "id": "nXU7SNjOmceG"
      },
      "execution_count": 153,
      "outputs": []
    },
    {
      "cell_type": "markdown",
      "source": [
        "#  Training"
      ],
      "metadata": {
        "id": "Yu0qH60ztzmT"
      }
    },
    {
      "cell_type": "code",
      "source": [
        "# Training Loop\n",
        "start_time = time.time()\n",
        "for epoch in range(num_epochs):\n",
        "    for batch_idx, (sequences, _) in enumerate(train_loader):\n",
        "        sequences = sequences.to(device)\n",
        "\n",
        "        # Forward pass\n",
        "        decoded = model(sequences)\n",
        "\n",
        "        # loss = F.binary_cross_entropy(decoded, sequences.view(sequences.size(0), -1), reduction='mean')\n",
        "         # reconstruction error\n",
        "        loss = F.mse_loss(decoded, sequences.view(sequences.size(0), -1)) # changed binary_cross_entropy loss to mse_loss\n",
        "        optimizer.zero_grad()\n",
        "\n",
        "        # Backward pass and optimization\n",
        "        loss.backward()\n",
        "        optimizer.step()\n",
        "\n",
        "        # Logging\n",
        "        if not batch_idx % 50:\n",
        "            print('Epoch: %03d/%03d | Batch %03d/%03d | Loss: %.4f'\n",
        "                  % (epoch + 1, num_epochs, batch_idx, len(train_loader), loss))\n",
        "\n",
        "    print('Time elapsed: %.2f min' % ((time.time() - start_time) / 60))\n",
        "\n",
        "print('Total Training Time: %.2f min' % ((time.time() - start_time) / 60))"
      ],
      "metadata": {
        "colab": {
          "base_uri": "https://localhost:8080/"
        },
        "id": "RSrEdtDOtwzl",
        "outputId": "a61238e5-ac05-4950-9376-013249ded59e"
      },
      "execution_count": 154,
      "outputs": [
        {
          "output_type": "stream",
          "name": "stdout",
          "text": [
            "Epoch: 001/005 | Batch 000/425 | Loss: 0.1372\n",
            "Epoch: 001/005 | Batch 050/425 | Loss: 0.0350\n",
            "Epoch: 001/005 | Batch 100/425 | Loss: 0.0061\n",
            "Epoch: 001/005 | Batch 150/425 | Loss: 0.0083\n",
            "Epoch: 001/005 | Batch 200/425 | Loss: 0.0158\n",
            "Epoch: 001/005 | Batch 250/425 | Loss: 0.0074\n",
            "Epoch: 001/005 | Batch 300/425 | Loss: 0.0053\n",
            "Epoch: 001/005 | Batch 350/425 | Loss: 0.0267\n",
            "Epoch: 001/005 | Batch 400/425 | Loss: 0.0167\n",
            "Time elapsed: 0.03 min\n",
            "Epoch: 002/005 | Batch 000/425 | Loss: 0.0194\n",
            "Epoch: 002/005 | Batch 050/425 | Loss: 0.0140\n",
            "Epoch: 002/005 | Batch 100/425 | Loss: 0.0023\n",
            "Epoch: 002/005 | Batch 150/425 | Loss: 0.0057\n",
            "Epoch: 002/005 | Batch 200/425 | Loss: 0.0107\n",
            "Epoch: 002/005 | Batch 250/425 | Loss: 0.0068\n",
            "Epoch: 002/005 | Batch 300/425 | Loss: 0.0045\n",
            "Epoch: 002/005 | Batch 350/425 | Loss: 0.0255\n",
            "Epoch: 002/005 | Batch 400/425 | Loss: 0.0158\n",
            "Time elapsed: 0.06 min\n",
            "Epoch: 003/005 | Batch 000/425 | Loss: 0.0192\n",
            "Epoch: 003/005 | Batch 050/425 | Loss: 0.0145\n",
            "Epoch: 003/005 | Batch 100/425 | Loss: 0.0020\n",
            "Epoch: 003/005 | Batch 150/425 | Loss: 0.0051\n",
            "Epoch: 003/005 | Batch 200/425 | Loss: 0.0089\n",
            "Epoch: 003/005 | Batch 250/425 | Loss: 0.0068\n",
            "Epoch: 003/005 | Batch 300/425 | Loss: 0.0042\n",
            "Epoch: 003/005 | Batch 350/425 | Loss: 0.0263\n",
            "Epoch: 003/005 | Batch 400/425 | Loss: 0.0139\n",
            "Time elapsed: 0.08 min\n",
            "Epoch: 004/005 | Batch 000/425 | Loss: 0.0168\n",
            "Epoch: 004/005 | Batch 050/425 | Loss: 0.0160\n",
            "Epoch: 004/005 | Batch 100/425 | Loss: 0.0018\n",
            "Epoch: 004/005 | Batch 150/425 | Loss: 0.0054\n",
            "Epoch: 004/005 | Batch 200/425 | Loss: 0.0084\n",
            "Epoch: 004/005 | Batch 250/425 | Loss: 0.0072\n",
            "Epoch: 004/005 | Batch 300/425 | Loss: 0.0038\n",
            "Epoch: 004/005 | Batch 350/425 | Loss: 0.0267\n",
            "Epoch: 004/005 | Batch 400/425 | Loss: 0.0136\n",
            "Time elapsed: 0.11 min\n",
            "Epoch: 005/005 | Batch 000/425 | Loss: 0.0165\n",
            "Epoch: 005/005 | Batch 050/425 | Loss: 0.0165\n",
            "Epoch: 005/005 | Batch 100/425 | Loss: 0.0017\n",
            "Epoch: 005/005 | Batch 150/425 | Loss: 0.0055\n",
            "Epoch: 005/005 | Batch 200/425 | Loss: 0.0086\n",
            "Epoch: 005/005 | Batch 250/425 | Loss: 0.0076\n",
            "Epoch: 005/005 | Batch 300/425 | Loss: 0.0036\n",
            "Epoch: 005/005 | Batch 350/425 | Loss: 0.0269\n",
            "Epoch: 005/005 | Batch 400/425 | Loss: 0.0128\n",
            "Time elapsed: 0.14 min\n",
            "Total Training Time: 0.14 min\n"
          ]
        }
      ]
    },
    {
      "cell_type": "markdown",
      "source": [
        "## Testing Autoencoders' Model Accuracy and visualizing differences after reconstructing:"
      ],
      "metadata": {
        "id": "O2koh3snT8wB"
      }
    },
    {
      "cell_type": "code",
      "source": [
        "# Testing autoencoders' model accuracy:\n",
        "\n",
        "# source: https://saturncloud.io/blog/calculating-the-accuracy-of-pytorch-models-every-epoch/#:~:text=In%20order%20to%20calculate%20the,tensor%20along%20a%20specified%20dimension.\n",
        "\n",
        "\n",
        "\n",
        "tolerance = 0.05\n",
        "\n",
        "for epoch in range(num_epochs):\n",
        "    total_correct = 0\n",
        "    total_samples = 0\n",
        "\n",
        "    for images, labels in test_loader:\n",
        "        # Move the data to the device (CPU or GPU)\n",
        "        images = images.to(device)\n",
        "        labels = labels.to(device)\n",
        "\n",
        "        # Forward pass\n",
        "        outputs = model(images)\n",
        "        # _, predicted = torch.max(outputs, 1)\n",
        "\n",
        "        # Update the running total of correct predictions and samples\n",
        "        total_correct += torch.sum(torch.abs(images - outputs) <= tolerance).item() #(images == outputs).sum().item()\n",
        "        total_samples += images.nelement() #labels.size(0)\n",
        "\n",
        "    # Calculate the accuracy for this epoch\n",
        "    accuracy = 100 * total_correct / total_samples\n",
        "    print(f'Epoch {epoch+1}: Accuracy = {accuracy:.2f}%')\n",
        "\n",
        "# https://stackoverflow.com/questions/51503851/calculate-the-accuracy-every-epoch-in-pytorch/63271002#63271002\n",
        "\n"
      ],
      "metadata": {
        "id": "lushkZtMT_5r",
        "colab": {
          "base_uri": "https://localhost:8080/"
        },
        "outputId": "37d622ea-44f9-42ad-d4f0-d8c3f8c6f849"
      },
      "execution_count": 155,
      "outputs": [
        {
          "output_type": "stream",
          "name": "stdout",
          "text": [
            "Epoch 1: Accuracy = 74.94%\n",
            "Epoch 2: Accuracy = 74.94%\n",
            "Epoch 3: Accuracy = 74.94%\n",
            "Epoch 4: Accuracy = 74.94%\n",
            "Epoch 5: Accuracy = 74.94%\n"
          ]
        }
      ]
    },
    {
      "source": [
        " # Its not really working, because when tolerance = 0, accuracy is 0 what is not\n",
        " # true because there are values that are the same in image and outputs\n",
        "\n",
        "import builtins\n",
        "\n",
        "tolerance = 0.005 # testing with tolerance  = 0.005\n",
        "\n",
        "for epoch in range(num_epochs):\n",
        "    epoch_accuracy = []  # Store accuracy for each row in the epoch\n",
        "\n",
        "    for images, labels in test_loader:\n",
        "\n",
        "        images = images.to(device)\n",
        "        labels = labels.to(device)\n",
        "\n",
        "        # Forward pass\n",
        "        outputs = model(images)\n",
        "\n",
        "        # Calculate accuracy for each row\n",
        "        for i in range(images.shape[0]):\n",
        "\n",
        "            diff = torch.abs((images[i] - outputs[i])/images[i]) # here I made the proportion instead of difference\n",
        "\n",
        "            # Count values within tolerance\n",
        "            row_correct = torch.sum(diff <= tolerance).item()\n",
        "            row_total = images[i].nelement()\n",
        "            row_accuracy = 100 * row_correct / row_total\n",
        "            epoch_accuracy.append(row_accuracy)\n",
        "\n",
        "    average_accuracy = builtins.sum(epoch_accuracy) / len(epoch_accuracy) if epoch_accuracy else 0\n",
        "    print(f'Epoch {epoch+1}: Average Accuracy = {average_accuracy:.2f}%')"
      ],
      "cell_type": "code",
      "metadata": {
        "colab": {
          "base_uri": "https://localhost:8080/"
        },
        "id": "NezGp8Bicate",
        "outputId": "38aabacb-0018-44a2-aba8-2b65e85bd10a"
      },
      "execution_count": 156,
      "outputs": [
        {
          "output_type": "stream",
          "name": "stdout",
          "text": [
            "Epoch 1: Average Accuracy = 6.34%\n",
            "Epoch 2: Average Accuracy = 6.34%\n",
            "Epoch 3: Average Accuracy = 6.34%\n",
            "Epoch 4: Average Accuracy = 6.34%\n",
            "Epoch 5: Average Accuracy = 6.34%\n"
          ]
        }
      ]
    },
    {
      "cell_type": "markdown",
      "source": [
        "# GridSearch:\n",
        "\n"
      ],
      "metadata": {
        "id": "-bgaBLU6HPno"
      }
    },
    {
      "cell_type": "code",
      "source": [],
      "metadata": {
        "id": "K55E16VYHbo5"
      },
      "execution_count": 156,
      "outputs": []
    },
    {
      "source": [
        "# for epoch in range(num_epochs):\n",
        "#     epoch_accuracy = []\n",
        "\n",
        "#     for images, labels in test_loader:\n",
        "\n",
        "#         images = images.to(device)\n",
        "#         labels = labels.to(device)\n",
        "\n",
        "#         # Forward pass\n",
        "#         outputs = model(images)\n",
        "\n",
        "#         # Calculate accuracy for each row\n",
        "#         for i in range(images.shape[0]):\n",
        "#             # Count exact matching values in the row\n",
        "#             row_correct = torch.sum(images[i] == outputs[i]).item()\n",
        "#             row_total = images[i].nelement()\n",
        "#             row_accuracy = 100 * row_correct / row_total\n",
        "#             epoch_accuracy.append(row_accuracy)\n",
        "\n",
        "#     # Calculate average accuracy for the epoch\n",
        "#     average_accuracy = sum(epoch_accuracy) / len(epoch_accuracy) if epoch_accuracy else 0\n",
        "#     print(f'Epoch {epoch+1}: Average Accuracy = {average_accuracy:.2f}%')"
      ],
      "cell_type": "code",
      "metadata": {
        "id": "cZ2La4Tn6hCL"
      },
      "execution_count": 157,
      "outputs": []
    },
    {
      "cell_type": "code",
      "source": [
        "## R2 and MSE\n",
        "from sklearn.metrics import mean_squared_error, r2_score\n"
      ],
      "metadata": {
        "id": "4kJfwNl0pxeV"
      },
      "execution_count": 158,
      "outputs": []
    },
    {
      "source": [
        "mse = mean_squared_error(images.cpu().numpy(), outputs.cpu().detach().numpy())\n",
        "print(f\"MSE: {round(mse, 2)}\")\n",
        "\n",
        "r2 = r2_score(images.cpu().numpy(), outputs.cpu().detach().numpy())\n",
        "print(f\"R2: {round(r2,2)}\")"
      ],
      "cell_type": "code",
      "metadata": {
        "colab": {
          "base_uri": "https://localhost:8080/"
        },
        "id": "GXaLzbjxp0i-",
        "outputId": "1dd66759-8050-4cd5-a522-39fd6f0dd308"
      },
      "execution_count": 159,
      "outputs": [
        {
          "output_type": "stream",
          "name": "stdout",
          "text": [
            "MSE: 0.01\n",
            "R2: -337.65\n"
          ]
        }
      ]
    },
    {
      "cell_type": "code",
      "source": [
        "print(images)\n"
      ],
      "metadata": {
        "colab": {
          "base_uri": "https://localhost:8080/"
        },
        "id": "GI0gGTQeoNtX",
        "outputId": "60996c62-abaa-499b-cbbc-181e44e6c7cc"
      },
      "execution_count": 160,
      "outputs": [
        {
          "output_type": "stream",
          "name": "stdout",
          "text": [
            "tensor([[9.5905e-01, 4.1448e-01, 3.2416e-01,  ..., 3.2423e-03, 3.1926e-03,\n",
            "         2.6156e-03],\n",
            "        [9.5905e-01, 4.1622e-01, 3.2315e-01,  ..., 3.8314e-03, 3.7428e-03,\n",
            "         3.0909e-03],\n",
            "        [9.5905e-01, 4.1433e-01, 3.2369e-01,  ..., 3.3392e-03, 3.1475e-03,\n",
            "         2.4647e-03],\n",
            "        ...,\n",
            "        [9.5905e-01, 4.3900e-01, 3.0710e-01,  ..., 8.5794e-04, 9.6570e-04,\n",
            "         6.9213e-04],\n",
            "        [9.5905e-01, 4.3952e-01, 3.0742e-01,  ..., 1.1489e-03, 1.2375e-03,\n",
            "         9.2688e-04],\n",
            "        [9.5905e-01, 4.4645e-01, 3.0028e-01,  ..., 2.1509e-02, 2.0252e-02,\n",
            "         1.7352e-02]])\n"
          ]
        }
      ]
    },
    {
      "cell_type": "code",
      "source": [
        "print(outputs)"
      ],
      "metadata": {
        "colab": {
          "base_uri": "https://localhost:8080/"
        },
        "id": "74U2JzsdfaqI",
        "outputId": "5a6fa4e5-f56b-43e2-b5cd-450762f5b94a"
      },
      "execution_count": 161,
      "outputs": [
        {
          "output_type": "stream",
          "name": "stdout",
          "text": [
            "tensor([[0.9667, 0.4105, 0.3549,  ..., 0.0229, 0.0228, 0.0165],\n",
            "        [0.9667, 0.4105, 0.3548,  ..., 0.0229, 0.0228, 0.0165],\n",
            "        [0.9667, 0.4105, 0.3548,  ..., 0.0229, 0.0228, 0.0165],\n",
            "        ...,\n",
            "        [0.9672, 0.4106, 0.3536,  ..., 0.0226, 0.0225, 0.0162],\n",
            "        [0.9672, 0.4106, 0.3536,  ..., 0.0226, 0.0225, 0.0162],\n",
            "        [0.9671, 0.4106, 0.3539,  ..., 0.0226, 0.0226, 0.0163]],\n",
            "       grad_fn=<SigmoidBackward0>)\n"
          ]
        }
      ]
    },
    {
      "source": [
        "num_samples_to_visualize = 10\n",
        "original_data = images[:num_samples_to_visualize].cpu().numpy()\n",
        "reconstructed_data = outputs[:num_samples_to_visualize].cpu().detach().numpy()"
      ],
      "cell_type": "code",
      "metadata": {
        "id": "dCmSbJhArzLP"
      },
      "execution_count": 162,
      "outputs": []
    },
    {
      "source": [
        "import matplotlib.pyplot as plt\n",
        "\n",
        "# Creating subplots\n",
        "fig, axes = plt.subplots(num_samples_to_visualize, 1, figsize=(10, 2 * num_samples_to_visualize))\n",
        "\n",
        "# Looping through each sample\n",
        "for i in range(num_samples_to_visualize):\n",
        "    axes[i].plot(original_data[i], label='Original')\n",
        "    axes[i].plot(reconstructed_data[i], label='Reconstructed')\n",
        "    axes[i].legend()\n",
        "    axes[i].set_title(f'Sample {i + 1}')\n",
        "\n",
        "plt.tight_layout()\n",
        "plt.show()"
      ],
      "cell_type": "code",
      "metadata": {
        "colab": {
          "base_uri": "https://localhost:8080/",
          "height": 0
        },
        "id": "WK2BrhrorxNn",
        "outputId": "e5e4f10a-4d05-4663-c7c9-d9f4e31c8ac6"
      },
      "execution_count": 163,
      "outputs": [
        {
          "output_type": "display_data",
          "data": {
            "text/plain": [
              "<Figure size 1000x2000 with 10 Axes>"
            ],
            "image/png": "[encoded data removed]"
          },
          "metadata": {}
        }
      ]
    },
    {
      "cell_type": "markdown",
      "source": [
        "# Using encoder with the overlapped features\n"
      ],
      "metadata": {
        "id": "FaYUiJWNWjap"
      }
    },
    {
      "cell_type": "code",
      "source": [
        "def process_autoencoder_data(train_dataset, test_dataset, train_loader, test_loader, num_hidden_layer):\n",
        "\n",
        "    X_train_encoded = np.ones((len(train_dataset), num_hidden_layer))\n",
        "    y_train_encoded = np.ones((len(train_dataset), num_hidden_layer)) # instead of using y_train, it is actually repeating the train data because no labels will be inserted in the autoencoder\n",
        "\n",
        "    X_test_encoded = np.ones((len(test_dataset), num_hidden_layer))\n",
        "    y_test_encoded = np.ones((len(test_dataset), num_hidden_layer)) # instead of using y_test, it is actually repeating the test data because no labels will be inserted in the autoencoder\n",
        "\n",
        "    # Encode training data\n",
        "    start_idx = 0\n",
        "    for idx, (sequences, labels) in enumerate(train_loader): #not using labels in the autoencoder\n",
        "        sequences = sequences.to(device)\n",
        "        encoded = model.encoder(sequences.view(sequences.size(0), -1))\n",
        "\n",
        "        batch_size = encoded.shape[0]\n",
        "        X_train_encoded[start_idx:start_idx + batch_size] = encoded.cpu().detach().numpy()\n",
        "        y_train_encoded[start_idx:start_idx + batch_size] = labels\n",
        "        start_idx += batch_size\n",
        "\n",
        "    # Encode testing data\n",
        "    start_idx = 0\n",
        "    for idx, (sequences, labels) in enumerate(test_loader): #not using labels in the autoencoder\n",
        "        sequences = sequences.to(device)\n",
        "        encoded = model.encoder(sequences.view(sequences.size(0), -1))\n",
        "\n",
        "        batch_size = encoded.shape[0]\n",
        "        X_test_encoded[start_idx:start_idx + batch_size] = encoded.cpu().detach().numpy()\n",
        "        y_test_encoded[start_idx:start_idx + batch_size] = labels\n",
        "        start_idx += batch_size\n",
        "\n",
        "    return X_train_encoded, y_train_encoded, X_test_encoded, y_test_encoded\n",
        "\n",
        "X_train_ae_overlap, y_train_ae_overlap, X_test_ae, y_test_ae = process_autoencoder_data(train_dataset=train_dataset,\n",
        "    test_dataset=test_dataset, train_loader=train_loader,test_loader=test_loader, num_hidden_layer=num_hidden_2)\n",
        "\n",
        "print(X_train_ae_overlap.shape)\n",
        "print(y_train_ae_overlap.shape)\n",
        "print(X_test_ae.shape)\n",
        "print(y_test_ae.shape)"
      ],
      "metadata": {
        "colab": {
          "base_uri": "https://localhost:8080/"
        },
        "id": "98vKBHUebHfe",
        "outputId": "0dbd8725-78d2-4716-9bfa-b3f048c21389"
      },
      "execution_count": 164,
      "outputs": [
        {
          "output_type": "stream",
          "name": "stdout",
          "text": [
            "(108819, 2)\n",
            "(108819, 2)\n",
            "(26563, 2)\n",
            "(26563, 2)\n"
          ]
        }
      ]
    },
    {
      "cell_type": "markdown",
      "source": [
        "# RANDOM FOREST"
      ],
      "metadata": {
        "id": "mMPXkv4jAzid"
      }
    },
    {
      "cell_type": "code",
      "source": [
        "eye_tracking_data.columns"
      ],
      "metadata": {
        "colab": {
          "base_uri": "https://localhost:8080/"
        },
        "id": "qyM8NkIMAyhs",
        "outputId": "2b4be38c-2b4e-4889-f2d0-75ac84a43bf1"
      },
      "execution_count": 165,
      "outputs": [
        {
          "output_type": "execute_result",
          "data": {
            "text/plain": [
              "Index(['time', 'L_x', 'L_y', 'L_z', 'C_x', 'C_y', 'C_z', 'viewing_distance',\n",
              "       'time_diff', 'coordinates_dist', 'cm_to_deg_inside_VE',\n",
              "       'velocity_deg_s', 'acceler_deg_s', 'observer', 'GT1'],\n",
              "      dtype='object')"
            ]
          },
          "metadata": {},
          "execution_count": 165
        }
      ]
    },
    {
      "cell_type": "markdown",
      "source": [
        "### TESTING THE MODEL:"
      ],
      "metadata": {
        "id": "wVrljdcC_2X8"
      }
    },
    {
      "cell_type": "code",
      "source": [
        "print(f\"The X_train_ae_overlap shape is:  {X_train_ae_overlap.shape}\")\n",
        "print(f\"The et_train_GT1_overlap shape is:  {et_train_GT1_overlap.shape}\\n\")\n",
        "print(f\"The X_test_ae_orig shape is:  {X_test_ae.shape}\")\n",
        "print(f\"The et_test_GT1 shape is:  {et_test_GT1.shape}\")"
      ],
      "metadata": {
        "colab": {
          "base_uri": "https://localhost:8080/"
        },
        "id": "xGjwiyr8KV-X",
        "outputId": "d1cdc394-48d2-4d77-de55-572449ac5a8e"
      },
      "execution_count": 166,
      "outputs": [
        {
          "output_type": "stream",
          "name": "stdout",
          "text": [
            "The X_train_ae_overlap shape is:  (108819, 2)\n",
            "The et_train_GT1_overlap shape is:  (108819, 1)\n",
            "\n",
            "The X_test_ae_orig shape is:  (26563, 2)\n",
            "The et_test_GT1 shape is:  (26563, 1)\n"
          ]
        }
      ]
    },
    {
      "cell_type": "code",
      "source": [
        "np.savetxt(\"X_train_ae_overlap.csv\", X_train_ae_overlap, delimiter=\",\")\n",
        "np.savetxt(\"et_train_GT1_overlap.csv\", et_train_GT1_overlap, delimiter=\",\")\n",
        "np.savetxt(\"X_test_ae.csv\", X_test_ae, delimiter=\",\")\n",
        "np.savetxt(\"et_test_GT1.csv\", et_test_GT1, delimiter=\",\")"
      ],
      "metadata": {
        "id": "K1dtGZkwlFLD"
      },
      "execution_count": 167,
      "outputs": []
    },
    {
      "cell_type": "code",
      "source": [
        "# Random Forest Classifier - USING OVERLAP X FROM ENCODER AND OVERLAP Y (LABELS) FOR TRAIN. USING ORIGINAL X FROM AUTOENCODER AND Y FOR TEST\n",
        "rf = RandomForestClassifier(n_estimators=50, max_depth=12, n_jobs=-1)\n",
        "rf.fit(X_train_ae_overlap, et_train_GT1_overlap.values.ravel()) # et_train_without_GT1_overlap  # #source: https://stackoverflow.com/questions/34165731/a-column-vector-y-was-passed-when-a-1d-array-was-expected\n",
        "\n",
        "print(f'Train Accuracy: {rf.score(X_train_ae_overlap, et_train_GT1_overlap) * 100:.2f}%') #  et_train_without_GT1_overlap\n",
        "print(f'Test Accuracy: {rf.score(X_test_ae, et_test_GT1) * 100:.2f}%') # et_test_without_GT1_no_overlap"
      ],
      "metadata": {
        "id": "lvDjr4fGpD-R",
        "colab": {
          "base_uri": "https://localhost:8080/"
        },
        "outputId": "a1355f74-5149-43d9-bf2d-47f076c83e54"
      },
      "execution_count": 168,
      "outputs": [
        {
          "output_type": "stream",
          "name": "stdout",
          "text": [
            "Train Accuracy: 69.36%\n",
            "Test Accuracy: 57.34%\n"
          ]
        }
      ]
    },
    {
      "cell_type": "markdown",
      "source": [
        "# PLOTTING F1 X F2 FROM THE AUTOENCODER"
      ],
      "metadata": {
        "id": "YayyUZWw0FAE"
      }
    },
    {
      "cell_type": "code",
      "source": [
        "import matplotlib.pyplot as plt\n",
        "import numpy as np\n",
        "\n",
        "# Extract the two latent features from the autoencoder bottleneck\n",
        "latent_feature_1 = X_train_ae_overlap[:, 0]\n",
        "latent_feature_2 = X_train_ae_overlap[:, 1]\n",
        "\n",
        "# Ground truth labels for fixation (1) and no fixation (0)\n",
        "fixation_labels = et_train_GT1_overlap.values.flatten()  # Ensure it's a 1D array\n",
        "\n",
        "# Create the scatter plot\n",
        "plt.figure(figsize=(8, 6))\n",
        "scatter = plt.scatter(latent_feature_1, latent_feature_2, c=fixation_labels, cmap='coolwarm', alpha=0.7)\n",
        "\n",
        "# Add color bar\n",
        "cbar = plt.colorbar(scatter, ticks=[0, 1])\n",
        "cbar.set_label('Fixation (1) vs No Fixation (0)')\n",
        "\n",
        "# Labels and title\n",
        "plt.xlabel('Latent Feature 1')\n",
        "plt.ylabel('Latent Feature 2')\n",
        "plt.title('Distribution of Fixation and No Fixation in Autoencoder Latent Space')\n",
        "\n",
        "# Show the plot\n",
        "plt.show()\n"
      ],
      "metadata": {
        "colab": {
          "base_uri": "https://localhost:8080/",
          "height": 564
        },
        "id": "lTSWgtBW0LLO",
        "outputId": "83c8ffd5-bb6e-42bf-a6ce-69e002400580"
      },
      "execution_count": 169,
      "outputs": [
        {
          "output_type": "display_data",
          "data": {
            "text/plain": [
              "<Figure size 800x600 with 2 Axes>"
            ],
            "image/png": "[encoded data removed]"
          },
          "metadata": {}
        }
      ]
    },
    {
      "cell_type": "markdown",
      "source": [
        "# VISUALIZING THE GAZE DATA"
      ],
      "metadata": {
        "id": "ILg7hH2hHl_-"
      }
    },
    {
      "cell_type": "code",
      "source": [
        "import matplotlib.pyplot as plt\n",
        "import numpy as np\n",
        "import matplotlib.cm as cm\n",
        "from matplotlib.colors import Normalize\n",
        "\n",
        "ax = plt.figure().add_subplot(projection='3d')\n",
        "\n",
        "# Make the grid\n",
        "x, y, z = eye_tracking_data.loc[0:5,'time'], eye_tracking_data.loc[0:5,'L_z'], eye_tracking_data.loc[0:5,'L_y'],\n",
        "\n",
        "\n",
        "# Make legend, set axes limits and labels\n",
        "ax.legend()\n",
        "# ax.set_xlim(0, 1)\n",
        "# ax.set_ylim(0, 1)\n",
        "# ax.set_zlim(0, 1)\n",
        "ax.set_xlabel('time')\n",
        "ax.set_ylabel('L_z')\n",
        "ax.set_zlabel('L_y')\n",
        "\n",
        "\n",
        "x_start = eye_tracking_data.loc[0, 'time'] #x.iloc[0]\n",
        "x_end = eye_tracking_data.loc[20, 'time']\n",
        "x_tick_values = np.arange(x_start, x_end, 0.02)\n",
        "plt.xticks(x_tick_values)\n",
        "# plt.xticks(np.arange(9.32, 9.38, 0.02))\n",
        "\n",
        "y_start = eye_tracking_data.loc[0, 'L_z']\n",
        "y_end = eye_tracking_data.loc[20, 'L_z']\n",
        "y_tick_values = np.arange(y_start, y_end, 0.0001)\n",
        "plt.yticks(y_tick_values)\n",
        "# plt.yticks(np.arange(-1.24450, -1.24300, 0.0005))\n",
        "\n",
        "z_start = eye_tracking_data.loc[0, 'L_y']\n",
        "z_end = eye_tracking_data.loc[20, 'L_y']\n",
        "z_tick_values = np.arange(z_start, z_end, 0.001)\n",
        "ax.set_zticks(z_tick_values)\n",
        "# ax.set_zticks(np.arange(1.6235, 1.6260, 0.001))\n",
        "\n",
        "\n",
        "# Plot scatterplot data (20 2D points per colour) on the x and z axes.\n",
        "# colors = ['r', 'g', \"b\", \"k\", \"pink\", \"orange\"] # this one limits the number of points to be displayed to the same number of colors\n",
        "\n",
        "num_points = len(x)\n",
        "cmap = cm.get_cmap('Reds')\n",
        "norm = Normalize(vmin=0, vmax=num_points - 1)  # Normalize data\n",
        "colors = [cmap(norm(i)) for i in range(num_points)]  # Generate color sequence\n",
        "\n",
        "ax.scatter(x, y, z,  c=colors)\n",
        "\n",
        "fig = plt.figure(figsize=(15, 10))\n",
        "fig.suptitle(\"Gaze Points\")\n",
        "\n",
        "\n",
        "plt.show()"
      ],
      "metadata": {
        "id": "Swxo2ppdfr-b",
        "colab": {
          "base_uri": "https://localhost:8080/",
          "height": 516
        },
        "outputId": "10eccdd5-fabd-44aa-ed45-85706cc46fd4"
      },
      "execution_count": 170,
      "outputs": [
        {
          "output_type": "stream",
          "name": "stderr",
          "text": [
            "<ipython-input-170-7ae569e0946c>:13: UserWarning: No artists with labels found to put in legend.  Note that artists whose label start with an underscore are ignored when legend() is called with no argument.\n",
            "  ax.legend()\n",
            "<ipython-input-170-7ae569e0946c>:45: MatplotlibDeprecationWarning: The get_cmap function was deprecated in Matplotlib 3.7 and will be removed in 3.11. Use ``matplotlib.colormaps[name]`` or ``matplotlib.colormaps.get_cmap()`` or ``pyplot.get_cmap()`` instead.\n",
            "  cmap = cm.get_cmap('Reds')\n"
          ]
        },
        {
          "output_type": "display_data",
          "data": {
            "text/plain": [
              "<Figure size 640x480 with 1 Axes>"
            ],
            "image/png": "[encoded data removed]"
          },
          "metadata": {}
        },
        {
          "output_type": "display_data",
          "data": {
            "text/plain": [
              "<Figure size 1500x1000 with 0 Axes>"
            ]
          },
          "metadata": {}
        }
      ]
    }
  ]
}